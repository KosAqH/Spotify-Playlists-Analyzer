{
 "cells": [
  {
   "cell_type": "code",
   "execution_count": 1,
   "metadata": {},
   "outputs": [],
   "source": [
    "import plotly\n",
    "import plotly.figure_factory as ff\n",
    "import plotly.express as px\n",
    "import pandas as pd\n",
    "\n",
    "from app.spotify_api.spotify_api import SpotifyApi\n",
    "from app.spotify_api.spotify_connection import SpotifyConn\n",
    "from app.spotify_api.spotify_utils import load_credentials\n",
    "from app.spotify_api.audio_data import AudioData"
   ]
  },
  {
   "cell_type": "code",
   "execution_count": 2,
   "metadata": {},
   "outputs": [
    {
     "name": "stdout",
     "output_type": "stream",
     "text": [
      "\n"
     ]
    }
   ],
   "source": [
    "def get_spotify_access_token():\n",
    "    print()\n",
    "    api_key, api_secret = load_credentials()\n",
    "    conn = SpotifyConn()\n",
    "    conn.authorize(api_key, api_secret)\n",
    "    token = conn.get_access_token()\n",
    "    return token\n",
    "\n",
    "token = get_spotify_access_token()\n",
    "api = SpotifyApi(token)"
   ]
  },
  {
   "cell_type": "code",
   "execution_count": 3,
   "metadata": {},
   "outputs": [],
   "source": [
    "p = api.RequestPlaylist(\"387OhCc6mEbm96wzfFfhpp\")  # 387OhCc6mEbm96wzfFfhpp\n",
    "playlist_meta = api.RetrievePlaylistMetadata(p)\n",
    "ids = api.retrieveIdsFromPlaylist(\"387OhCc6mEbm96wzfFfhpp\", playlist_meta[\"total_count\"])"
   ]
  },
  {
   "cell_type": "code",
   "execution_count": 4,
   "metadata": {},
   "outputs": [],
   "source": [
    "meta = api.retrieveSongsMetadata(ids)\n",
    "features = api.retrieveSongsAudioFeatures(ids)\n",
    "\n",
    "df_meta = pd.DataFrame(meta)\n",
    "df_af = pd.DataFrame(features)\n",
    "\n",
    "AD = AudioData()\n",
    "df = AD.mergeTracksData(df_meta, df_af)"
   ]
  },
  {
   "cell_type": "code",
   "execution_count": null,
   "metadata": {},
   "outputs": [],
   "source": [
    "playlist_meta"
   ]
  },
  {
   "cell_type": "markdown",
   "metadata": {},
   "source": [
    "Danceability"
   ]
  },
  {
   "cell_type": "code",
   "execution_count": null,
   "metadata": {},
   "outputs": [],
   "source": [
    "fig = px.histogram(df, x=\"danceability\", nbins=10, marginal=\"violin\")\n",
    "fig.show()\n"
   ]
  },
  {
   "cell_type": "code",
   "execution_count": null,
   "metadata": {},
   "outputs": [],
   "source": [
    "fig = ff.create_distplot([df[\"danceability\"]], [\"danceability\"], bin_size=.1)\n",
    "fig.show()"
   ]
  },
  {
   "cell_type": "markdown",
   "metadata": {},
   "source": [
    "Valence"
   ]
  },
  {
   "cell_type": "code",
   "execution_count": null,
   "metadata": {},
   "outputs": [],
   "source": [
    "fig = px.histogram(df, x=\"valence\", nbins=10, marginal=\"violin\")\n",
    "fig.show()\n"
   ]
  },
  {
   "cell_type": "code",
   "execution_count": null,
   "metadata": {},
   "outputs": [],
   "source": [
    "fig = ff.create_distplot([df[\"valence\"]], [\"valence\"], bin_size=.1)\n",
    "fig.show()"
   ]
  },
  {
   "cell_type": "markdown",
   "metadata": {},
   "source": [
    "Loudness"
   ]
  },
  {
   "cell_type": "code",
   "execution_count": null,
   "metadata": {},
   "outputs": [],
   "source": [
    "fig = px.histogram(df, x=\"loudness\", nbins=10, marginal=\"violin\")\n",
    "fig.show()\n"
   ]
  },
  {
   "cell_type": "code",
   "execution_count": null,
   "metadata": {},
   "outputs": [],
   "source": [
    "fig = ff.create_distplot([df[\"loudness\"]], [\"loudness\"], bin_size=.1)\n",
    "fig.show()"
   ]
  },
  {
   "cell_type": "markdown",
   "metadata": {},
   "source": [
    "Acousticness"
   ]
  },
  {
   "cell_type": "code",
   "execution_count": null,
   "metadata": {},
   "outputs": [],
   "source": [
    "fig = px.histogram(df, x=\"acousticness\", nbins=10, marginal=\"violin\")\n",
    "fig.show()\n"
   ]
  },
  {
   "cell_type": "code",
   "execution_count": null,
   "metadata": {},
   "outputs": [],
   "source": [
    "fig = ff.create_distplot([df[\"acousticness\"]], [\"loudness\"], bin_size=.1)\n",
    "fig.show()"
   ]
  },
  {
   "cell_type": "markdown",
   "metadata": {},
   "source": [
    "Duration"
   ]
  },
  {
   "cell_type": "code",
   "execution_count": null,
   "metadata": {},
   "outputs": [],
   "source": [
    "df.columns"
   ]
  },
  {
   "cell_type": "code",
   "execution_count": null,
   "metadata": {},
   "outputs": [],
   "source": [
    "fig = px.histogram(df, x=\"duration_ms_y\", nbins=10, marginal=\"violin\")\n",
    "fig.show()\n"
   ]
  },
  {
   "cell_type": "code",
   "execution_count": null,
   "metadata": {},
   "outputs": [],
   "source": [
    "fig = ff.create_distplot([df[\"duration_ms_y\"]], [\"duration_ms_y\"], bin_size=.1)\n",
    "fig.show()"
   ]
  },
  {
   "cell_type": "markdown",
   "metadata": {},
   "source": [
    "Energy"
   ]
  },
  {
   "cell_type": "code",
   "execution_count": 5,
   "metadata": {},
   "outputs": [
    {
     "data": {
      "application/vnd.plotly.v1+json": {
       "config": {
        "plotlyServerURL": "https://plot.ly"
       },
       "data": [
        {
         "alignmentgroup": "True",
         "bingroup": "x",
         "hovertemplate": "energy=%{x}<br>count=%{y}<extra></extra>",
         "legendgroup": "",
         "marker": {
          "color": "#636efa",
          "pattern": {
           "shape": ""
          }
         },
         "name": "",
         "nbinsx": 10,
         "offsetgroup": "",
         "orientation": "v",
         "showlegend": false,
         "type": "histogram",
         "x": [
          0.715,
          0.526,
          0.625,
          0.527,
          0.559,
          0.802,
          0.678,
          0.497,
          0.692,
          0.959,
          0.959,
          0.959,
          0.959,
          0.621,
          0.746,
          0.778,
          0.731,
          0.879,
          0.682,
          0.821,
          0.534,
          0.551,
          0.663,
          0.538,
          0.584,
          0.791,
          0.874,
          0.855,
          0.855,
          0.843,
          0.849,
          0.882,
          0.919,
          0.828,
          0.78,
          0.962,
          0.991,
          0.926,
          0.974,
          0.638,
          0.912,
          0.885,
          0.963,
          0.922,
          0.721,
          0.631,
          0.558,
          0.863,
          0.896,
          0.828,
          0.478,
          0.532,
          0.599,
          0.599,
          0.365,
          0.365,
          0.866,
          0.866,
          0.315,
          0.315,
          0.309,
          0.309,
          0.948,
          0.948,
          0.758,
          0.758,
          0.649,
          0.649,
          0.649,
          0.649,
          0.649,
          0.649,
          0.649,
          0.649,
          0.588,
          0.588,
          0.694,
          0.694,
          0.819,
          0.819,
          0.697,
          0.697,
          0.763,
          0.763,
          0.838,
          0.838,
          0.576,
          0.576,
          0.643,
          0.643,
          0.441,
          0.441,
          0.613,
          0.613,
          0.769,
          0.769,
          0.622,
          0.622,
          0.482,
          0.482,
          0.505,
          0.505,
          0.597,
          0.597,
          0.76,
          0.76,
          0.747,
          0.747,
          0.663,
          0.663,
          0.611,
          0.611,
          0.7,
          0.7,
          0.69,
          0.69,
          0.852,
          0.852,
          0.735,
          0.735,
          0.912,
          0.912,
          0.675,
          0.675
         ],
         "xaxis": "x",
         "yaxis": "y"
        },
        {
         "alignmentgroup": "True",
         "hovertemplate": "energy=%{x}<extra></extra>",
         "legendgroup": "",
         "marker": {
          "color": "#636efa"
         },
         "name": "",
         "offsetgroup": "",
         "scalegroup": "x",
         "showlegend": false,
         "type": "violin",
         "x": [
          0.715,
          0.526,
          0.625,
          0.527,
          0.559,
          0.802,
          0.678,
          0.497,
          0.692,
          0.959,
          0.959,
          0.959,
          0.959,
          0.621,
          0.746,
          0.778,
          0.731,
          0.879,
          0.682,
          0.821,
          0.534,
          0.551,
          0.663,
          0.538,
          0.584,
          0.791,
          0.874,
          0.855,
          0.855,
          0.843,
          0.849,
          0.882,
          0.919,
          0.828,
          0.78,
          0.962,
          0.991,
          0.926,
          0.974,
          0.638,
          0.912,
          0.885,
          0.963,
          0.922,
          0.721,
          0.631,
          0.558,
          0.863,
          0.896,
          0.828,
          0.478,
          0.532,
          0.599,
          0.599,
          0.365,
          0.365,
          0.866,
          0.866,
          0.315,
          0.315,
          0.309,
          0.309,
          0.948,
          0.948,
          0.758,
          0.758,
          0.649,
          0.649,
          0.649,
          0.649,
          0.649,
          0.649,
          0.649,
          0.649,
          0.588,
          0.588,
          0.694,
          0.694,
          0.819,
          0.819,
          0.697,
          0.697,
          0.763,
          0.763,
          0.838,
          0.838,
          0.576,
          0.576,
          0.643,
          0.643,
          0.441,
          0.441,
          0.613,
          0.613,
          0.769,
          0.769,
          0.622,
          0.622,
          0.482,
          0.482,
          0.505,
          0.505,
          0.597,
          0.597,
          0.76,
          0.76,
          0.747,
          0.747,
          0.663,
          0.663,
          0.611,
          0.611,
          0.7,
          0.7,
          0.69,
          0.69,
          0.852,
          0.852,
          0.735,
          0.735,
          0.912,
          0.912,
          0.675,
          0.675
         ],
         "xaxis": "x2",
         "yaxis": "y2"
        }
       ],
       "layout": {
        "barmode": "relative",
        "legend": {
         "tracegroupgap": 0
        },
        "margin": {
         "t": 60
        },
        "template": {
         "data": {
          "bar": [
           {
            "error_x": {
             "color": "#2a3f5f"
            },
            "error_y": {
             "color": "#2a3f5f"
            },
            "marker": {
             "line": {
              "color": "#E5ECF6",
              "width": 0.5
             },
             "pattern": {
              "fillmode": "overlay",
              "size": 10,
              "solidity": 0.2
             }
            },
            "type": "bar"
           }
          ],
          "barpolar": [
           {
            "marker": {
             "line": {
              "color": "#E5ECF6",
              "width": 0.5
             },
             "pattern": {
              "fillmode": "overlay",
              "size": 10,
              "solidity": 0.2
             }
            },
            "type": "barpolar"
           }
          ],
          "carpet": [
           {
            "aaxis": {
             "endlinecolor": "#2a3f5f",
             "gridcolor": "white",
             "linecolor": "white",
             "minorgridcolor": "white",
             "startlinecolor": "#2a3f5f"
            },
            "baxis": {
             "endlinecolor": "#2a3f5f",
             "gridcolor": "white",
             "linecolor": "white",
             "minorgridcolor": "white",
             "startlinecolor": "#2a3f5f"
            },
            "type": "carpet"
           }
          ],
          "choropleth": [
           {
            "colorbar": {
             "outlinewidth": 0,
             "ticks": ""
            },
            "type": "choropleth"
           }
          ],
          "contour": [
           {
            "colorbar": {
             "outlinewidth": 0,
             "ticks": ""
            },
            "colorscale": [
             [
              0,
              "#0d0887"
             ],
             [
              0.1111111111111111,
              "#46039f"
             ],
             [
              0.2222222222222222,
              "#7201a8"
             ],
             [
              0.3333333333333333,
              "#9c179e"
             ],
             [
              0.4444444444444444,
              "#bd3786"
             ],
             [
              0.5555555555555556,
              "#d8576b"
             ],
             [
              0.6666666666666666,
              "#ed7953"
             ],
             [
              0.7777777777777778,
              "#fb9f3a"
             ],
             [
              0.8888888888888888,
              "#fdca26"
             ],
             [
              1,
              "#f0f921"
             ]
            ],
            "type": "contour"
           }
          ],
          "contourcarpet": [
           {
            "colorbar": {
             "outlinewidth": 0,
             "ticks": ""
            },
            "type": "contourcarpet"
           }
          ],
          "heatmap": [
           {
            "colorbar": {
             "outlinewidth": 0,
             "ticks": ""
            },
            "colorscale": [
             [
              0,
              "#0d0887"
             ],
             [
              0.1111111111111111,
              "#46039f"
             ],
             [
              0.2222222222222222,
              "#7201a8"
             ],
             [
              0.3333333333333333,
              "#9c179e"
             ],
             [
              0.4444444444444444,
              "#bd3786"
             ],
             [
              0.5555555555555556,
              "#d8576b"
             ],
             [
              0.6666666666666666,
              "#ed7953"
             ],
             [
              0.7777777777777778,
              "#fb9f3a"
             ],
             [
              0.8888888888888888,
              "#fdca26"
             ],
             [
              1,
              "#f0f921"
             ]
            ],
            "type": "heatmap"
           }
          ],
          "heatmapgl": [
           {
            "colorbar": {
             "outlinewidth": 0,
             "ticks": ""
            },
            "colorscale": [
             [
              0,
              "#0d0887"
             ],
             [
              0.1111111111111111,
              "#46039f"
             ],
             [
              0.2222222222222222,
              "#7201a8"
             ],
             [
              0.3333333333333333,
              "#9c179e"
             ],
             [
              0.4444444444444444,
              "#bd3786"
             ],
             [
              0.5555555555555556,
              "#d8576b"
             ],
             [
              0.6666666666666666,
              "#ed7953"
             ],
             [
              0.7777777777777778,
              "#fb9f3a"
             ],
             [
              0.8888888888888888,
              "#fdca26"
             ],
             [
              1,
              "#f0f921"
             ]
            ],
            "type": "heatmapgl"
           }
          ],
          "histogram": [
           {
            "marker": {
             "pattern": {
              "fillmode": "overlay",
              "size": 10,
              "solidity": 0.2
             }
            },
            "type": "histogram"
           }
          ],
          "histogram2d": [
           {
            "colorbar": {
             "outlinewidth": 0,
             "ticks": ""
            },
            "colorscale": [
             [
              0,
              "#0d0887"
             ],
             [
              0.1111111111111111,
              "#46039f"
             ],
             [
              0.2222222222222222,
              "#7201a8"
             ],
             [
              0.3333333333333333,
              "#9c179e"
             ],
             [
              0.4444444444444444,
              "#bd3786"
             ],
             [
              0.5555555555555556,
              "#d8576b"
             ],
             [
              0.6666666666666666,
              "#ed7953"
             ],
             [
              0.7777777777777778,
              "#fb9f3a"
             ],
             [
              0.8888888888888888,
              "#fdca26"
             ],
             [
              1,
              "#f0f921"
             ]
            ],
            "type": "histogram2d"
           }
          ],
          "histogram2dcontour": [
           {
            "colorbar": {
             "outlinewidth": 0,
             "ticks": ""
            },
            "colorscale": [
             [
              0,
              "#0d0887"
             ],
             [
              0.1111111111111111,
              "#46039f"
             ],
             [
              0.2222222222222222,
              "#7201a8"
             ],
             [
              0.3333333333333333,
              "#9c179e"
             ],
             [
              0.4444444444444444,
              "#bd3786"
             ],
             [
              0.5555555555555556,
              "#d8576b"
             ],
             [
              0.6666666666666666,
              "#ed7953"
             ],
             [
              0.7777777777777778,
              "#fb9f3a"
             ],
             [
              0.8888888888888888,
              "#fdca26"
             ],
             [
              1,
              "#f0f921"
             ]
            ],
            "type": "histogram2dcontour"
           }
          ],
          "mesh3d": [
           {
            "colorbar": {
             "outlinewidth": 0,
             "ticks": ""
            },
            "type": "mesh3d"
           }
          ],
          "parcoords": [
           {
            "line": {
             "colorbar": {
              "outlinewidth": 0,
              "ticks": ""
             }
            },
            "type": "parcoords"
           }
          ],
          "pie": [
           {
            "automargin": true,
            "type": "pie"
           }
          ],
          "scatter": [
           {
            "fillpattern": {
             "fillmode": "overlay",
             "size": 10,
             "solidity": 0.2
            },
            "type": "scatter"
           }
          ],
          "scatter3d": [
           {
            "line": {
             "colorbar": {
              "outlinewidth": 0,
              "ticks": ""
             }
            },
            "marker": {
             "colorbar": {
              "outlinewidth": 0,
              "ticks": ""
             }
            },
            "type": "scatter3d"
           }
          ],
          "scattercarpet": [
           {
            "marker": {
             "colorbar": {
              "outlinewidth": 0,
              "ticks": ""
             }
            },
            "type": "scattercarpet"
           }
          ],
          "scattergeo": [
           {
            "marker": {
             "colorbar": {
              "outlinewidth": 0,
              "ticks": ""
             }
            },
            "type": "scattergeo"
           }
          ],
          "scattergl": [
           {
            "marker": {
             "colorbar": {
              "outlinewidth": 0,
              "ticks": ""
             }
            },
            "type": "scattergl"
           }
          ],
          "scattermapbox": [
           {
            "marker": {
             "colorbar": {
              "outlinewidth": 0,
              "ticks": ""
             }
            },
            "type": "scattermapbox"
           }
          ],
          "scatterpolar": [
           {
            "marker": {
             "colorbar": {
              "outlinewidth": 0,
              "ticks": ""
             }
            },
            "type": "scatterpolar"
           }
          ],
          "scatterpolargl": [
           {
            "marker": {
             "colorbar": {
              "outlinewidth": 0,
              "ticks": ""
             }
            },
            "type": "scatterpolargl"
           }
          ],
          "scatterternary": [
           {
            "marker": {
             "colorbar": {
              "outlinewidth": 0,
              "ticks": ""
             }
            },
            "type": "scatterternary"
           }
          ],
          "surface": [
           {
            "colorbar": {
             "outlinewidth": 0,
             "ticks": ""
            },
            "colorscale": [
             [
              0,
              "#0d0887"
             ],
             [
              0.1111111111111111,
              "#46039f"
             ],
             [
              0.2222222222222222,
              "#7201a8"
             ],
             [
              0.3333333333333333,
              "#9c179e"
             ],
             [
              0.4444444444444444,
              "#bd3786"
             ],
             [
              0.5555555555555556,
              "#d8576b"
             ],
             [
              0.6666666666666666,
              "#ed7953"
             ],
             [
              0.7777777777777778,
              "#fb9f3a"
             ],
             [
              0.8888888888888888,
              "#fdca26"
             ],
             [
              1,
              "#f0f921"
             ]
            ],
            "type": "surface"
           }
          ],
          "table": [
           {
            "cells": {
             "fill": {
              "color": "#EBF0F8"
             },
             "line": {
              "color": "white"
             }
            },
            "header": {
             "fill": {
              "color": "#C8D4E3"
             },
             "line": {
              "color": "white"
             }
            },
            "type": "table"
           }
          ]
         },
         "layout": {
          "annotationdefaults": {
           "arrowcolor": "#2a3f5f",
           "arrowhead": 0,
           "arrowwidth": 1
          },
          "autotypenumbers": "strict",
          "coloraxis": {
           "colorbar": {
            "outlinewidth": 0,
            "ticks": ""
           }
          },
          "colorscale": {
           "diverging": [
            [
             0,
             "#8e0152"
            ],
            [
             0.1,
             "#c51b7d"
            ],
            [
             0.2,
             "#de77ae"
            ],
            [
             0.3,
             "#f1b6da"
            ],
            [
             0.4,
             "#fde0ef"
            ],
            [
             0.5,
             "#f7f7f7"
            ],
            [
             0.6,
             "#e6f5d0"
            ],
            [
             0.7,
             "#b8e186"
            ],
            [
             0.8,
             "#7fbc41"
            ],
            [
             0.9,
             "#4d9221"
            ],
            [
             1,
             "#276419"
            ]
           ],
           "sequential": [
            [
             0,
             "#0d0887"
            ],
            [
             0.1111111111111111,
             "#46039f"
            ],
            [
             0.2222222222222222,
             "#7201a8"
            ],
            [
             0.3333333333333333,
             "#9c179e"
            ],
            [
             0.4444444444444444,
             "#bd3786"
            ],
            [
             0.5555555555555556,
             "#d8576b"
            ],
            [
             0.6666666666666666,
             "#ed7953"
            ],
            [
             0.7777777777777778,
             "#fb9f3a"
            ],
            [
             0.8888888888888888,
             "#fdca26"
            ],
            [
             1,
             "#f0f921"
            ]
           ],
           "sequentialminus": [
            [
             0,
             "#0d0887"
            ],
            [
             0.1111111111111111,
             "#46039f"
            ],
            [
             0.2222222222222222,
             "#7201a8"
            ],
            [
             0.3333333333333333,
             "#9c179e"
            ],
            [
             0.4444444444444444,
             "#bd3786"
            ],
            [
             0.5555555555555556,
             "#d8576b"
            ],
            [
             0.6666666666666666,
             "#ed7953"
            ],
            [
             0.7777777777777778,
             "#fb9f3a"
            ],
            [
             0.8888888888888888,
             "#fdca26"
            ],
            [
             1,
             "#f0f921"
            ]
           ]
          },
          "colorway": [
           "#636efa",
           "#EF553B",
           "#00cc96",
           "#ab63fa",
           "#FFA15A",
           "#19d3f3",
           "#FF6692",
           "#B6E880",
           "#FF97FF",
           "#FECB52"
          ],
          "font": {
           "color": "#2a3f5f"
          },
          "geo": {
           "bgcolor": "white",
           "lakecolor": "white",
           "landcolor": "#E5ECF6",
           "showlakes": true,
           "showland": true,
           "subunitcolor": "white"
          },
          "hoverlabel": {
           "align": "left"
          },
          "hovermode": "closest",
          "mapbox": {
           "style": "light"
          },
          "paper_bgcolor": "white",
          "plot_bgcolor": "#E5ECF6",
          "polar": {
           "angularaxis": {
            "gridcolor": "white",
            "linecolor": "white",
            "ticks": ""
           },
           "bgcolor": "#E5ECF6",
           "radialaxis": {
            "gridcolor": "white",
            "linecolor": "white",
            "ticks": ""
           }
          },
          "scene": {
           "xaxis": {
            "backgroundcolor": "#E5ECF6",
            "gridcolor": "white",
            "gridwidth": 2,
            "linecolor": "white",
            "showbackground": true,
            "ticks": "",
            "zerolinecolor": "white"
           },
           "yaxis": {
            "backgroundcolor": "#E5ECF6",
            "gridcolor": "white",
            "gridwidth": 2,
            "linecolor": "white",
            "showbackground": true,
            "ticks": "",
            "zerolinecolor": "white"
           },
           "zaxis": {
            "backgroundcolor": "#E5ECF6",
            "gridcolor": "white",
            "gridwidth": 2,
            "linecolor": "white",
            "showbackground": true,
            "ticks": "",
            "zerolinecolor": "white"
           }
          },
          "shapedefaults": {
           "line": {
            "color": "#2a3f5f"
           }
          },
          "ternary": {
           "aaxis": {
            "gridcolor": "white",
            "linecolor": "white",
            "ticks": ""
           },
           "baxis": {
            "gridcolor": "white",
            "linecolor": "white",
            "ticks": ""
           },
           "bgcolor": "#E5ECF6",
           "caxis": {
            "gridcolor": "white",
            "linecolor": "white",
            "ticks": ""
           }
          },
          "title": {
           "x": 0.05
          },
          "xaxis": {
           "automargin": true,
           "gridcolor": "white",
           "linecolor": "white",
           "ticks": "",
           "title": {
            "standoff": 15
           },
           "zerolinecolor": "white",
           "zerolinewidth": 2
          },
          "yaxis": {
           "automargin": true,
           "gridcolor": "white",
           "linecolor": "white",
           "ticks": "",
           "title": {
            "standoff": 15
           },
           "zerolinecolor": "white",
           "zerolinewidth": 2
          }
         }
        },
        "xaxis": {
         "anchor": "y",
         "domain": [
          0,
          1
         ],
         "title": {
          "text": "energy"
         }
        },
        "xaxis2": {
         "anchor": "y2",
         "domain": [
          0,
          1
         ],
         "matches": "x",
         "showgrid": true,
         "showticklabels": false
        },
        "yaxis": {
         "anchor": "x",
         "domain": [
          0,
          0.8316
         ],
         "title": {
          "text": "count"
         }
        },
        "yaxis2": {
         "anchor": "x2",
         "domain": [
          0.8416,
          1
         ],
         "matches": "y2",
         "showgrid": false,
         "showline": false,
         "showticklabels": false,
         "ticks": ""
        }
       }
      }
     },
     "metadata": {},
     "output_type": "display_data"
    }
   ],
   "source": [
    "fig = px.histogram(df, x=\"energy\", nbins=10, marginal=\"violin\")\n",
    "fig.show()\n"
   ]
  },
  {
   "cell_type": "code",
   "execution_count": 6,
   "metadata": {},
   "outputs": [
    {
     "data": {
      "application/vnd.plotly.v1+json": {
       "config": {
        "plotlyServerURL": "https://plot.ly"
       },
       "data": [
        {
         "autobinx": false,
         "histnorm": "probability density",
         "legendgroup": "energy",
         "marker": {
          "color": "rgb(31, 119, 180)"
         },
         "name": "energy",
         "opacity": 0.7,
         "type": "histogram",
         "x": [
          0.715,
          0.526,
          0.625,
          0.527,
          0.559,
          0.802,
          0.678,
          0.497,
          0.692,
          0.959,
          0.959,
          0.959,
          0.959,
          0.621,
          0.746,
          0.778,
          0.731,
          0.879,
          0.682,
          0.821,
          0.534,
          0.551,
          0.663,
          0.538,
          0.584,
          0.791,
          0.874,
          0.855,
          0.855,
          0.843,
          0.849,
          0.882,
          0.919,
          0.828,
          0.78,
          0.962,
          0.991,
          0.926,
          0.974,
          0.638,
          0.912,
          0.885,
          0.963,
          0.922,
          0.721,
          0.631,
          0.558,
          0.863,
          0.896,
          0.828,
          0.478,
          0.532,
          0.599,
          0.599,
          0.365,
          0.365,
          0.866,
          0.866,
          0.315,
          0.315,
          0.309,
          0.309,
          0.948,
          0.948,
          0.758,
          0.758,
          0.649,
          0.649,
          0.649,
          0.649,
          0.649,
          0.649,
          0.649,
          0.649,
          0.588,
          0.588,
          0.694,
          0.694,
          0.819,
          0.819,
          0.697,
          0.697,
          0.763,
          0.763,
          0.838,
          0.838,
          0.576,
          0.576,
          0.643,
          0.643,
          0.441,
          0.441,
          0.613,
          0.613,
          0.769,
          0.769,
          0.622,
          0.622,
          0.482,
          0.482,
          0.505,
          0.505,
          0.597,
          0.597,
          0.76,
          0.76,
          0.747,
          0.747,
          0.663,
          0.663,
          0.611,
          0.611,
          0.7,
          0.7,
          0.69,
          0.69,
          0.852,
          0.852,
          0.735,
          0.735,
          0.912,
          0.912,
          0.675,
          0.675
         ],
         "xaxis": "x",
         "xbins": {
          "end": 0.991,
          "size": 0.1,
          "start": 0.309
         },
         "yaxis": "y"
        },
        {
         "legendgroup": "energy",
         "marker": {
          "color": "rgb(31, 119, 180)"
         },
         "mode": "lines",
         "name": "energy",
         "showlegend": false,
         "type": "scatter",
         "x": [
          0.309,
          0.310364,
          0.311728,
          0.313092,
          0.314456,
          0.31582,
          0.317184,
          0.318548,
          0.319912,
          0.321276,
          0.32264,
          0.324004,
          0.325368,
          0.326732,
          0.328096,
          0.32946,
          0.330824,
          0.332188,
          0.333552,
          0.334916,
          0.33628,
          0.337644,
          0.339008,
          0.340372,
          0.341736,
          0.34309999999999996,
          0.344464,
          0.34582799999999997,
          0.347192,
          0.348556,
          0.34992,
          0.351284,
          0.352648,
          0.354012,
          0.355376,
          0.35674,
          0.358104,
          0.359468,
          0.360832,
          0.362196,
          0.36356,
          0.36492399999999997,
          0.366288,
          0.367652,
          0.369016,
          0.37038,
          0.37174399999999996,
          0.373108,
          0.37447199999999997,
          0.375836,
          0.3772,
          0.378564,
          0.379928,
          0.38129199999999996,
          0.382656,
          0.38402,
          0.38538399999999995,
          0.386748,
          0.388112,
          0.389476,
          0.39083999999999997,
          0.392204,
          0.39356800000000003,
          0.394932,
          0.396296,
          0.39766,
          0.399024,
          0.40038799999999997,
          0.401752,
          0.403116,
          0.40448,
          0.405844,
          0.407208,
          0.408572,
          0.40993599999999997,
          0.4113,
          0.412664,
          0.414028,
          0.415392,
          0.416756,
          0.41812,
          0.41948399999999997,
          0.420848,
          0.422212,
          0.423576,
          0.42494,
          0.426304,
          0.427668,
          0.42903199999999997,
          0.430396,
          0.43176,
          0.433124,
          0.434488,
          0.435852,
          0.43721599999999994,
          0.43857999999999997,
          0.439944,
          0.441308,
          0.44267199999999995,
          0.444036,
          0.44539999999999996,
          0.44676399999999994,
          0.44812799999999997,
          0.449492,
          0.450856,
          0.45221999999999996,
          0.453584,
          0.45494799999999996,
          0.45631199999999994,
          0.45767599999999997,
          0.45904,
          0.460404,
          0.46176799999999996,
          0.463132,
          0.46449599999999996,
          0.46585999999999994,
          0.467224,
          0.468588,
          0.46995200000000004,
          0.47131599999999996,
          0.47268,
          0.474044,
          0.475408,
          0.476772,
          0.478136,
          0.4795,
          0.48086399999999996,
          0.482228,
          0.483592,
          0.484956,
          0.48632,
          0.487684,
          0.489048,
          0.49041199999999996,
          0.491776,
          0.49314,
          0.494504,
          0.495868,
          0.497232,
          0.498596,
          0.49995999999999996,
          0.501324,
          0.502688,
          0.504052,
          0.505416,
          0.50678,
          0.5081439999999999,
          0.509508,
          0.510872,
          0.512236,
          0.5136000000000001,
          0.514964,
          0.516328,
          0.517692,
          0.519056,
          0.52042,
          0.521784,
          0.523148,
          0.524512,
          0.525876,
          0.5272399999999999,
          0.528604,
          0.529968,
          0.531332,
          0.532696,
          0.53406,
          0.535424,
          0.536788,
          0.538152,
          0.539516,
          0.54088,
          0.542244,
          0.543608,
          0.544972,
          0.5463359999999999,
          0.5477,
          0.549064,
          0.5504279999999999,
          0.551792,
          0.553156,
          0.55452,
          0.555884,
          0.557248,
          0.558612,
          0.559976,
          0.56134,
          0.562704,
          0.564068,
          0.5654319999999999,
          0.566796,
          0.56816,
          0.5695239999999999,
          0.570888,
          0.572252,
          0.5736159999999999,
          0.5749799999999999,
          0.576344,
          0.5777079999999999,
          0.579072,
          0.580436,
          0.5817999999999999,
          0.583164,
          0.5845279999999999,
          0.585892,
          0.587256,
          0.5886199999999999,
          0.589984,
          0.591348,
          0.5927119999999999,
          0.5940759999999999,
          0.59544,
          0.5968039999999999,
          0.5981679999999999,
          0.599532,
          0.6008959999999999,
          0.60226,
          0.6036239999999999,
          0.604988,
          0.606352,
          0.6077159999999999,
          0.60908,
          0.610444,
          0.6118079999999999,
          0.6131719999999999,
          0.614536,
          0.6158999999999999,
          0.6172639999999999,
          0.618628,
          0.6199919999999999,
          0.621356,
          0.6227199999999999,
          0.6240839999999999,
          0.625448,
          0.6268119999999999,
          0.6281760000000001,
          0.62954,
          0.630904,
          0.632268,
          0.633632,
          0.634996,
          0.63636,
          0.637724,
          0.639088,
          0.640452,
          0.6418159999999999,
          0.64318,
          0.644544,
          0.6459079999999999,
          0.6472720000000001,
          0.648636,
          0.6499999999999999,
          0.651364,
          0.652728,
          0.654092,
          0.655456,
          0.65682,
          0.658184,
          0.659548,
          0.6609119999999999,
          0.662276,
          0.66364,
          0.6650039999999999,
          0.6663680000000001,
          0.667732,
          0.6690959999999999,
          0.6704600000000001,
          0.671824,
          0.673188,
          0.674552,
          0.675916,
          0.67728,
          0.678644,
          0.680008,
          0.681372,
          0.682736,
          0.6840999999999999,
          0.685464,
          0.686828,
          0.6881919999999999,
          0.6895560000000001,
          0.69092,
          0.692284,
          0.693648,
          0.695012,
          0.696376,
          0.69774,
          0.699104,
          0.700468,
          0.701832,
          0.7031959999999999,
          0.70456,
          0.705924,
          0.7072879999999999,
          0.7086520000000001,
          0.710016,
          0.7113799999999999,
          0.712744,
          0.714108,
          0.715472,
          0.716836,
          0.7182,
          0.719564,
          0.720928,
          0.7222919999999999,
          0.723656,
          0.72502,
          0.7263839999999999,
          0.7277480000000001,
          0.729112,
          0.7304759999999999,
          0.73184,
          0.733204,
          0.734568,
          0.735932,
          0.737296,
          0.73866,
          0.740024,
          0.7413879999999999,
          0.742752,
          0.744116,
          0.7454799999999999,
          0.746844,
          0.748208,
          0.7495719999999999,
          0.750936,
          0.7523,
          0.753664,
          0.755028,
          0.756392,
          0.757756,
          0.75912,
          0.7604839999999999,
          0.761848,
          0.763212,
          0.7645759999999999,
          0.76594,
          0.767304,
          0.7686679999999999,
          0.770032,
          0.771396,
          0.7727599999999999,
          0.774124,
          0.775488,
          0.776852,
          0.778216,
          0.7795799999999999,
          0.780944,
          0.782308,
          0.7836719999999999,
          0.785036,
          0.7864,
          0.7877639999999999,
          0.7891279999999999,
          0.790492,
          0.7918559999999999,
          0.79322,
          0.794584,
          0.795948,
          0.797312,
          0.7986759999999999,
          0.80004,
          0.801404,
          0.8027679999999999,
          0.804132,
          0.805496,
          0.8068599999999999,
          0.8082239999999999,
          0.809588,
          0.8109519999999999,
          0.812316,
          0.81368,
          0.8150439999999999,
          0.816408,
          0.8177719999999999,
          0.8191359999999999,
          0.8205,
          0.8218639999999999,
          0.8232279999999998,
          0.824592,
          0.8259559999999999,
          0.8273199999999998,
          0.828684,
          0.8300479999999999,
          0.8314119999999998,
          0.832776,
          0.8341399999999999,
          0.8355039999999998,
          0.836868,
          0.8382319999999999,
          0.839596,
          0.8409599999999999,
          0.8423239999999999,
          0.843688,
          0.8450519999999999,
          0.8464159999999998,
          0.84778,
          0.8491439999999999,
          0.8505079999999998,
          0.851872,
          0.8532359999999999,
          0.8545999999999998,
          0.855964,
          0.8573279999999999,
          0.858692,
          0.8600559999999999,
          0.8614199999999999,
          0.862784,
          0.8641479999999999,
          0.8655119999999998,
          0.866876,
          0.8682399999999999,
          0.8696039999999998,
          0.870968,
          0.8723319999999999,
          0.8736959999999998,
          0.87506,
          0.8764239999999999,
          0.8777879999999998,
          0.8791519999999999,
          0.8805159999999999,
          0.88188,
          0.8832439999999999,
          0.8846079999999998,
          0.885972,
          0.8873359999999999,
          0.8886999999999998,
          0.890064,
          0.8914279999999999,
          0.8927919999999998,
          0.894156,
          0.8955199999999999,
          0.8968839999999998,
          0.8982479999999999,
          0.8996119999999999,
          0.900976,
          0.9023399999999999,
          0.9037039999999998,
          0.905068,
          0.9064319999999999,
          0.9077959999999998,
          0.90916,
          0.9105239999999999,
          0.9118879999999998,
          0.913252,
          0.9146159999999999,
          0.9159799999999998,
          0.9173439999999999,
          0.9187079999999999,
          0.9200719999999998,
          0.9214359999999999,
          0.9227999999999998,
          0.924164,
          0.9255279999999999,
          0.9268919999999998,
          0.928256,
          0.9296199999999999,
          0.9309839999999998,
          0.932348,
          0.9337119999999999,
          0.9350759999999998,
          0.9364399999999999,
          0.9378039999999999,
          0.9391679999999998,
          0.9405319999999999,
          0.9418959999999998,
          0.94326,
          0.9446239999999999,
          0.9459879999999998,
          0.947352,
          0.9487159999999999,
          0.9500799999999998,
          0.951444,
          0.9528080000000001,
          0.9541719999999998,
          0.9555359999999999,
          0.9569000000000001,
          0.9582639999999998,
          0.9596279999999999,
          0.9609920000000001,
          0.962356,
          0.9637199999999999,
          0.965084,
          0.966448,
          0.9678119999999999,
          0.969176,
          0.97054,
          0.9719040000000001,
          0.973268,
          0.9746319999999999,
          0.9759960000000001,
          0.97736,
          0.9787239999999999,
          0.9800880000000001,
          0.981452,
          0.9828159999999999,
          0.98418,
          0.985544,
          0.9869079999999999,
          0.988272,
          0.989636
         ],
         "xaxis": "x",
         "y": [
          0.2935787684119129,
          0.2959795269572376,
          0.29830788601722275,
          0.30056356909245197,
          0.30274646334828226,
          0.3048566217357174,
          0.3068942647592463,
          0.30885978188542895,
          0.3107537325869969,
          0.3125768470182879,
          0.314330026318888,
          0.316014342543386,
          0.31763103821622873,
          0.31918152551170276,
          0.3206673850601623,
          0.32209036438261857,
          0.32345237595691007,
          0.3247554949196505,
          0.3260019564091957,
          0.32719415255583384,
          0.32833462912640576,
          0.32942608183145516,
          0.33047135230397845,
          0.33147342375966465,
          0.33243541634940743,
          0.3333605822156561,
          0.3342523002649409,
          0.3351140706696522,
          0.3359495091128152,
          0.3367623407902605,
          0.3375563941851791,
          0.3383355946305883,
          0.33910395767574686,
          0.3398655822729961,
          0.3406246438019008,
          0.34138538694792486,
          0.34215211845315424,
          0.342929199756838,
          0.34372103954371086,
          0.344532086218196,
          0.3453668203226939,
          0.3462297469181812,
          0.3471253879453718,
          0.34805827458459665,
          0.34903293963248605,
          0.35005390991336627,
          0.35112569874310173,
          0.35225279846286284,
          0.35343967306000895,
          0.354690750892969,
          0.3560104175366186,
          0.35740300876424635,
          0.35887280368177343,
          0.3604240180293979,
          0.36206079766532234,
          0.363787212245695,
          0.3656072491142931,
          0.3675248074149013,
          0.3695436924386812,
          0.371667610218195,
          0.37390016237904833,
          0.3762448412594295,
          0.37870502530709543,
          0.3812839747626228,
          0.3839848276369785,
          0.38681059599070977,
          0.3897641625212581,
          0.3928482774641223,
          0.3960655558127923,
          0.39941847486155474,
          0.4029093720744853,
          0.40654044328309297,
          0.41031374121428754,
          0.414231174349506,
          0.4182945061150167,
          0.4225053544026058,
          0.42686519141903423,
          0.431375343861842,
          0.4360369934182778,
          0.4408511775833395,
          0.4458187907921244,
          0.4509405858609138,
          0.45621717573066445,
          0.4616490355058168,
          0.4672365047806233,
          0.47297979024445524,
          0.4788789685568853,
          0.4849339894826281,
          0.4911446792757987,
          0.49751074430229936,
          0.5040317748885216,
          0.5107072493840048,
          0.5175365384250781,
          0.5245189093860328,
          0.5316535310038326,
          0.5389394781619102,
          0.5463757368181588,
          0.553961209061804,
          0.5616947182834834,
          0.5695750144425041,
          0.5776007794149488,
          0.5857706324060445,
          0.5940831354099488,
          0.6025367986999562,
          0.6111300863319472,
          0.6198614216438115,
          0.6287291927335031,
          0.6377317578983684,
          0.646867451018399,
          0.6561345868661536,
          0.6655314663261634,
          0.6750563815068397,
          0.684707620728074,
          0.6944834733679891,
          0.7043822345525924,
          0.7144022096724308,
          0.724541718710749,
          0.7347991003680723,
          0.7451727159686594,
          0.7556609531347669,
          0.7662622292152828,
          0.7769749944558952,
          0.7877977348986401,
          0.7987289749994112,
          0.8097672799527099,
          0.8209112577138264,
          0.8321595607093688,
          0.8435108872280215,
          0.854963982484293,
          0.8665176393489904,
          0.8781706987411215,
          0.8899220496769731,
          0.9017706289731268,
          0.9137154206012932,
          0.9257554546938821,
          0.9378898062004002,
          0.9501175931958726,
          0.9624379748436258,
          0.9748501490159563,
          0.9873533495773377,
          0.9999468433360434,
          1.0126299266711651,
          1.0254019218432324,
          1.038262172997762,
          1.051210041872245,
          1.0642449032181531,
          1.0773661399507601,
          1.0905731380405501,
          1.1038652811611207,
          1.1172419451095303,
          1.1307024920159459,
          1.1442462643605236,
          1.1578725788162822,
          1.1715807199376131,
          1.1853699337149253,
          1.1992394210166337,
          1.213188330940425,
          1.2272157540963928,
          1.2413207158451665,
          1.2555021695147275,
          1.2697589896199795,
          1.2840899651095654,
          1.2984937926646516,
          1.3129690700746877,
          1.3275142897152072,
          1.342127832152815,
          1.3568079599024994,
          1.3715528113622524,
          1.3863603949497898,
          1.4012285834658895,
          1.4161551087084825,
          1.4311375563611697,
          1.4461733611793035,
          1.4612598024961378,
          1.4763940000708335,
          1.4915729102993587,
          1.5067933228083275,
          1.5220518574510689,
          1.5373449617239654,
          1.5526689086201757,
          1.5680197949365926,
          1.5833935400486652,
          1.5987858851664494,
          1.6141923930838271,
          1.6296084484314584,
          1.6450292584425776,
          1.6604498542391743,
          1.6758650926445893,
          1.6912696585269507,
          1.706658067676236,
          1.7220246702161064,
          1.7373636545500035,
          1.7526690518392607,
          1.767934741009341,
          1.7831544542785587,
          1.7983217832020428,
          1.8134301852218266,
          1.8284729907124802,
          1.8434434105099404,
          1.8583345439094852,
          1.8731393871174467,
          1.8878508421393743,
          1.9024617260861345,
          1.916964780877799,
          1.9313526833237704,
          1.9456180555563372,
          1.9597534757934776,
          1.9737514894054935,
          1.9876046202590478,
          2.001305382310929,
          2.0148462914230705,
          2.0282198773692923,
          2.0414186960035745,
          2.054435341558856,
          2.0672624590448376,
          2.079892756712649,
          2.0923190185539347,
          2.104534116801567,
          2.116531024398992,
          2.1283028274051223,
          2.1398427373017554,
          2.151144103170544,
          2.1622004237068824,
          2.1730053590383296,
          2.1835527423156784,
          2.1938365910453457,
          2.2038511181324427,
          2.2135907426045853,
          2.2230500999874327,
          2.2322240523039247,
          2.2411076976701545,
          2.249696379462112,
          2.2579856950286294,
          2.2659715039272954,
          2.273649935661455,
          2.281017396897921,
          2.2880705781465185,
          2.294806459884292,
          2.301222318108783,
          2.3073157293065534,
          2.313084574824906,
          2.3185270446365283,
          2.323641640488684,
          2.3284271784303576,
          2.3328827907127696,
          2.3370079270604114,
          2.3408023553118635,
          2.3442661614313436,
          2.34739974889398,
          2.350203837449653,
          2.352679461272018,
          2.354827966501238,
          2.3566510081907137,
          2.3581505466698056,
          2.3593288433362516,
          2.3601884558936077,
          2.3607322330506437,
          2.3609633087009945,
          2.360885095602957,
          2.3605012785805033,
          2.3598158072679247,
          2.3588328884215946,
          2.3575569778234766,
          2.355992771801882,
          2.3541451983958934,
          2.3520194081905568,
          2.3496207648506067,
          2.3469548353810072,
          2.344027380142973,
          2.3408443426544614,
          2.3374118392042202,
          2.3337361483086356,
          2.3298237000404503,
          2.325681065258347,
          2.3213149447660313,
          2.316732158429028,
          2.3119396342770107,
          2.3069443976187243,
          2.3017535601959165,
          2.296374309401884,
          2.2908138975892993,
          2.285079631490992,
          2.279178861776293,
          2.273118972764404,
          2.266907372314984,
          2.260551481914917,
          2.2540587269788652,
          2.247436527379774,
          2.2406922882241656,
          2.233833390885498,
          2.226867184307431,
          2.2198009765873823,
          2.2126420268491303,
          2.2053975374118395,
          2.198074646261335,
          2.190680419827931,
          2.1832218460737765,
          2.1757058278911456,
          2.1681391768117866,
          2.1605286070260985,
          2.1528807297096675,
          2.145202047653377,
          2.137498950192313,
          2.129777708427522,
          2.1220444707336608,
          2.114305258544835,
          2.106565962409923,
          2.0988323383080805,
          2.0911100042144586,
          2.0834044369056777,
          2.075720968994107,
          2.068064786179781,
          2.0604409247084328,
          2.05285426902417,
          2.045309549605134,
          2.037811340970682,
          2.030364059848778,
          2.022971963492531,
          2.015639148135201,
          2.00836954757344,
          2.0011669318690815,
          1.9940349061603346,
          1.9869769095740297,
          1.9799962142311587,
          1.9730959243388697,
          1.966278975362873,
          1.9595481332750495,
          1.9529059938720799,
          1.9463549821617716,
          1.9398973518147293,
          1.933535184680045,
          1.9272703903645734,
          1.9211047058763648,
          1.915039695333782,
          1.9090767497426944,
          1.9032170868450695,
          1.897461751043128,
          1.8918116134039704,
          1.8862673717503926,
          1.8808295508442137,
          1.875498502669077,
          1.870274406820235,
          1.8651572710092104,
          1.8601469316916486,
          1.8552430548269223,
          1.8504451367782364,
          1.8457525053620552,
          1.8411643210556732,
          1.836679578371638,
          1.8322971074075085,
          1.8280155755791396,
          1.8238334895452883,
          1.8197491973308113,
          1.8157608906551248,
          1.8118666074719738,
          1.8080642347257154,
          1.8043515113285193,
          1.8007260313619713,
          1.7971852475055372,
          1.7937264746933603,
          1.790346893999657,
          1.7870435567519647,
          1.7838133888701588,
          1.7806531954280527,
          1.777559665433082,
          1.7745293768183634,
          1.7715588016401282,
          1.7686443114723236,
          1.7657821829889093,
          1.762968603723167,
          1.760199677992229,
          1.7574714329738041,
          1.7547798249210946,
          1.7521207455008536,
          1.7494900282385557,
          1.7468834550538603,
          1.7442967628686699,
          1.7417256502694982,
          1.739165784205216,
          1.736612806700725,
          1.7340623415667964,
          1.7315100010860172,
          1.7289513926546156,
          1.7263821253598965,
          1.723797816473177,
          1.7211940978382125,
          1.7185666221354916,
          1.7159110690032462,
          1.7132231509965175,
          1.7104986193663534,
          1.7077332696420116,
          1.7049229469998877,
          1.702063551403966,
          1.6991510425036405,
          1.6961814442759848,
          1.6931508494007863,
          1.6900554233580936,
          1.6868914082393613,
          1.6836551262648405,
          1.680342983001344,
          1.676951470276169,
          1.6734771687844474,
          1.6699167503889984,
          1.6662669801132393,
          1.662524717829453,
          1.6586869196463303,
          1.6547506390012852,
          1.6507130274646737,
          1.646571335264557,
          1.642322911542148,
          1.6379652043495305,
          1.6334957604025753,
          1.6289122246032623,
          1.6242123393468553,
          1.619393943630377,
          1.6144549719799794,
          1.6093934532154903,
          1.6042075090713908,
          1.5988953526939713,
          1.5934552870350398,
          1.5878857031628513,
          1.5821850785113223,
          1.576351975088545,
          1.5703850376658237,
          1.5642829919680874,
          1.5580446428864199,
          1.5516688727329935,
          1.5451546395580817,
          1.5385009755482495,
          1.5317069855239795,
          1.524771845554068,
          1.5176948017031138,
          1.5104751689272955,
          1.5031123301323628,
          1.4956057354064733,
          1.487954901439068,
          1.480159411135491,
          1.4722189134355037,
          1.464133123342246,
          1.4559018221664795,
          1.4475248579893198,
          1.4390021463448652,
          1.4303336711224446,
          1.4215194856864253,
          1.412559714209782,
          1.403454553215909,
          1.394204273321445,
          1.3848092211712373,
          1.3752698215549186,
          1.3655865796930649,
          1.3557600836793657,
          1.3457910070638155,
          1.3356801115606776,
          1.3254282498636216,
          1.3150363685494189,
          1.3045055110504453,
          1.2938368206753799,
          1.2830315436566904,
          1.2720910322028294,
          1.2610167475324372,
          1.2498102628675718,
          1.2384732663626155,
          1.2270075639453535,
          1.21541508204677,
          1.203697870196232,
          1.191858103458901,
          1.1798980846927882,
          1.1678202466031966,
          1.1556271535731484,
          1.1433215032490343,
          1.1309061278617172,
          1.1183839952643089,
          1.1057582096689953,
          1.0930320120664998,
          1.0802087803130958,
          1.0672920288715928,
          1.0542854081940973,
          1.041192703735975,
          1.028017834592174,
          1.0147648517485932,
          1.001437935943036,
          0.9880413951320691,
          0.9745796615618512,
          0.9610572884428059,
          0.9474789462299472,
          0.933849418512353,
          0.9201735975171635,
          0.90645647923528,
          0.8927031581776214,
          0.8789188217726139,
          0.8651087444171499,
          0.851278281194922,
          0.8374328612775787,
          0.8235779810255788,
          0.8097191968070303,
          0.7958621175541052,
          0.7820123970778314,
          0.7681757261631249,
          0.754357824466998,
          0.7405644322437207
         ],
         "yaxis": "y"
        },
        {
         "legendgroup": "energy",
         "marker": {
          "color": "rgb(31, 119, 180)",
          "symbol": "line-ns-open"
         },
         "mode": "markers",
         "name": "energy",
         "showlegend": false,
         "type": "scatter",
         "x": [
          0.715,
          0.526,
          0.625,
          0.527,
          0.559,
          0.802,
          0.678,
          0.497,
          0.692,
          0.959,
          0.959,
          0.959,
          0.959,
          0.621,
          0.746,
          0.778,
          0.731,
          0.879,
          0.682,
          0.821,
          0.534,
          0.551,
          0.663,
          0.538,
          0.584,
          0.791,
          0.874,
          0.855,
          0.855,
          0.843,
          0.849,
          0.882,
          0.919,
          0.828,
          0.78,
          0.962,
          0.991,
          0.926,
          0.974,
          0.638,
          0.912,
          0.885,
          0.963,
          0.922,
          0.721,
          0.631,
          0.558,
          0.863,
          0.896,
          0.828,
          0.478,
          0.532,
          0.599,
          0.599,
          0.365,
          0.365,
          0.866,
          0.866,
          0.315,
          0.315,
          0.309,
          0.309,
          0.948,
          0.948,
          0.758,
          0.758,
          0.649,
          0.649,
          0.649,
          0.649,
          0.649,
          0.649,
          0.649,
          0.649,
          0.588,
          0.588,
          0.694,
          0.694,
          0.819,
          0.819,
          0.697,
          0.697,
          0.763,
          0.763,
          0.838,
          0.838,
          0.576,
          0.576,
          0.643,
          0.643,
          0.441,
          0.441,
          0.613,
          0.613,
          0.769,
          0.769,
          0.622,
          0.622,
          0.482,
          0.482,
          0.505,
          0.505,
          0.597,
          0.597,
          0.76,
          0.76,
          0.747,
          0.747,
          0.663,
          0.663,
          0.611,
          0.611,
          0.7,
          0.7,
          0.69,
          0.69,
          0.852,
          0.852,
          0.735,
          0.735,
          0.912,
          0.912,
          0.675,
          0.675
         ],
         "xaxis": "x",
         "y": [
          "energy",
          "energy",
          "energy",
          "energy",
          "energy",
          "energy",
          "energy",
          "energy",
          "energy",
          "energy",
          "energy",
          "energy",
          "energy",
          "energy",
          "energy",
          "energy",
          "energy",
          "energy",
          "energy",
          "energy",
          "energy",
          "energy",
          "energy",
          "energy",
          "energy",
          "energy",
          "energy",
          "energy",
          "energy",
          "energy",
          "energy",
          "energy",
          "energy",
          "energy",
          "energy",
          "energy",
          "energy",
          "energy",
          "energy",
          "energy",
          "energy",
          "energy",
          "energy",
          "energy",
          "energy",
          "energy",
          "energy",
          "energy",
          "energy",
          "energy",
          "energy",
          "energy",
          "energy",
          "energy",
          "energy",
          "energy",
          "energy",
          "energy",
          "energy",
          "energy",
          "energy",
          "energy",
          "energy",
          "energy",
          "energy",
          "energy",
          "energy",
          "energy",
          "energy",
          "energy",
          "energy",
          "energy",
          "energy",
          "energy",
          "energy",
          "energy",
          "energy",
          "energy",
          "energy",
          "energy",
          "energy",
          "energy",
          "energy",
          "energy",
          "energy",
          "energy",
          "energy",
          "energy",
          "energy",
          "energy",
          "energy",
          "energy",
          "energy",
          "energy",
          "energy",
          "energy",
          "energy",
          "energy",
          "energy",
          "energy",
          "energy",
          "energy",
          "energy",
          "energy",
          "energy",
          "energy",
          "energy",
          "energy",
          "energy",
          "energy",
          "energy",
          "energy",
          "energy",
          "energy",
          "energy",
          "energy",
          "energy",
          "energy",
          "energy",
          "energy",
          "energy",
          "energy",
          "energy",
          "energy"
         ],
         "yaxis": "y2"
        }
       ],
       "layout": {
        "barmode": "overlay",
        "hovermode": "closest",
        "legend": {
         "traceorder": "reversed"
        },
        "template": {
         "data": {
          "bar": [
           {
            "error_x": {
             "color": "#2a3f5f"
            },
            "error_y": {
             "color": "#2a3f5f"
            },
            "marker": {
             "line": {
              "color": "#E5ECF6",
              "width": 0.5
             },
             "pattern": {
              "fillmode": "overlay",
              "size": 10,
              "solidity": 0.2
             }
            },
            "type": "bar"
           }
          ],
          "barpolar": [
           {
            "marker": {
             "line": {
              "color": "#E5ECF6",
              "width": 0.5
             },
             "pattern": {
              "fillmode": "overlay",
              "size": 10,
              "solidity": 0.2
             }
            },
            "type": "barpolar"
           }
          ],
          "carpet": [
           {
            "aaxis": {
             "endlinecolor": "#2a3f5f",
             "gridcolor": "white",
             "linecolor": "white",
             "minorgridcolor": "white",
             "startlinecolor": "#2a3f5f"
            },
            "baxis": {
             "endlinecolor": "#2a3f5f",
             "gridcolor": "white",
             "linecolor": "white",
             "minorgridcolor": "white",
             "startlinecolor": "#2a3f5f"
            },
            "type": "carpet"
           }
          ],
          "choropleth": [
           {
            "colorbar": {
             "outlinewidth": 0,
             "ticks": ""
            },
            "type": "choropleth"
           }
          ],
          "contour": [
           {
            "colorbar": {
             "outlinewidth": 0,
             "ticks": ""
            },
            "colorscale": [
             [
              0,
              "#0d0887"
             ],
             [
              0.1111111111111111,
              "#46039f"
             ],
             [
              0.2222222222222222,
              "#7201a8"
             ],
             [
              0.3333333333333333,
              "#9c179e"
             ],
             [
              0.4444444444444444,
              "#bd3786"
             ],
             [
              0.5555555555555556,
              "#d8576b"
             ],
             [
              0.6666666666666666,
              "#ed7953"
             ],
             [
              0.7777777777777778,
              "#fb9f3a"
             ],
             [
              0.8888888888888888,
              "#fdca26"
             ],
             [
              1,
              "#f0f921"
             ]
            ],
            "type": "contour"
           }
          ],
          "contourcarpet": [
           {
            "colorbar": {
             "outlinewidth": 0,
             "ticks": ""
            },
            "type": "contourcarpet"
           }
          ],
          "heatmap": [
           {
            "colorbar": {
             "outlinewidth": 0,
             "ticks": ""
            },
            "colorscale": [
             [
              0,
              "#0d0887"
             ],
             [
              0.1111111111111111,
              "#46039f"
             ],
             [
              0.2222222222222222,
              "#7201a8"
             ],
             [
              0.3333333333333333,
              "#9c179e"
             ],
             [
              0.4444444444444444,
              "#bd3786"
             ],
             [
              0.5555555555555556,
              "#d8576b"
             ],
             [
              0.6666666666666666,
              "#ed7953"
             ],
             [
              0.7777777777777778,
              "#fb9f3a"
             ],
             [
              0.8888888888888888,
              "#fdca26"
             ],
             [
              1,
              "#f0f921"
             ]
            ],
            "type": "heatmap"
           }
          ],
          "heatmapgl": [
           {
            "colorbar": {
             "outlinewidth": 0,
             "ticks": ""
            },
            "colorscale": [
             [
              0,
              "#0d0887"
             ],
             [
              0.1111111111111111,
              "#46039f"
             ],
             [
              0.2222222222222222,
              "#7201a8"
             ],
             [
              0.3333333333333333,
              "#9c179e"
             ],
             [
              0.4444444444444444,
              "#bd3786"
             ],
             [
              0.5555555555555556,
              "#d8576b"
             ],
             [
              0.6666666666666666,
              "#ed7953"
             ],
             [
              0.7777777777777778,
              "#fb9f3a"
             ],
             [
              0.8888888888888888,
              "#fdca26"
             ],
             [
              1,
              "#f0f921"
             ]
            ],
            "type": "heatmapgl"
           }
          ],
          "histogram": [
           {
            "marker": {
             "pattern": {
              "fillmode": "overlay",
              "size": 10,
              "solidity": 0.2
             }
            },
            "type": "histogram"
           }
          ],
          "histogram2d": [
           {
            "colorbar": {
             "outlinewidth": 0,
             "ticks": ""
            },
            "colorscale": [
             [
              0,
              "#0d0887"
             ],
             [
              0.1111111111111111,
              "#46039f"
             ],
             [
              0.2222222222222222,
              "#7201a8"
             ],
             [
              0.3333333333333333,
              "#9c179e"
             ],
             [
              0.4444444444444444,
              "#bd3786"
             ],
             [
              0.5555555555555556,
              "#d8576b"
             ],
             [
              0.6666666666666666,
              "#ed7953"
             ],
             [
              0.7777777777777778,
              "#fb9f3a"
             ],
             [
              0.8888888888888888,
              "#fdca26"
             ],
             [
              1,
              "#f0f921"
             ]
            ],
            "type": "histogram2d"
           }
          ],
          "histogram2dcontour": [
           {
            "colorbar": {
             "outlinewidth": 0,
             "ticks": ""
            },
            "colorscale": [
             [
              0,
              "#0d0887"
             ],
             [
              0.1111111111111111,
              "#46039f"
             ],
             [
              0.2222222222222222,
              "#7201a8"
             ],
             [
              0.3333333333333333,
              "#9c179e"
             ],
             [
              0.4444444444444444,
              "#bd3786"
             ],
             [
              0.5555555555555556,
              "#d8576b"
             ],
             [
              0.6666666666666666,
              "#ed7953"
             ],
             [
              0.7777777777777778,
              "#fb9f3a"
             ],
             [
              0.8888888888888888,
              "#fdca26"
             ],
             [
              1,
              "#f0f921"
             ]
            ],
            "type": "histogram2dcontour"
           }
          ],
          "mesh3d": [
           {
            "colorbar": {
             "outlinewidth": 0,
             "ticks": ""
            },
            "type": "mesh3d"
           }
          ],
          "parcoords": [
           {
            "line": {
             "colorbar": {
              "outlinewidth": 0,
              "ticks": ""
             }
            },
            "type": "parcoords"
           }
          ],
          "pie": [
           {
            "automargin": true,
            "type": "pie"
           }
          ],
          "scatter": [
           {
            "fillpattern": {
             "fillmode": "overlay",
             "size": 10,
             "solidity": 0.2
            },
            "type": "scatter"
           }
          ],
          "scatter3d": [
           {
            "line": {
             "colorbar": {
              "outlinewidth": 0,
              "ticks": ""
             }
            },
            "marker": {
             "colorbar": {
              "outlinewidth": 0,
              "ticks": ""
             }
            },
            "type": "scatter3d"
           }
          ],
          "scattercarpet": [
           {
            "marker": {
             "colorbar": {
              "outlinewidth": 0,
              "ticks": ""
             }
            },
            "type": "scattercarpet"
           }
          ],
          "scattergeo": [
           {
            "marker": {
             "colorbar": {
              "outlinewidth": 0,
              "ticks": ""
             }
            },
            "type": "scattergeo"
           }
          ],
          "scattergl": [
           {
            "marker": {
             "colorbar": {
              "outlinewidth": 0,
              "ticks": ""
             }
            },
            "type": "scattergl"
           }
          ],
          "scattermapbox": [
           {
            "marker": {
             "colorbar": {
              "outlinewidth": 0,
              "ticks": ""
             }
            },
            "type": "scattermapbox"
           }
          ],
          "scatterpolar": [
           {
            "marker": {
             "colorbar": {
              "outlinewidth": 0,
              "ticks": ""
             }
            },
            "type": "scatterpolar"
           }
          ],
          "scatterpolargl": [
           {
            "marker": {
             "colorbar": {
              "outlinewidth": 0,
              "ticks": ""
             }
            },
            "type": "scatterpolargl"
           }
          ],
          "scatterternary": [
           {
            "marker": {
             "colorbar": {
              "outlinewidth": 0,
              "ticks": ""
             }
            },
            "type": "scatterternary"
           }
          ],
          "surface": [
           {
            "colorbar": {
             "outlinewidth": 0,
             "ticks": ""
            },
            "colorscale": [
             [
              0,
              "#0d0887"
             ],
             [
              0.1111111111111111,
              "#46039f"
             ],
             [
              0.2222222222222222,
              "#7201a8"
             ],
             [
              0.3333333333333333,
              "#9c179e"
             ],
             [
              0.4444444444444444,
              "#bd3786"
             ],
             [
              0.5555555555555556,
              "#d8576b"
             ],
             [
              0.6666666666666666,
              "#ed7953"
             ],
             [
              0.7777777777777778,
              "#fb9f3a"
             ],
             [
              0.8888888888888888,
              "#fdca26"
             ],
             [
              1,
              "#f0f921"
             ]
            ],
            "type": "surface"
           }
          ],
          "table": [
           {
            "cells": {
             "fill": {
              "color": "#EBF0F8"
             },
             "line": {
              "color": "white"
             }
            },
            "header": {
             "fill": {
              "color": "#C8D4E3"
             },
             "line": {
              "color": "white"
             }
            },
            "type": "table"
           }
          ]
         },
         "layout": {
          "annotationdefaults": {
           "arrowcolor": "#2a3f5f",
           "arrowhead": 0,
           "arrowwidth": 1
          },
          "autotypenumbers": "strict",
          "coloraxis": {
           "colorbar": {
            "outlinewidth": 0,
            "ticks": ""
           }
          },
          "colorscale": {
           "diverging": [
            [
             0,
             "#8e0152"
            ],
            [
             0.1,
             "#c51b7d"
            ],
            [
             0.2,
             "#de77ae"
            ],
            [
             0.3,
             "#f1b6da"
            ],
            [
             0.4,
             "#fde0ef"
            ],
            [
             0.5,
             "#f7f7f7"
            ],
            [
             0.6,
             "#e6f5d0"
            ],
            [
             0.7,
             "#b8e186"
            ],
            [
             0.8,
             "#7fbc41"
            ],
            [
             0.9,
             "#4d9221"
            ],
            [
             1,
             "#276419"
            ]
           ],
           "sequential": [
            [
             0,
             "#0d0887"
            ],
            [
             0.1111111111111111,
             "#46039f"
            ],
            [
             0.2222222222222222,
             "#7201a8"
            ],
            [
             0.3333333333333333,
             "#9c179e"
            ],
            [
             0.4444444444444444,
             "#bd3786"
            ],
            [
             0.5555555555555556,
             "#d8576b"
            ],
            [
             0.6666666666666666,
             "#ed7953"
            ],
            [
             0.7777777777777778,
             "#fb9f3a"
            ],
            [
             0.8888888888888888,
             "#fdca26"
            ],
            [
             1,
             "#f0f921"
            ]
           ],
           "sequentialminus": [
            [
             0,
             "#0d0887"
            ],
            [
             0.1111111111111111,
             "#46039f"
            ],
            [
             0.2222222222222222,
             "#7201a8"
            ],
            [
             0.3333333333333333,
             "#9c179e"
            ],
            [
             0.4444444444444444,
             "#bd3786"
            ],
            [
             0.5555555555555556,
             "#d8576b"
            ],
            [
             0.6666666666666666,
             "#ed7953"
            ],
            [
             0.7777777777777778,
             "#fb9f3a"
            ],
            [
             0.8888888888888888,
             "#fdca26"
            ],
            [
             1,
             "#f0f921"
            ]
           ]
          },
          "colorway": [
           "#636efa",
           "#EF553B",
           "#00cc96",
           "#ab63fa",
           "#FFA15A",
           "#19d3f3",
           "#FF6692",
           "#B6E880",
           "#FF97FF",
           "#FECB52"
          ],
          "font": {
           "color": "#2a3f5f"
          },
          "geo": {
           "bgcolor": "white",
           "lakecolor": "white",
           "landcolor": "#E5ECF6",
           "showlakes": true,
           "showland": true,
           "subunitcolor": "white"
          },
          "hoverlabel": {
           "align": "left"
          },
          "hovermode": "closest",
          "mapbox": {
           "style": "light"
          },
          "paper_bgcolor": "white",
          "plot_bgcolor": "#E5ECF6",
          "polar": {
           "angularaxis": {
            "gridcolor": "white",
            "linecolor": "white",
            "ticks": ""
           },
           "bgcolor": "#E5ECF6",
           "radialaxis": {
            "gridcolor": "white",
            "linecolor": "white",
            "ticks": ""
           }
          },
          "scene": {
           "xaxis": {
            "backgroundcolor": "#E5ECF6",
            "gridcolor": "white",
            "gridwidth": 2,
            "linecolor": "white",
            "showbackground": true,
            "ticks": "",
            "zerolinecolor": "white"
           },
           "yaxis": {
            "backgroundcolor": "#E5ECF6",
            "gridcolor": "white",
            "gridwidth": 2,
            "linecolor": "white",
            "showbackground": true,
            "ticks": "",
            "zerolinecolor": "white"
           },
           "zaxis": {
            "backgroundcolor": "#E5ECF6",
            "gridcolor": "white",
            "gridwidth": 2,
            "linecolor": "white",
            "showbackground": true,
            "ticks": "",
            "zerolinecolor": "white"
           }
          },
          "shapedefaults": {
           "line": {
            "color": "#2a3f5f"
           }
          },
          "ternary": {
           "aaxis": {
            "gridcolor": "white",
            "linecolor": "white",
            "ticks": ""
           },
           "baxis": {
            "gridcolor": "white",
            "linecolor": "white",
            "ticks": ""
           },
           "bgcolor": "#E5ECF6",
           "caxis": {
            "gridcolor": "white",
            "linecolor": "white",
            "ticks": ""
           }
          },
          "title": {
           "x": 0.05
          },
          "xaxis": {
           "automargin": true,
           "gridcolor": "white",
           "linecolor": "white",
           "ticks": "",
           "title": {
            "standoff": 15
           },
           "zerolinecolor": "white",
           "zerolinewidth": 2
          },
          "yaxis": {
           "automargin": true,
           "gridcolor": "white",
           "linecolor": "white",
           "ticks": "",
           "title": {
            "standoff": 15
           },
           "zerolinecolor": "white",
           "zerolinewidth": 2
          }
         }
        },
        "xaxis": {
         "anchor": "y2",
         "domain": [
          0,
          1
         ],
         "zeroline": false
        },
        "yaxis": {
         "anchor": "free",
         "domain": [
          0.35,
          1
         ],
         "position": 0
        },
        "yaxis2": {
         "anchor": "x",
         "domain": [
          0,
          0.25
         ],
         "dtick": 1,
         "showticklabels": false
        }
       }
      }
     },
     "metadata": {},
     "output_type": "display_data"
    }
   ],
   "source": [
    "fig = ff.create_distplot([df[\"energy\"]], [\"energy\"], bin_size=.1)\n",
    "fig.show()"
   ]
  },
  {
   "cell_type": "markdown",
   "metadata": {},
   "source": [
    "Instrumentalness"
   ]
  },
  {
   "cell_type": "code",
   "execution_count": 7,
   "metadata": {},
   "outputs": [
    {
     "data": {
      "application/vnd.plotly.v1+json": {
       "config": {
        "plotlyServerURL": "https://plot.ly"
       },
       "data": [
        {
         "alignmentgroup": "True",
         "bingroup": "x",
         "hovertemplate": "instrumentalness=%{x}<br>count=%{y}<extra></extra>",
         "legendgroup": "",
         "marker": {
          "color": "#636efa",
          "pattern": {
           "shape": ""
          }
         },
         "name": "",
         "nbinsx": 10,
         "offsetgroup": "",
         "orientation": "v",
         "showlegend": false,
         "type": "histogram",
         "x": [
          0,
          0.00000389,
          0,
          0.0000215,
          0.0000477,
          0,
          0.0000626,
          0,
          0,
          0.000117,
          0.000117,
          0.000117,
          0.000117,
          0.00786,
          0.0000467,
          0.00000604,
          0.0000465,
          0.00000154,
          0.0000844,
          0.00000204,
          0.0000127,
          0.000349,
          0.000268,
          0,
          0.0000996,
          0.00951,
          0.000452,
          0.0204,
          0.00134,
          0.103,
          0.0000318,
          0.112,
          0.437,
          0.000104,
          0.000715,
          0.00103,
          0.0753,
          0.453,
          0.00155,
          0,
          0.278,
          0.00041,
          0.000889,
          0,
          0,
          0.0000113,
          0.00000126,
          0,
          0.0000283,
          0.000144,
          0.00122,
          0.000263,
          0,
          0,
          0.012,
          0.012,
          0.0000778,
          0.0000778,
          0,
          0,
          0.0122,
          0.0122,
          0,
          0,
          0,
          0,
          0,
          0,
          0,
          0,
          0,
          0,
          0,
          0,
          0,
          0,
          0,
          0,
          0,
          0,
          0,
          0,
          0,
          0,
          0,
          0,
          0,
          0,
          0,
          0,
          0,
          0,
          0,
          0,
          0.0000482,
          0.0000482,
          0,
          0,
          0,
          0,
          0.0000159,
          0.0000159,
          0,
          0,
          0,
          0,
          0,
          0,
          0,
          0,
          0,
          0,
          0.102,
          0.102,
          0,
          0,
          0.0000121,
          0.0000121,
          0.0205,
          0.0205,
          0.000173,
          0.000173,
          0.00000399,
          0.00000399
         ],
         "xaxis": "x",
         "yaxis": "y"
        },
        {
         "alignmentgroup": "True",
         "hovertemplate": "instrumentalness=%{x}<extra></extra>",
         "legendgroup": "",
         "marker": {
          "color": "#636efa"
         },
         "name": "",
         "offsetgroup": "",
         "scalegroup": "x",
         "showlegend": false,
         "type": "violin",
         "x": [
          0,
          0.00000389,
          0,
          0.0000215,
          0.0000477,
          0,
          0.0000626,
          0,
          0,
          0.000117,
          0.000117,
          0.000117,
          0.000117,
          0.00786,
          0.0000467,
          0.00000604,
          0.0000465,
          0.00000154,
          0.0000844,
          0.00000204,
          0.0000127,
          0.000349,
          0.000268,
          0,
          0.0000996,
          0.00951,
          0.000452,
          0.0204,
          0.00134,
          0.103,
          0.0000318,
          0.112,
          0.437,
          0.000104,
          0.000715,
          0.00103,
          0.0753,
          0.453,
          0.00155,
          0,
          0.278,
          0.00041,
          0.000889,
          0,
          0,
          0.0000113,
          0.00000126,
          0,
          0.0000283,
          0.000144,
          0.00122,
          0.000263,
          0,
          0,
          0.012,
          0.012,
          0.0000778,
          0.0000778,
          0,
          0,
          0.0122,
          0.0122,
          0,
          0,
          0,
          0,
          0,
          0,
          0,
          0,
          0,
          0,
          0,
          0,
          0,
          0,
          0,
          0,
          0,
          0,
          0,
          0,
          0,
          0,
          0,
          0,
          0,
          0,
          0,
          0,
          0,
          0,
          0,
          0,
          0.0000482,
          0.0000482,
          0,
          0,
          0,
          0,
          0.0000159,
          0.0000159,
          0,
          0,
          0,
          0,
          0,
          0,
          0,
          0,
          0,
          0,
          0.102,
          0.102,
          0,
          0,
          0.0000121,
          0.0000121,
          0.0205,
          0.0205,
          0.000173,
          0.000173,
          0.00000399,
          0.00000399
         ],
         "xaxis": "x2",
         "yaxis": "y2"
        }
       ],
       "layout": {
        "barmode": "relative",
        "legend": {
         "tracegroupgap": 0
        },
        "margin": {
         "t": 60
        },
        "template": {
         "data": {
          "bar": [
           {
            "error_x": {
             "color": "#2a3f5f"
            },
            "error_y": {
             "color": "#2a3f5f"
            },
            "marker": {
             "line": {
              "color": "#E5ECF6",
              "width": 0.5
             },
             "pattern": {
              "fillmode": "overlay",
              "size": 10,
              "solidity": 0.2
             }
            },
            "type": "bar"
           }
          ],
          "barpolar": [
           {
            "marker": {
             "line": {
              "color": "#E5ECF6",
              "width": 0.5
             },
             "pattern": {
              "fillmode": "overlay",
              "size": 10,
              "solidity": 0.2
             }
            },
            "type": "barpolar"
           }
          ],
          "carpet": [
           {
            "aaxis": {
             "endlinecolor": "#2a3f5f",
             "gridcolor": "white",
             "linecolor": "white",
             "minorgridcolor": "white",
             "startlinecolor": "#2a3f5f"
            },
            "baxis": {
             "endlinecolor": "#2a3f5f",
             "gridcolor": "white",
             "linecolor": "white",
             "minorgridcolor": "white",
             "startlinecolor": "#2a3f5f"
            },
            "type": "carpet"
           }
          ],
          "choropleth": [
           {
            "colorbar": {
             "outlinewidth": 0,
             "ticks": ""
            },
            "type": "choropleth"
           }
          ],
          "contour": [
           {
            "colorbar": {
             "outlinewidth": 0,
             "ticks": ""
            },
            "colorscale": [
             [
              0,
              "#0d0887"
             ],
             [
              0.1111111111111111,
              "#46039f"
             ],
             [
              0.2222222222222222,
              "#7201a8"
             ],
             [
              0.3333333333333333,
              "#9c179e"
             ],
             [
              0.4444444444444444,
              "#bd3786"
             ],
             [
              0.5555555555555556,
              "#d8576b"
             ],
             [
              0.6666666666666666,
              "#ed7953"
             ],
             [
              0.7777777777777778,
              "#fb9f3a"
             ],
             [
              0.8888888888888888,
              "#fdca26"
             ],
             [
              1,
              "#f0f921"
             ]
            ],
            "type": "contour"
           }
          ],
          "contourcarpet": [
           {
            "colorbar": {
             "outlinewidth": 0,
             "ticks": ""
            },
            "type": "contourcarpet"
           }
          ],
          "heatmap": [
           {
            "colorbar": {
             "outlinewidth": 0,
             "ticks": ""
            },
            "colorscale": [
             [
              0,
              "#0d0887"
             ],
             [
              0.1111111111111111,
              "#46039f"
             ],
             [
              0.2222222222222222,
              "#7201a8"
             ],
             [
              0.3333333333333333,
              "#9c179e"
             ],
             [
              0.4444444444444444,
              "#bd3786"
             ],
             [
              0.5555555555555556,
              "#d8576b"
             ],
             [
              0.6666666666666666,
              "#ed7953"
             ],
             [
              0.7777777777777778,
              "#fb9f3a"
             ],
             [
              0.8888888888888888,
              "#fdca26"
             ],
             [
              1,
              "#f0f921"
             ]
            ],
            "type": "heatmap"
           }
          ],
          "heatmapgl": [
           {
            "colorbar": {
             "outlinewidth": 0,
             "ticks": ""
            },
            "colorscale": [
             [
              0,
              "#0d0887"
             ],
             [
              0.1111111111111111,
              "#46039f"
             ],
             [
              0.2222222222222222,
              "#7201a8"
             ],
             [
              0.3333333333333333,
              "#9c179e"
             ],
             [
              0.4444444444444444,
              "#bd3786"
             ],
             [
              0.5555555555555556,
              "#d8576b"
             ],
             [
              0.6666666666666666,
              "#ed7953"
             ],
             [
              0.7777777777777778,
              "#fb9f3a"
             ],
             [
              0.8888888888888888,
              "#fdca26"
             ],
             [
              1,
              "#f0f921"
             ]
            ],
            "type": "heatmapgl"
           }
          ],
          "histogram": [
           {
            "marker": {
             "pattern": {
              "fillmode": "overlay",
              "size": 10,
              "solidity": 0.2
             }
            },
            "type": "histogram"
           }
          ],
          "histogram2d": [
           {
            "colorbar": {
             "outlinewidth": 0,
             "ticks": ""
            },
            "colorscale": [
             [
              0,
              "#0d0887"
             ],
             [
              0.1111111111111111,
              "#46039f"
             ],
             [
              0.2222222222222222,
              "#7201a8"
             ],
             [
              0.3333333333333333,
              "#9c179e"
             ],
             [
              0.4444444444444444,
              "#bd3786"
             ],
             [
              0.5555555555555556,
              "#d8576b"
             ],
             [
              0.6666666666666666,
              "#ed7953"
             ],
             [
              0.7777777777777778,
              "#fb9f3a"
             ],
             [
              0.8888888888888888,
              "#fdca26"
             ],
             [
              1,
              "#f0f921"
             ]
            ],
            "type": "histogram2d"
           }
          ],
          "histogram2dcontour": [
           {
            "colorbar": {
             "outlinewidth": 0,
             "ticks": ""
            },
            "colorscale": [
             [
              0,
              "#0d0887"
             ],
             [
              0.1111111111111111,
              "#46039f"
             ],
             [
              0.2222222222222222,
              "#7201a8"
             ],
             [
              0.3333333333333333,
              "#9c179e"
             ],
             [
              0.4444444444444444,
              "#bd3786"
             ],
             [
              0.5555555555555556,
              "#d8576b"
             ],
             [
              0.6666666666666666,
              "#ed7953"
             ],
             [
              0.7777777777777778,
              "#fb9f3a"
             ],
             [
              0.8888888888888888,
              "#fdca26"
             ],
             [
              1,
              "#f0f921"
             ]
            ],
            "type": "histogram2dcontour"
           }
          ],
          "mesh3d": [
           {
            "colorbar": {
             "outlinewidth": 0,
             "ticks": ""
            },
            "type": "mesh3d"
           }
          ],
          "parcoords": [
           {
            "line": {
             "colorbar": {
              "outlinewidth": 0,
              "ticks": ""
             }
            },
            "type": "parcoords"
           }
          ],
          "pie": [
           {
            "automargin": true,
            "type": "pie"
           }
          ],
          "scatter": [
           {
            "fillpattern": {
             "fillmode": "overlay",
             "size": 10,
             "solidity": 0.2
            },
            "type": "scatter"
           }
          ],
          "scatter3d": [
           {
            "line": {
             "colorbar": {
              "outlinewidth": 0,
              "ticks": ""
             }
            },
            "marker": {
             "colorbar": {
              "outlinewidth": 0,
              "ticks": ""
             }
            },
            "type": "scatter3d"
           }
          ],
          "scattercarpet": [
           {
            "marker": {
             "colorbar": {
              "outlinewidth": 0,
              "ticks": ""
             }
            },
            "type": "scattercarpet"
           }
          ],
          "scattergeo": [
           {
            "marker": {
             "colorbar": {
              "outlinewidth": 0,
              "ticks": ""
             }
            },
            "type": "scattergeo"
           }
          ],
          "scattergl": [
           {
            "marker": {
             "colorbar": {
              "outlinewidth": 0,
              "ticks": ""
             }
            },
            "type": "scattergl"
           }
          ],
          "scattermapbox": [
           {
            "marker": {
             "colorbar": {
              "outlinewidth": 0,
              "ticks": ""
             }
            },
            "type": "scattermapbox"
           }
          ],
          "scatterpolar": [
           {
            "marker": {
             "colorbar": {
              "outlinewidth": 0,
              "ticks": ""
             }
            },
            "type": "scatterpolar"
           }
          ],
          "scatterpolargl": [
           {
            "marker": {
             "colorbar": {
              "outlinewidth": 0,
              "ticks": ""
             }
            },
            "type": "scatterpolargl"
           }
          ],
          "scatterternary": [
           {
            "marker": {
             "colorbar": {
              "outlinewidth": 0,
              "ticks": ""
             }
            },
            "type": "scatterternary"
           }
          ],
          "surface": [
           {
            "colorbar": {
             "outlinewidth": 0,
             "ticks": ""
            },
            "colorscale": [
             [
              0,
              "#0d0887"
             ],
             [
              0.1111111111111111,
              "#46039f"
             ],
             [
              0.2222222222222222,
              "#7201a8"
             ],
             [
              0.3333333333333333,
              "#9c179e"
             ],
             [
              0.4444444444444444,
              "#bd3786"
             ],
             [
              0.5555555555555556,
              "#d8576b"
             ],
             [
              0.6666666666666666,
              "#ed7953"
             ],
             [
              0.7777777777777778,
              "#fb9f3a"
             ],
             [
              0.8888888888888888,
              "#fdca26"
             ],
             [
              1,
              "#f0f921"
             ]
            ],
            "type": "surface"
           }
          ],
          "table": [
           {
            "cells": {
             "fill": {
              "color": "#EBF0F8"
             },
             "line": {
              "color": "white"
             }
            },
            "header": {
             "fill": {
              "color": "#C8D4E3"
             },
             "line": {
              "color": "white"
             }
            },
            "type": "table"
           }
          ]
         },
         "layout": {
          "annotationdefaults": {
           "arrowcolor": "#2a3f5f",
           "arrowhead": 0,
           "arrowwidth": 1
          },
          "autotypenumbers": "strict",
          "coloraxis": {
           "colorbar": {
            "outlinewidth": 0,
            "ticks": ""
           }
          },
          "colorscale": {
           "diverging": [
            [
             0,
             "#8e0152"
            ],
            [
             0.1,
             "#c51b7d"
            ],
            [
             0.2,
             "#de77ae"
            ],
            [
             0.3,
             "#f1b6da"
            ],
            [
             0.4,
             "#fde0ef"
            ],
            [
             0.5,
             "#f7f7f7"
            ],
            [
             0.6,
             "#e6f5d0"
            ],
            [
             0.7,
             "#b8e186"
            ],
            [
             0.8,
             "#7fbc41"
            ],
            [
             0.9,
             "#4d9221"
            ],
            [
             1,
             "#276419"
            ]
           ],
           "sequential": [
            [
             0,
             "#0d0887"
            ],
            [
             0.1111111111111111,
             "#46039f"
            ],
            [
             0.2222222222222222,
             "#7201a8"
            ],
            [
             0.3333333333333333,
             "#9c179e"
            ],
            [
             0.4444444444444444,
             "#bd3786"
            ],
            [
             0.5555555555555556,
             "#d8576b"
            ],
            [
             0.6666666666666666,
             "#ed7953"
            ],
            [
             0.7777777777777778,
             "#fb9f3a"
            ],
            [
             0.8888888888888888,
             "#fdca26"
            ],
            [
             1,
             "#f0f921"
            ]
           ],
           "sequentialminus": [
            [
             0,
             "#0d0887"
            ],
            [
             0.1111111111111111,
             "#46039f"
            ],
            [
             0.2222222222222222,
             "#7201a8"
            ],
            [
             0.3333333333333333,
             "#9c179e"
            ],
            [
             0.4444444444444444,
             "#bd3786"
            ],
            [
             0.5555555555555556,
             "#d8576b"
            ],
            [
             0.6666666666666666,
             "#ed7953"
            ],
            [
             0.7777777777777778,
             "#fb9f3a"
            ],
            [
             0.8888888888888888,
             "#fdca26"
            ],
            [
             1,
             "#f0f921"
            ]
           ]
          },
          "colorway": [
           "#636efa",
           "#EF553B",
           "#00cc96",
           "#ab63fa",
           "#FFA15A",
           "#19d3f3",
           "#FF6692",
           "#B6E880",
           "#FF97FF",
           "#FECB52"
          ],
          "font": {
           "color": "#2a3f5f"
          },
          "geo": {
           "bgcolor": "white",
           "lakecolor": "white",
           "landcolor": "#E5ECF6",
           "showlakes": true,
           "showland": true,
           "subunitcolor": "white"
          },
          "hoverlabel": {
           "align": "left"
          },
          "hovermode": "closest",
          "mapbox": {
           "style": "light"
          },
          "paper_bgcolor": "white",
          "plot_bgcolor": "#E5ECF6",
          "polar": {
           "angularaxis": {
            "gridcolor": "white",
            "linecolor": "white",
            "ticks": ""
           },
           "bgcolor": "#E5ECF6",
           "radialaxis": {
            "gridcolor": "white",
            "linecolor": "white",
            "ticks": ""
           }
          },
          "scene": {
           "xaxis": {
            "backgroundcolor": "#E5ECF6",
            "gridcolor": "white",
            "gridwidth": 2,
            "linecolor": "white",
            "showbackground": true,
            "ticks": "",
            "zerolinecolor": "white"
           },
           "yaxis": {
            "backgroundcolor": "#E5ECF6",
            "gridcolor": "white",
            "gridwidth": 2,
            "linecolor": "white",
            "showbackground": true,
            "ticks": "",
            "zerolinecolor": "white"
           },
           "zaxis": {
            "backgroundcolor": "#E5ECF6",
            "gridcolor": "white",
            "gridwidth": 2,
            "linecolor": "white",
            "showbackground": true,
            "ticks": "",
            "zerolinecolor": "white"
           }
          },
          "shapedefaults": {
           "line": {
            "color": "#2a3f5f"
           }
          },
          "ternary": {
           "aaxis": {
            "gridcolor": "white",
            "linecolor": "white",
            "ticks": ""
           },
           "baxis": {
            "gridcolor": "white",
            "linecolor": "white",
            "ticks": ""
           },
           "bgcolor": "#E5ECF6",
           "caxis": {
            "gridcolor": "white",
            "linecolor": "white",
            "ticks": ""
           }
          },
          "title": {
           "x": 0.05
          },
          "xaxis": {
           "automargin": true,
           "gridcolor": "white",
           "linecolor": "white",
           "ticks": "",
           "title": {
            "standoff": 15
           },
           "zerolinecolor": "white",
           "zerolinewidth": 2
          },
          "yaxis": {
           "automargin": true,
           "gridcolor": "white",
           "linecolor": "white",
           "ticks": "",
           "title": {
            "standoff": 15
           },
           "zerolinecolor": "white",
           "zerolinewidth": 2
          }
         }
        },
        "xaxis": {
         "anchor": "y",
         "domain": [
          0,
          1
         ],
         "title": {
          "text": "instrumentalness"
         }
        },
        "xaxis2": {
         "anchor": "y2",
         "domain": [
          0,
          1
         ],
         "matches": "x",
         "showgrid": true,
         "showticklabels": false
        },
        "yaxis": {
         "anchor": "x",
         "domain": [
          0,
          0.8316
         ],
         "title": {
          "text": "count"
         }
        },
        "yaxis2": {
         "anchor": "x2",
         "domain": [
          0.8416,
          1
         ],
         "matches": "y2",
         "showgrid": false,
         "showline": false,
         "showticklabels": false,
         "ticks": ""
        }
       }
      }
     },
     "metadata": {},
     "output_type": "display_data"
    }
   ],
   "source": [
    "fig = px.histogram(df, x=\"instrumentalness\", nbins=10, marginal=\"violin\")\n",
    "fig.show()\n"
   ]
  },
  {
   "cell_type": "code",
   "execution_count": 8,
   "metadata": {},
   "outputs": [
    {
     "data": {
      "application/vnd.plotly.v1+json": {
       "config": {
        "plotlyServerURL": "https://plot.ly"
       },
       "data": [
        {
         "autobinx": false,
         "histnorm": "probability density",
         "legendgroup": "instrumentalness",
         "marker": {
          "color": "rgb(31, 119, 180)"
         },
         "name": "instrumentalness",
         "opacity": 0.7,
         "type": "histogram",
         "x": [
          0,
          0.00000389,
          0,
          0.0000215,
          0.0000477,
          0,
          0.0000626,
          0,
          0,
          0.000117,
          0.000117,
          0.000117,
          0.000117,
          0.00786,
          0.0000467,
          0.00000604,
          0.0000465,
          0.00000154,
          0.0000844,
          0.00000204,
          0.0000127,
          0.000349,
          0.000268,
          0,
          0.0000996,
          0.00951,
          0.000452,
          0.0204,
          0.00134,
          0.103,
          0.0000318,
          0.112,
          0.437,
          0.000104,
          0.000715,
          0.00103,
          0.0753,
          0.453,
          0.00155,
          0,
          0.278,
          0.00041,
          0.000889,
          0,
          0,
          0.0000113,
          0.00000126,
          0,
          0.0000283,
          0.000144,
          0.00122,
          0.000263,
          0,
          0,
          0.012,
          0.012,
          0.0000778,
          0.0000778,
          0,
          0,
          0.0122,
          0.0122,
          0,
          0,
          0,
          0,
          0,
          0,
          0,
          0,
          0,
          0,
          0,
          0,
          0,
          0,
          0,
          0,
          0,
          0,
          0,
          0,
          0,
          0,
          0,
          0,
          0,
          0,
          0,
          0,
          0,
          0,
          0,
          0,
          0.0000482,
          0.0000482,
          0,
          0,
          0,
          0,
          0.0000159,
          0.0000159,
          0,
          0,
          0,
          0,
          0,
          0,
          0,
          0,
          0,
          0,
          0.102,
          0.102,
          0,
          0,
          0.0000121,
          0.0000121,
          0.0205,
          0.0205,
          0.000173,
          0.000173,
          0.00000399,
          0.00000399
         ],
         "xaxis": "x",
         "xbins": {
          "end": 0.453,
          "size": 0.1,
          "start": 0
         },
         "yaxis": "y"
        },
        {
         "legendgroup": "instrumentalness",
         "marker": {
          "color": "rgb(31, 119, 180)"
         },
         "mode": "lines",
         "name": "instrumentalness",
         "showlegend": false,
         "type": "scatter",
         "x": [
          0,
          0.000906,
          0.001812,
          0.002718,
          0.003624,
          0.00453,
          0.005436,
          0.006342,
          0.007248,
          0.008154,
          0.00906,
          0.009966000000000001,
          0.010872,
          0.011778,
          0.012684,
          0.01359,
          0.014496,
          0.015402,
          0.016308,
          0.017214000000000004,
          0.01812,
          0.019026,
          0.019932000000000002,
          0.020838000000000002,
          0.021744,
          0.022650000000000003,
          0.023556,
          0.024462,
          0.025368,
          0.026274000000000002,
          0.02718,
          0.028086000000000003,
          0.028992,
          0.029898,
          0.030804,
          0.03171,
          0.032616,
          0.033521999999999996,
          0.03442800000000001,
          0.035334000000000004,
          0.03624,
          0.037146,
          0.038052,
          0.038958,
          0.039864000000000004,
          0.04077,
          0.041676000000000005,
          0.042582,
          0.043488,
          0.044393999999999996,
          0.04530000000000001,
          0.046206000000000004,
          0.047112,
          0.048018,
          0.048924,
          0.04983,
          0.050736,
          0.051642,
          0.052548000000000004,
          0.053454,
          0.05436,
          0.055265999999999996,
          0.05617200000000001,
          0.057078000000000004,
          0.057984,
          0.05889,
          0.059796,
          0.060702000000000006,
          0.061608,
          0.062514,
          0.06342,
          0.06432600000000001,
          0.065232,
          0.066138,
          0.06704399999999999,
          0.06795,
          0.06885600000000001,
          0.069762,
          0.07066800000000001,
          0.071574,
          0.07248,
          0.07338599999999999,
          0.074292,
          0.075198,
          0.076104,
          0.07701000000000001,
          0.077916,
          0.078822,
          0.07972800000000001,
          0.080634,
          0.08154,
          0.08244599999999999,
          0.08335200000000001,
          0.084258,
          0.085164,
          0.08607000000000001,
          0.086976,
          0.087882,
          0.08878799999999999,
          0.089694,
          0.09060000000000001,
          0.091506,
          0.09241200000000001,
          0.093318,
          0.094224,
          0.09513,
          0.096036,
          0.096942,
          0.097848,
          0.09875400000000001,
          0.09966,
          0.100566,
          0.101472,
          0.102378,
          0.103284,
          0.10418999999999999,
          0.10509600000000001,
          0.10600200000000001,
          0.106908,
          0.10781400000000001,
          0.10872,
          0.109626,
          0.11053199999999999,
          0.11143800000000001,
          0.11234400000000001,
          0.11325,
          0.11415600000000001,
          0.115062,
          0.115968,
          0.116874,
          0.11778,
          0.11868600000000001,
          0.119592,
          0.12049800000000001,
          0.12140400000000001,
          0.12231,
          0.123216,
          0.124122,
          0.125028,
          0.125934,
          0.12684,
          0.127746,
          0.12865200000000002,
          0.129558,
          0.130464,
          0.13137000000000001,
          0.132276,
          0.13318200000000002,
          0.13408799999999998,
          0.134994,
          0.1359,
          0.136806,
          0.13771200000000003,
          0.138618,
          0.139524,
          0.14043,
          0.14133600000000002,
          0.14224199999999998,
          0.143148,
          0.14405400000000002,
          0.14496,
          0.14586600000000002,
          0.14677199999999999,
          0.147678,
          0.148584,
          0.14949,
          0.150396,
          0.151302,
          0.152208,
          0.153114,
          0.15402000000000002,
          0.154926,
          0.155832,
          0.156738,
          0.157644,
          0.15855000000000002,
          0.15945600000000001,
          0.160362,
          0.161268,
          0.162174,
          0.16308,
          0.16398600000000002,
          0.16489199999999998,
          0.165798,
          0.16670400000000002,
          0.16761,
          0.168516,
          0.169422,
          0.170328,
          0.171234,
          0.17214000000000002,
          0.173046,
          0.173952,
          0.174858,
          0.175764,
          0.17667000000000002,
          0.17757599999999998,
          0.178482,
          0.179388,
          0.180294,
          0.18120000000000003,
          0.182106,
          0.183012,
          0.183918,
          0.18482400000000002,
          0.18573,
          0.186636,
          0.18754200000000001,
          0.188448,
          0.18935400000000002,
          0.19026,
          0.191166,
          0.192072,
          0.192978,
          0.193884,
          0.19479,
          0.195696,
          0.196602,
          0.19750800000000002,
          0.198414,
          0.19932,
          0.200226,
          0.201132,
          0.20203800000000002,
          0.202944,
          0.20385,
          0.204756,
          0.205662,
          0.206568,
          0.20747400000000002,
          0.20837999999999998,
          0.209286,
          0.21019200000000002,
          0.211098,
          0.21200400000000003,
          0.21291,
          0.213816,
          0.214722,
          0.21562800000000001,
          0.21653400000000003,
          0.21744,
          0.218346,
          0.219252,
          0.22015800000000002,
          0.22106399999999998,
          0.22197,
          0.22287600000000002,
          0.223782,
          0.22468800000000003,
          0.225594,
          0.2265,
          0.227406,
          0.22831200000000001,
          0.229218,
          0.230124,
          0.23103,
          0.231936,
          0.23284200000000002,
          0.233748,
          0.234654,
          0.23556,
          0.236466,
          0.23737200000000003,
          0.23827800000000002,
          0.239184,
          0.24009,
          0.24099600000000002,
          0.241902,
          0.24280800000000002,
          0.243714,
          0.24462,
          0.24552600000000002,
          0.246432,
          0.247338,
          0.248244,
          0.24915,
          0.250056,
          0.250962,
          0.251868,
          0.252774,
          0.25368,
          0.25458600000000003,
          0.255492,
          0.256398,
          0.25730400000000003,
          0.25821,
          0.259116,
          0.260022,
          0.260928,
          0.261834,
          0.26274000000000003,
          0.263646,
          0.264552,
          0.265458,
          0.26636400000000005,
          0.26727,
          0.26817599999999997,
          0.269082,
          0.269988,
          0.270894,
          0.2718,
          0.272706,
          0.273612,
          0.27451800000000004,
          0.27542400000000006,
          0.27632999999999996,
          0.277236,
          0.278142,
          0.279048,
          0.279954,
          0.28086,
          0.281766,
          0.28267200000000003,
          0.28357800000000005,
          0.28448399999999996,
          0.28539,
          0.286296,
          0.287202,
          0.28810800000000003,
          0.289014,
          0.28992,
          0.29082600000000003,
          0.29173200000000005,
          0.292638,
          0.29354399999999997,
          0.29445,
          0.295356,
          0.296262,
          0.297168,
          0.298074,
          0.29898,
          0.29988600000000004,
          0.300792,
          0.301698,
          0.302604,
          0.30351,
          0.304416,
          0.305322,
          0.306228,
          0.307134,
          0.30804000000000004,
          0.30894600000000005,
          0.309852,
          0.310758,
          0.311664,
          0.31257,
          0.313476,
          0.314382,
          0.315288,
          0.31619400000000003,
          0.31710000000000005,
          0.318006,
          0.31891200000000003,
          0.319818,
          0.320724,
          0.32162999999999997,
          0.322536,
          0.323442,
          0.324348,
          0.32525400000000004,
          0.32616,
          0.327066,
          0.32797200000000004,
          0.328878,
          0.32978399999999997,
          0.33069,
          0.331596,
          0.332502,
          0.33340800000000004,
          0.334314,
          0.33522,
          0.33612600000000004,
          0.337032,
          0.33793799999999996,
          0.338844,
          0.33975,
          0.340656,
          0.34156200000000003,
          0.342468,
          0.343374,
          0.34428000000000003,
          0.34518600000000005,
          0.346092,
          0.346998,
          0.347904,
          0.34881,
          0.349716,
          0.350622,
          0.351528,
          0.352434,
          0.35334000000000004,
          0.35424600000000006,
          0.35515199999999997,
          0.356058,
          0.356964,
          0.35787,
          0.358776,
          0.359682,
          0.360588,
          0.36149400000000004,
          0.36240000000000006,
          0.36330599999999996,
          0.364212,
          0.365118,
          0.366024,
          0.36693000000000003,
          0.367836,
          0.368742,
          0.36964800000000003,
          0.37055400000000005,
          0.37146,
          0.372366,
          0.373272,
          0.374178,
          0.37508400000000003,
          0.37599,
          0.376896,
          0.377802,
          0.37870800000000004,
          0.379614,
          0.38052,
          0.381426,
          0.382332,
          0.383238,
          0.384144,
          0.38505,
          0.385956,
          0.38686200000000004,
          0.387768,
          0.388674,
          0.38958,
          0.390486,
          0.391392,
          0.392298,
          0.393204,
          0.39411,
          0.39501600000000003,
          0.39592200000000005,
          0.396828,
          0.39773400000000003,
          0.39864,
          0.399546,
          0.400452,
          0.401358,
          0.402264,
          0.40317000000000003,
          0.40407600000000005,
          0.404982,
          0.405888,
          0.40679400000000004,
          0.4077,
          0.40860599999999997,
          0.409512,
          0.410418,
          0.411324,
          0.41223000000000004,
          0.413136,
          0.414042,
          0.41494800000000004,
          0.415854,
          0.41675999999999996,
          0.417666,
          0.418572,
          0.419478,
          0.42038400000000004,
          0.42129,
          0.422196,
          0.42310200000000003,
          0.42400800000000005,
          0.424914,
          0.42582,
          0.426726,
          0.427632,
          0.42853800000000003,
          0.429444,
          0.43035,
          0.43125600000000003,
          0.43216200000000005,
          0.43306800000000006,
          0.43397399999999997,
          0.43488,
          0.435786,
          0.436692,
          0.437598,
          0.438504,
          0.43941,
          0.44031600000000004,
          0.44122200000000006,
          0.44212799999999997,
          0.443034,
          0.44394,
          0.444846,
          0.44575200000000004,
          0.446658,
          0.447564,
          0.44847000000000004,
          0.44937600000000005,
          0.450282,
          0.451188,
          0.452094
         ],
         "xaxis": "x",
         "y": [
          15.168468245680756,
          15.181161965427634,
          15.173217801897529,
          15.144680831834165,
          15.095680387644286,
          15.026429125902917,
          14.937221531923662,
          14.828431875254413,
          14.70051163612222,
          14.553986427762908,
          14.389452444170823,
          14.207572467039588,
          14.009071469488916,
          13.794731857541072,
          13.565388393187726,
          13.321922845247329,
          13.065258416032338,
          12.796353993112053,
          12.516198276165236,
          12.225803829068479,
          11.926201106971662,
          11.61843250718911,
          11.303546491305628,
          10.982591823991417,
          10.656611971675753,
          10.326639701485384,
          9.993691917754873,
          9.65876477001187,
          9.322829062680327,
          8.986825992883746,
          8.651663238717012,
          8.318211416252224,
          7.98730091939391,
          7.659719152560827,
          7.336208162092306,
          7.017462668303691,
          6.704128496289962,
          6.396801399940573,
          6.0960262702165515,
          5.80229671558202,
          5.51605499960396,
          5.237692318156726,
          4.967549396407262,
          4.705917383822449,
          4.453039023840809,
          4.209110073584232,
          3.9742809480505707,
          3.748658562617483,
          3.532308347387853,
          3.3252564069069024,
          3.1274917990587503,
          2.9389689074882606,
          2.7596098826688853,
          2.589307127724714,
          2.4279258062900673,
          2.2753063510266047,
          2.1312669528893373,
          1.9956060128131368,
          1.8681045391541713,
          1.7485284759409554,
          1.6366309487436204,
          1.5321544167341954,
          1.434832721264874,
          1.3443930230146626,
          1.260557621431254,
          1.183045651807472,
          1.1115746568674783,
          1.0458620311849398,
          0.9856263381042368,
          0.9305885000788465,
          0.8804728644724183,
          0.8350081478844298,
          0.7939282629608042,
          0.7569730324307117,
          0.7238887957743283,
          0.6944289144752616,
          0.6683541822487323,
          0.6454331469672304,
          0.6254423512342242,
          0.6081664986899205,
          0.5933985531773796,
          0.5809397778597382,
          0.5705997212672291,
          0.5621961570734739,
          0.5555549841621851,
          0.5505100932551896,
          0.546903206038529,
          0.544583692352385,
          0.5434083706101628,
          0.5432412961888533,
          0.5439535420937572,
          0.545422975751445,
          0.5475340353318425,
          0.5501775085485077,
          0.5532503164407525,
          0.5566553042066302,
          0.5603010407362046,
          0.5641016280933479,
          0.5679765218150611,
          0.5718503625425101,
          0.5756528191700132,
          0.5793184433990991,
          0.5827865353157943,
          0.5860010193717716,
          0.5889103299444345,
          0.5914673054778481,
          0.5936290900656561,
          0.5953570412282774,
          0.5966166425590378,
          0.5973774198667617,
          0.5976128594239345,
          0.5973003269388423,
          0.5964209859049533,
          0.5949597140393375,
          0.5929050166021579,
          0.5902489354884657,
          0.5869869530996892,
          0.5831178901323808,
          0.5786437965636808,
          0.5735698352636206,
          0.5679041578213662,
          0.5616577723331528,
          0.5548444030611172,
          0.5474803420325421,
          0.5395842928052462,
          0.5311772067750524,
          0.5222821125434981,
          0.5129239389959023,
          0.5031293328603698,
          0.4929264716256438,
          0.48234487278855775,
          0.4714152004796168,
          0.4601690705768424,
          0.44863885546326265,
          0.43685748961197757,
          0.42485827719478636,
          0.41267470290593256,
          0.4003402471724779,
          0.38788820688758063,
          0.37535152275360606,
          0.3627626142595666,
          0.35015322324318277,
          0.33755426690308993,
          0.3249957010330935,
          0.3125063941491591,
          0.30011401307289487,
          0.287844920424,
          0.27572408436031093,
          0.26377500078917504,
          0.2520196281594819,
          0.24047833483127196,
          0.2291698589107174,
          0.21811128033389748,
          0.20731800488403304,
          0.19680375973503447,
          0.186580600030005,
          0.17665892592753854,
          0.16704750948190297,
          0.15775353066581238,
          0.14878262179684676,
          0.14013891959072738,
          0.13182512403666985,
          0.12384256327169943,
          0.11619126362186308,
          0.10887002397842975,
          0.1018764936857401,
          0.095207253134072,
          0.08885789627475607,
          0.08282311430542297,
          0.07709677980966523,
          0.07167203067696969,
          0.06654135317461055,
          0.061696663592521656,
          0.057129387934181514,
          0.05283053918047406,
          0.04879079170855957,
          0.04500055250331811,
          0.04145002885419004,
          0.03812929228469049,
          0.03502833851486059,
          0.03213714330801995,
          0.029445714101900663,
          0.026944137370233497,
          0.024622621703783064,
          0.02247153663946968,
          0.020481447302362496,
          0.01864314495786857,
          0.016947673600305694,
          0.015386352729209704,
          0.01395079648622801,
          0.01263292934336463,
          0.011424998547774526,
          0.010319583539414996,
          0.009309602565813205,
          0.00838831672320496,
          0.0075493316555571115,
          0.006786597142727859,
          0.0060944048064875845,
          0.005467384158555677,
          0.004900497208446138,
          0.0043890318409989144,
          0.003928594164226043,
          0.00351510001775585,
          0.0031447658209120977,
          0.002814098927522649,
          0.002519887642093818,
          0.0022591910391738606,
          0.002029328714718708,
          0.0018278705851904442,
          0.0016526268370852454,
          0.0015016381167013578,
          0.0013731660373019385,
          0.0012656840684748716,
          0.0011778688604962204,
          0.001108592044910694,
          0.001056912541384729,
          0.0010220693901886195,
          0.0010034751194397333,
          0.0010007096464990494,
          0.0010135147036616908,
          0.0010417887695215729,
          0.0010855824791189505,
          0.0011450944781980898,
          0.001220667679609078,
          0.0013127858730867345,
          0.0014220706333337866,
          0.0015492784655354909,
          0.0016952981221515517,
          0.0018611480200865541,
          0.002047973683156833,
          0.002257045131177938,
          0.0024897541340285624,
          0.0027476112467407863,
          0.0030322425400696636,
          0.003345385940152601,
          0.0036888870908309552,
          0.004064694653027041,
          0.004474854957296535,
          0.00492150592836601,
          0.005406870204161011,
          0.005933247376576857,
          0.006503005287084572,
          0.007118570317217005,
          0.0077824166220783995,
          0.008497054264260815,
          0.009265016215935677,
          0.01008884420839281,
          0.010971073420890803,
          0.011914216014301083,
          0.012920743529605535,
          0.013993068186746626,
          0.015133523135516816,
          0.016344341726979447,
          0.017627635891174078,
          0.018985373724411187,
          0.020419356407101213,
          0.021931194590585543,
          0.023522284408618015,
          0.025193783285737244,
          0.02694658573053309,
          0.028781299316477094,
          0.030698221066306965,
          0.03269731446765286,
          0.03477818735742978,
          0.03694007092022773,
          0.0391818000512898,
          0.0415017953374471,
          0.04389804690939477,
          0.046368100415762156,
          0.04890904536342336,
          0.05151750605931523,
          0.054189635376585006,
          0.05692111155220511,
          0.05970713820424291,
          0.06254244773485557,
          0.06542130825991968,
          0.06833753417813937,
          0.07128450046176213,
          0.07425516071790071,
          0.07724206903424982,
          0.08023740558603223,
          0.0832330059427399,
          0.0862203939740346,
          0.08919081821456099,
          0.0921352915078401,
          0.09504463371039726,
          0.0979095171993257,
          0.10072051489013063,
          0.10346815043745801,
          0.10614295025966845,
          0.10873549699968471,
          0.11123648400954134,
          0.11363677042503895,
          0.11592743638020707,
          0.11809983789924251,
          0.12014566099646434,
          0.12205697451282391,
          0.1238262812207498,
          0.1254465667376641,
          0.1269113458023592,
          0.12821470548748654,
          0.12935134494552825,
          0.13031661131455163,
          0.13110653144349582,
          0.13171783913432558,
          0.1321479976396886,
          0.13239521719923014,
          0.1324584674449282,
          0.1323374845551272,
          0.13203277308776204,
          0.13154560247494976,
          0.13087799821303087,
          0.13003272783362196,
          0.12901328179165572,
          0.12782384945510136,
          0.1264692904274849,
          0.12495510147789671,
          0.12328737939335738,
          0.12147278010474981,
          0.11951847446959392,
          0.11743210112239348,
          0.11522171682584195,
          0.11289574477361743,
          0.11046292130770187,
          0.10793224152004244,
          0.10531290420997458,
          0.10261425666519187,
          0.09984573972536999,
          0.09701683357402485,
          0.09413700468609444,
          0.09121565433643491,
          0.08826206904826307,
          0.08528537333103497,
          0.08229448502474647,
          0.07929807353269508,
          0.07630452118782954,
          0.0733218879595059,
          0.07035787966820996,
          0.06741981983619424,
          0.06451462526245115,
          0.06164878537150459,
          0.05882834534762963,
          0.056058893029676364,
          0.05334554950710949,
          0.050692963325498615,
          0.04810530817981023,
          0.045586283946711256,
          0.043139120882902234,
          0.04076658679540346,
          0.03847099697182077,
          0.03625422664398689,
          0.034117725747001997,
          0.03206253572755733,
          0.03008930815044068,
          0.02819832485016836,
          0.02638951937563124,
          0.0246624994792824,
          0.023016570408548914,
          0.021450758765571922,
          0.019963836711844558,
          0.018554346306558278,
          0.017220623781230994,
          0.01596082356820906,
          0.014772941916642131,
          0.013654839946273869,
          0.012604266006614207,
          0.011618877226524563,
          0.010696260156728919,
          0.009833950425051892,
          0.009029451341084665,
          0.008280251403319387,
          0.007583840677418309,
          0.006937726029059028,
          0.00633944520861327,
          0.005786579797676286,
          0.005276767039095768,
          0.004807710582599125,
          0.0043771901873489215,
          0.0039830704307481785,
          0.0036233084795660817,
          0.003295960984969829,
          0.0029991901673502635,
          0.0027312691599518236,
          0.0024905866823001313,
          0.002275651115315074,
          0.0020850940498549826,
          0.0019176733793222532,
          0.0017722760049327807,
          0.0016479202193780506,
          0.001543757830956632,
          0.0014590760858883161,
          0.0013932994415176171,
          0.001345991237530253,
          0.001316855306212627,
          0.0013057375562457257,
          0.0013126275576040112,
          0.0013376601478904333,
          0.0013811170729412696,
          0.001443428666840441,
          0.0015251755686527706,
          0.0016270904652793874,
          0.001750059841917472,
          0.0018951257137323064,
          0.0020634873045845183,
          0.002256502631065802,
          0.002475689942745813,
          0.0027227289624931843,
          0.002999461864073325,
          0.0033078939180187098,
          0.003650193731090059,
          0.004028692999574684,
          0.004445885692282215,
          0.004904426575476185,
          0.005407128989204082,
          0.005956961782637411,
          0.006557045315184883,
          0.007210646430372662,
          0.007921172310865027,
          0.008692163125595658,
          0.00952728338384932,
          0.010430311916330683,
          0.011405130409817945,
          0.012455710429957462,
          0.013586098876120662,
          0.014800401823025769,
          0.016102766715999934,
          0.01749736290029524,
          0.018988360479722504,
          0.020579907515954277,
          0.02227610559708707,
          0.024080983822322773,
          0.02599847126880907,
          0.028032368026590107,
          0.03018631490812169,
          0.032463761959666194,
          0.03486793592291911,
          0.037401806816184525,
          0.04006805382507187,
          0.042869030712773336,
          0.04580673097923475,
          0.048882753016670576,
          0.05209826552563981,
          0.05545397347098565,
          0.05895008487010893,
          0.0625862787169968,
          0.06636167435394798,
          0.07027480260874319,
          0.07432357901793155,
          0.07850527945672003,
          0.0828165184925141,
          0.08725323077232644,
          0.09181065574395939,
          0.09648332599699853,
          0.10126505949225294,
          0.10614895592731251,
          0.11112739746149156,
          0.11619205399567052,
          0.1213338931716158,
          0.12654319522144267,
          0.1318095727612773,
          0.13712199558411126,
          0.14246882046572532,
          0.14783782595470404,
          0.1532162520734432,
          0.15859084481202915,
          0.1639479052514839,
          0.16927334310754785,
          0.17455273444144387,
          0.17977138324042027,
          0.18491438652882083,
          0.18996670263047852,
          0.19491322216584875,
          0.19973884133300218,
          0.20442853699076796,
          0.2089674430354314,
          0.21334092753979128,
          0.21753467010539929,
          0.2215347388657641,
          0.22532766657037773,
          0.22890052517685786,
          0.2322409983813536,
          0.2353374515257284,
          0.23817899833390777,
          0.24075556394903802,
          0.24305794376768927,
          0.2450778575969654,
          0.24680799869488146,
          0.2482420772933316,
          0.24937485824609223,
          0.25020219249111786,
          0.250721042066437,
          0.2509294984717331,
          0.25082679422264226,
          0.2504133075013607,
          0.24969055986472316,
          0.2486612070288953,
          0.24732902280759847,
          0.24569887633775797,
          0.2437767027820237,
          0.24156946775119567
         ],
         "yaxis": "y"
        },
        {
         "legendgroup": "instrumentalness",
         "marker": {
          "color": "rgb(31, 119, 180)",
          "symbol": "line-ns-open"
         },
         "mode": "markers",
         "name": "instrumentalness",
         "showlegend": false,
         "type": "scatter",
         "x": [
          0,
          0.00000389,
          0,
          0.0000215,
          0.0000477,
          0,
          0.0000626,
          0,
          0,
          0.000117,
          0.000117,
          0.000117,
          0.000117,
          0.00786,
          0.0000467,
          0.00000604,
          0.0000465,
          0.00000154,
          0.0000844,
          0.00000204,
          0.0000127,
          0.000349,
          0.000268,
          0,
          0.0000996,
          0.00951,
          0.000452,
          0.0204,
          0.00134,
          0.103,
          0.0000318,
          0.112,
          0.437,
          0.000104,
          0.000715,
          0.00103,
          0.0753,
          0.453,
          0.00155,
          0,
          0.278,
          0.00041,
          0.000889,
          0,
          0,
          0.0000113,
          0.00000126,
          0,
          0.0000283,
          0.000144,
          0.00122,
          0.000263,
          0,
          0,
          0.012,
          0.012,
          0.0000778,
          0.0000778,
          0,
          0,
          0.0122,
          0.0122,
          0,
          0,
          0,
          0,
          0,
          0,
          0,
          0,
          0,
          0,
          0,
          0,
          0,
          0,
          0,
          0,
          0,
          0,
          0,
          0,
          0,
          0,
          0,
          0,
          0,
          0,
          0,
          0,
          0,
          0,
          0,
          0,
          0.0000482,
          0.0000482,
          0,
          0,
          0,
          0,
          0.0000159,
          0.0000159,
          0,
          0,
          0,
          0,
          0,
          0,
          0,
          0,
          0,
          0,
          0.102,
          0.102,
          0,
          0,
          0.0000121,
          0.0000121,
          0.0205,
          0.0205,
          0.000173,
          0.000173,
          0.00000399,
          0.00000399
         ],
         "xaxis": "x",
         "y": [
          "instrumentalness",
          "instrumentalness",
          "instrumentalness",
          "instrumentalness",
          "instrumentalness",
          "instrumentalness",
          "instrumentalness",
          "instrumentalness",
          "instrumentalness",
          "instrumentalness",
          "instrumentalness",
          "instrumentalness",
          "instrumentalness",
          "instrumentalness",
          "instrumentalness",
          "instrumentalness",
          "instrumentalness",
          "instrumentalness",
          "instrumentalness",
          "instrumentalness",
          "instrumentalness",
          "instrumentalness",
          "instrumentalness",
          "instrumentalness",
          "instrumentalness",
          "instrumentalness",
          "instrumentalness",
          "instrumentalness",
          "instrumentalness",
          "instrumentalness",
          "instrumentalness",
          "instrumentalness",
          "instrumentalness",
          "instrumentalness",
          "instrumentalness",
          "instrumentalness",
          "instrumentalness",
          "instrumentalness",
          "instrumentalness",
          "instrumentalness",
          "instrumentalness",
          "instrumentalness",
          "instrumentalness",
          "instrumentalness",
          "instrumentalness",
          "instrumentalness",
          "instrumentalness",
          "instrumentalness",
          "instrumentalness",
          "instrumentalness",
          "instrumentalness",
          "instrumentalness",
          "instrumentalness",
          "instrumentalness",
          "instrumentalness",
          "instrumentalness",
          "instrumentalness",
          "instrumentalness",
          "instrumentalness",
          "instrumentalness",
          "instrumentalness",
          "instrumentalness",
          "instrumentalness",
          "instrumentalness",
          "instrumentalness",
          "instrumentalness",
          "instrumentalness",
          "instrumentalness",
          "instrumentalness",
          "instrumentalness",
          "instrumentalness",
          "instrumentalness",
          "instrumentalness",
          "instrumentalness",
          "instrumentalness",
          "instrumentalness",
          "instrumentalness",
          "instrumentalness",
          "instrumentalness",
          "instrumentalness",
          "instrumentalness",
          "instrumentalness",
          "instrumentalness",
          "instrumentalness",
          "instrumentalness",
          "instrumentalness",
          "instrumentalness",
          "instrumentalness",
          "instrumentalness",
          "instrumentalness",
          "instrumentalness",
          "instrumentalness",
          "instrumentalness",
          "instrumentalness",
          "instrumentalness",
          "instrumentalness",
          "instrumentalness",
          "instrumentalness",
          "instrumentalness",
          "instrumentalness",
          "instrumentalness",
          "instrumentalness",
          "instrumentalness",
          "instrumentalness",
          "instrumentalness",
          "instrumentalness",
          "instrumentalness",
          "instrumentalness",
          "instrumentalness",
          "instrumentalness",
          "instrumentalness",
          "instrumentalness",
          "instrumentalness",
          "instrumentalness",
          "instrumentalness",
          "instrumentalness",
          "instrumentalness",
          "instrumentalness",
          "instrumentalness",
          "instrumentalness",
          "instrumentalness",
          "instrumentalness",
          "instrumentalness",
          "instrumentalness"
         ],
         "yaxis": "y2"
        }
       ],
       "layout": {
        "barmode": "overlay",
        "hovermode": "closest",
        "legend": {
         "traceorder": "reversed"
        },
        "template": {
         "data": {
          "bar": [
           {
            "error_x": {
             "color": "#2a3f5f"
            },
            "error_y": {
             "color": "#2a3f5f"
            },
            "marker": {
             "line": {
              "color": "#E5ECF6",
              "width": 0.5
             },
             "pattern": {
              "fillmode": "overlay",
              "size": 10,
              "solidity": 0.2
             }
            },
            "type": "bar"
           }
          ],
          "barpolar": [
           {
            "marker": {
             "line": {
              "color": "#E5ECF6",
              "width": 0.5
             },
             "pattern": {
              "fillmode": "overlay",
              "size": 10,
              "solidity": 0.2
             }
            },
            "type": "barpolar"
           }
          ],
          "carpet": [
           {
            "aaxis": {
             "endlinecolor": "#2a3f5f",
             "gridcolor": "white",
             "linecolor": "white",
             "minorgridcolor": "white",
             "startlinecolor": "#2a3f5f"
            },
            "baxis": {
             "endlinecolor": "#2a3f5f",
             "gridcolor": "white",
             "linecolor": "white",
             "minorgridcolor": "white",
             "startlinecolor": "#2a3f5f"
            },
            "type": "carpet"
           }
          ],
          "choropleth": [
           {
            "colorbar": {
             "outlinewidth": 0,
             "ticks": ""
            },
            "type": "choropleth"
           }
          ],
          "contour": [
           {
            "colorbar": {
             "outlinewidth": 0,
             "ticks": ""
            },
            "colorscale": [
             [
              0,
              "#0d0887"
             ],
             [
              0.1111111111111111,
              "#46039f"
             ],
             [
              0.2222222222222222,
              "#7201a8"
             ],
             [
              0.3333333333333333,
              "#9c179e"
             ],
             [
              0.4444444444444444,
              "#bd3786"
             ],
             [
              0.5555555555555556,
              "#d8576b"
             ],
             [
              0.6666666666666666,
              "#ed7953"
             ],
             [
              0.7777777777777778,
              "#fb9f3a"
             ],
             [
              0.8888888888888888,
              "#fdca26"
             ],
             [
              1,
              "#f0f921"
             ]
            ],
            "type": "contour"
           }
          ],
          "contourcarpet": [
           {
            "colorbar": {
             "outlinewidth": 0,
             "ticks": ""
            },
            "type": "contourcarpet"
           }
          ],
          "heatmap": [
           {
            "colorbar": {
             "outlinewidth": 0,
             "ticks": ""
            },
            "colorscale": [
             [
              0,
              "#0d0887"
             ],
             [
              0.1111111111111111,
              "#46039f"
             ],
             [
              0.2222222222222222,
              "#7201a8"
             ],
             [
              0.3333333333333333,
              "#9c179e"
             ],
             [
              0.4444444444444444,
              "#bd3786"
             ],
             [
              0.5555555555555556,
              "#d8576b"
             ],
             [
              0.6666666666666666,
              "#ed7953"
             ],
             [
              0.7777777777777778,
              "#fb9f3a"
             ],
             [
              0.8888888888888888,
              "#fdca26"
             ],
             [
              1,
              "#f0f921"
             ]
            ],
            "type": "heatmap"
           }
          ],
          "heatmapgl": [
           {
            "colorbar": {
             "outlinewidth": 0,
             "ticks": ""
            },
            "colorscale": [
             [
              0,
              "#0d0887"
             ],
             [
              0.1111111111111111,
              "#46039f"
             ],
             [
              0.2222222222222222,
              "#7201a8"
             ],
             [
              0.3333333333333333,
              "#9c179e"
             ],
             [
              0.4444444444444444,
              "#bd3786"
             ],
             [
              0.5555555555555556,
              "#d8576b"
             ],
             [
              0.6666666666666666,
              "#ed7953"
             ],
             [
              0.7777777777777778,
              "#fb9f3a"
             ],
             [
              0.8888888888888888,
              "#fdca26"
             ],
             [
              1,
              "#f0f921"
             ]
            ],
            "type": "heatmapgl"
           }
          ],
          "histogram": [
           {
            "marker": {
             "pattern": {
              "fillmode": "overlay",
              "size": 10,
              "solidity": 0.2
             }
            },
            "type": "histogram"
           }
          ],
          "histogram2d": [
           {
            "colorbar": {
             "outlinewidth": 0,
             "ticks": ""
            },
            "colorscale": [
             [
              0,
              "#0d0887"
             ],
             [
              0.1111111111111111,
              "#46039f"
             ],
             [
              0.2222222222222222,
              "#7201a8"
             ],
             [
              0.3333333333333333,
              "#9c179e"
             ],
             [
              0.4444444444444444,
              "#bd3786"
             ],
             [
              0.5555555555555556,
              "#d8576b"
             ],
             [
              0.6666666666666666,
              "#ed7953"
             ],
             [
              0.7777777777777778,
              "#fb9f3a"
             ],
             [
              0.8888888888888888,
              "#fdca26"
             ],
             [
              1,
              "#f0f921"
             ]
            ],
            "type": "histogram2d"
           }
          ],
          "histogram2dcontour": [
           {
            "colorbar": {
             "outlinewidth": 0,
             "ticks": ""
            },
            "colorscale": [
             [
              0,
              "#0d0887"
             ],
             [
              0.1111111111111111,
              "#46039f"
             ],
             [
              0.2222222222222222,
              "#7201a8"
             ],
             [
              0.3333333333333333,
              "#9c179e"
             ],
             [
              0.4444444444444444,
              "#bd3786"
             ],
             [
              0.5555555555555556,
              "#d8576b"
             ],
             [
              0.6666666666666666,
              "#ed7953"
             ],
             [
              0.7777777777777778,
              "#fb9f3a"
             ],
             [
              0.8888888888888888,
              "#fdca26"
             ],
             [
              1,
              "#f0f921"
             ]
            ],
            "type": "histogram2dcontour"
           }
          ],
          "mesh3d": [
           {
            "colorbar": {
             "outlinewidth": 0,
             "ticks": ""
            },
            "type": "mesh3d"
           }
          ],
          "parcoords": [
           {
            "line": {
             "colorbar": {
              "outlinewidth": 0,
              "ticks": ""
             }
            },
            "type": "parcoords"
           }
          ],
          "pie": [
           {
            "automargin": true,
            "type": "pie"
           }
          ],
          "scatter": [
           {
            "fillpattern": {
             "fillmode": "overlay",
             "size": 10,
             "solidity": 0.2
            },
            "type": "scatter"
           }
          ],
          "scatter3d": [
           {
            "line": {
             "colorbar": {
              "outlinewidth": 0,
              "ticks": ""
             }
            },
            "marker": {
             "colorbar": {
              "outlinewidth": 0,
              "ticks": ""
             }
            },
            "type": "scatter3d"
           }
          ],
          "scattercarpet": [
           {
            "marker": {
             "colorbar": {
              "outlinewidth": 0,
              "ticks": ""
             }
            },
            "type": "scattercarpet"
           }
          ],
          "scattergeo": [
           {
            "marker": {
             "colorbar": {
              "outlinewidth": 0,
              "ticks": ""
             }
            },
            "type": "scattergeo"
           }
          ],
          "scattergl": [
           {
            "marker": {
             "colorbar": {
              "outlinewidth": 0,
              "ticks": ""
             }
            },
            "type": "scattergl"
           }
          ],
          "scattermapbox": [
           {
            "marker": {
             "colorbar": {
              "outlinewidth": 0,
              "ticks": ""
             }
            },
            "type": "scattermapbox"
           }
          ],
          "scatterpolar": [
           {
            "marker": {
             "colorbar": {
              "outlinewidth": 0,
              "ticks": ""
             }
            },
            "type": "scatterpolar"
           }
          ],
          "scatterpolargl": [
           {
            "marker": {
             "colorbar": {
              "outlinewidth": 0,
              "ticks": ""
             }
            },
            "type": "scatterpolargl"
           }
          ],
          "scatterternary": [
           {
            "marker": {
             "colorbar": {
              "outlinewidth": 0,
              "ticks": ""
             }
            },
            "type": "scatterternary"
           }
          ],
          "surface": [
           {
            "colorbar": {
             "outlinewidth": 0,
             "ticks": ""
            },
            "colorscale": [
             [
              0,
              "#0d0887"
             ],
             [
              0.1111111111111111,
              "#46039f"
             ],
             [
              0.2222222222222222,
              "#7201a8"
             ],
             [
              0.3333333333333333,
              "#9c179e"
             ],
             [
              0.4444444444444444,
              "#bd3786"
             ],
             [
              0.5555555555555556,
              "#d8576b"
             ],
             [
              0.6666666666666666,
              "#ed7953"
             ],
             [
              0.7777777777777778,
              "#fb9f3a"
             ],
             [
              0.8888888888888888,
              "#fdca26"
             ],
             [
              1,
              "#f0f921"
             ]
            ],
            "type": "surface"
           }
          ],
          "table": [
           {
            "cells": {
             "fill": {
              "color": "#EBF0F8"
             },
             "line": {
              "color": "white"
             }
            },
            "header": {
             "fill": {
              "color": "#C8D4E3"
             },
             "line": {
              "color": "white"
             }
            },
            "type": "table"
           }
          ]
         },
         "layout": {
          "annotationdefaults": {
           "arrowcolor": "#2a3f5f",
           "arrowhead": 0,
           "arrowwidth": 1
          },
          "autotypenumbers": "strict",
          "coloraxis": {
           "colorbar": {
            "outlinewidth": 0,
            "ticks": ""
           }
          },
          "colorscale": {
           "diverging": [
            [
             0,
             "#8e0152"
            ],
            [
             0.1,
             "#c51b7d"
            ],
            [
             0.2,
             "#de77ae"
            ],
            [
             0.3,
             "#f1b6da"
            ],
            [
             0.4,
             "#fde0ef"
            ],
            [
             0.5,
             "#f7f7f7"
            ],
            [
             0.6,
             "#e6f5d0"
            ],
            [
             0.7,
             "#b8e186"
            ],
            [
             0.8,
             "#7fbc41"
            ],
            [
             0.9,
             "#4d9221"
            ],
            [
             1,
             "#276419"
            ]
           ],
           "sequential": [
            [
             0,
             "#0d0887"
            ],
            [
             0.1111111111111111,
             "#46039f"
            ],
            [
             0.2222222222222222,
             "#7201a8"
            ],
            [
             0.3333333333333333,
             "#9c179e"
            ],
            [
             0.4444444444444444,
             "#bd3786"
            ],
            [
             0.5555555555555556,
             "#d8576b"
            ],
            [
             0.6666666666666666,
             "#ed7953"
            ],
            [
             0.7777777777777778,
             "#fb9f3a"
            ],
            [
             0.8888888888888888,
             "#fdca26"
            ],
            [
             1,
             "#f0f921"
            ]
           ],
           "sequentialminus": [
            [
             0,
             "#0d0887"
            ],
            [
             0.1111111111111111,
             "#46039f"
            ],
            [
             0.2222222222222222,
             "#7201a8"
            ],
            [
             0.3333333333333333,
             "#9c179e"
            ],
            [
             0.4444444444444444,
             "#bd3786"
            ],
            [
             0.5555555555555556,
             "#d8576b"
            ],
            [
             0.6666666666666666,
             "#ed7953"
            ],
            [
             0.7777777777777778,
             "#fb9f3a"
            ],
            [
             0.8888888888888888,
             "#fdca26"
            ],
            [
             1,
             "#f0f921"
            ]
           ]
          },
          "colorway": [
           "#636efa",
           "#EF553B",
           "#00cc96",
           "#ab63fa",
           "#FFA15A",
           "#19d3f3",
           "#FF6692",
           "#B6E880",
           "#FF97FF",
           "#FECB52"
          ],
          "font": {
           "color": "#2a3f5f"
          },
          "geo": {
           "bgcolor": "white",
           "lakecolor": "white",
           "landcolor": "#E5ECF6",
           "showlakes": true,
           "showland": true,
           "subunitcolor": "white"
          },
          "hoverlabel": {
           "align": "left"
          },
          "hovermode": "closest",
          "mapbox": {
           "style": "light"
          },
          "paper_bgcolor": "white",
          "plot_bgcolor": "#E5ECF6",
          "polar": {
           "angularaxis": {
            "gridcolor": "white",
            "linecolor": "white",
            "ticks": ""
           },
           "bgcolor": "#E5ECF6",
           "radialaxis": {
            "gridcolor": "white",
            "linecolor": "white",
            "ticks": ""
           }
          },
          "scene": {
           "xaxis": {
            "backgroundcolor": "#E5ECF6",
            "gridcolor": "white",
            "gridwidth": 2,
            "linecolor": "white",
            "showbackground": true,
            "ticks": "",
            "zerolinecolor": "white"
           },
           "yaxis": {
            "backgroundcolor": "#E5ECF6",
            "gridcolor": "white",
            "gridwidth": 2,
            "linecolor": "white",
            "showbackground": true,
            "ticks": "",
            "zerolinecolor": "white"
           },
           "zaxis": {
            "backgroundcolor": "#E5ECF6",
            "gridcolor": "white",
            "gridwidth": 2,
            "linecolor": "white",
            "showbackground": true,
            "ticks": "",
            "zerolinecolor": "white"
           }
          },
          "shapedefaults": {
           "line": {
            "color": "#2a3f5f"
           }
          },
          "ternary": {
           "aaxis": {
            "gridcolor": "white",
            "linecolor": "white",
            "ticks": ""
           },
           "baxis": {
            "gridcolor": "white",
            "linecolor": "white",
            "ticks": ""
           },
           "bgcolor": "#E5ECF6",
           "caxis": {
            "gridcolor": "white",
            "linecolor": "white",
            "ticks": ""
           }
          },
          "title": {
           "x": 0.05
          },
          "xaxis": {
           "automargin": true,
           "gridcolor": "white",
           "linecolor": "white",
           "ticks": "",
           "title": {
            "standoff": 15
           },
           "zerolinecolor": "white",
           "zerolinewidth": 2
          },
          "yaxis": {
           "automargin": true,
           "gridcolor": "white",
           "linecolor": "white",
           "ticks": "",
           "title": {
            "standoff": 15
           },
           "zerolinecolor": "white",
           "zerolinewidth": 2
          }
         }
        },
        "xaxis": {
         "anchor": "y2",
         "domain": [
          0,
          1
         ],
         "zeroline": false
        },
        "yaxis": {
         "anchor": "free",
         "domain": [
          0.35,
          1
         ],
         "position": 0
        },
        "yaxis2": {
         "anchor": "x",
         "domain": [
          0,
          0.25
         ],
         "dtick": 1,
         "showticklabels": false
        }
       }
      }
     },
     "metadata": {},
     "output_type": "display_data"
    }
   ],
   "source": [
    "fig = ff.create_distplot([df[\"instrumentalness\"]], [\"instrumentalness\"], bin_size=.1)\n",
    "fig.show()"
   ]
  },
  {
   "cell_type": "markdown",
   "metadata": {},
   "source": [
    "Tempo"
   ]
  },
  {
   "cell_type": "code",
   "execution_count": 9,
   "metadata": {},
   "outputs": [
    {
     "data": {
      "application/vnd.plotly.v1+json": {
       "config": {
        "plotlyServerURL": "https://plot.ly"
       },
       "data": [
        {
         "alignmentgroup": "True",
         "bingroup": "x",
         "hovertemplate": "tempo=%{x}<br>count=%{y}<extra></extra>",
         "legendgroup": "",
         "marker": {
          "color": "#636efa",
          "pattern": {
           "shape": ""
          }
         },
         "name": "",
         "nbinsx": 10,
         "offsetgroup": "",
         "orientation": "v",
         "showlegend": false,
         "type": "histogram",
         "x": [
          141.872,
          175.891,
          100.016,
          173.863,
          120.02,
          117.009,
          108.047,
          131,
          90.053,
          104.007,
          104.007,
          104.007,
          104.007,
          134.94,
          160.074,
          85.465,
          139.038,
          142.477,
          120.027,
          125.057,
          97.003,
          153.908,
          137.968,
          120.932,
          170.411,
          110.754,
          95.012,
          160.892,
          112.002,
          97.907,
          112.071,
          85.537,
          132.301,
          91.977,
          116.794,
          161.292,
          159.39,
          106.612,
          165.182,
          130.014,
          119.729,
          106.719,
          150.1,
          146.478,
          169.252,
          92.004,
          179.949,
          130.189,
          83.354,
          112.056,
          82.932,
          85.03,
          112.215,
          112.215,
          143.789,
          143.789,
          140.266,
          140.266,
          143.327,
          143.327,
          71.573,
          71.573,
          103.183,
          103.183,
          97.094,
          97.094,
          127.83,
          127.83,
          127.83,
          127.83,
          127.83,
          127.83,
          127.83,
          127.83,
          160.05,
          160.05,
          96.976,
          96.976,
          98.008,
          98.008,
          109.889,
          109.889,
          131.981,
          131.981,
          155.033,
          155.033,
          143.991,
          143.991,
          132.046,
          132.046,
          94.055,
          94.055,
          135.998,
          135.998,
          150.027,
          150.027,
          90.909,
          90.909,
          107.992,
          107.992,
          105.046,
          105.046,
          164.89,
          164.89,
          132.002,
          132.002,
          110.029,
          110.029,
          122.992,
          122.992,
          129.054,
          129.054,
          130.106,
          130.106,
          141.845,
          141.845,
          94.584,
          94.584,
          122.979,
          122.979,
          116.761,
          116.761,
          134.974,
          134.974
         ],
         "xaxis": "x",
         "yaxis": "y"
        },
        {
         "alignmentgroup": "True",
         "hovertemplate": "tempo=%{x}<extra></extra>",
         "legendgroup": "",
         "marker": {
          "color": "#636efa"
         },
         "name": "",
         "offsetgroup": "",
         "scalegroup": "x",
         "showlegend": false,
         "type": "violin",
         "x": [
          141.872,
          175.891,
          100.016,
          173.863,
          120.02,
          117.009,
          108.047,
          131,
          90.053,
          104.007,
          104.007,
          104.007,
          104.007,
          134.94,
          160.074,
          85.465,
          139.038,
          142.477,
          120.027,
          125.057,
          97.003,
          153.908,
          137.968,
          120.932,
          170.411,
          110.754,
          95.012,
          160.892,
          112.002,
          97.907,
          112.071,
          85.537,
          132.301,
          91.977,
          116.794,
          161.292,
          159.39,
          106.612,
          165.182,
          130.014,
          119.729,
          106.719,
          150.1,
          146.478,
          169.252,
          92.004,
          179.949,
          130.189,
          83.354,
          112.056,
          82.932,
          85.03,
          112.215,
          112.215,
          143.789,
          143.789,
          140.266,
          140.266,
          143.327,
          143.327,
          71.573,
          71.573,
          103.183,
          103.183,
          97.094,
          97.094,
          127.83,
          127.83,
          127.83,
          127.83,
          127.83,
          127.83,
          127.83,
          127.83,
          160.05,
          160.05,
          96.976,
          96.976,
          98.008,
          98.008,
          109.889,
          109.889,
          131.981,
          131.981,
          155.033,
          155.033,
          143.991,
          143.991,
          132.046,
          132.046,
          94.055,
          94.055,
          135.998,
          135.998,
          150.027,
          150.027,
          90.909,
          90.909,
          107.992,
          107.992,
          105.046,
          105.046,
          164.89,
          164.89,
          132.002,
          132.002,
          110.029,
          110.029,
          122.992,
          122.992,
          129.054,
          129.054,
          130.106,
          130.106,
          141.845,
          141.845,
          94.584,
          94.584,
          122.979,
          122.979,
          116.761,
          116.761,
          134.974,
          134.974
         ],
         "xaxis": "x2",
         "yaxis": "y2"
        }
       ],
       "layout": {
        "barmode": "relative",
        "legend": {
         "tracegroupgap": 0
        },
        "margin": {
         "t": 60
        },
        "template": {
         "data": {
          "bar": [
           {
            "error_x": {
             "color": "#2a3f5f"
            },
            "error_y": {
             "color": "#2a3f5f"
            },
            "marker": {
             "line": {
              "color": "#E5ECF6",
              "width": 0.5
             },
             "pattern": {
              "fillmode": "overlay",
              "size": 10,
              "solidity": 0.2
             }
            },
            "type": "bar"
           }
          ],
          "barpolar": [
           {
            "marker": {
             "line": {
              "color": "#E5ECF6",
              "width": 0.5
             },
             "pattern": {
              "fillmode": "overlay",
              "size": 10,
              "solidity": 0.2
             }
            },
            "type": "barpolar"
           }
          ],
          "carpet": [
           {
            "aaxis": {
             "endlinecolor": "#2a3f5f",
             "gridcolor": "white",
             "linecolor": "white",
             "minorgridcolor": "white",
             "startlinecolor": "#2a3f5f"
            },
            "baxis": {
             "endlinecolor": "#2a3f5f",
             "gridcolor": "white",
             "linecolor": "white",
             "minorgridcolor": "white",
             "startlinecolor": "#2a3f5f"
            },
            "type": "carpet"
           }
          ],
          "choropleth": [
           {
            "colorbar": {
             "outlinewidth": 0,
             "ticks": ""
            },
            "type": "choropleth"
           }
          ],
          "contour": [
           {
            "colorbar": {
             "outlinewidth": 0,
             "ticks": ""
            },
            "colorscale": [
             [
              0,
              "#0d0887"
             ],
             [
              0.1111111111111111,
              "#46039f"
             ],
             [
              0.2222222222222222,
              "#7201a8"
             ],
             [
              0.3333333333333333,
              "#9c179e"
             ],
             [
              0.4444444444444444,
              "#bd3786"
             ],
             [
              0.5555555555555556,
              "#d8576b"
             ],
             [
              0.6666666666666666,
              "#ed7953"
             ],
             [
              0.7777777777777778,
              "#fb9f3a"
             ],
             [
              0.8888888888888888,
              "#fdca26"
             ],
             [
              1,
              "#f0f921"
             ]
            ],
            "type": "contour"
           }
          ],
          "contourcarpet": [
           {
            "colorbar": {
             "outlinewidth": 0,
             "ticks": ""
            },
            "type": "contourcarpet"
           }
          ],
          "heatmap": [
           {
            "colorbar": {
             "outlinewidth": 0,
             "ticks": ""
            },
            "colorscale": [
             [
              0,
              "#0d0887"
             ],
             [
              0.1111111111111111,
              "#46039f"
             ],
             [
              0.2222222222222222,
              "#7201a8"
             ],
             [
              0.3333333333333333,
              "#9c179e"
             ],
             [
              0.4444444444444444,
              "#bd3786"
             ],
             [
              0.5555555555555556,
              "#d8576b"
             ],
             [
              0.6666666666666666,
              "#ed7953"
             ],
             [
              0.7777777777777778,
              "#fb9f3a"
             ],
             [
              0.8888888888888888,
              "#fdca26"
             ],
             [
              1,
              "#f0f921"
             ]
            ],
            "type": "heatmap"
           }
          ],
          "heatmapgl": [
           {
            "colorbar": {
             "outlinewidth": 0,
             "ticks": ""
            },
            "colorscale": [
             [
              0,
              "#0d0887"
             ],
             [
              0.1111111111111111,
              "#46039f"
             ],
             [
              0.2222222222222222,
              "#7201a8"
             ],
             [
              0.3333333333333333,
              "#9c179e"
             ],
             [
              0.4444444444444444,
              "#bd3786"
             ],
             [
              0.5555555555555556,
              "#d8576b"
             ],
             [
              0.6666666666666666,
              "#ed7953"
             ],
             [
              0.7777777777777778,
              "#fb9f3a"
             ],
             [
              0.8888888888888888,
              "#fdca26"
             ],
             [
              1,
              "#f0f921"
             ]
            ],
            "type": "heatmapgl"
           }
          ],
          "histogram": [
           {
            "marker": {
             "pattern": {
              "fillmode": "overlay",
              "size": 10,
              "solidity": 0.2
             }
            },
            "type": "histogram"
           }
          ],
          "histogram2d": [
           {
            "colorbar": {
             "outlinewidth": 0,
             "ticks": ""
            },
            "colorscale": [
             [
              0,
              "#0d0887"
             ],
             [
              0.1111111111111111,
              "#46039f"
             ],
             [
              0.2222222222222222,
              "#7201a8"
             ],
             [
              0.3333333333333333,
              "#9c179e"
             ],
             [
              0.4444444444444444,
              "#bd3786"
             ],
             [
              0.5555555555555556,
              "#d8576b"
             ],
             [
              0.6666666666666666,
              "#ed7953"
             ],
             [
              0.7777777777777778,
              "#fb9f3a"
             ],
             [
              0.8888888888888888,
              "#fdca26"
             ],
             [
              1,
              "#f0f921"
             ]
            ],
            "type": "histogram2d"
           }
          ],
          "histogram2dcontour": [
           {
            "colorbar": {
             "outlinewidth": 0,
             "ticks": ""
            },
            "colorscale": [
             [
              0,
              "#0d0887"
             ],
             [
              0.1111111111111111,
              "#46039f"
             ],
             [
              0.2222222222222222,
              "#7201a8"
             ],
             [
              0.3333333333333333,
              "#9c179e"
             ],
             [
              0.4444444444444444,
              "#bd3786"
             ],
             [
              0.5555555555555556,
              "#d8576b"
             ],
             [
              0.6666666666666666,
              "#ed7953"
             ],
             [
              0.7777777777777778,
              "#fb9f3a"
             ],
             [
              0.8888888888888888,
              "#fdca26"
             ],
             [
              1,
              "#f0f921"
             ]
            ],
            "type": "histogram2dcontour"
           }
          ],
          "mesh3d": [
           {
            "colorbar": {
             "outlinewidth": 0,
             "ticks": ""
            },
            "type": "mesh3d"
           }
          ],
          "parcoords": [
           {
            "line": {
             "colorbar": {
              "outlinewidth": 0,
              "ticks": ""
             }
            },
            "type": "parcoords"
           }
          ],
          "pie": [
           {
            "automargin": true,
            "type": "pie"
           }
          ],
          "scatter": [
           {
            "fillpattern": {
             "fillmode": "overlay",
             "size": 10,
             "solidity": 0.2
            },
            "type": "scatter"
           }
          ],
          "scatter3d": [
           {
            "line": {
             "colorbar": {
              "outlinewidth": 0,
              "ticks": ""
             }
            },
            "marker": {
             "colorbar": {
              "outlinewidth": 0,
              "ticks": ""
             }
            },
            "type": "scatter3d"
           }
          ],
          "scattercarpet": [
           {
            "marker": {
             "colorbar": {
              "outlinewidth": 0,
              "ticks": ""
             }
            },
            "type": "scattercarpet"
           }
          ],
          "scattergeo": [
           {
            "marker": {
             "colorbar": {
              "outlinewidth": 0,
              "ticks": ""
             }
            },
            "type": "scattergeo"
           }
          ],
          "scattergl": [
           {
            "marker": {
             "colorbar": {
              "outlinewidth": 0,
              "ticks": ""
             }
            },
            "type": "scattergl"
           }
          ],
          "scattermapbox": [
           {
            "marker": {
             "colorbar": {
              "outlinewidth": 0,
              "ticks": ""
             }
            },
            "type": "scattermapbox"
           }
          ],
          "scatterpolar": [
           {
            "marker": {
             "colorbar": {
              "outlinewidth": 0,
              "ticks": ""
             }
            },
            "type": "scatterpolar"
           }
          ],
          "scatterpolargl": [
           {
            "marker": {
             "colorbar": {
              "outlinewidth": 0,
              "ticks": ""
             }
            },
            "type": "scatterpolargl"
           }
          ],
          "scatterternary": [
           {
            "marker": {
             "colorbar": {
              "outlinewidth": 0,
              "ticks": ""
             }
            },
            "type": "scatterternary"
           }
          ],
          "surface": [
           {
            "colorbar": {
             "outlinewidth": 0,
             "ticks": ""
            },
            "colorscale": [
             [
              0,
              "#0d0887"
             ],
             [
              0.1111111111111111,
              "#46039f"
             ],
             [
              0.2222222222222222,
              "#7201a8"
             ],
             [
              0.3333333333333333,
              "#9c179e"
             ],
             [
              0.4444444444444444,
              "#bd3786"
             ],
             [
              0.5555555555555556,
              "#d8576b"
             ],
             [
              0.6666666666666666,
              "#ed7953"
             ],
             [
              0.7777777777777778,
              "#fb9f3a"
             ],
             [
              0.8888888888888888,
              "#fdca26"
             ],
             [
              1,
              "#f0f921"
             ]
            ],
            "type": "surface"
           }
          ],
          "table": [
           {
            "cells": {
             "fill": {
              "color": "#EBF0F8"
             },
             "line": {
              "color": "white"
             }
            },
            "header": {
             "fill": {
              "color": "#C8D4E3"
             },
             "line": {
              "color": "white"
             }
            },
            "type": "table"
           }
          ]
         },
         "layout": {
          "annotationdefaults": {
           "arrowcolor": "#2a3f5f",
           "arrowhead": 0,
           "arrowwidth": 1
          },
          "autotypenumbers": "strict",
          "coloraxis": {
           "colorbar": {
            "outlinewidth": 0,
            "ticks": ""
           }
          },
          "colorscale": {
           "diverging": [
            [
             0,
             "#8e0152"
            ],
            [
             0.1,
             "#c51b7d"
            ],
            [
             0.2,
             "#de77ae"
            ],
            [
             0.3,
             "#f1b6da"
            ],
            [
             0.4,
             "#fde0ef"
            ],
            [
             0.5,
             "#f7f7f7"
            ],
            [
             0.6,
             "#e6f5d0"
            ],
            [
             0.7,
             "#b8e186"
            ],
            [
             0.8,
             "#7fbc41"
            ],
            [
             0.9,
             "#4d9221"
            ],
            [
             1,
             "#276419"
            ]
           ],
           "sequential": [
            [
             0,
             "#0d0887"
            ],
            [
             0.1111111111111111,
             "#46039f"
            ],
            [
             0.2222222222222222,
             "#7201a8"
            ],
            [
             0.3333333333333333,
             "#9c179e"
            ],
            [
             0.4444444444444444,
             "#bd3786"
            ],
            [
             0.5555555555555556,
             "#d8576b"
            ],
            [
             0.6666666666666666,
             "#ed7953"
            ],
            [
             0.7777777777777778,
             "#fb9f3a"
            ],
            [
             0.8888888888888888,
             "#fdca26"
            ],
            [
             1,
             "#f0f921"
            ]
           ],
           "sequentialminus": [
            [
             0,
             "#0d0887"
            ],
            [
             0.1111111111111111,
             "#46039f"
            ],
            [
             0.2222222222222222,
             "#7201a8"
            ],
            [
             0.3333333333333333,
             "#9c179e"
            ],
            [
             0.4444444444444444,
             "#bd3786"
            ],
            [
             0.5555555555555556,
             "#d8576b"
            ],
            [
             0.6666666666666666,
             "#ed7953"
            ],
            [
             0.7777777777777778,
             "#fb9f3a"
            ],
            [
             0.8888888888888888,
             "#fdca26"
            ],
            [
             1,
             "#f0f921"
            ]
           ]
          },
          "colorway": [
           "#636efa",
           "#EF553B",
           "#00cc96",
           "#ab63fa",
           "#FFA15A",
           "#19d3f3",
           "#FF6692",
           "#B6E880",
           "#FF97FF",
           "#FECB52"
          ],
          "font": {
           "color": "#2a3f5f"
          },
          "geo": {
           "bgcolor": "white",
           "lakecolor": "white",
           "landcolor": "#E5ECF6",
           "showlakes": true,
           "showland": true,
           "subunitcolor": "white"
          },
          "hoverlabel": {
           "align": "left"
          },
          "hovermode": "closest",
          "mapbox": {
           "style": "light"
          },
          "paper_bgcolor": "white",
          "plot_bgcolor": "#E5ECF6",
          "polar": {
           "angularaxis": {
            "gridcolor": "white",
            "linecolor": "white",
            "ticks": ""
           },
           "bgcolor": "#E5ECF6",
           "radialaxis": {
            "gridcolor": "white",
            "linecolor": "white",
            "ticks": ""
           }
          },
          "scene": {
           "xaxis": {
            "backgroundcolor": "#E5ECF6",
            "gridcolor": "white",
            "gridwidth": 2,
            "linecolor": "white",
            "showbackground": true,
            "ticks": "",
            "zerolinecolor": "white"
           },
           "yaxis": {
            "backgroundcolor": "#E5ECF6",
            "gridcolor": "white",
            "gridwidth": 2,
            "linecolor": "white",
            "showbackground": true,
            "ticks": "",
            "zerolinecolor": "white"
           },
           "zaxis": {
            "backgroundcolor": "#E5ECF6",
            "gridcolor": "white",
            "gridwidth": 2,
            "linecolor": "white",
            "showbackground": true,
            "ticks": "",
            "zerolinecolor": "white"
           }
          },
          "shapedefaults": {
           "line": {
            "color": "#2a3f5f"
           }
          },
          "ternary": {
           "aaxis": {
            "gridcolor": "white",
            "linecolor": "white",
            "ticks": ""
           },
           "baxis": {
            "gridcolor": "white",
            "linecolor": "white",
            "ticks": ""
           },
           "bgcolor": "#E5ECF6",
           "caxis": {
            "gridcolor": "white",
            "linecolor": "white",
            "ticks": ""
           }
          },
          "title": {
           "x": 0.05
          },
          "xaxis": {
           "automargin": true,
           "gridcolor": "white",
           "linecolor": "white",
           "ticks": "",
           "title": {
            "standoff": 15
           },
           "zerolinecolor": "white",
           "zerolinewidth": 2
          },
          "yaxis": {
           "automargin": true,
           "gridcolor": "white",
           "linecolor": "white",
           "ticks": "",
           "title": {
            "standoff": 15
           },
           "zerolinecolor": "white",
           "zerolinewidth": 2
          }
         }
        },
        "xaxis": {
         "anchor": "y",
         "domain": [
          0,
          1
         ],
         "title": {
          "text": "tempo"
         }
        },
        "xaxis2": {
         "anchor": "y2",
         "domain": [
          0,
          1
         ],
         "matches": "x",
         "showgrid": true,
         "showticklabels": false
        },
        "yaxis": {
         "anchor": "x",
         "domain": [
          0,
          0.8316
         ],
         "title": {
          "text": "count"
         }
        },
        "yaxis2": {
         "anchor": "x2",
         "domain": [
          0.8416,
          1
         ],
         "matches": "y2",
         "showgrid": false,
         "showline": false,
         "showticklabels": false,
         "ticks": ""
        }
       }
      }
     },
     "metadata": {},
     "output_type": "display_data"
    }
   ],
   "source": [
    "fig = px.histogram(df, x=\"tempo\", nbins=10, marginal=\"violin\")\n",
    "fig.show()\n"
   ]
  },
  {
   "cell_type": "code",
   "execution_count": 14,
   "metadata": {},
   "outputs": [
    {
     "data": {
      "application/vnd.plotly.v1+json": {
       "config": {
        "plotlyServerURL": "https://plot.ly"
       },
       "data": [
        {
         "autobinx": false,
         "histnorm": "probability density",
         "legendgroup": "tempo",
         "marker": {
          "color": "rgb(31, 119, 180)"
         },
         "name": "tempo",
         "opacity": 0.7,
         "type": "histogram",
         "x": [
          141.872,
          175.891,
          100.016,
          173.863,
          120.02,
          117.009,
          108.047,
          131,
          90.053,
          104.007,
          104.007,
          104.007,
          104.007,
          134.94,
          160.074,
          85.465,
          139.038,
          142.477,
          120.027,
          125.057,
          97.003,
          153.908,
          137.968,
          120.932,
          170.411,
          110.754,
          95.012,
          160.892,
          112.002,
          97.907,
          112.071,
          85.537,
          132.301,
          91.977,
          116.794,
          161.292,
          159.39,
          106.612,
          165.182,
          130.014,
          119.729,
          106.719,
          150.1,
          146.478,
          169.252,
          92.004,
          179.949,
          130.189,
          83.354,
          112.056,
          82.932,
          85.03,
          112.215,
          112.215,
          143.789,
          143.789,
          140.266,
          140.266,
          143.327,
          143.327,
          71.573,
          71.573,
          103.183,
          103.183,
          97.094,
          97.094,
          127.83,
          127.83,
          127.83,
          127.83,
          127.83,
          127.83,
          127.83,
          127.83,
          160.05,
          160.05,
          96.976,
          96.976,
          98.008,
          98.008,
          109.889,
          109.889,
          131.981,
          131.981,
          155.033,
          155.033,
          143.991,
          143.991,
          132.046,
          132.046,
          94.055,
          94.055,
          135.998,
          135.998,
          150.027,
          150.027,
          90.909,
          90.909,
          107.992,
          107.992,
          105.046,
          105.046,
          164.89,
          164.89,
          132.002,
          132.002,
          110.029,
          110.029,
          122.992,
          122.992,
          129.054,
          129.054,
          130.106,
          130.106,
          141.845,
          141.845,
          94.584,
          94.584,
          122.979,
          122.979,
          116.761,
          116.761,
          134.974,
          134.974
         ],
         "xaxis": "x",
         "xbins": {
          "end": 179.949,
          "size": 15,
          "start": 71.573
         },
         "yaxis": "y"
        },
        {
         "legendgroup": "tempo",
         "marker": {
          "color": "rgb(31, 119, 180)"
         },
         "mode": "lines",
         "name": "tempo",
         "showlegend": false,
         "type": "scatter",
         "x": [
          71.573,
          71.789752,
          72.00650399999999,
          72.22325599999999,
          72.44000799999999,
          72.65675999999999,
          72.87351199999999,
          73.09026399999999,
          73.30701599999999,
          73.52376799999999,
          73.74051999999999,
          73.95727199999999,
          74.17402399999999,
          74.39077599999999,
          74.60752799999999,
          74.82427999999999,
          75.04103199999999,
          75.25778399999999,
          75.474536,
          75.691288,
          75.90804,
          76.124792,
          76.341544,
          76.558296,
          76.775048,
          76.9918,
          77.208552,
          77.425304,
          77.642056,
          77.858808,
          78.07556,
          78.292312,
          78.509064,
          78.725816,
          78.942568,
          79.15932,
          79.376072,
          79.592824,
          79.80957599999999,
          80.02632799999999,
          80.24307999999999,
          80.45983199999999,
          80.67658399999999,
          80.89333599999999,
          81.11008799999999,
          81.32683999999999,
          81.54359199999999,
          81.76034399999999,
          81.97709599999999,
          82.193848,
          82.41059999999999,
          82.627352,
          82.84410399999999,
          83.060856,
          83.277608,
          83.49436,
          83.711112,
          83.927864,
          84.144616,
          84.361368,
          84.57812,
          84.794872,
          85.011624,
          85.228376,
          85.445128,
          85.66188,
          85.878632,
          86.095384,
          86.312136,
          86.528888,
          86.74564,
          86.962392,
          87.179144,
          87.395896,
          87.612648,
          87.82939999999999,
          88.04615199999999,
          88.26290399999999,
          88.47965599999999,
          88.69640799999999,
          88.91316,
          89.12991199999999,
          89.346664,
          89.56341599999999,
          89.780168,
          89.99691999999999,
          90.213672,
          90.43042399999999,
          90.647176,
          90.863928,
          91.08068,
          91.297432,
          91.514184,
          91.730936,
          91.947688,
          92.16444,
          92.381192,
          92.597944,
          92.814696,
          93.031448,
          93.2482,
          93.464952,
          93.681704,
          93.898456,
          94.115208,
          94.33196,
          94.548712,
          94.765464,
          94.982216,
          95.198968,
          95.41572,
          95.632472,
          95.84922399999999,
          96.065976,
          96.28272799999999,
          96.49947999999999,
          96.71623199999999,
          96.932984,
          97.14973599999999,
          97.366488,
          97.58324,
          97.799992,
          98.016744,
          98.233496,
          98.45024799999999,
          98.667,
          98.883752,
          99.100504,
          99.317256,
          99.534008,
          99.75076,
          99.967512,
          100.184264,
          100.401016,
          100.617768,
          100.83452,
          101.051272,
          101.268024,
          101.484776,
          101.701528,
          101.91828,
          102.135032,
          102.351784,
          102.568536,
          102.785288,
          103.00204,
          103.218792,
          103.435544,
          103.652296,
          103.86904799999999,
          104.0858,
          104.30255199999999,
          104.519304,
          104.73605599999999,
          104.952808,
          105.16955999999999,
          105.386312,
          105.60306399999999,
          105.819816,
          106.036568,
          106.25332,
          106.470072,
          106.686824,
          106.903576,
          107.120328,
          107.33708,
          107.553832,
          107.77058400000001,
          107.987336,
          108.204088,
          108.42084,
          108.637592,
          108.854344,
          109.071096,
          109.287848,
          109.5046,
          109.721352,
          109.93810400000001,
          110.154856,
          110.37160800000001,
          110.58836,
          110.80511200000001,
          111.021864,
          111.23861600000001,
          111.45536799999999,
          111.67212,
          111.888872,
          112.105624,
          112.32237599999999,
          112.539128,
          112.75587999999999,
          112.972632,
          113.18938399999999,
          113.406136,
          113.62288799999999,
          113.83964,
          114.056392,
          114.273144,
          114.489896,
          114.706648,
          114.9234,
          115.140152,
          115.356904,
          115.573656,
          115.79040800000001,
          116.00716,
          116.22391200000001,
          116.440664,
          116.657416,
          116.874168,
          117.09092,
          117.307672,
          117.524424,
          117.741176,
          117.95792800000001,
          118.17468,
          118.39143200000001,
          118.608184,
          118.82493600000001,
          119.041688,
          119.25844000000001,
          119.47519199999999,
          119.691944,
          119.908696,
          120.125448,
          120.3422,
          120.558952,
          120.77570399999999,
          120.992456,
          121.20920799999999,
          121.42596,
          121.642712,
          121.859464,
          122.076216,
          122.292968,
          122.50972,
          122.726472,
          122.943224,
          123.159976,
          123.376728,
          123.59348,
          123.81023200000001,
          124.026984,
          124.24373600000001,
          124.460488,
          124.67724000000001,
          124.893992,
          125.110744,
          125.327496,
          125.54424800000001,
          125.761,
          125.97775200000001,
          126.194504,
          126.41125600000001,
          126.628008,
          126.84476000000001,
          127.061512,
          127.27826400000001,
          127.495016,
          127.711768,
          127.92852,
          128.145272,
          128.36202400000002,
          128.578776,
          128.795528,
          129.01228,
          129.229032,
          129.445784,
          129.662536,
          129.879288,
          130.09604000000002,
          130.312792,
          130.529544,
          130.746296,
          130.96304800000001,
          131.1798,
          131.396552,
          131.613304,
          131.830056,
          132.046808,
          132.26356,
          132.480312,
          132.697064,
          132.913816,
          133.130568,
          133.34732000000002,
          133.564072,
          133.780824,
          133.997576,
          134.214328,
          134.43108,
          134.647832,
          134.864584,
          135.081336,
          135.298088,
          135.51484,
          135.731592,
          135.94834400000002,
          136.165096,
          136.381848,
          136.5986,
          136.81535200000002,
          137.032104,
          137.248856,
          137.465608,
          137.68236000000002,
          137.899112,
          138.11586400000002,
          138.332616,
          138.54936800000002,
          138.76612,
          138.98287200000001,
          139.199624,
          139.416376,
          139.633128,
          139.84988,
          140.06663200000003,
          140.283384,
          140.500136,
          140.71688799999998,
          140.93364000000003,
          141.150392,
          141.367144,
          141.58389599999998,
          141.80064800000002,
          142.0174,
          142.234152,
          142.450904,
          142.66765600000002,
          142.884408,
          143.10116,
          143.317912,
          143.53466400000002,
          143.751416,
          143.96816800000002,
          144.18492,
          144.40167200000002,
          144.618424,
          144.835176,
          145.051928,
          145.26868000000002,
          145.485432,
          145.702184,
          145.91893600000003,
          146.13568800000002,
          146.35244,
          146.569192,
          146.78594400000003,
          147.00269600000001,
          147.219448,
          147.43619999999999,
          147.65295200000003,
          147.869704,
          148.086456,
          148.303208,
          148.51996,
          148.736712,
          148.953464,
          149.170216,
          149.386968,
          149.60372,
          149.820472,
          150.037224,
          150.25397600000002,
          150.470728,
          150.68748,
          150.904232,
          151.12098400000002,
          151.337736,
          151.554488,
          151.77124000000003,
          151.98799200000002,
          152.204744,
          152.421496,
          152.63824800000003,
          152.85500000000002,
          153.071752,
          153.288504,
          153.505256,
          153.72200800000002,
          153.93876,
          154.15551200000002,
          154.372264,
          154.58901600000002,
          154.805768,
          155.02252000000001,
          155.239272,
          155.456024,
          155.672776,
          155.889528,
          156.10628000000003,
          156.323032,
          156.539784,
          156.756536,
          156.97328800000003,
          157.19004,
          157.406792,
          157.62354399999998,
          157.84029600000002,
          158.057048,
          158.2738,
          158.490552,
          158.70730400000002,
          158.924056,
          159.140808,
          159.35756,
          159.57431200000002,
          159.791064,
          160.00781600000002,
          160.224568,
          160.44132000000002,
          160.658072,
          160.87482400000002,
          161.091576,
          161.30832800000002,
          161.52508,
          161.741832,
          161.95858400000003,
          162.17533600000002,
          162.392088,
          162.60884,
          162.82559200000003,
          163.042344,
          163.259096,
          163.47584799999998,
          163.69260000000003,
          163.909352,
          164.126104,
          164.342856,
          164.55960800000003,
          164.77636,
          164.993112,
          165.209864,
          165.42661600000002,
          165.643368,
          165.86012,
          166.076872,
          166.29362400000002,
          166.510376,
          166.727128,
          166.94388,
          167.16063200000002,
          167.377384,
          167.594136,
          167.81088800000003,
          168.02764000000002,
          168.244392,
          168.461144,
          168.67789600000003,
          168.89464800000002,
          169.1114,
          169.328152,
          169.54490400000003,
          169.76165600000002,
          169.978408,
          170.19516000000002,
          170.411912,
          170.62866400000001,
          170.845416,
          171.062168,
          171.27892,
          171.495672,
          171.712424,
          171.929176,
          172.14592800000003,
          172.36268,
          172.579432,
          172.796184,
          173.01293600000002,
          173.229688,
          173.44644,
          173.66319200000004,
          173.87994400000002,
          174.096696,
          174.313448,
          174.5302,
          174.74695200000002,
          174.963704,
          175.180456,
          175.397208,
          175.61396000000002,
          175.830712,
          176.04746400000002,
          176.264216,
          176.48096800000002,
          176.69772,
          176.91447200000002,
          177.131224,
          177.34797600000002,
          177.564728,
          177.78148000000002,
          177.99823200000003,
          178.21498400000002,
          178.431736,
          178.648488,
          178.86524000000003,
          179.081992,
          179.298744,
          179.515496,
          179.73224800000003
         ],
         "xaxis": "x",
         "y": [
          0.0016972356532170235,
          0.0017375416120154672,
          0.001778666734832331,
          0.0018206278223288517,
          0.001863441700330826,
          0.0019071251829254846,
          0.001951695034170515,
          0.0019971679285001433,
          0.002043560409919153,
          0.002090888850081347,
          0.002139169405354305,
          0.0021884179729773265,
          0.0022386501464240773,
          0.0022898811700857455,
          0.0023421258933943945,
          0.002395398724509836,
          0.0024497135836961904,
          0.0025050838565171853,
          0.0025615223469813595,
          0.0026190412307701572,
          0.002677652008683275,
          0.0027373654604364215,
          0.0027981915989472484,
          0.002860139625245063,
          0.002923217884139581,
          0.0029874338207831366,
          0.0030527939382592397,
          0.003119303756328875,
          0.0031869677714635894,
          0.003255789418291926,
          0.003325771032582633,
          0.0033969138158849773,
          0.0034692178019423555,
          0.0035426818249916477,
          0.003617303490056054,
          0.0036930791453343753,
          0.0037700038567847487,
          0.0038480713849951375,
          0.0039272741644274245,
          0.004007603285115755,
          0.004089048476893743,
          0.004171598096218403,
          0.004255239115652261,
          0.004339957116057902,
          0.004425736281552357,
          0.004512559397261382,
          0.004600407849906095,
          0.00468926163124728,
          0.004779099344404592,
          0.004869898213060467,
          0.004961634093550508,
          0.005054281489834395,
          0.005147813571333203,
          0.005242202193611532,
          0.005337417921874317,
          0.00543343005724085,
          0.00553020666575034,
          0.005627714610045683,
          0.005725919583674315,
          0.005824786147937777,
          0.005924277771213487,
          0.006024356870665953,
          0.006124984856256385,
          0.006226122176953923,
          0.006327728369044151,
          0.006429762106424834,
          0.0065321812527722855,
          0.006634942915456266,
          0.0067380035010758295,
          0.006841318772483356,
          0.006944843907159537,
          0.007048533556797652,
          0.0071523419079518565,
          0.007256222743600558,
          0.007360129505473793,
          0.007464015356990105,
          0.007567833246647896,
          0.007671535971714006,
          0.007775076242052092,
          0.007878406743933376,
          0.007981480203672444,
          0.008084249450932543,
          0.008186667481546003,
          0.008288687519698273,
          0.008390263079326839,
          0.00849134802459006,
          0.00859189662926535,
          0.008691863634940643,
          0.008791204307869428,
          0.008889874494364475,
          0.008987830674613628,
          0.009085030014806882,
          0.009181430417472363,
          0.009276990569927318,
          0.009371669990758244,
          0.009465429074253975,
          0.009558229132724798,
          0.009650032436650486,
          0.009740802252610255,
          0.009830502878958204,
          0.009919099679217789,
          0.010006559113180009,
          0.010092848765700418,
          0.010177937373200614,
          0.010261794847890738,
          0.010344392299739609,
          0.010425702056229636,
          0.010505697679943355,
          0.010584353984038413,
          0.010661647045676483,
          0.010737554217481026,
          0.01081205413710631,
          0.010885126735008355,
          0.010956753240515028,
          0.01102691618629883,
          0.011095599411361786,
          0.011162788062645772,
          0.011228468595386551,
          0.011292628772331623,
          0.011355257661944847,
          0.011416345635721602,
          0.011475884364738377,
          0.011533866815559745,
          0.01159028724562417,
          0.011645141198226808,
          0.011698425497213949,
          0.011750138241499015,
          0.011800278799503967,
          0.011848847803623294,
          0.011895847144800888,
          0.011941279967300461,
          0.011985150663742129,
          0.012027464870466893,
          0.012068229463280615,
          0.012107452553617361,
          0.012145143485150639,
          0.012181312830867885,
          0.012215972390611665,
          0.012249135189077533,
          0.012280815474245008,
          0.012311028716205244,
          0.012339791606335098,
          0.012367122056754082,
          0.012393039199987325,
          0.012417563388744857,
          0.012440716195714938,
          0.012462520413256689,
          0.012483000052866206,
          0.012502180344278926,
          0.012520087734061203,
          0.012536749883534475,
          0.012552195665866949,
          0.012566455162160657,
          0.012579559656354908,
          0.0125915416287625,
          0.0126024347480503,
          0.012612273861474184,
          0.01262109498317592,
          0.012628935280350058,
          0.012635833057090077,
          0.012641827735726023,
          0.012646959835469825,
          0.012651270948190116,
          0.012654803711145749,
          0.012657601776515443,
          0.012659709777570983,
          0.012661173291352622,
          0.012662038797718343,
          0.012662353634651789,
          0.012662165949729765,
          0.012661524647665769,
          0.012660479333863939,
          0.012659080253936082,
          0.012657378229153521,
          0.012655424587826565,
          0.012653271092624428,
          0.012650969863870425,
          0.012648573298869703,
          0.012646133987348623,
          0.012643704623108128,
          0.01264133791201644,
          0.012639086476489085,
          0.012637002756627571,
          0.012635138908210244,
          0.012633546697751448,
          0.012632277394867227,
          0.012631381662206238,
          0.012630909443225818,
          0.012630909848112458,
          0.012631431038164389,
          0.012632520108972046,
          0.012634222972747699,
          0.012636584240171722,
          0.012639647102135124,
          0.012643453211771405,
          0.012648042567180311,
          0.012653453395255258,
          0.012659722037033215,
          0.012666882834990989,
          0.012674968022715023,
          0.012684007617373613,
          0.01269402931541945,
          0.012705058391948163,
          0.012717117604133979,
          0.01273022709915685,
          0.012744404327027113,
          0.01275966395870302,
          0.012776017809884079,
          0.012793474770848775,
          0.012812040742688428,
          0.012831718580271802,
          0.012852508042254001,
          0.012874405748422284,
          0.012897405144648355,
          0.012921496475691097,
          0.012946666766068557,
          0.012972899809190242,
          0.013000176164911387,
          0.013028473165642724,
          0.013057764931116884,
          0.013088022391882866,
          0.013119213321566122,
          0.013151302377901292,
          0.013184251152509582,
          0.013218018229361238,
          0.013252559251829667,
          0.013287826998210486,
          0.01332377146554663,
          0.013360339961567562,
          0.013397477204519082,
          0.01343512543062935,
          0.013473224508925892,
          0.01351171206308993,
          0.013550523600005726,
          0.013589592644636201,
          0.013628850880830885,
          0.013668228297648284,
          0.013707653340753101,
          0.013747053068428248,
          0.013786353311723419,
          0.013825478838245692,
          0.0138643535190833,
          0.013902900498341978,
          0.013941042364762892,
          0.013978701324884064,
          0.014015799377201795,
          0.014052258486785374,
          0.014088000759798422,
          0.014122948617380997,
          0.01415702496835197,
          0.014190153380196219,
          0.014222258247811165,
          0.014253264959497351,
          0.01428310005969115,
          0.01431169140795301,
          0.014338968333741962,
          0.014364861786526332,
          0.014389304480801328,
          0.01441223103560808,
          0.014433578108171384,
          0.014453284521301298,
          0.01447129138422915,
          0.014487542206578375,
          0.01450198300519906,
          0.014514562403626113,
          0.01452523172395157,
          0.014533945070933536,
          0.014540659408196115,
          0.014545334626406786,
          0.0145479336033505,
          0.014548422255851297,
          0.014546769583524598,
          0.014542947704374722,
          0.014536931882282946,
          0.014528700546461399,
          0.014518235302977751,
          0.01450552093848309,
          0.014490545416303053,
          0.01447329986507716,
          0.014453778560156215,
          0.014431978897989663,
          0.0144079013637563,
          0.014381549492510358,
          0.014352929824133342,
          0.014322051852396617,
          0.014288927968454122,
          0.01425357339909593,
          0.01421600614010325,
          0.014176246885052944,
          0.014134318949925775,
          0.014090248193875814,
          0.014044062936520538,
          0.013995793872110838,
          0.01394547398093813,
          0.013893138438331992,
          0.013838824521595782,
          0.01378257151522092,
          0.013724420614711201,
          0.013664414829338514,
          0.013602598884139186,
          0.013539019121447943,
          0.013473723402251557,
          0.01340676100762986,
          0.01333818254053524,
          0.013268039828145835,
          0.013196385825009453,
          0.013123274517178206,
          0.013048760827515445,
          0.012972900522338487,
          0.012895750119542238,
          0.01281736679833088,
          0.012737808310666432,
          0.012657132894525924,
          0.01257539918904127,
          0.012492666151579767,
          0.012408992976807314,
          0.012324439017761049,
          0.012239063708944401,
          0.012152926491444139,
          0.012066086740056981,
          0.01197860369240215,
          0.011890536379986775,
          0.011801943561181954,
          0.011712883656060272,
          0.011623414683039224,
          0.011533594197270416,
          0.011443479230710164,
          0.011353126233805827,
          0.011262591018730193,
          0.011171928704096898,
          0.011081193661090914,
          0.010990439460950787,
          0.010899718823742643,
          0.010809083568370485,
          0.010718584563772685,
          0.010628271681261124,
          0.010538193747965883,
          0.010448398501356699,
          0.010358932544820143,
          0.010269841304280485,
          0.010181168985861244,
          0.01009295853459374,
          0.010005251594188228,
          0.009918088467893531,
          0.00983150808047955,
          0.009745547941387163,
          0.009660244109098834,
          0.009575631156792105,
          0.009491742139346247,
          0.009408608561780288,
          0.009326260349207915,
          0.009244725818400724,
          0.009164031651057634,
          0.009084202868882346,
          0.009005262810575603,
          0.008927233110851078,
          0.00885013368158652,
          0.008773982695222352,
          0.008698796570519987,
          0.008624589960791313,
          0.008551375744708017,
          0.008479165019797251,
          0.008407967098724637,
          0.008337789508461358,
          0.008268637992425191,
          0.008200516515678288,
          0.008133427273256326,
          0.008067370701694264,
          0.008002345493804562,
          0.007938348616752348,
          0.007875375333461356,
          0.00781341922737187,
          0.00775247223055957,
          0.007692524655211308,
          0.007633565228440158,
          0.007575581130408703,
          0.007518558035715161,
          0.007462480157983469,
          0.007407330297584298,
          0.0073530898923995554,
          0.007299739071529938,
          0.007247256711830645,
          0.007195620497148371,
          0.00714480698011862,
          0.0070947916463712105,
          0.007045548980979678,
          0.006997052536979397,
          0.006949275005769186,
          0.006902188289201579,
          0.006855763573158367,
          0.0068099714024006785,
          0.0067647817564758,
          0.006720164126457666,
          0.006676087592293191,
          0.006632520900523026,
          0.006589432542143148,
          0.006546790830372183,
          0.006504563978089192,
          0.006462720174707919,
          0.006421227662254957,
          0.00638005481042301,
          0.006339170190374489,
          0.006298542647075875,
          0.006258141369949784,
          0.006217935961638631,
          0.006177896504682746,
          0.006137993625924133,
          0.006098198558457531,
          0.006058483200961034,
          0.006018820174250109,
          0.005979182874910757,
          0.005939545525880551,
          0.0058998832238591654,
          0.005860171983443938,
          0.005820388777899737,
          0.005780511576486935,
          0.005740519378285465,
          0.005700392242467679,
          0.005660111314987438,
          0.0056196588516670655,
          0.005579018237678855,
          0.005538174003431474,
          0.00549711183688603,
          0.005455818592340183,
          0.005414282295731823,
          0.005372492146526831,
          0.0053304385162677315,
          0.005288112943871486,
          0.005245508127776314,
          0.005202617915047314,
          0.0051594372875606535,
          0.005115962345394882,
          0.005072190287566257,
          0.005028119390252092,
          0.004983748982652662,
          0.0049390794206479625,
          0.004894112058410203,
          0.004848849218136926,
          0.0048032941580723725,
          0.004757451038987332,
          0.004711324889288212,
          0.004664921568927366,
          0.004618247732285317,
          0.004571310790194962,
          0.004524118871275501,
          0.004476680782740929,
          0.004429005970844534,
          0.0043811044811166095,
          0.004332986918547629,
          0.0042846644078636436,
          0.004236148554034643,
          0.004187451403150153,
          0.004138585403789164,
          0.0040895633690042075,
          0.004040398439031356,
          0.003991104044830295,
          0.00394169387254984,
          0.0038921818290058386,
          0.0038425820082499435,
          0.0037929086592986376,
          0.0037431761550834066,
          0.0036933989626738275,
          0.0036435916148170053,
          0.003593768682827607,
          0.00354394475085502,
          0.003494134391545062,
          0.003444352143106361,
          0.003394612487783175,
          0.003344929831729528,
          0.0032953184862719413,
          0.0032457926505415706,
          0.003196366395450384,
          0.003147053648979702,
          0.003097868182744327,
          0.0030488235997904543,
          0.0029999333235808806,
          0.002951210588117094,
          0.0029026684291444294,
          0.0028543196763831293,
          0.002806176946725949,
          0.0027582526383407293,
          0.002710558925614658,
          0.0026631077548761937,
          0.002615910840829808,
          0.00256897966363849,
          0.0025223254665894266,
          0.0024759592542787723,
          0.0024298917912528293,
          0.0023841336010438953,
          0.0023386949655416307,
          0.0022935859246420802,
          0.002248816276119815,
          0.0022043955756706674,
          0.0021603331370759556,
          0.0021166380324421684,
          0.0020733190924732956,
          0.0020303849067369044,
          0.001987843823888174,
          0.001945703951820535,
          0.0019039731577146835
         ],
         "yaxis": "y"
        },
        {
         "legendgroup": "tempo",
         "marker": {
          "color": "rgb(31, 119, 180)",
          "symbol": "line-ns-open"
         },
         "mode": "markers",
         "name": "tempo",
         "showlegend": false,
         "type": "scatter",
         "x": [
          141.872,
          175.891,
          100.016,
          173.863,
          120.02,
          117.009,
          108.047,
          131,
          90.053,
          104.007,
          104.007,
          104.007,
          104.007,
          134.94,
          160.074,
          85.465,
          139.038,
          142.477,
          120.027,
          125.057,
          97.003,
          153.908,
          137.968,
          120.932,
          170.411,
          110.754,
          95.012,
          160.892,
          112.002,
          97.907,
          112.071,
          85.537,
          132.301,
          91.977,
          116.794,
          161.292,
          159.39,
          106.612,
          165.182,
          130.014,
          119.729,
          106.719,
          150.1,
          146.478,
          169.252,
          92.004,
          179.949,
          130.189,
          83.354,
          112.056,
          82.932,
          85.03,
          112.215,
          112.215,
          143.789,
          143.789,
          140.266,
          140.266,
          143.327,
          143.327,
          71.573,
          71.573,
          103.183,
          103.183,
          97.094,
          97.094,
          127.83,
          127.83,
          127.83,
          127.83,
          127.83,
          127.83,
          127.83,
          127.83,
          160.05,
          160.05,
          96.976,
          96.976,
          98.008,
          98.008,
          109.889,
          109.889,
          131.981,
          131.981,
          155.033,
          155.033,
          143.991,
          143.991,
          132.046,
          132.046,
          94.055,
          94.055,
          135.998,
          135.998,
          150.027,
          150.027,
          90.909,
          90.909,
          107.992,
          107.992,
          105.046,
          105.046,
          164.89,
          164.89,
          132.002,
          132.002,
          110.029,
          110.029,
          122.992,
          122.992,
          129.054,
          129.054,
          130.106,
          130.106,
          141.845,
          141.845,
          94.584,
          94.584,
          122.979,
          122.979,
          116.761,
          116.761,
          134.974,
          134.974
         ],
         "xaxis": "x",
         "y": [
          "tempo",
          "tempo",
          "tempo",
          "tempo",
          "tempo",
          "tempo",
          "tempo",
          "tempo",
          "tempo",
          "tempo",
          "tempo",
          "tempo",
          "tempo",
          "tempo",
          "tempo",
          "tempo",
          "tempo",
          "tempo",
          "tempo",
          "tempo",
          "tempo",
          "tempo",
          "tempo",
          "tempo",
          "tempo",
          "tempo",
          "tempo",
          "tempo",
          "tempo",
          "tempo",
          "tempo",
          "tempo",
          "tempo",
          "tempo",
          "tempo",
          "tempo",
          "tempo",
          "tempo",
          "tempo",
          "tempo",
          "tempo",
          "tempo",
          "tempo",
          "tempo",
          "tempo",
          "tempo",
          "tempo",
          "tempo",
          "tempo",
          "tempo",
          "tempo",
          "tempo",
          "tempo",
          "tempo",
          "tempo",
          "tempo",
          "tempo",
          "tempo",
          "tempo",
          "tempo",
          "tempo",
          "tempo",
          "tempo",
          "tempo",
          "tempo",
          "tempo",
          "tempo",
          "tempo",
          "tempo",
          "tempo",
          "tempo",
          "tempo",
          "tempo",
          "tempo",
          "tempo",
          "tempo",
          "tempo",
          "tempo",
          "tempo",
          "tempo",
          "tempo",
          "tempo",
          "tempo",
          "tempo",
          "tempo",
          "tempo",
          "tempo",
          "tempo",
          "tempo",
          "tempo",
          "tempo",
          "tempo",
          "tempo",
          "tempo",
          "tempo",
          "tempo",
          "tempo",
          "tempo",
          "tempo",
          "tempo",
          "tempo",
          "tempo",
          "tempo",
          "tempo",
          "tempo",
          "tempo",
          "tempo",
          "tempo",
          "tempo",
          "tempo",
          "tempo",
          "tempo",
          "tempo",
          "tempo",
          "tempo",
          "tempo",
          "tempo",
          "tempo",
          "tempo",
          "tempo",
          "tempo",
          "tempo",
          "tempo",
          "tempo"
         ],
         "yaxis": "y2"
        }
       ],
       "layout": {
        "barmode": "overlay",
        "hovermode": "closest",
        "legend": {
         "traceorder": "reversed"
        },
        "template": {
         "data": {
          "bar": [
           {
            "error_x": {
             "color": "#2a3f5f"
            },
            "error_y": {
             "color": "#2a3f5f"
            },
            "marker": {
             "line": {
              "color": "#E5ECF6",
              "width": 0.5
             },
             "pattern": {
              "fillmode": "overlay",
              "size": 10,
              "solidity": 0.2
             }
            },
            "type": "bar"
           }
          ],
          "barpolar": [
           {
            "marker": {
             "line": {
              "color": "#E5ECF6",
              "width": 0.5
             },
             "pattern": {
              "fillmode": "overlay",
              "size": 10,
              "solidity": 0.2
             }
            },
            "type": "barpolar"
           }
          ],
          "carpet": [
           {
            "aaxis": {
             "endlinecolor": "#2a3f5f",
             "gridcolor": "white",
             "linecolor": "white",
             "minorgridcolor": "white",
             "startlinecolor": "#2a3f5f"
            },
            "baxis": {
             "endlinecolor": "#2a3f5f",
             "gridcolor": "white",
             "linecolor": "white",
             "minorgridcolor": "white",
             "startlinecolor": "#2a3f5f"
            },
            "type": "carpet"
           }
          ],
          "choropleth": [
           {
            "colorbar": {
             "outlinewidth": 0,
             "ticks": ""
            },
            "type": "choropleth"
           }
          ],
          "contour": [
           {
            "colorbar": {
             "outlinewidth": 0,
             "ticks": ""
            },
            "colorscale": [
             [
              0,
              "#0d0887"
             ],
             [
              0.1111111111111111,
              "#46039f"
             ],
             [
              0.2222222222222222,
              "#7201a8"
             ],
             [
              0.3333333333333333,
              "#9c179e"
             ],
             [
              0.4444444444444444,
              "#bd3786"
             ],
             [
              0.5555555555555556,
              "#d8576b"
             ],
             [
              0.6666666666666666,
              "#ed7953"
             ],
             [
              0.7777777777777778,
              "#fb9f3a"
             ],
             [
              0.8888888888888888,
              "#fdca26"
             ],
             [
              1,
              "#f0f921"
             ]
            ],
            "type": "contour"
           }
          ],
          "contourcarpet": [
           {
            "colorbar": {
             "outlinewidth": 0,
             "ticks": ""
            },
            "type": "contourcarpet"
           }
          ],
          "heatmap": [
           {
            "colorbar": {
             "outlinewidth": 0,
             "ticks": ""
            },
            "colorscale": [
             [
              0,
              "#0d0887"
             ],
             [
              0.1111111111111111,
              "#46039f"
             ],
             [
              0.2222222222222222,
              "#7201a8"
             ],
             [
              0.3333333333333333,
              "#9c179e"
             ],
             [
              0.4444444444444444,
              "#bd3786"
             ],
             [
              0.5555555555555556,
              "#d8576b"
             ],
             [
              0.6666666666666666,
              "#ed7953"
             ],
             [
              0.7777777777777778,
              "#fb9f3a"
             ],
             [
              0.8888888888888888,
              "#fdca26"
             ],
             [
              1,
              "#f0f921"
             ]
            ],
            "type": "heatmap"
           }
          ],
          "heatmapgl": [
           {
            "colorbar": {
             "outlinewidth": 0,
             "ticks": ""
            },
            "colorscale": [
             [
              0,
              "#0d0887"
             ],
             [
              0.1111111111111111,
              "#46039f"
             ],
             [
              0.2222222222222222,
              "#7201a8"
             ],
             [
              0.3333333333333333,
              "#9c179e"
             ],
             [
              0.4444444444444444,
              "#bd3786"
             ],
             [
              0.5555555555555556,
              "#d8576b"
             ],
             [
              0.6666666666666666,
              "#ed7953"
             ],
             [
              0.7777777777777778,
              "#fb9f3a"
             ],
             [
              0.8888888888888888,
              "#fdca26"
             ],
             [
              1,
              "#f0f921"
             ]
            ],
            "type": "heatmapgl"
           }
          ],
          "histogram": [
           {
            "marker": {
             "pattern": {
              "fillmode": "overlay",
              "size": 10,
              "solidity": 0.2
             }
            },
            "type": "histogram"
           }
          ],
          "histogram2d": [
           {
            "colorbar": {
             "outlinewidth": 0,
             "ticks": ""
            },
            "colorscale": [
             [
              0,
              "#0d0887"
             ],
             [
              0.1111111111111111,
              "#46039f"
             ],
             [
              0.2222222222222222,
              "#7201a8"
             ],
             [
              0.3333333333333333,
              "#9c179e"
             ],
             [
              0.4444444444444444,
              "#bd3786"
             ],
             [
              0.5555555555555556,
              "#d8576b"
             ],
             [
              0.6666666666666666,
              "#ed7953"
             ],
             [
              0.7777777777777778,
              "#fb9f3a"
             ],
             [
              0.8888888888888888,
              "#fdca26"
             ],
             [
              1,
              "#f0f921"
             ]
            ],
            "type": "histogram2d"
           }
          ],
          "histogram2dcontour": [
           {
            "colorbar": {
             "outlinewidth": 0,
             "ticks": ""
            },
            "colorscale": [
             [
              0,
              "#0d0887"
             ],
             [
              0.1111111111111111,
              "#46039f"
             ],
             [
              0.2222222222222222,
              "#7201a8"
             ],
             [
              0.3333333333333333,
              "#9c179e"
             ],
             [
              0.4444444444444444,
              "#bd3786"
             ],
             [
              0.5555555555555556,
              "#d8576b"
             ],
             [
              0.6666666666666666,
              "#ed7953"
             ],
             [
              0.7777777777777778,
              "#fb9f3a"
             ],
             [
              0.8888888888888888,
              "#fdca26"
             ],
             [
              1,
              "#f0f921"
             ]
            ],
            "type": "histogram2dcontour"
           }
          ],
          "mesh3d": [
           {
            "colorbar": {
             "outlinewidth": 0,
             "ticks": ""
            },
            "type": "mesh3d"
           }
          ],
          "parcoords": [
           {
            "line": {
             "colorbar": {
              "outlinewidth": 0,
              "ticks": ""
             }
            },
            "type": "parcoords"
           }
          ],
          "pie": [
           {
            "automargin": true,
            "type": "pie"
           }
          ],
          "scatter": [
           {
            "fillpattern": {
             "fillmode": "overlay",
             "size": 10,
             "solidity": 0.2
            },
            "type": "scatter"
           }
          ],
          "scatter3d": [
           {
            "line": {
             "colorbar": {
              "outlinewidth": 0,
              "ticks": ""
             }
            },
            "marker": {
             "colorbar": {
              "outlinewidth": 0,
              "ticks": ""
             }
            },
            "type": "scatter3d"
           }
          ],
          "scattercarpet": [
           {
            "marker": {
             "colorbar": {
              "outlinewidth": 0,
              "ticks": ""
             }
            },
            "type": "scattercarpet"
           }
          ],
          "scattergeo": [
           {
            "marker": {
             "colorbar": {
              "outlinewidth": 0,
              "ticks": ""
             }
            },
            "type": "scattergeo"
           }
          ],
          "scattergl": [
           {
            "marker": {
             "colorbar": {
              "outlinewidth": 0,
              "ticks": ""
             }
            },
            "type": "scattergl"
           }
          ],
          "scattermapbox": [
           {
            "marker": {
             "colorbar": {
              "outlinewidth": 0,
              "ticks": ""
             }
            },
            "type": "scattermapbox"
           }
          ],
          "scatterpolar": [
           {
            "marker": {
             "colorbar": {
              "outlinewidth": 0,
              "ticks": ""
             }
            },
            "type": "scatterpolar"
           }
          ],
          "scatterpolargl": [
           {
            "marker": {
             "colorbar": {
              "outlinewidth": 0,
              "ticks": ""
             }
            },
            "type": "scatterpolargl"
           }
          ],
          "scatterternary": [
           {
            "marker": {
             "colorbar": {
              "outlinewidth": 0,
              "ticks": ""
             }
            },
            "type": "scatterternary"
           }
          ],
          "surface": [
           {
            "colorbar": {
             "outlinewidth": 0,
             "ticks": ""
            },
            "colorscale": [
             [
              0,
              "#0d0887"
             ],
             [
              0.1111111111111111,
              "#46039f"
             ],
             [
              0.2222222222222222,
              "#7201a8"
             ],
             [
              0.3333333333333333,
              "#9c179e"
             ],
             [
              0.4444444444444444,
              "#bd3786"
             ],
             [
              0.5555555555555556,
              "#d8576b"
             ],
             [
              0.6666666666666666,
              "#ed7953"
             ],
             [
              0.7777777777777778,
              "#fb9f3a"
             ],
             [
              0.8888888888888888,
              "#fdca26"
             ],
             [
              1,
              "#f0f921"
             ]
            ],
            "type": "surface"
           }
          ],
          "table": [
           {
            "cells": {
             "fill": {
              "color": "#EBF0F8"
             },
             "line": {
              "color": "white"
             }
            },
            "header": {
             "fill": {
              "color": "#C8D4E3"
             },
             "line": {
              "color": "white"
             }
            },
            "type": "table"
           }
          ]
         },
         "layout": {
          "annotationdefaults": {
           "arrowcolor": "#2a3f5f",
           "arrowhead": 0,
           "arrowwidth": 1
          },
          "autotypenumbers": "strict",
          "coloraxis": {
           "colorbar": {
            "outlinewidth": 0,
            "ticks": ""
           }
          },
          "colorscale": {
           "diverging": [
            [
             0,
             "#8e0152"
            ],
            [
             0.1,
             "#c51b7d"
            ],
            [
             0.2,
             "#de77ae"
            ],
            [
             0.3,
             "#f1b6da"
            ],
            [
             0.4,
             "#fde0ef"
            ],
            [
             0.5,
             "#f7f7f7"
            ],
            [
             0.6,
             "#e6f5d0"
            ],
            [
             0.7,
             "#b8e186"
            ],
            [
             0.8,
             "#7fbc41"
            ],
            [
             0.9,
             "#4d9221"
            ],
            [
             1,
             "#276419"
            ]
           ],
           "sequential": [
            [
             0,
             "#0d0887"
            ],
            [
             0.1111111111111111,
             "#46039f"
            ],
            [
             0.2222222222222222,
             "#7201a8"
            ],
            [
             0.3333333333333333,
             "#9c179e"
            ],
            [
             0.4444444444444444,
             "#bd3786"
            ],
            [
             0.5555555555555556,
             "#d8576b"
            ],
            [
             0.6666666666666666,
             "#ed7953"
            ],
            [
             0.7777777777777778,
             "#fb9f3a"
            ],
            [
             0.8888888888888888,
             "#fdca26"
            ],
            [
             1,
             "#f0f921"
            ]
           ],
           "sequentialminus": [
            [
             0,
             "#0d0887"
            ],
            [
             0.1111111111111111,
             "#46039f"
            ],
            [
             0.2222222222222222,
             "#7201a8"
            ],
            [
             0.3333333333333333,
             "#9c179e"
            ],
            [
             0.4444444444444444,
             "#bd3786"
            ],
            [
             0.5555555555555556,
             "#d8576b"
            ],
            [
             0.6666666666666666,
             "#ed7953"
            ],
            [
             0.7777777777777778,
             "#fb9f3a"
            ],
            [
             0.8888888888888888,
             "#fdca26"
            ],
            [
             1,
             "#f0f921"
            ]
           ]
          },
          "colorway": [
           "#636efa",
           "#EF553B",
           "#00cc96",
           "#ab63fa",
           "#FFA15A",
           "#19d3f3",
           "#FF6692",
           "#B6E880",
           "#FF97FF",
           "#FECB52"
          ],
          "font": {
           "color": "#2a3f5f"
          },
          "geo": {
           "bgcolor": "white",
           "lakecolor": "white",
           "landcolor": "#E5ECF6",
           "showlakes": true,
           "showland": true,
           "subunitcolor": "white"
          },
          "hoverlabel": {
           "align": "left"
          },
          "hovermode": "closest",
          "mapbox": {
           "style": "light"
          },
          "paper_bgcolor": "white",
          "plot_bgcolor": "#E5ECF6",
          "polar": {
           "angularaxis": {
            "gridcolor": "white",
            "linecolor": "white",
            "ticks": ""
           },
           "bgcolor": "#E5ECF6",
           "radialaxis": {
            "gridcolor": "white",
            "linecolor": "white",
            "ticks": ""
           }
          },
          "scene": {
           "xaxis": {
            "backgroundcolor": "#E5ECF6",
            "gridcolor": "white",
            "gridwidth": 2,
            "linecolor": "white",
            "showbackground": true,
            "ticks": "",
            "zerolinecolor": "white"
           },
           "yaxis": {
            "backgroundcolor": "#E5ECF6",
            "gridcolor": "white",
            "gridwidth": 2,
            "linecolor": "white",
            "showbackground": true,
            "ticks": "",
            "zerolinecolor": "white"
           },
           "zaxis": {
            "backgroundcolor": "#E5ECF6",
            "gridcolor": "white",
            "gridwidth": 2,
            "linecolor": "white",
            "showbackground": true,
            "ticks": "",
            "zerolinecolor": "white"
           }
          },
          "shapedefaults": {
           "line": {
            "color": "#2a3f5f"
           }
          },
          "ternary": {
           "aaxis": {
            "gridcolor": "white",
            "linecolor": "white",
            "ticks": ""
           },
           "baxis": {
            "gridcolor": "white",
            "linecolor": "white",
            "ticks": ""
           },
           "bgcolor": "#E5ECF6",
           "caxis": {
            "gridcolor": "white",
            "linecolor": "white",
            "ticks": ""
           }
          },
          "title": {
           "x": 0.05
          },
          "xaxis": {
           "automargin": true,
           "gridcolor": "white",
           "linecolor": "white",
           "ticks": "",
           "title": {
            "standoff": 15
           },
           "zerolinecolor": "white",
           "zerolinewidth": 2
          },
          "yaxis": {
           "automargin": true,
           "gridcolor": "white",
           "linecolor": "white",
           "ticks": "",
           "title": {
            "standoff": 15
           },
           "zerolinecolor": "white",
           "zerolinewidth": 2
          }
         }
        },
        "xaxis": {
         "anchor": "y2",
         "domain": [
          0,
          1
         ],
         "zeroline": false
        },
        "yaxis": {
         "anchor": "free",
         "domain": [
          0.35,
          1
         ],
         "position": 0
        },
        "yaxis2": {
         "anchor": "x",
         "domain": [
          0,
          0.25
         ],
         "dtick": 1,
         "showticklabels": false
        }
       }
      }
     },
     "metadata": {},
     "output_type": "display_data"
    }
   ],
   "source": [
    "fig = ff.create_distplot([df[\"tempo\"]], [\"tempo\"], bin_size=15)\n",
    "fig.show()"
   ]
  },
  {
   "cell_type": "markdown",
   "metadata": {},
   "source": [
    "Liveness"
   ]
  },
  {
   "cell_type": "code",
   "execution_count": 11,
   "metadata": {},
   "outputs": [
    {
     "data": {
      "application/vnd.plotly.v1+json": {
       "config": {
        "plotlyServerURL": "https://plot.ly"
       },
       "data": [
        {
         "alignmentgroup": "True",
         "bingroup": "x",
         "hovertemplate": "liveness=%{x}<br>count=%{y}<extra></extra>",
         "legendgroup": "",
         "marker": {
          "color": "#636efa",
          "pattern": {
           "shape": ""
          }
         },
         "name": "",
         "nbinsx": 10,
         "offsetgroup": "",
         "orientation": "v",
         "showlegend": false,
         "type": "histogram",
         "x": [
          0.0892,
          0.078,
          0.0984,
          0.143,
          0.117,
          0.0794,
          0.191,
          0.141,
          0.107,
          0.0742,
          0.0742,
          0.0742,
          0.0742,
          0.115,
          0.0792,
          0.366,
          0.339,
          0.087,
          0.114,
          0.219,
          0.177,
          0.141,
          0.126,
          0.0994,
          0.384,
          0.719,
          0.0511,
          0.361,
          0.067,
          0.362,
          0.663,
          0.283,
          0.12,
          0.12,
          0.11,
          0.294,
          0.867,
          0.383,
          0.0871,
          0.116,
          0.326,
          0.239,
          0.0449,
          0.187,
          0.328,
          0.104,
          0.212,
          0.0717,
          0.127,
          0.122,
          0.105,
          0.217,
          0.197,
          0.197,
          0.185,
          0.185,
          0.0945,
          0.0945,
          0.0774,
          0.0774,
          0.102,
          0.102,
          0.376,
          0.376,
          0.303,
          0.303,
          0.4,
          0.4,
          0.4,
          0.4,
          0.4,
          0.4,
          0.4,
          0.4,
          0.124,
          0.124,
          0.255,
          0.255,
          0.142,
          0.142,
          0.0757,
          0.0757,
          0.242,
          0.242,
          0.171,
          0.171,
          0.111,
          0.111,
          0.776,
          0.776,
          0.109,
          0.109,
          0.324,
          0.324,
          0.296,
          0.296,
          0.188,
          0.188,
          0.089,
          0.089,
          0.159,
          0.159,
          0.0976,
          0.0976,
          0.426,
          0.426,
          0.252,
          0.252,
          0.147,
          0.147,
          0.129,
          0.129,
          0.053,
          0.053,
          0.32,
          0.32,
          0.433,
          0.433,
          0.123,
          0.123,
          0.106,
          0.106,
          0.257,
          0.257
         ],
         "xaxis": "x",
         "yaxis": "y"
        },
        {
         "alignmentgroup": "True",
         "hovertemplate": "liveness=%{x}<extra></extra>",
         "legendgroup": "",
         "marker": {
          "color": "#636efa"
         },
         "name": "",
         "offsetgroup": "",
         "scalegroup": "x",
         "showlegend": false,
         "type": "violin",
         "x": [
          0.0892,
          0.078,
          0.0984,
          0.143,
          0.117,
          0.0794,
          0.191,
          0.141,
          0.107,
          0.0742,
          0.0742,
          0.0742,
          0.0742,
          0.115,
          0.0792,
          0.366,
          0.339,
          0.087,
          0.114,
          0.219,
          0.177,
          0.141,
          0.126,
          0.0994,
          0.384,
          0.719,
          0.0511,
          0.361,
          0.067,
          0.362,
          0.663,
          0.283,
          0.12,
          0.12,
          0.11,
          0.294,
          0.867,
          0.383,
          0.0871,
          0.116,
          0.326,
          0.239,
          0.0449,
          0.187,
          0.328,
          0.104,
          0.212,
          0.0717,
          0.127,
          0.122,
          0.105,
          0.217,
          0.197,
          0.197,
          0.185,
          0.185,
          0.0945,
          0.0945,
          0.0774,
          0.0774,
          0.102,
          0.102,
          0.376,
          0.376,
          0.303,
          0.303,
          0.4,
          0.4,
          0.4,
          0.4,
          0.4,
          0.4,
          0.4,
          0.4,
          0.124,
          0.124,
          0.255,
          0.255,
          0.142,
          0.142,
          0.0757,
          0.0757,
          0.242,
          0.242,
          0.171,
          0.171,
          0.111,
          0.111,
          0.776,
          0.776,
          0.109,
          0.109,
          0.324,
          0.324,
          0.296,
          0.296,
          0.188,
          0.188,
          0.089,
          0.089,
          0.159,
          0.159,
          0.0976,
          0.0976,
          0.426,
          0.426,
          0.252,
          0.252,
          0.147,
          0.147,
          0.129,
          0.129,
          0.053,
          0.053,
          0.32,
          0.32,
          0.433,
          0.433,
          0.123,
          0.123,
          0.106,
          0.106,
          0.257,
          0.257
         ],
         "xaxis": "x2",
         "yaxis": "y2"
        }
       ],
       "layout": {
        "barmode": "relative",
        "legend": {
         "tracegroupgap": 0
        },
        "margin": {
         "t": 60
        },
        "template": {
         "data": {
          "bar": [
           {
            "error_x": {
             "color": "#2a3f5f"
            },
            "error_y": {
             "color": "#2a3f5f"
            },
            "marker": {
             "line": {
              "color": "#E5ECF6",
              "width": 0.5
             },
             "pattern": {
              "fillmode": "overlay",
              "size": 10,
              "solidity": 0.2
             }
            },
            "type": "bar"
           }
          ],
          "barpolar": [
           {
            "marker": {
             "line": {
              "color": "#E5ECF6",
              "width": 0.5
             },
             "pattern": {
              "fillmode": "overlay",
              "size": 10,
              "solidity": 0.2
             }
            },
            "type": "barpolar"
           }
          ],
          "carpet": [
           {
            "aaxis": {
             "endlinecolor": "#2a3f5f",
             "gridcolor": "white",
             "linecolor": "white",
             "minorgridcolor": "white",
             "startlinecolor": "#2a3f5f"
            },
            "baxis": {
             "endlinecolor": "#2a3f5f",
             "gridcolor": "white",
             "linecolor": "white",
             "minorgridcolor": "white",
             "startlinecolor": "#2a3f5f"
            },
            "type": "carpet"
           }
          ],
          "choropleth": [
           {
            "colorbar": {
             "outlinewidth": 0,
             "ticks": ""
            },
            "type": "choropleth"
           }
          ],
          "contour": [
           {
            "colorbar": {
             "outlinewidth": 0,
             "ticks": ""
            },
            "colorscale": [
             [
              0,
              "#0d0887"
             ],
             [
              0.1111111111111111,
              "#46039f"
             ],
             [
              0.2222222222222222,
              "#7201a8"
             ],
             [
              0.3333333333333333,
              "#9c179e"
             ],
             [
              0.4444444444444444,
              "#bd3786"
             ],
             [
              0.5555555555555556,
              "#d8576b"
             ],
             [
              0.6666666666666666,
              "#ed7953"
             ],
             [
              0.7777777777777778,
              "#fb9f3a"
             ],
             [
              0.8888888888888888,
              "#fdca26"
             ],
             [
              1,
              "#f0f921"
             ]
            ],
            "type": "contour"
           }
          ],
          "contourcarpet": [
           {
            "colorbar": {
             "outlinewidth": 0,
             "ticks": ""
            },
            "type": "contourcarpet"
           }
          ],
          "heatmap": [
           {
            "colorbar": {
             "outlinewidth": 0,
             "ticks": ""
            },
            "colorscale": [
             [
              0,
              "#0d0887"
             ],
             [
              0.1111111111111111,
              "#46039f"
             ],
             [
              0.2222222222222222,
              "#7201a8"
             ],
             [
              0.3333333333333333,
              "#9c179e"
             ],
             [
              0.4444444444444444,
              "#bd3786"
             ],
             [
              0.5555555555555556,
              "#d8576b"
             ],
             [
              0.6666666666666666,
              "#ed7953"
             ],
             [
              0.7777777777777778,
              "#fb9f3a"
             ],
             [
              0.8888888888888888,
              "#fdca26"
             ],
             [
              1,
              "#f0f921"
             ]
            ],
            "type": "heatmap"
           }
          ],
          "heatmapgl": [
           {
            "colorbar": {
             "outlinewidth": 0,
             "ticks": ""
            },
            "colorscale": [
             [
              0,
              "#0d0887"
             ],
             [
              0.1111111111111111,
              "#46039f"
             ],
             [
              0.2222222222222222,
              "#7201a8"
             ],
             [
              0.3333333333333333,
              "#9c179e"
             ],
             [
              0.4444444444444444,
              "#bd3786"
             ],
             [
              0.5555555555555556,
              "#d8576b"
             ],
             [
              0.6666666666666666,
              "#ed7953"
             ],
             [
              0.7777777777777778,
              "#fb9f3a"
             ],
             [
              0.8888888888888888,
              "#fdca26"
             ],
             [
              1,
              "#f0f921"
             ]
            ],
            "type": "heatmapgl"
           }
          ],
          "histogram": [
           {
            "marker": {
             "pattern": {
              "fillmode": "overlay",
              "size": 10,
              "solidity": 0.2
             }
            },
            "type": "histogram"
           }
          ],
          "histogram2d": [
           {
            "colorbar": {
             "outlinewidth": 0,
             "ticks": ""
            },
            "colorscale": [
             [
              0,
              "#0d0887"
             ],
             [
              0.1111111111111111,
              "#46039f"
             ],
             [
              0.2222222222222222,
              "#7201a8"
             ],
             [
              0.3333333333333333,
              "#9c179e"
             ],
             [
              0.4444444444444444,
              "#bd3786"
             ],
             [
              0.5555555555555556,
              "#d8576b"
             ],
             [
              0.6666666666666666,
              "#ed7953"
             ],
             [
              0.7777777777777778,
              "#fb9f3a"
             ],
             [
              0.8888888888888888,
              "#fdca26"
             ],
             [
              1,
              "#f0f921"
             ]
            ],
            "type": "histogram2d"
           }
          ],
          "histogram2dcontour": [
           {
            "colorbar": {
             "outlinewidth": 0,
             "ticks": ""
            },
            "colorscale": [
             [
              0,
              "#0d0887"
             ],
             [
              0.1111111111111111,
              "#46039f"
             ],
             [
              0.2222222222222222,
              "#7201a8"
             ],
             [
              0.3333333333333333,
              "#9c179e"
             ],
             [
              0.4444444444444444,
              "#bd3786"
             ],
             [
              0.5555555555555556,
              "#d8576b"
             ],
             [
              0.6666666666666666,
              "#ed7953"
             ],
             [
              0.7777777777777778,
              "#fb9f3a"
             ],
             [
              0.8888888888888888,
              "#fdca26"
             ],
             [
              1,
              "#f0f921"
             ]
            ],
            "type": "histogram2dcontour"
           }
          ],
          "mesh3d": [
           {
            "colorbar": {
             "outlinewidth": 0,
             "ticks": ""
            },
            "type": "mesh3d"
           }
          ],
          "parcoords": [
           {
            "line": {
             "colorbar": {
              "outlinewidth": 0,
              "ticks": ""
             }
            },
            "type": "parcoords"
           }
          ],
          "pie": [
           {
            "automargin": true,
            "type": "pie"
           }
          ],
          "scatter": [
           {
            "fillpattern": {
             "fillmode": "overlay",
             "size": 10,
             "solidity": 0.2
            },
            "type": "scatter"
           }
          ],
          "scatter3d": [
           {
            "line": {
             "colorbar": {
              "outlinewidth": 0,
              "ticks": ""
             }
            },
            "marker": {
             "colorbar": {
              "outlinewidth": 0,
              "ticks": ""
             }
            },
            "type": "scatter3d"
           }
          ],
          "scattercarpet": [
           {
            "marker": {
             "colorbar": {
              "outlinewidth": 0,
              "ticks": ""
             }
            },
            "type": "scattercarpet"
           }
          ],
          "scattergeo": [
           {
            "marker": {
             "colorbar": {
              "outlinewidth": 0,
              "ticks": ""
             }
            },
            "type": "scattergeo"
           }
          ],
          "scattergl": [
           {
            "marker": {
             "colorbar": {
              "outlinewidth": 0,
              "ticks": ""
             }
            },
            "type": "scattergl"
           }
          ],
          "scattermapbox": [
           {
            "marker": {
             "colorbar": {
              "outlinewidth": 0,
              "ticks": ""
             }
            },
            "type": "scattermapbox"
           }
          ],
          "scatterpolar": [
           {
            "marker": {
             "colorbar": {
              "outlinewidth": 0,
              "ticks": ""
             }
            },
            "type": "scatterpolar"
           }
          ],
          "scatterpolargl": [
           {
            "marker": {
             "colorbar": {
              "outlinewidth": 0,
              "ticks": ""
             }
            },
            "type": "scatterpolargl"
           }
          ],
          "scatterternary": [
           {
            "marker": {
             "colorbar": {
              "outlinewidth": 0,
              "ticks": ""
             }
            },
            "type": "scatterternary"
           }
          ],
          "surface": [
           {
            "colorbar": {
             "outlinewidth": 0,
             "ticks": ""
            },
            "colorscale": [
             [
              0,
              "#0d0887"
             ],
             [
              0.1111111111111111,
              "#46039f"
             ],
             [
              0.2222222222222222,
              "#7201a8"
             ],
             [
              0.3333333333333333,
              "#9c179e"
             ],
             [
              0.4444444444444444,
              "#bd3786"
             ],
             [
              0.5555555555555556,
              "#d8576b"
             ],
             [
              0.6666666666666666,
              "#ed7953"
             ],
             [
              0.7777777777777778,
              "#fb9f3a"
             ],
             [
              0.8888888888888888,
              "#fdca26"
             ],
             [
              1,
              "#f0f921"
             ]
            ],
            "type": "surface"
           }
          ],
          "table": [
           {
            "cells": {
             "fill": {
              "color": "#EBF0F8"
             },
             "line": {
              "color": "white"
             }
            },
            "header": {
             "fill": {
              "color": "#C8D4E3"
             },
             "line": {
              "color": "white"
             }
            },
            "type": "table"
           }
          ]
         },
         "layout": {
          "annotationdefaults": {
           "arrowcolor": "#2a3f5f",
           "arrowhead": 0,
           "arrowwidth": 1
          },
          "autotypenumbers": "strict",
          "coloraxis": {
           "colorbar": {
            "outlinewidth": 0,
            "ticks": ""
           }
          },
          "colorscale": {
           "diverging": [
            [
             0,
             "#8e0152"
            ],
            [
             0.1,
             "#c51b7d"
            ],
            [
             0.2,
             "#de77ae"
            ],
            [
             0.3,
             "#f1b6da"
            ],
            [
             0.4,
             "#fde0ef"
            ],
            [
             0.5,
             "#f7f7f7"
            ],
            [
             0.6,
             "#e6f5d0"
            ],
            [
             0.7,
             "#b8e186"
            ],
            [
             0.8,
             "#7fbc41"
            ],
            [
             0.9,
             "#4d9221"
            ],
            [
             1,
             "#276419"
            ]
           ],
           "sequential": [
            [
             0,
             "#0d0887"
            ],
            [
             0.1111111111111111,
             "#46039f"
            ],
            [
             0.2222222222222222,
             "#7201a8"
            ],
            [
             0.3333333333333333,
             "#9c179e"
            ],
            [
             0.4444444444444444,
             "#bd3786"
            ],
            [
             0.5555555555555556,
             "#d8576b"
            ],
            [
             0.6666666666666666,
             "#ed7953"
            ],
            [
             0.7777777777777778,
             "#fb9f3a"
            ],
            [
             0.8888888888888888,
             "#fdca26"
            ],
            [
             1,
             "#f0f921"
            ]
           ],
           "sequentialminus": [
            [
             0,
             "#0d0887"
            ],
            [
             0.1111111111111111,
             "#46039f"
            ],
            [
             0.2222222222222222,
             "#7201a8"
            ],
            [
             0.3333333333333333,
             "#9c179e"
            ],
            [
             0.4444444444444444,
             "#bd3786"
            ],
            [
             0.5555555555555556,
             "#d8576b"
            ],
            [
             0.6666666666666666,
             "#ed7953"
            ],
            [
             0.7777777777777778,
             "#fb9f3a"
            ],
            [
             0.8888888888888888,
             "#fdca26"
            ],
            [
             1,
             "#f0f921"
            ]
           ]
          },
          "colorway": [
           "#636efa",
           "#EF553B",
           "#00cc96",
           "#ab63fa",
           "#FFA15A",
           "#19d3f3",
           "#FF6692",
           "#B6E880",
           "#FF97FF",
           "#FECB52"
          ],
          "font": {
           "color": "#2a3f5f"
          },
          "geo": {
           "bgcolor": "white",
           "lakecolor": "white",
           "landcolor": "#E5ECF6",
           "showlakes": true,
           "showland": true,
           "subunitcolor": "white"
          },
          "hoverlabel": {
           "align": "left"
          },
          "hovermode": "closest",
          "mapbox": {
           "style": "light"
          },
          "paper_bgcolor": "white",
          "plot_bgcolor": "#E5ECF6",
          "polar": {
           "angularaxis": {
            "gridcolor": "white",
            "linecolor": "white",
            "ticks": ""
           },
           "bgcolor": "#E5ECF6",
           "radialaxis": {
            "gridcolor": "white",
            "linecolor": "white",
            "ticks": ""
           }
          },
          "scene": {
           "xaxis": {
            "backgroundcolor": "#E5ECF6",
            "gridcolor": "white",
            "gridwidth": 2,
            "linecolor": "white",
            "showbackground": true,
            "ticks": "",
            "zerolinecolor": "white"
           },
           "yaxis": {
            "backgroundcolor": "#E5ECF6",
            "gridcolor": "white",
            "gridwidth": 2,
            "linecolor": "white",
            "showbackground": true,
            "ticks": "",
            "zerolinecolor": "white"
           },
           "zaxis": {
            "backgroundcolor": "#E5ECF6",
            "gridcolor": "white",
            "gridwidth": 2,
            "linecolor": "white",
            "showbackground": true,
            "ticks": "",
            "zerolinecolor": "white"
           }
          },
          "shapedefaults": {
           "line": {
            "color": "#2a3f5f"
           }
          },
          "ternary": {
           "aaxis": {
            "gridcolor": "white",
            "linecolor": "white",
            "ticks": ""
           },
           "baxis": {
            "gridcolor": "white",
            "linecolor": "white",
            "ticks": ""
           },
           "bgcolor": "#E5ECF6",
           "caxis": {
            "gridcolor": "white",
            "linecolor": "white",
            "ticks": ""
           }
          },
          "title": {
           "x": 0.05
          },
          "xaxis": {
           "automargin": true,
           "gridcolor": "white",
           "linecolor": "white",
           "ticks": "",
           "title": {
            "standoff": 15
           },
           "zerolinecolor": "white",
           "zerolinewidth": 2
          },
          "yaxis": {
           "automargin": true,
           "gridcolor": "white",
           "linecolor": "white",
           "ticks": "",
           "title": {
            "standoff": 15
           },
           "zerolinecolor": "white",
           "zerolinewidth": 2
          }
         }
        },
        "xaxis": {
         "anchor": "y",
         "domain": [
          0,
          1
         ],
         "title": {
          "text": "liveness"
         }
        },
        "xaxis2": {
         "anchor": "y2",
         "domain": [
          0,
          1
         ],
         "matches": "x",
         "showgrid": true,
         "showticklabels": false
        },
        "yaxis": {
         "anchor": "x",
         "domain": [
          0,
          0.8316
         ],
         "title": {
          "text": "count"
         }
        },
        "yaxis2": {
         "anchor": "x2",
         "domain": [
          0.8416,
          1
         ],
         "matches": "y2",
         "showgrid": false,
         "showline": false,
         "showticklabels": false,
         "ticks": ""
        }
       }
      }
     },
     "metadata": {},
     "output_type": "display_data"
    }
   ],
   "source": [
    "fig = px.histogram(df, x=\"liveness\", nbins=10, marginal=\"violin\")\n",
    "fig.show()\n"
   ]
  },
  {
   "cell_type": "code",
   "execution_count": 12,
   "metadata": {},
   "outputs": [
    {
     "data": {
      "application/vnd.plotly.v1+json": {
       "config": {
        "plotlyServerURL": "https://plot.ly"
       },
       "data": [
        {
         "autobinx": false,
         "histnorm": "probability density",
         "legendgroup": "liveness",
         "marker": {
          "color": "rgb(31, 119, 180)"
         },
         "name": "liveness",
         "opacity": 0.7,
         "type": "histogram",
         "x": [
          0.0892,
          0.078,
          0.0984,
          0.143,
          0.117,
          0.0794,
          0.191,
          0.141,
          0.107,
          0.0742,
          0.0742,
          0.0742,
          0.0742,
          0.115,
          0.0792,
          0.366,
          0.339,
          0.087,
          0.114,
          0.219,
          0.177,
          0.141,
          0.126,
          0.0994,
          0.384,
          0.719,
          0.0511,
          0.361,
          0.067,
          0.362,
          0.663,
          0.283,
          0.12,
          0.12,
          0.11,
          0.294,
          0.867,
          0.383,
          0.0871,
          0.116,
          0.326,
          0.239,
          0.0449,
          0.187,
          0.328,
          0.104,
          0.212,
          0.0717,
          0.127,
          0.122,
          0.105,
          0.217,
          0.197,
          0.197,
          0.185,
          0.185,
          0.0945,
          0.0945,
          0.0774,
          0.0774,
          0.102,
          0.102,
          0.376,
          0.376,
          0.303,
          0.303,
          0.4,
          0.4,
          0.4,
          0.4,
          0.4,
          0.4,
          0.4,
          0.4,
          0.124,
          0.124,
          0.255,
          0.255,
          0.142,
          0.142,
          0.0757,
          0.0757,
          0.242,
          0.242,
          0.171,
          0.171,
          0.111,
          0.111,
          0.776,
          0.776,
          0.109,
          0.109,
          0.324,
          0.324,
          0.296,
          0.296,
          0.188,
          0.188,
          0.089,
          0.089,
          0.159,
          0.159,
          0.0976,
          0.0976,
          0.426,
          0.426,
          0.252,
          0.252,
          0.147,
          0.147,
          0.129,
          0.129,
          0.053,
          0.053,
          0.32,
          0.32,
          0.433,
          0.433,
          0.123,
          0.123,
          0.106,
          0.106,
          0.257,
          0.257
         ],
         "xaxis": "x",
         "xbins": {
          "end": 0.867,
          "size": 0.1,
          "start": 0.0449
         },
         "yaxis": "y"
        },
        {
         "legendgroup": "liveness",
         "marker": {
          "color": "rgb(31, 119, 180)"
         },
         "mode": "lines",
         "name": "liveness",
         "showlegend": false,
         "type": "scatter",
         "x": [
          0.0449,
          0.0465442,
          0.0481884,
          0.049832600000000005,
          0.0514768,
          0.053121,
          0.0547652,
          0.0564094,
          0.058053600000000004,
          0.0596978,
          0.06134200000000001,
          0.06298619999999999,
          0.0646304,
          0.0662746,
          0.0679188,
          0.069563,
          0.0712072,
          0.07285140000000001,
          0.0744956,
          0.07613980000000001,
          0.077784,
          0.0794282,
          0.08107239999999999,
          0.0827166,
          0.0843608,
          0.086005,
          0.0876492,
          0.0892934,
          0.09093760000000001,
          0.09258179999999999,
          0.094226,
          0.0958702,
          0.0975144,
          0.0991586,
          0.1008028,
          0.102447,
          0.1040912,
          0.1057354,
          0.10737959999999999,
          0.1090238,
          0.11066800000000002,
          0.1123122,
          0.11395639999999999,
          0.1156006,
          0.11724479999999998,
          0.118889,
          0.12053319999999998,
          0.12217739999999999,
          0.1238216,
          0.1254658,
          0.12711,
          0.12875419999999999,
          0.1303984,
          0.13204259999999998,
          0.1336868,
          0.135331,
          0.1369752,
          0.1386194,
          0.1402636,
          0.1419078,
          0.14355199999999999,
          0.1451962,
          0.1468404,
          0.1484846,
          0.1501288,
          0.151773,
          0.1534172,
          0.1550614,
          0.1567056,
          0.15834979999999999,
          0.159994,
          0.16163819999999998,
          0.1632824,
          0.16492659999999998,
          0.1665708,
          0.168215,
          0.1698592,
          0.1715034,
          0.17314759999999998,
          0.1747918,
          0.176436,
          0.1780802,
          0.1797244,
          0.18136859999999996,
          0.18301279999999998,
          0.18465699999999996,
          0.18630119999999997,
          0.18794539999999998,
          0.18958959999999997,
          0.19123379999999998,
          0.19287799999999997,
          0.19452219999999998,
          0.19616639999999996,
          0.19781059999999998,
          0.1994548,
          0.20109899999999997,
          0.20274319999999998,
          0.20438739999999997,
          0.20603159999999998,
          0.20767579999999997,
          0.20931999999999998,
          0.2109642,
          0.21260839999999998,
          0.2142526,
          0.21589679999999997,
          0.21754099999999998,
          0.21918519999999997,
          0.22082939999999998,
          0.2224736,
          0.22411779999999998,
          0.225762,
          0.22740619999999998,
          0.2290504,
          0.23069459999999997,
          0.23233879999999998,
          0.233983,
          0.23562719999999998,
          0.2372714,
          0.23891559999999998,
          0.2405598,
          0.24220399999999997,
          0.2438482,
          0.2454924,
          0.24713659999999998,
          0.2487808,
          0.250425,
          0.2520692,
          0.2537134,
          0.2553576,
          0.2570018,
          0.258646,
          0.2602902,
          0.2619344,
          0.2635786,
          0.2652228,
          0.266867,
          0.2685112,
          0.2701554,
          0.2717996,
          0.27344379999999996,
          0.275088,
          0.2767322,
          0.27837639999999997,
          0.2800206,
          0.2816648,
          0.283309,
          0.28495319999999996,
          0.2865974,
          0.2882416,
          0.28988579999999997,
          0.29153,
          0.2931742,
          0.2948184,
          0.29646259999999997,
          0.2981068,
          0.299751,
          0.3013952,
          0.30303939999999996,
          0.3046836,
          0.3063278,
          0.307972,
          0.30961619999999995,
          0.3112604,
          0.3129046,
          0.3145488,
          0.316193,
          0.31783719999999993,
          0.31948139999999997,
          0.32112559999999996,
          0.3227698,
          0.3244139999999999,
          0.32605819999999996,
          0.32770239999999995,
          0.3293466,
          0.3309908,
          0.33263499999999996,
          0.33427919999999994,
          0.3359234,
          0.33756759999999997,
          0.3392118,
          0.34085599999999994,
          0.3425002,
          0.34414439999999996,
          0.3457886,
          0.34743279999999993,
          0.34907699999999997,
          0.35072119999999996,
          0.3523654,
          0.3540096,
          0.35565379999999996,
          0.35729799999999995,
          0.3589422,
          0.3605864,
          0.3622306,
          0.36387479999999994,
          0.365519,
          0.36716319999999997,
          0.3688074,
          0.37045159999999994,
          0.3720958,
          0.37373999999999996,
          0.3753842,
          0.3770284,
          0.37867259999999997,
          0.38031679999999995,
          0.381961,
          0.3836052,
          0.3852494,
          0.38689359999999995,
          0.3885378,
          0.390182,
          0.3918262,
          0.39347039999999994,
          0.3951146,
          0.39675879999999997,
          0.398403,
          0.4000472,
          0.4016914,
          0.40333559999999996,
          0.40497979999999995,
          0.406624,
          0.40826819999999997,
          0.40991239999999995,
          0.41155659999999994,
          0.4132008,
          0.41484499999999996,
          0.41648919999999995,
          0.41813339999999993,
          0.4197776,
          0.42142179999999996,
          0.423066,
          0.4247101999999999,
          0.42635439999999997,
          0.42799859999999995,
          0.4296428,
          0.431287,
          0.43293119999999996,
          0.43457539999999995,
          0.4362196,
          0.43786379999999997,
          0.43950799999999995,
          0.44115219999999994,
          0.4427964,
          0.44444059999999996,
          0.4460848,
          0.44772899999999993,
          0.4493732,
          0.45101739999999996,
          0.4526616,
          0.4543058,
          0.45594999999999997,
          0.45759419999999995,
          0.4592384,
          0.4608826,
          0.46252679999999996,
          0.46417099999999994,
          0.4658152,
          0.46745939999999997,
          0.4691036,
          0.47074779999999994,
          0.472392,
          0.47403619999999996,
          0.4756804,
          0.47732459999999993,
          0.4789688,
          0.48061299999999996,
          0.4822572,
          0.4839014,
          0.48554559999999997,
          0.48718979999999995,
          0.488834,
          0.4904782,
          0.4921224,
          0.49376659999999994,
          0.49541079999999993,
          0.49705499999999997,
          0.49869919999999995,
          0.5003434,
          0.5019876,
          0.5036318,
          0.505276,
          0.5069202,
          0.5085643999999999,
          0.5102086,
          0.5118528,
          0.513497,
          0.5151412,
          0.5167854,
          0.5184295999999999,
          0.5200738,
          0.521718,
          0.5233622,
          0.5250064,
          0.5266506,
          0.5282948,
          0.529939,
          0.5315831999999999,
          0.5332274,
          0.5348716,
          0.5365158,
          0.53816,
          0.5398042,
          0.5414483999999999,
          0.5430926,
          0.5447368,
          0.546381,
          0.5480252,
          0.5496694,
          0.5513136000000001,
          0.5529578,
          0.554602,
          0.5562462,
          0.5578904,
          0.5595346,
          0.5611788,
          0.5628230000000001,
          0.5644672000000001,
          0.5661113999999999,
          0.5677556,
          0.5693998,
          0.5710440000000001,
          0.5726882,
          0.5743324,
          0.5759766000000001,
          0.5776208,
          0.579265,
          0.5809092,
          0.5825534,
          0.5841976000000001,
          0.5858418,
          0.5874860000000001,
          0.5891302,
          0.5907743999999999,
          0.5924186,
          0.5940628,
          0.5957070000000001,
          0.5973512,
          0.5989954,
          0.6006396,
          0.6022838,
          0.6039279999999999,
          0.6055722,
          0.6072164,
          0.6088606000000001,
          0.6105048,
          0.6121489999999999,
          0.6137932,
          0.6154374,
          0.6170816,
          0.6187258,
          0.62037,
          0.6220142000000001,
          0.6236584,
          0.6253026,
          0.6269468,
          0.628591,
          0.6302352,
          0.6318794,
          0.6335236000000001,
          0.6351678000000001,
          0.6368119999999999,
          0.6384562,
          0.6401004,
          0.6417446000000001,
          0.6433888,
          0.645033,
          0.6466772000000001,
          0.6483214,
          0.6499655999999999,
          0.6516098,
          0.653254,
          0.6548982000000001,
          0.6565424,
          0.6581866,
          0.6598308,
          0.661475,
          0.6631192,
          0.6647634,
          0.6664076,
          0.6680518000000001,
          0.669696,
          0.6713402,
          0.6729844,
          0.6746285999999999,
          0.6762728,
          0.677917,
          0.6795612000000001,
          0.6812054,
          0.6828496,
          0.6844938,
          0.686138,
          0.6877821999999999,
          0.6894264,
          0.6910706,
          0.6927148000000001,
          0.694359,
          0.6960031999999999,
          0.6976474,
          0.6992916,
          0.7009358,
          0.70258,
          0.7042242,
          0.7058684000000001,
          0.7075125999999999,
          0.7091568,
          0.710801,
          0.7124452,
          0.7140894,
          0.7157336,
          0.7173778000000001,
          0.719022,
          0.7206661999999999,
          0.7223104,
          0.7239546,
          0.7255988000000001,
          0.727243,
          0.7288872,
          0.7305314,
          0.7321756,
          0.7338197999999999,
          0.735464,
          0.7371082,
          0.7387524000000001,
          0.7403966,
          0.7420408,
          0.743685,
          0.7453292,
          0.7469734,
          0.7486176,
          0.7502618,
          0.7519060000000001,
          0.7535502,
          0.7551944,
          0.7568386,
          0.7584828,
          0.760127,
          0.7617712,
          0.7634154000000001,
          0.7650596,
          0.7667037999999999,
          0.768348,
          0.7699922,
          0.7716364,
          0.7732806,
          0.7749248,
          0.7765690000000001,
          0.7782131999999999,
          0.7798573999999999,
          0.7815016,
          0.7831458,
          0.78479,
          0.7864342,
          0.7880784,
          0.7897226,
          0.7913667999999999,
          0.793011,
          0.7946552,
          0.7962994,
          0.7979436,
          0.7995878,
          0.801232,
          0.8028762,
          0.8045203999999999,
          0.8061646,
          0.8078088,
          0.8094530000000001,
          0.8110972,
          0.8127414,
          0.8143856,
          0.8160298,
          0.817674,
          0.8193182,
          0.8209624,
          0.8226066000000001,
          0.8242508,
          0.8258949999999999,
          0.8275392,
          0.8291834,
          0.8308276,
          0.8324718,
          0.834116,
          0.8357602000000001,
          0.8374043999999999,
          0.8390486,
          0.8406928,
          0.842337,
          0.8439812,
          0.8456254,
          0.8472696000000001,
          0.8489138,
          0.8505579999999999,
          0.8522022,
          0.8538464,
          0.8554906000000001,
          0.8571348,
          0.858779,
          0.8604232,
          0.8620673999999999,
          0.8637116,
          0.8653558
         ],
         "xaxis": "x",
         "y": [
          2.1420307636718103,
          2.1904880195011414,
          2.238760965003254,
          2.28679333291805,
          2.3345283765533624,
          2.3819089993916944,
          2.4288778878713644,
          2.475377646902205,
          2.5213509376569836,
          2.566740617162868,
          2.611489879202387,
          2.6555423960207745,
          2.6988424603263312,
          2.741335127062515,
          2.782966354425204,
          2.8236831435957113,
          2.863433676659957,
          2.90216745218658,
          2.9398354179419597,
          2.9763901002277007,
          3.0117857293366237,
          3.045978360636139,
          3.078925990803509,
          3.1105886687552835,
          3.1409286008338095,
          3.1699102498361187,
          3.1975004274955428,
          3.2236683800531702,
          3.248385866585157,
          3.271627229782348,
          3.2933694589109668,
          3.3135922447165758,
          3.332278026068316,
          3.3494120281763373,
          3.3649822922519177,
          3.3789796965170082,
          3.3913979685077855,
          3.402233688654518,
          3.411486285158083,
          3.419158020220982,
          3.4252539677281124,
          3.4297819825089118,
          3.432752661348408,
          3.434179295949273,
          3.43407781808045,
          3.4324667371799844,
          3.429367070710032,
          3.4248022675908913,
          3.418798125067448,
          3.411382699386416,
          3.402586210685276,
          3.3924409425141464,
          3.3809811364299596,
          3.368242882117746,
          3.3542640035071587,
          3.3390839413627975,
          3.322743632835072,
          3.305285388463798,
          3.2867527671297307,
          3.267190449449656,
          3.246644110108648,
          3.225160289618586,
          3.2027862659853175,
          3.17956992675764,
          3.1555596419200214,
          3.130804138077699,
          3.105352374367385,
          3.0792534205097524,
          3.052556337400976,
          3.025310060620259,
          2.9975632872085676,
          2.9693643660506357,
          2.9407611921683774,
          2.9118011052087347,
          2.882530792383272,
          2.8529961960905053,
          2.8232424264251472,
          2.7933136787515345,
          2.7632531564912255,
          2.7331029992479094,
          2.702904216365741,
          2.6726966259907985,
          2.6425187996794053,
          2.612408012571529,
          2.582400199123041,
          2.552529914366582,
          2.522830300648194,
          2.4933330597648964,
          2.4640684304079197,
          2.43506517079675,
          2.4063505463710513,
          2.377950322390645,
          2.3498887612783723,
          2.32218862452642,
          2.294871178974233,
          2.267956207254783,
          2.2414620221962562,
          2.2154054849578206,
          2.189802026671274,
          2.164665673354667,
          2.1400090738599826,
          2.115843530613901,
          2.0921790329091747,
          2.069024292503691,
          2.046386781285127,
          2.024272770760872,
          2.0026873731359753,
          1.9816345837456115,
          1.9611173246134694,
          1.9411374889130064,
          1.9216959861150325,
          1.9027927876120005,
          1.8844269726172618,
          1.866596774145629,
          1.849299624890448,
          1.83253220282139,
          1.8162904763367136,
          1.8005697488134536,
          1.7853647024089803,
          1.7706694409774038,
          1.7564775319746089,
          1.742782047235881,
          1.7295756025203657,
          1.7168503957268275,
          1.7045982436952964,
          1.692810617519194,
          1.681478676302366,
          1.6705932993051997,
          1.6601451164333774,
          1.6501245370321067,
          1.64052177695768,
          1.631326883906892,
          1.6225297609933576,
          1.6141201885678866,
          1.6060878442880122,
          1.5984223214492765,
          1.5911131455982483,
          1.5841497894540952,
          1.577521686172334,
          1.5712182409906286,
          1.5652288413026407,
          1.5595428652116183,
          1.5541496886208972,
          1.549038690923605,
          1.544199259358669,
          1.539620792104821,
          1.5352927001883991,
          1.5312044082847747,
          1.5273453544967412,
          1.5237049891965257,
          1.5202727730210484,
          1.5170381741126322,
          1.5139906646997547,
          1.5111197171143174,
          1.508414799343518,
          1.5058653702157376,
          1.5034608743205915,
          1.5011907367639041,
          1.4990443578584256,
          1.4970111078507755,
          1.4950803217844153,
          1.4932412945972977,
          1.4914832765512545,
          1.4897954690881645,
          1.4881670212054756,
          1.4865870264407315,
          1.4850445205513514,
          1.4835284799720694,
          1.482027821128159,
          1.4805314006777563,
          1.4790280167514274,
          1.4775064112514433,
          1.4759552732671575,
          1.4743632436564031,
          1.4727189208358993,
          1.4710108678164686,
          1.4692276205111972,
          1.4673576973368658,
          1.4653896101206758,
          1.4633118763159878,
          1.4611130325221207,
          1.4587816492944345,
          1.4563063472221724,
          1.4536758142424493,
          1.450878824149927,
          1.4479042562527789,
          1.4447411161167412,
          1.4413785573304525,
          1.4378059042168172,
          1.4340126754070053,
          1.4299886081859028,
          1.4257236835103921,
          1.4212081515948771,
          1.416432557951978,
          1.4113877697704624,
          1.4060650025070838,
          1.400455846564428,
          1.3945522939228308,
          1.3883467645912515,
          1.3818321327395136,
          1.3750017523726317,
          1.367849482407156,
          1.360369711009488,
          1.3525573790568688,
          1.344408002583662,
          1.3359176940779927,
          1.327083182497361,
          1.3179018318761344,
          1.3083716584029792,
          1.2984913458522738,
          1.2882602592602737,
          1.2776784567443233,
          1.2667466993715732,
          1.2554664589925557,
          1.2438399239644493,
          1.231870002698827,
          1.2195603249792548,
          1.206915241005,
          1.1939398181284013,
          1.1806398352650234,
          1.1670217749675043,
          1.153092813165904,
          1.1388608065893173,
          1.1243342778954972,
          1.1095223985470382,
          1.0944349694843567,
          1.0790823996571277,
          1.0634756824869116,
          1.0476263703444053,
          1.0315465471349694,
          1.0152487990957813,
          0.9987461839170606,
          0.9820521983082673,
          0.9651807441378879,
          0.9481460932824628,
          0.9309628513267104,
          0.9136459202619043,
          0.8962104603343307,
          0.8786718511991387,
          0.8610456525377689,
          0.8433475642989163,
          0.8255933867239418,
          0.8077989803176906,
          0.7899802259247639,
          0.7721529850695674,
          0.7543330607158242,
          0.7365361585977813,
          0.7187778492710925,
          0.701073531026308,
          0.6834383938021749,
          0.6658873842294665,
          0.6484351719290699,
          0.6310961171803281,
          0.6138842400675455,
          0.5968131912038889,
          0.5798962241229216,
          0.5631461694186304,
          0.5465754107051716,
          0.5301958624577174,
          0.51401894978579,
          0.4980555901803878,
          0.48231617726614007,
          0.4668105665796419,
          0.4515480633851988,
          0.43653741252940736,
          0.42178679032645605,
          0.4073037984566704,
          0.3930954598519131,
          0.3791682165327687,
          0.36552792935425665,
          0.35217987960904734,
          0.3391287724298482,
          0.3263787419258435,
          0.3139333579818563,
          0.3017956346431544,
          0.2899680400037724,
          0.27845250751162753,
          0.2672504485998366,
          0.2563627665502643,
          0.24578987149264225,
          0.2355316964404532,
          0.22558771426323782,
          0.21595695549405391,
          0.20663802687039498,
          0.19762913050710054,
          0.18892808360042163,
          0.1805323385636825,
          0.17243900349661967,
          0.1646448628926688,
          0.15714639849102366,
          0.149939810183283,
          0.1430210368878352,
          0.1363857773088085,
          0.13002951050039335,
          0.12394751616157026,
          0.11813489459075557,
          0.11258658623453519,
          0.10729739076947223,
          0.10226198566095218,
          0.09747494414802929,
          0.09293075260838116,
          0.08862382726258433,
          0.08454853018206566,
          0.0806991845701699,
          0.0770700892908388,
          0.07365553262432809,
          0.07044980523424675,
          0.06744721233490014,
          0.06464208505247249,
          0.062028790977960414,
          0.05960174391395286,
          0.05735541282133047,
          0.0552843299757057,
          0.05338309834694776,
          0.051646398218407774,
          0.05006899306548409,
          0.04864573471592587,
          0.047371567816771994,
          0.046241533635055315,
          0.04525077322136319,
          0.044394529967036314,
          0.04366815158722326,
          0.0430670915631659,
          0.04258691007800283,
          0.04222327448102948,
          0.041971959315763585,
          0.04182884594733881,
          0.041789921824691434,
          0.041851279412734706,
          0.042009114829237845,
          0.04225972622045149,
          0.04259951190867073,
          0.04302496834390421,
          0.043532687890639174,
          0.044119356479378535,
          0.0447817511511827,
          0.04551673752189366,
          0.04632126719107121,
          0.047192375118938146,
          0.04812717699283646,
          0.04912286660284516,
          0.05017671324432851,
          0.051286059163271044,
          0.05244831705835088,
          0.0536609676517794,
          0.05492155733906344,
          0.05622769592597415,
          0.05757705445920535,
          0.05896736315544611,
          0.06039640943190389,
          0.0618620360397079,
          0.06336213930010245,
          0.06489466744191298,
          0.0664576190374525,
          0.06804904153282199,
          0.06966702986747886,
          0.07130972517697069,
          0.07297531357189763,
          0.07466202498546018,
          0.07636813208136664,
          0.0780919492134402,
          0.07983183142795248,
          0.08158617349953617,
          0.08335340899149464,
          0.0851320093313968,
          0.0869204828930747,
          0.08871737407645572,
          0.09052126237711806,
          0.09233076143800727,
          0.09414451807640747,
          0.0959612112800038,
          0.09777955116671204,
          0.09959827790384866,
          0.10141616058319024,
          0.10323199604949104,
          0.10504460768109891,
          0.10685284412240574,
          0.10865557796898746,
          0.1104517044074193,
          0.11224013981287201,
          0.11401982030870916,
          0.11578970029338362,
          0.11754875094097517,
          0.11929595868271314,
          0.1210303236777508,
          0.12275085828233179,
          0.12445658552726824,
          0.12614653761434105,
          0.1278197544428349,
          0.12947528217790333,
          0.131112171872842,
          0.1327294781576069,
          0.13432625800604875,
          0.13590156959434632,
          0.13745447126300353,
          0.13898402059452408,
          0.14048927361849792,
          0.14196928415532123,
          0.14342310330913646,
          0.14484977911981484,
          0.1462483563829182,
          0.147617876645584,
          0.1489573783851685,
          0.15026589737627832,
          0.15154246725052797,
          0.15278612025197813,
          0.15399588818976714,
          0.15517080358793583,
          0.15630990103090125,
          0.1574122187014375,
          0.15847680010642332,
          0.15950269598400213,
          0.16048896638418803,
          0.16143468291337731,
          0.1623389311316743,
          0.16320081309044132,
          0.16401944999606155,
          0.16479398498453948,
          0.1655235859903156,
          0.1662074486915109,
          0.16684479951277736,
          0.16743489866602665,
          0.16797704320853218,
          0.16847057009727706,
          0.1689148592179523,
          0.1693093363667006,
          0.16965347616256468,
          0.16994680486862923,
          0.17018890310005105,
          0.17037940839755922,
          0.1705180176455571,
          0.17060448931469543,
          0.1706386455096778,
          0.17062037380412934,
          0.17054962884558114,
          0.17042643371499094,
          0.17025088102673847,
          0.1700231337566716,
          0.16974342578754445,
          0.169412062163049,
          0.16902941904359886,
          0.1685959433590577,
          0.1681121521556854,
          0.16757863163671857,
          0.16699603589815126,
          0.16636508536344818,
          0.1656865649230825,
          0.1649613217869102,
          0.1641902630594813,
          0.16337435305040174,
          0.16251461033379933,
          0.16161210457278888,
          0.16066795312656088,
          0.1596833174593159,
          0.15865939937173462,
          0.15759743707697024,
          0.15649870114430256,
          0.15536449033454985,
          0.15419612735212515,
          0.1529949545392114,
          0.15176232953793023,
          0.1504996209465772,
          0.14920820399599016,
          0.14788945627191885,
          0.14654475350885818,
          0.14517546548020754,
          0.1437829520088345,
          0.14236855912114166,
          0.14093361536659385,
          0.13947942832334545,
          0.13800728130913956,
          0.13651843031504665,
          0.13501410117786994,
          0.133495487005196,
          0.13196374586513135,
          0.13041999875072924,
          0.12886532782703572,
          0.127300774966544,
          0.12572734057668727,
          0.12414598272083971,
          0.12255761653212678,
          0.12096311391722307,
          0.11936330354522381,
          0.11775897111465429,
          0.11615085988973266,
          0.11453967149514785,
          0.11292606695686765,
          0.11131066797486647,
          0.10969405841217003,
          0.10807678598326305,
          0.10645936412371433,
          0.10484227402183491,
          0.1032259667923218,
          0.10161086577113987,
          0.09999736891038268,
          0.09838585125150272,
          0.0967766674551472,
          0.0951701543658379,
          0.09356663358992236,
          0.09196641406558201
         ],
         "yaxis": "y"
        },
        {
         "legendgroup": "liveness",
         "marker": {
          "color": "rgb(31, 119, 180)",
          "symbol": "line-ns-open"
         },
         "mode": "markers",
         "name": "liveness",
         "showlegend": false,
         "type": "scatter",
         "x": [
          0.0892,
          0.078,
          0.0984,
          0.143,
          0.117,
          0.0794,
          0.191,
          0.141,
          0.107,
          0.0742,
          0.0742,
          0.0742,
          0.0742,
          0.115,
          0.0792,
          0.366,
          0.339,
          0.087,
          0.114,
          0.219,
          0.177,
          0.141,
          0.126,
          0.0994,
          0.384,
          0.719,
          0.0511,
          0.361,
          0.067,
          0.362,
          0.663,
          0.283,
          0.12,
          0.12,
          0.11,
          0.294,
          0.867,
          0.383,
          0.0871,
          0.116,
          0.326,
          0.239,
          0.0449,
          0.187,
          0.328,
          0.104,
          0.212,
          0.0717,
          0.127,
          0.122,
          0.105,
          0.217,
          0.197,
          0.197,
          0.185,
          0.185,
          0.0945,
          0.0945,
          0.0774,
          0.0774,
          0.102,
          0.102,
          0.376,
          0.376,
          0.303,
          0.303,
          0.4,
          0.4,
          0.4,
          0.4,
          0.4,
          0.4,
          0.4,
          0.4,
          0.124,
          0.124,
          0.255,
          0.255,
          0.142,
          0.142,
          0.0757,
          0.0757,
          0.242,
          0.242,
          0.171,
          0.171,
          0.111,
          0.111,
          0.776,
          0.776,
          0.109,
          0.109,
          0.324,
          0.324,
          0.296,
          0.296,
          0.188,
          0.188,
          0.089,
          0.089,
          0.159,
          0.159,
          0.0976,
          0.0976,
          0.426,
          0.426,
          0.252,
          0.252,
          0.147,
          0.147,
          0.129,
          0.129,
          0.053,
          0.053,
          0.32,
          0.32,
          0.433,
          0.433,
          0.123,
          0.123,
          0.106,
          0.106,
          0.257,
          0.257
         ],
         "xaxis": "x",
         "y": [
          "liveness",
          "liveness",
          "liveness",
          "liveness",
          "liveness",
          "liveness",
          "liveness",
          "liveness",
          "liveness",
          "liveness",
          "liveness",
          "liveness",
          "liveness",
          "liveness",
          "liveness",
          "liveness",
          "liveness",
          "liveness",
          "liveness",
          "liveness",
          "liveness",
          "liveness",
          "liveness",
          "liveness",
          "liveness",
          "liveness",
          "liveness",
          "liveness",
          "liveness",
          "liveness",
          "liveness",
          "liveness",
          "liveness",
          "liveness",
          "liveness",
          "liveness",
          "liveness",
          "liveness",
          "liveness",
          "liveness",
          "liveness",
          "liveness",
          "liveness",
          "liveness",
          "liveness",
          "liveness",
          "liveness",
          "liveness",
          "liveness",
          "liveness",
          "liveness",
          "liveness",
          "liveness",
          "liveness",
          "liveness",
          "liveness",
          "liveness",
          "liveness",
          "liveness",
          "liveness",
          "liveness",
          "liveness",
          "liveness",
          "liveness",
          "liveness",
          "liveness",
          "liveness",
          "liveness",
          "liveness",
          "liveness",
          "liveness",
          "liveness",
          "liveness",
          "liveness",
          "liveness",
          "liveness",
          "liveness",
          "liveness",
          "liveness",
          "liveness",
          "liveness",
          "liveness",
          "liveness",
          "liveness",
          "liveness",
          "liveness",
          "liveness",
          "liveness",
          "liveness",
          "liveness",
          "liveness",
          "liveness",
          "liveness",
          "liveness",
          "liveness",
          "liveness",
          "liveness",
          "liveness",
          "liveness",
          "liveness",
          "liveness",
          "liveness",
          "liveness",
          "liveness",
          "liveness",
          "liveness",
          "liveness",
          "liveness",
          "liveness",
          "liveness",
          "liveness",
          "liveness",
          "liveness",
          "liveness",
          "liveness",
          "liveness",
          "liveness",
          "liveness",
          "liveness",
          "liveness",
          "liveness",
          "liveness",
          "liveness",
          "liveness"
         ],
         "yaxis": "y2"
        }
       ],
       "layout": {
        "barmode": "overlay",
        "hovermode": "closest",
        "legend": {
         "traceorder": "reversed"
        },
        "template": {
         "data": {
          "bar": [
           {
            "error_x": {
             "color": "#2a3f5f"
            },
            "error_y": {
             "color": "#2a3f5f"
            },
            "marker": {
             "line": {
              "color": "#E5ECF6",
              "width": 0.5
             },
             "pattern": {
              "fillmode": "overlay",
              "size": 10,
              "solidity": 0.2
             }
            },
            "type": "bar"
           }
          ],
          "barpolar": [
           {
            "marker": {
             "line": {
              "color": "#E5ECF6",
              "width": 0.5
             },
             "pattern": {
              "fillmode": "overlay",
              "size": 10,
              "solidity": 0.2
             }
            },
            "type": "barpolar"
           }
          ],
          "carpet": [
           {
            "aaxis": {
             "endlinecolor": "#2a3f5f",
             "gridcolor": "white",
             "linecolor": "white",
             "minorgridcolor": "white",
             "startlinecolor": "#2a3f5f"
            },
            "baxis": {
             "endlinecolor": "#2a3f5f",
             "gridcolor": "white",
             "linecolor": "white",
             "minorgridcolor": "white",
             "startlinecolor": "#2a3f5f"
            },
            "type": "carpet"
           }
          ],
          "choropleth": [
           {
            "colorbar": {
             "outlinewidth": 0,
             "ticks": ""
            },
            "type": "choropleth"
           }
          ],
          "contour": [
           {
            "colorbar": {
             "outlinewidth": 0,
             "ticks": ""
            },
            "colorscale": [
             [
              0,
              "#0d0887"
             ],
             [
              0.1111111111111111,
              "#46039f"
             ],
             [
              0.2222222222222222,
              "#7201a8"
             ],
             [
              0.3333333333333333,
              "#9c179e"
             ],
             [
              0.4444444444444444,
              "#bd3786"
             ],
             [
              0.5555555555555556,
              "#d8576b"
             ],
             [
              0.6666666666666666,
              "#ed7953"
             ],
             [
              0.7777777777777778,
              "#fb9f3a"
             ],
             [
              0.8888888888888888,
              "#fdca26"
             ],
             [
              1,
              "#f0f921"
             ]
            ],
            "type": "contour"
           }
          ],
          "contourcarpet": [
           {
            "colorbar": {
             "outlinewidth": 0,
             "ticks": ""
            },
            "type": "contourcarpet"
           }
          ],
          "heatmap": [
           {
            "colorbar": {
             "outlinewidth": 0,
             "ticks": ""
            },
            "colorscale": [
             [
              0,
              "#0d0887"
             ],
             [
              0.1111111111111111,
              "#46039f"
             ],
             [
              0.2222222222222222,
              "#7201a8"
             ],
             [
              0.3333333333333333,
              "#9c179e"
             ],
             [
              0.4444444444444444,
              "#bd3786"
             ],
             [
              0.5555555555555556,
              "#d8576b"
             ],
             [
              0.6666666666666666,
              "#ed7953"
             ],
             [
              0.7777777777777778,
              "#fb9f3a"
             ],
             [
              0.8888888888888888,
              "#fdca26"
             ],
             [
              1,
              "#f0f921"
             ]
            ],
            "type": "heatmap"
           }
          ],
          "heatmapgl": [
           {
            "colorbar": {
             "outlinewidth": 0,
             "ticks": ""
            },
            "colorscale": [
             [
              0,
              "#0d0887"
             ],
             [
              0.1111111111111111,
              "#46039f"
             ],
             [
              0.2222222222222222,
              "#7201a8"
             ],
             [
              0.3333333333333333,
              "#9c179e"
             ],
             [
              0.4444444444444444,
              "#bd3786"
             ],
             [
              0.5555555555555556,
              "#d8576b"
             ],
             [
              0.6666666666666666,
              "#ed7953"
             ],
             [
              0.7777777777777778,
              "#fb9f3a"
             ],
             [
              0.8888888888888888,
              "#fdca26"
             ],
             [
              1,
              "#f0f921"
             ]
            ],
            "type": "heatmapgl"
           }
          ],
          "histogram": [
           {
            "marker": {
             "pattern": {
              "fillmode": "overlay",
              "size": 10,
              "solidity": 0.2
             }
            },
            "type": "histogram"
           }
          ],
          "histogram2d": [
           {
            "colorbar": {
             "outlinewidth": 0,
             "ticks": ""
            },
            "colorscale": [
             [
              0,
              "#0d0887"
             ],
             [
              0.1111111111111111,
              "#46039f"
             ],
             [
              0.2222222222222222,
              "#7201a8"
             ],
             [
              0.3333333333333333,
              "#9c179e"
             ],
             [
              0.4444444444444444,
              "#bd3786"
             ],
             [
              0.5555555555555556,
              "#d8576b"
             ],
             [
              0.6666666666666666,
              "#ed7953"
             ],
             [
              0.7777777777777778,
              "#fb9f3a"
             ],
             [
              0.8888888888888888,
              "#fdca26"
             ],
             [
              1,
              "#f0f921"
             ]
            ],
            "type": "histogram2d"
           }
          ],
          "histogram2dcontour": [
           {
            "colorbar": {
             "outlinewidth": 0,
             "ticks": ""
            },
            "colorscale": [
             [
              0,
              "#0d0887"
             ],
             [
              0.1111111111111111,
              "#46039f"
             ],
             [
              0.2222222222222222,
              "#7201a8"
             ],
             [
              0.3333333333333333,
              "#9c179e"
             ],
             [
              0.4444444444444444,
              "#bd3786"
             ],
             [
              0.5555555555555556,
              "#d8576b"
             ],
             [
              0.6666666666666666,
              "#ed7953"
             ],
             [
              0.7777777777777778,
              "#fb9f3a"
             ],
             [
              0.8888888888888888,
              "#fdca26"
             ],
             [
              1,
              "#f0f921"
             ]
            ],
            "type": "histogram2dcontour"
           }
          ],
          "mesh3d": [
           {
            "colorbar": {
             "outlinewidth": 0,
             "ticks": ""
            },
            "type": "mesh3d"
           }
          ],
          "parcoords": [
           {
            "line": {
             "colorbar": {
              "outlinewidth": 0,
              "ticks": ""
             }
            },
            "type": "parcoords"
           }
          ],
          "pie": [
           {
            "automargin": true,
            "type": "pie"
           }
          ],
          "scatter": [
           {
            "fillpattern": {
             "fillmode": "overlay",
             "size": 10,
             "solidity": 0.2
            },
            "type": "scatter"
           }
          ],
          "scatter3d": [
           {
            "line": {
             "colorbar": {
              "outlinewidth": 0,
              "ticks": ""
             }
            },
            "marker": {
             "colorbar": {
              "outlinewidth": 0,
              "ticks": ""
             }
            },
            "type": "scatter3d"
           }
          ],
          "scattercarpet": [
           {
            "marker": {
             "colorbar": {
              "outlinewidth": 0,
              "ticks": ""
             }
            },
            "type": "scattercarpet"
           }
          ],
          "scattergeo": [
           {
            "marker": {
             "colorbar": {
              "outlinewidth": 0,
              "ticks": ""
             }
            },
            "type": "scattergeo"
           }
          ],
          "scattergl": [
           {
            "marker": {
             "colorbar": {
              "outlinewidth": 0,
              "ticks": ""
             }
            },
            "type": "scattergl"
           }
          ],
          "scattermapbox": [
           {
            "marker": {
             "colorbar": {
              "outlinewidth": 0,
              "ticks": ""
             }
            },
            "type": "scattermapbox"
           }
          ],
          "scatterpolar": [
           {
            "marker": {
             "colorbar": {
              "outlinewidth": 0,
              "ticks": ""
             }
            },
            "type": "scatterpolar"
           }
          ],
          "scatterpolargl": [
           {
            "marker": {
             "colorbar": {
              "outlinewidth": 0,
              "ticks": ""
             }
            },
            "type": "scatterpolargl"
           }
          ],
          "scatterternary": [
           {
            "marker": {
             "colorbar": {
              "outlinewidth": 0,
              "ticks": ""
             }
            },
            "type": "scatterternary"
           }
          ],
          "surface": [
           {
            "colorbar": {
             "outlinewidth": 0,
             "ticks": ""
            },
            "colorscale": [
             [
              0,
              "#0d0887"
             ],
             [
              0.1111111111111111,
              "#46039f"
             ],
             [
              0.2222222222222222,
              "#7201a8"
             ],
             [
              0.3333333333333333,
              "#9c179e"
             ],
             [
              0.4444444444444444,
              "#bd3786"
             ],
             [
              0.5555555555555556,
              "#d8576b"
             ],
             [
              0.6666666666666666,
              "#ed7953"
             ],
             [
              0.7777777777777778,
              "#fb9f3a"
             ],
             [
              0.8888888888888888,
              "#fdca26"
             ],
             [
              1,
              "#f0f921"
             ]
            ],
            "type": "surface"
           }
          ],
          "table": [
           {
            "cells": {
             "fill": {
              "color": "#EBF0F8"
             },
             "line": {
              "color": "white"
             }
            },
            "header": {
             "fill": {
              "color": "#C8D4E3"
             },
             "line": {
              "color": "white"
             }
            },
            "type": "table"
           }
          ]
         },
         "layout": {
          "annotationdefaults": {
           "arrowcolor": "#2a3f5f",
           "arrowhead": 0,
           "arrowwidth": 1
          },
          "autotypenumbers": "strict",
          "coloraxis": {
           "colorbar": {
            "outlinewidth": 0,
            "ticks": ""
           }
          },
          "colorscale": {
           "diverging": [
            [
             0,
             "#8e0152"
            ],
            [
             0.1,
             "#c51b7d"
            ],
            [
             0.2,
             "#de77ae"
            ],
            [
             0.3,
             "#f1b6da"
            ],
            [
             0.4,
             "#fde0ef"
            ],
            [
             0.5,
             "#f7f7f7"
            ],
            [
             0.6,
             "#e6f5d0"
            ],
            [
             0.7,
             "#b8e186"
            ],
            [
             0.8,
             "#7fbc41"
            ],
            [
             0.9,
             "#4d9221"
            ],
            [
             1,
             "#276419"
            ]
           ],
           "sequential": [
            [
             0,
             "#0d0887"
            ],
            [
             0.1111111111111111,
             "#46039f"
            ],
            [
             0.2222222222222222,
             "#7201a8"
            ],
            [
             0.3333333333333333,
             "#9c179e"
            ],
            [
             0.4444444444444444,
             "#bd3786"
            ],
            [
             0.5555555555555556,
             "#d8576b"
            ],
            [
             0.6666666666666666,
             "#ed7953"
            ],
            [
             0.7777777777777778,
             "#fb9f3a"
            ],
            [
             0.8888888888888888,
             "#fdca26"
            ],
            [
             1,
             "#f0f921"
            ]
           ],
           "sequentialminus": [
            [
             0,
             "#0d0887"
            ],
            [
             0.1111111111111111,
             "#46039f"
            ],
            [
             0.2222222222222222,
             "#7201a8"
            ],
            [
             0.3333333333333333,
             "#9c179e"
            ],
            [
             0.4444444444444444,
             "#bd3786"
            ],
            [
             0.5555555555555556,
             "#d8576b"
            ],
            [
             0.6666666666666666,
             "#ed7953"
            ],
            [
             0.7777777777777778,
             "#fb9f3a"
            ],
            [
             0.8888888888888888,
             "#fdca26"
            ],
            [
             1,
             "#f0f921"
            ]
           ]
          },
          "colorway": [
           "#636efa",
           "#EF553B",
           "#00cc96",
           "#ab63fa",
           "#FFA15A",
           "#19d3f3",
           "#FF6692",
           "#B6E880",
           "#FF97FF",
           "#FECB52"
          ],
          "font": {
           "color": "#2a3f5f"
          },
          "geo": {
           "bgcolor": "white",
           "lakecolor": "white",
           "landcolor": "#E5ECF6",
           "showlakes": true,
           "showland": true,
           "subunitcolor": "white"
          },
          "hoverlabel": {
           "align": "left"
          },
          "hovermode": "closest",
          "mapbox": {
           "style": "light"
          },
          "paper_bgcolor": "white",
          "plot_bgcolor": "#E5ECF6",
          "polar": {
           "angularaxis": {
            "gridcolor": "white",
            "linecolor": "white",
            "ticks": ""
           },
           "bgcolor": "#E5ECF6",
           "radialaxis": {
            "gridcolor": "white",
            "linecolor": "white",
            "ticks": ""
           }
          },
          "scene": {
           "xaxis": {
            "backgroundcolor": "#E5ECF6",
            "gridcolor": "white",
            "gridwidth": 2,
            "linecolor": "white",
            "showbackground": true,
            "ticks": "",
            "zerolinecolor": "white"
           },
           "yaxis": {
            "backgroundcolor": "#E5ECF6",
            "gridcolor": "white",
            "gridwidth": 2,
            "linecolor": "white",
            "showbackground": true,
            "ticks": "",
            "zerolinecolor": "white"
           },
           "zaxis": {
            "backgroundcolor": "#E5ECF6",
            "gridcolor": "white",
            "gridwidth": 2,
            "linecolor": "white",
            "showbackground": true,
            "ticks": "",
            "zerolinecolor": "white"
           }
          },
          "shapedefaults": {
           "line": {
            "color": "#2a3f5f"
           }
          },
          "ternary": {
           "aaxis": {
            "gridcolor": "white",
            "linecolor": "white",
            "ticks": ""
           },
           "baxis": {
            "gridcolor": "white",
            "linecolor": "white",
            "ticks": ""
           },
           "bgcolor": "#E5ECF6",
           "caxis": {
            "gridcolor": "white",
            "linecolor": "white",
            "ticks": ""
           }
          },
          "title": {
           "x": 0.05
          },
          "xaxis": {
           "automargin": true,
           "gridcolor": "white",
           "linecolor": "white",
           "ticks": "",
           "title": {
            "standoff": 15
           },
           "zerolinecolor": "white",
           "zerolinewidth": 2
          },
          "yaxis": {
           "automargin": true,
           "gridcolor": "white",
           "linecolor": "white",
           "ticks": "",
           "title": {
            "standoff": 15
           },
           "zerolinecolor": "white",
           "zerolinewidth": 2
          }
         }
        },
        "xaxis": {
         "anchor": "y2",
         "domain": [
          0,
          1
         ],
         "zeroline": false
        },
        "yaxis": {
         "anchor": "free",
         "domain": [
          0.35,
          1
         ],
         "position": 0
        },
        "yaxis2": {
         "anchor": "x",
         "domain": [
          0,
          0.25
         ],
         "dtick": 1,
         "showticklabels": false
        }
       }
      }
     },
     "metadata": {},
     "output_type": "display_data"
    }
   ],
   "source": [
    "fig = ff.create_distplot([df[\"liveness\"]], [\"liveness\"], bin_size=.1)\n",
    "fig.show()"
   ]
  },
  {
   "cell_type": "markdown",
   "metadata": {},
   "source": []
  }
 ],
 "metadata": {
  "kernelspec": {
   "display_name": "venv",
   "language": "python",
   "name": "python3"
  },
  "language_info": {
   "codemirror_mode": {
    "name": "ipython",
    "version": 3
   },
   "file_extension": ".py",
   "mimetype": "text/x-python",
   "name": "python",
   "nbconvert_exporter": "python",
   "pygments_lexer": "ipython3",
   "version": "3.10.7"
  },
  "orig_nbformat": 4
 },
 "nbformat": 4,
 "nbformat_minor": 2
}
