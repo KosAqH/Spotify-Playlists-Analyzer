{
 "cells": [
  {
   "cell_type": "code",
   "execution_count": 1,
   "metadata": {},
   "outputs": [],
   "source": [
    "import plotly\n",
    "import plotly.figure_factory as ff\n",
    "import plotly.express as px\n",
    "import pandas as pd\n",
    "\n",
    "from app.spotify_api.spotify_api import SpotifyApi\n",
    "from app.spotify_api.spotify_connection import SpotifyConn\n",
    "from app.spotify_api.spotify_utils import load_credentials\n",
    "from app.spotify_api.audio_data import AudioData"
   ]
  },
  {
   "cell_type": "code",
   "execution_count": 2,
   "metadata": {},
   "outputs": [
    {
     "name": "stdout",
     "output_type": "stream",
     "text": [
      "\n"
     ]
    }
   ],
   "source": [
    "def get_spotify_access_token():\n",
    "    print()\n",
    "    api_key, api_secret = load_credentials()\n",
    "    conn = SpotifyConn()\n",
    "    conn.authorize(api_key, api_secret)\n",
    "    token = conn.get_access_token()\n",
    "    return token\n",
    "\n",
    "token = get_spotify_access_token()\n",
    "api = SpotifyApi(token)"
   ]
  },
  {
   "cell_type": "code",
   "execution_count": 3,
   "metadata": {},
   "outputs": [],
   "source": [
    "p = api.RequestPlaylist(\"387OhCc6mEbm96wzfFfhpp\")  # 387OhCc6mEbm96wzfFfhpp\n",
    "playlist_meta = api.RetrievePlaylistMetadata(p)\n",
    "ids = api.retrieveIdsFromPlaylist(\"387OhCc6mEbm96wzfFfhpp\", playlist_meta[\"total_count\"])"
   ]
  },
  {
   "cell_type": "code",
   "execution_count": 4,
   "metadata": {},
   "outputs": [],
   "source": [
    "meta = api.retrieveSongsMetadata(ids)\n",
    "features = api.retrieveSongsAudioFeatures(ids)\n",
    "\n",
    "df_meta = pd.DataFrame(meta)\n",
    "df_af = pd.DataFrame(features)\n",
    "\n",
    "AD = AudioData()\n",
    "df = AD.mergeTracksData(df_meta, df_af)"
   ]
  },
  {
   "cell_type": "code",
   "execution_count": 5,
   "metadata": {},
   "outputs": [
    {
     "data": {
      "text/plain": [
       "Index(['album', 'artists', 'available_markets', 'disc_number', 'duration_ms_x',\n",
       "       'explicit', 'external_ids', 'external_urls', 'href', 'id_x', 'is_local',\n",
       "       'name', 'popularity', 'preview_url', 'track_number', 'type_x', 'uri_x',\n",
       "       'album_name', 'album_id', 'genres', 'artist_name', 'danceability',\n",
       "       'energy', 'key', 'loudness', 'mode', 'speechiness', 'acousticness',\n",
       "       'instrumentalness', 'liveness', 'valence', 'tempo', 'type_y', 'id_y',\n",
       "       'uri_y', 'track_href', 'analysis_url', 'duration_ms_y',\n",
       "       'time_signature'],\n",
       "      dtype='object')"
      ]
     },
     "execution_count": 5,
     "metadata": {},
     "output_type": "execute_result"
    }
   ],
   "source": [
    "df.columns"
   ]
  },
  {
   "cell_type": "code",
   "execution_count": 6,
   "metadata": {},
   "outputs": [
    {
     "data": {
      "text/plain": [
       "mode\n",
       "1    51\n",
       "0    33\n",
       "Name: count, dtype: int64"
      ]
     },
     "execution_count": 6,
     "metadata": {},
     "output_type": "execute_result"
    }
   ],
   "source": [
    "df[\"mode\"].value_counts()"
   ]
  },
  {
   "cell_type": "code",
   "execution_count": 7,
   "metadata": {},
   "outputs": [
    {
     "data": {
      "text/plain": [
       "key\n",
       "1     15\n",
       "2     13\n",
       "9      9\n",
       "0      9\n",
       "5      8\n",
       "4      8\n",
       "7      6\n",
       "6      5\n",
       "8      4\n",
       "11     4\n",
       "3      2\n",
       "10     1\n",
       "Name: count, dtype: int64"
      ]
     },
     "execution_count": 7,
     "metadata": {},
     "output_type": "execute_result"
    }
   ],
   "source": [
    "df[\"key\"].value_counts()"
   ]
  },
  {
   "cell_type": "code",
   "execution_count": 9,
   "metadata": {},
   "outputs": [
    {
     "data": {
      "text/plain": [
       "84"
      ]
     },
     "execution_count": 9,
     "metadata": {},
     "output_type": "execute_result"
    }
   ],
   "source": [
    "len(df)"
   ]
  },
  {
   "cell_type": "code",
   "execution_count": 10,
   "metadata": {},
   "outputs": [
    {
     "data": {
      "text/plain": [
       "84"
      ]
     },
     "execution_count": 10,
     "metadata": {},
     "output_type": "execute_result"
    }
   ],
   "source": [
    "len(df_meta)"
   ]
  },
  {
   "cell_type": "code",
   "execution_count": 11,
   "metadata": {},
   "outputs": [
    {
     "data": {
      "text/plain": [
       "84"
      ]
     },
     "execution_count": 11,
     "metadata": {},
     "output_type": "execute_result"
    }
   ],
   "source": [
    "len(df_af)"
   ]
  },
  {
   "cell_type": "code",
   "execution_count": 12,
   "metadata": {},
   "outputs": [
    {
     "data": {
      "text/plain": [
       "name\n",
       "club2020                                          2\n",
       "Złamane serce jest OK                             2\n",
       "STAR WALKIN' (League of Legends Worlds Anthem)    1\n",
       "Body Paint                                        1\n",
       "Przypływ                                          1\n",
       "                                                 ..\n",
       "If I Had a Tail                                   1\n",
       "The Way You Used To Do                            1\n",
       "Carnavoyeur                                       1\n",
       "My God Is the Sun                                 1\n",
       "California                                        1\n",
       "Name: count, Length: 82, dtype: int64"
      ]
     },
     "execution_count": 12,
     "metadata": {},
     "output_type": "execute_result"
    }
   ],
   "source": [
    "df[\"name\"].value_counts()"
   ]
  },
  {
   "cell_type": "code",
   "execution_count": 13,
   "metadata": {},
   "outputs": [
    {
     "data": {
      "text/html": [
       "<div>\n",
       "<style scoped>\n",
       "    .dataframe tbody tr th:only-of-type {\n",
       "        vertical-align: middle;\n",
       "    }\n",
       "\n",
       "    .dataframe tbody tr th {\n",
       "        vertical-align: top;\n",
       "    }\n",
       "\n",
       "    .dataframe thead th {\n",
       "        text-align: right;\n",
       "    }\n",
       "</style>\n",
       "<table border=\"1\" class=\"dataframe\">\n",
       "  <thead>\n",
       "    <tr style=\"text-align: right;\">\n",
       "      <th></th>\n",
       "      <th>album</th>\n",
       "      <th>artists</th>\n",
       "      <th>available_markets</th>\n",
       "      <th>disc_number</th>\n",
       "      <th>duration_ms_x</th>\n",
       "      <th>explicit</th>\n",
       "      <th>external_ids</th>\n",
       "      <th>external_urls</th>\n",
       "      <th>href</th>\n",
       "      <th>id_x</th>\n",
       "      <th>...</th>\n",
       "      <th>liveness</th>\n",
       "      <th>valence</th>\n",
       "      <th>tempo</th>\n",
       "      <th>type_y</th>\n",
       "      <th>id_y</th>\n",
       "      <th>uri_y</th>\n",
       "      <th>track_href</th>\n",
       "      <th>analysis_url</th>\n",
       "      <th>duration_ms_y</th>\n",
       "      <th>time_signature</th>\n",
       "    </tr>\n",
       "  </thead>\n",
       "  <tbody>\n",
       "    <tr>\n",
       "      <th>57</th>\n",
       "      <td>{'album_type': 'album', 'artists': [{'external...</td>\n",
       "      <td>[{'external_urls': {'spotify': 'https://open.s...</td>\n",
       "      <td>[AR, AU, AT, BE, BO, BR, BG, CA, CL, CO, CR, C...</td>\n",
       "      <td>1</td>\n",
       "      <td>124687</td>\n",
       "      <td>True</td>\n",
       "      <td>{'isrc': 'PLI292200592'}</td>\n",
       "      <td>{'spotify': 'https://open.spotify.com/track/3K...</td>\n",
       "      <td>https://api.spotify.com/v1/tracks/3KJykNgI7TNt...</td>\n",
       "      <td>3KJykNgI7TNt021kxuwmZN</td>\n",
       "      <td>...</td>\n",
       "      <td>0.4</td>\n",
       "      <td>0.472</td>\n",
       "      <td>127.83</td>\n",
       "      <td>audio_features</td>\n",
       "      <td>3KJykNgI7TNt021kxuwmZN</td>\n",
       "      <td>spotify:track:3KJykNgI7TNt021kxuwmZN</td>\n",
       "      <td>https://api.spotify.com/v1/tracks/3KJykNgI7TNt...</td>\n",
       "      <td>https://api.spotify.com/v1/audio-analysis/3KJy...</td>\n",
       "      <td>124687</td>\n",
       "      <td>4</td>\n",
       "    </tr>\n",
       "    <tr>\n",
       "      <th>79</th>\n",
       "      <td>{'album_type': 'album', 'artists': [{'external...</td>\n",
       "      <td>[{'external_urls': {'spotify': 'https://open.s...</td>\n",
       "      <td>[AR, AU, AT, BE, BO, BR, BG, CA, CL, CO, CR, C...</td>\n",
       "      <td>1</td>\n",
       "      <td>124687</td>\n",
       "      <td>True</td>\n",
       "      <td>{'isrc': 'PLI292200592'}</td>\n",
       "      <td>{'spotify': 'https://open.spotify.com/track/3K...</td>\n",
       "      <td>https://api.spotify.com/v1/tracks/3KJykNgI7TNt...</td>\n",
       "      <td>3KJykNgI7TNt021kxuwmZN</td>\n",
       "      <td>...</td>\n",
       "      <td>0.4</td>\n",
       "      <td>0.472</td>\n",
       "      <td>127.83</td>\n",
       "      <td>audio_features</td>\n",
       "      <td>3KJykNgI7TNt021kxuwmZN</td>\n",
       "      <td>spotify:track:3KJykNgI7TNt021kxuwmZN</td>\n",
       "      <td>https://api.spotify.com/v1/tracks/3KJykNgI7TNt...</td>\n",
       "      <td>https://api.spotify.com/v1/audio-analysis/3KJy...</td>\n",
       "      <td>124687</td>\n",
       "      <td>4</td>\n",
       "    </tr>\n",
       "  </tbody>\n",
       "</table>\n",
       "<p>2 rows × 39 columns</p>\n",
       "</div>"
      ],
      "text/plain": [
       "                                                album  \\\n",
       "57  {'album_type': 'album', 'artists': [{'external...   \n",
       "79  {'album_type': 'album', 'artists': [{'external...   \n",
       "\n",
       "                                              artists  \\\n",
       "57  [{'external_urls': {'spotify': 'https://open.s...   \n",
       "79  [{'external_urls': {'spotify': 'https://open.s...   \n",
       "\n",
       "                                    available_markets  disc_number  \\\n",
       "57  [AR, AU, AT, BE, BO, BR, BG, CA, CL, CO, CR, C...            1   \n",
       "79  [AR, AU, AT, BE, BO, BR, BG, CA, CL, CO, CR, C...            1   \n",
       "\n",
       "    duration_ms_x  explicit              external_ids  \\\n",
       "57         124687      True  {'isrc': 'PLI292200592'}   \n",
       "79         124687      True  {'isrc': 'PLI292200592'}   \n",
       "\n",
       "                                        external_urls  \\\n",
       "57  {'spotify': 'https://open.spotify.com/track/3K...   \n",
       "79  {'spotify': 'https://open.spotify.com/track/3K...   \n",
       "\n",
       "                                                 href                    id_x  \\\n",
       "57  https://api.spotify.com/v1/tracks/3KJykNgI7TNt...  3KJykNgI7TNt021kxuwmZN   \n",
       "79  https://api.spotify.com/v1/tracks/3KJykNgI7TNt...  3KJykNgI7TNt021kxuwmZN   \n",
       "\n",
       "    ...  liveness valence   tempo          type_y                    id_y  \\\n",
       "57  ...       0.4   0.472  127.83  audio_features  3KJykNgI7TNt021kxuwmZN   \n",
       "79  ...       0.4   0.472  127.83  audio_features  3KJykNgI7TNt021kxuwmZN   \n",
       "\n",
       "                                   uri_y  \\\n",
       "57  spotify:track:3KJykNgI7TNt021kxuwmZN   \n",
       "79  spotify:track:3KJykNgI7TNt021kxuwmZN   \n",
       "\n",
       "                                           track_href  \\\n",
       "57  https://api.spotify.com/v1/tracks/3KJykNgI7TNt...   \n",
       "79  https://api.spotify.com/v1/tracks/3KJykNgI7TNt...   \n",
       "\n",
       "                                         analysis_url duration_ms_y  \\\n",
       "57  https://api.spotify.com/v1/audio-analysis/3KJy...        124687   \n",
       "79  https://api.spotify.com/v1/audio-analysis/3KJy...        124687   \n",
       "\n",
       "   time_signature  \n",
       "57              4  \n",
       "79              4  \n",
       "\n",
       "[2 rows x 39 columns]"
      ]
     },
     "execution_count": 13,
     "metadata": {},
     "output_type": "execute_result"
    }
   ],
   "source": [
    "df[df[\"name\"] == \"club2020\"]"
   ]
  },
  {
   "cell_type": "markdown",
   "metadata": {},
   "source": [
    "### Top"
   ]
  },
  {
   "cell_type": "code",
   "execution_count": 35,
   "metadata": {},
   "outputs": [
    {
     "data": {
      "text/plain": [
       "'Arctic Monkeys'"
      ]
     },
     "execution_count": 35,
     "metadata": {},
     "output_type": "execute_result"
    }
   ],
   "source": [
    "max_value = df[\"artist_name\"].value_counts().max()\n",
    "\n",
    "df[\"artist_name\"].value_counts().idxmax()\n"
   ]
  },
  {
   "cell_type": "code",
   "execution_count": 30,
   "metadata": {},
   "outputs": [
    {
     "data": {
      "text/plain": [
       "21"
      ]
     },
     "execution_count": 30,
     "metadata": {},
     "output_type": "execute_result"
    }
   ],
   "source": [
    "max_value"
   ]
  },
  {
   "cell_type": "code",
   "execution_count": 33,
   "metadata": {},
   "outputs": [
    {
     "data": {
      "text/plain": [
       "album_name\n",
       "club2020                                          8\n",
       "spokój.                                           6\n",
       "Helsinki                                          6\n",
       "AM                                                5\n",
       "...Like Clockwork                                 4\n",
       "The Car                                           4\n",
       "Favourite Worst Nightmare                         4\n",
       "Whatever People Say I Am, That's What I'm Not     3\n",
       "Humbug                                            3\n",
       "Songs For The Deaf                                3\n",
       "In Times New Roman...                             2\n",
       "Villains                                          2\n",
       "A Kysz!                                           2\n",
       "Złamane serce jest OK                             2\n",
       "Tarcho Terror                                     2\n",
       "OIO                                               1\n",
       "Hulanki                                           1\n",
       "Konfetti                                          1\n",
       "Art Brut 2                                        1\n",
       "SPRZEDAŁEM SIĘ                                    1\n",
       "Malibu Barbie                                     1\n",
       "Ciągnik                                           1\n",
       "Małe Krople                                       1\n",
       "Perypetie                                         1\n",
       "Hooray For Boobies                                1\n",
       "Nevermind (Remastered)                            1\n",
       "POCZTÓWKA Z WWA, LATO '19                         1\n",
       "PRODUKT47                                         1\n",
       "STAR WALKIN' (League of Legends Worlds Anthem)    1\n",
       "audiotele                                         1\n",
       "POLSKIE TANGO                                     1\n",
       "No weź                                            1\n",
       "Tranquility Base Hotel & Casino                   1\n",
       "Suck It and See                                   1\n",
       "Lullabies To Paralyze                             1\n",
       "Era Vulgaris                                      1\n",
       "Rated R                                           1\n",
       "Laura                                             1\n",
       "FIFI HOLLYWOOD                                    1\n",
       "Wojny i Noce                                      1\n",
       "Ezoteryka                                         1\n",
       "Myślisz jeszcze?                                  1\n",
       "Rockstar                                          1\n",
       "Name: count, dtype: int64"
      ]
     },
     "execution_count": 33,
     "metadata": {},
     "output_type": "execute_result"
    }
   ],
   "source": [
    "df[\"album_name\"].value_counts()"
   ]
  },
  {
   "cell_type": "code",
   "execution_count": 31,
   "metadata": {},
   "outputs": [
    {
     "data": {
      "text/plain": [
       "'club2020'"
      ]
     },
     "execution_count": 31,
     "metadata": {},
     "output_type": "execute_result"
    }
   ],
   "source": [
    "max_value = df[\"album_name\"].value_counts().max()\n",
    "\n",
    "df[\"album_name\"].value_counts().idxmax()\n"
   ]
  },
  {
   "cell_type": "code",
   "execution_count": 32,
   "metadata": {},
   "outputs": [
    {
     "data": {
      "text/plain": [
       "8"
      ]
     },
     "execution_count": 32,
     "metadata": {},
     "output_type": "execute_result"
    }
   ],
   "source": [
    "max_value"
   ]
  },
  {
   "cell_type": "code",
   "execution_count": 36,
   "metadata": {},
   "outputs": [
    {
     "data": {
      "text/plain": [
       "album_name\n",
       "club2020    8\n",
       "spokój.     6\n",
       "Helsinki    6\n",
       "Name: count, dtype: int64"
      ]
     },
     "execution_count": 36,
     "metadata": {},
     "output_type": "execute_result"
    }
   ],
   "source": [
    "df[\"album_name\"].value_counts().head(3)"
   ]
  },
  {
   "cell_type": "code",
   "execution_count": 38,
   "metadata": {},
   "outputs": [
    {
     "data": {
      "text/plain": [
       "Index(['club2020', 'spokój.', 'Helsinki'], dtype='object', name='album_name')"
      ]
     },
     "execution_count": 38,
     "metadata": {},
     "output_type": "execute_result"
    }
   ],
   "source": [
    "df[\"album_name\"].value_counts().head(3).index"
   ]
  },
  {
   "cell_type": "code",
   "execution_count": 39,
   "metadata": {},
   "outputs": [
    {
     "data": {
      "text/plain": [
       "array([8, 6, 6], dtype=int64)"
      ]
     },
     "execution_count": 39,
     "metadata": {},
     "output_type": "execute_result"
    }
   ],
   "source": [
    "df[\"album_name\"].value_counts().head(3).values"
   ]
  },
  {
   "cell_type": "code",
   "execution_count": 40,
   "metadata": {},
   "outputs": [
    {
     "data": {
      "text/plain": [
       "Index(['Arctic Monkeys', 'Queens of the Stone Age', 'Daria Zawiałow'], dtype='object', name='artist_name')"
      ]
     },
     "execution_count": 40,
     "metadata": {},
     "output_type": "execute_result"
    }
   ],
   "source": [
    "df[\"artist_name\"].value_counts().head(3).index"
   ]
  },
  {
   "cell_type": "code",
   "execution_count": 42,
   "metadata": {},
   "outputs": [
    {
     "ename": "AttributeError",
     "evalue": "'numpy.ndarray' object has no attribute 'values'",
     "output_type": "error",
     "traceback": [
      "\u001b[1;31m---------------------------------------------------------------------------\u001b[0m",
      "\u001b[1;31mAttributeError\u001b[0m                            Traceback (most recent call last)",
      "Cell \u001b[1;32mIn[42], line 1\u001b[0m\n\u001b[1;32m----> 1\u001b[0m df[\u001b[39m\"\u001b[39;49m\u001b[39martist_name\u001b[39;49m\u001b[39m\"\u001b[39;49m]\u001b[39m.\u001b[39;49mvalue_counts()\u001b[39m.\u001b[39;49mhead(\u001b[39m3\u001b[39;49m)\u001b[39m.\u001b[39;49mvalues\u001b[39m.\u001b[39;49mvalues\n",
      "\u001b[1;31mAttributeError\u001b[0m: 'numpy.ndarray' object has no attribute 'values'"
     ]
    }
   ],
   "source": [
    "df[\"artist_name\"].value_counts().head(3).values"
   ]
  },
  {
   "cell_type": "code",
   "execution_count": 74,
   "metadata": {},
   "outputs": [],
   "source": [
    "def getTop(df, column, topn, add_exaquo = False):\n",
    "    max_value = df[column].value_counts().max()\n",
    "    if max_value == 1:\n",
    "        return {}\n",
    "    \n",
    "    keys = list(df[column].value_counts().head(topn).index)\n",
    "    values = list(df[column].value_counts().head(topn).values)\n",
    "\n",
    "    if add_exaquo:\n",
    "        s = df[column].value_counts()[(df[column].value_counts() == values[-1]) & (~df[column].value_counts().index.isin(keys))]\n",
    "        values += (list(s.values))\n",
    "        keys += (list(s.index))\n",
    "\n",
    "    return dict(zip(keys, values))"
   ]
  },
  {
   "cell_type": "code",
   "execution_count": 81,
   "metadata": {},
   "outputs": [
    {
     "data": {
      "text/plain": [
       "{'Arctic Monkeys': 21, 'Queens of the Stone Age': 14, 'Daria Zawiałow': 13}"
      ]
     },
     "execution_count": 81,
     "metadata": {},
     "output_type": "execute_result"
    }
   ],
   "source": [
    "getTop(df, \"artist_name\", 3, False)"
   ]
  },
  {
   "cell_type": "code",
   "execution_count": 85,
   "metadata": {},
   "outputs": [
    {
     "data": {
      "text/plain": [
       "Index(['album', 'artists', 'available_markets', 'disc_number', 'duration_ms_x',\n",
       "       'explicit', 'external_ids', 'external_urls', 'href', 'id_x', 'is_local',\n",
       "       'name', 'popularity', 'preview_url', 'track_number', 'type_x', 'uri_x',\n",
       "       'album_name', 'album_id', 'genres', 'artist_name', 'danceability',\n",
       "       'energy', 'key', 'loudness', 'mode', 'speechiness', 'acousticness',\n",
       "       'instrumentalness', 'liveness', 'valence', 'tempo', 'type_y', 'id_y',\n",
       "       'uri_y', 'track_href', 'analysis_url', 'duration_ms_y',\n",
       "       'time_signature'],\n",
       "      dtype='object')"
      ]
     },
     "execution_count": 85,
     "metadata": {},
     "output_type": "execute_result"
    }
   ],
   "source": [
    "df.columns"
   ]
  },
  {
   "cell_type": "code",
   "execution_count": null,
   "metadata": {},
   "outputs": [],
   "source": []
  }
 ],
 "metadata": {
  "kernelspec": {
   "display_name": "venv",
   "language": "python",
   "name": "python3"
  },
  "language_info": {
   "codemirror_mode": {
    "name": "ipython",
    "version": 3
   },
   "file_extension": ".py",
   "mimetype": "text/x-python",
   "name": "python",
   "nbconvert_exporter": "python",
   "pygments_lexer": "ipython3",
   "version": "3.10.7"
  },
  "orig_nbformat": 4
 },
 "nbformat": 4,
 "nbformat_minor": 2
}
