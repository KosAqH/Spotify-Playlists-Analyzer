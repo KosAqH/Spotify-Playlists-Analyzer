{
 "cells": [
  {
   "cell_type": "code",
   "execution_count": 2,
   "metadata": {},
   "outputs": [],
   "source": [
    "from app.spotify_api.spotify_connection import SpotifyConn\n",
    "from app.spotify_api.spotify_api import SpotifyApi\n",
    "from app.spotify_api.spotify_utils import load_credentials"
   ]
  },
  {
   "cell_type": "code",
   "execution_count": 1,
   "metadata": {},
   "outputs": [],
   "source": [
    "import requests\n",
    "import pandas as pd\n",
    "import plotly"
   ]
  },
  {
   "cell_type": "code",
   "execution_count": 3,
   "metadata": {},
   "outputs": [],
   "source": [
    "def get_spotify_access_token():\n",
    "    print()\n",
    "    api_key, api_secret = load_credentials()\n",
    "    conn = SpotifyConn()\n",
    "    conn.authorize(api_key, api_secret)\n",
    "    token = conn.get_access_token()\n",
    "    return token"
   ]
  },
  {
   "cell_type": "markdown",
   "metadata": {},
   "source": [
    "Try 2"
   ]
  },
  {
   "cell_type": "code",
   "execution_count": 5,
   "metadata": {},
   "outputs": [
    {
     "name": "stdout",
     "output_type": "stream",
     "text": [
      "\n"
     ]
    }
   ],
   "source": [
    "token = get_spotify_access_token()\n",
    "api = SpotifyApi(token)\n",
    "\n",
    "p = api.RequestPlaylist(\"3vFJuKtDQCYkFSrpUaf5Dh\")  # 387OhCc6mEbm96wzfFfhpp\n",
    "playlist_meta = api.RetrievePlaylistMetadata(p)"
   ]
  },
  {
   "cell_type": "code",
   "execution_count": 6,
   "metadata": {},
   "outputs": [],
   "source": [
    "ids = api.retrieveIdsFromPlaylist(\"3vFJuKtDQCYkFSrpUaf5Dh\", playlist_meta[\"total_count\"])"
   ]
  },
  {
   "cell_type": "code",
   "execution_count": 7,
   "metadata": {},
   "outputs": [
    {
     "data": {
      "text/plain": [
       "['6WK9dVrRABMkUXFLNlgWFh',\n",
       " '0KK6ZjOud4VGZMIzSIxyGP',\n",
       " '4iVTSRiJAA18d3QglhyJ6Q',\n",
       " '4uJ5eg1Wg3qSu1jnvOG18s',\n",
       " '2JO3HwMRPeya8bXbtbyPcf',\n",
       " '75FEaRjZTKLhTrFGsfMUXR',\n",
       " '6p8eFfPw3nQkf37aT3AkmK',\n",
       " '4RvWPyQ5RL0ao9LPZeSouE',\n",
       " '1kA1nhedSyqBXPseQ27AF6',\n",
       " '2QjOHCTQ1Jl3zawyYOpxh6',\n",
       " '0rKtyWc8bvkriBthvHKY8d',\n",
       " '0U0ldCRmgCqhVvD6ksG63j',\n",
       " '18AXbzPzBS8Y3AkgSxzJPb',\n",
       " '6GyFP1nfCDB8lbD2bG0Hq9',\n",
       " '30bqVoKjX479ab90a8Pafp',\n",
       " '7pIorU6vXlFoXmHUdsbpfX',\n",
       " '5E30LdtzQTGqRvNd7l6kG5',\n",
       " '4U45aEWtQhrm8A5mxPaFZ7',\n",
       " '0Mf6WhWLfOpzOxacvbcboj',\n",
       " '7to68V64Cu6zk0UDo5tyw3',\n",
       " '2usrT8QIbIk9y0NEtQwS4j',\n",
       " '5vwXQUwkpmnkJrfv69L6Mp',\n",
       " '5ytkHKps6RVVDFZwAqVDCB',\n",
       " '086myS9r57YsLbJpU0TgK9',\n",
       " '4S1VYqwfkLit9mKVY3MXoo',\n",
       " '5MgWBlKvVESxyYpRFehNhc',\n",
       " '6bP7n1KoDg7PX5Ceja25qC',\n",
       " '7svpAkwc6xaSxlbZ7V7JiS',\n",
       " '3YvgdC5WnZY8lTGcr6eeE6',\n",
       " '3maqY8XwtNEzFbMZymWLrD',\n",
       " '1J1rg6WPbqZlob4rumAUsQ',\n",
       " '5RBOcBpJXaNnHCGViJmYhh',\n",
       " '0yc6Gst2xkRu0eMLeRMGCX',\n",
       " '5vmRQ3zELMLUQPo2FLQ76x',\n",
       " '3mWD2YaExjAfsWUk1vugx2',\n",
       " '1JSTJqkT5qHq8MDJnJbRE1',\n",
       " '3MRQ3CSjoiV1HFil8ykM9M']"
      ]
     },
     "execution_count": 7,
     "metadata": {},
     "output_type": "execute_result"
    }
   ],
   "source": [
    "ids"
   ]
  },
  {
   "cell_type": "code",
   "execution_count": 8,
   "metadata": {},
   "outputs": [
    {
     "data": {
      "text/plain": [
       "37"
      ]
     },
     "execution_count": 8,
     "metadata": {},
     "output_type": "execute_result"
    }
   ],
   "source": [
    "len(ids)"
   ]
  },
  {
   "cell_type": "code",
   "execution_count": 9,
   "metadata": {},
   "outputs": [],
   "source": [
    "meta = api.retrieveSongsMetadata(ids)\n",
    "features = api.retrieveSongsAudioFeatures(ids)"
   ]
  },
  {
   "cell_type": "code",
   "execution_count": 10,
   "metadata": {},
   "outputs": [],
   "source": [
    "df_meta = pd.DataFrame(meta)\n",
    "df_af = pd.DataFrame(features)\n",
    "\n",
    "from app.spotify_api.audio_data import AudioData\n",
    "\n",
    "AD = AudioData()\n",
    "df = AD.mergeTracksData(df_meta, df_af)"
   ]
  },
  {
   "cell_type": "code",
   "execution_count": 11,
   "metadata": {},
   "outputs": [
    {
     "data": {
      "text/plain": [
       "album                {'album_type': 'album', 'artists': [{'external...\n",
       "artists              [{'external_urls': {'spotify': 'https://open.s...\n",
       "available_markets                                                   []\n",
       "disc_number                                                          1\n",
       "duration_ms_x                                                   298933\n",
       "explicit                                                         False\n",
       "external_ids                                  {'isrc': 'GBCNR8500002'}\n",
       "external_urls        {'spotify': 'https://open.spotify.com/track/75...\n",
       "href                 https://api.spotify.com/v1/tracks/75FEaRjZTKLh...\n",
       "id                                              75FEaRjZTKLhTrFGsfMUXR\n",
       "is_local                                                         False\n",
       "name                            Running Up That Hill (A Deal With God)\n",
       "popularity                                                          30\n",
       "preview_url                                                       None\n",
       "track_number                                                         1\n",
       "type_x                                                           track\n",
       "uri_x                             spotify:track:75FEaRjZTKLhTrFGsfMUXR\n",
       "danceability                                                     0.629\n",
       "energy                                                           0.547\n",
       "key                                                                 10\n",
       "loudness                                                       -13.123\n",
       "mode                                                                 0\n",
       "speechiness                                                      0.055\n",
       "acousticness                                                      0.72\n",
       "instrumentalness                                               0.00314\n",
       "liveness                                                        0.0604\n",
       "valence                                                          0.197\n",
       "tempo                                                          108.375\n",
       "type_y                                                  audio_features\n",
       "uri_y                             spotify:track:75FEaRjZTKLhTrFGsfMUXR\n",
       "track_href           https://api.spotify.com/v1/tracks/75FEaRjZTKLh...\n",
       "analysis_url         https://api.spotify.com/v1/audio-analysis/75FE...\n",
       "duration_ms_y                                                   298933\n",
       "time_signature                                                       4\n",
       "Name: 5, dtype: object"
      ]
     },
     "execution_count": 11,
     "metadata": {},
     "output_type": "execute_result"
    }
   ],
   "source": [
    "df.iloc[5]"
   ]
  },
  {
   "cell_type": "code",
   "execution_count": 12,
   "metadata": {},
   "outputs": [
    {
     "data": {
      "text/plain": [
       "[{'danceability': 0.663,\n",
       "  'energy': 0.838,\n",
       "  'key': 0,\n",
       "  'loudness': -5.744,\n",
       "  'mode': 0,\n",
       "  'speechiness': 0.0286,\n",
       "  'acousticness': 0.2,\n",
       "  'instrumentalness': 0.000177,\n",
       "  'liveness': 0.0782,\n",
       "  'valence': 0.752,\n",
       "  'tempo': 112.788,\n",
       "  'type': 'audio_features',\n",
       "  'id': '6WK9dVrRABMkUXFLNlgWFh',\n",
       "  'uri': 'spotify:track:6WK9dVrRABMkUXFLNlgWFh',\n",
       "  'track_href': 'https://api.spotify.com/v1/tracks/6WK9dVrRABMkUXFLNlgWFh',\n",
       "  'analysis_url': 'https://api.spotify.com/v1/audio-analysis/6WK9dVrRABMkUXFLNlgWFh',\n",
       "  'duration_ms': 255133,\n",
       "  'time_signature': 4},\n",
       " {'danceability': 0.588,\n",
       "  'energy': 0.792,\n",
       "  'key': 11,\n",
       "  'loudness': -8.809,\n",
       "  'mode': 0,\n",
       "  'speechiness': 0.0337,\n",
       "  'acousticness': 0.0584,\n",
       "  'instrumentalness': 0.753,\n",
       "  'liveness': 0.0743,\n",
       "  'valence': 0.254,\n",
       "  'tempo': 105.001,\n",
       "  'type': 'audio_features',\n",
       "  'id': '0KK6ZjOud4VGZMIzSIxyGP',\n",
       "  'uri': 'spotify:track:0KK6ZjOud4VGZMIzSIxyGP',\n",
       "  'track_href': 'https://api.spotify.com/v1/tracks/0KK6ZjOud4VGZMIzSIxyGP',\n",
       "  'analysis_url': 'https://api.spotify.com/v1/audio-analysis/0KK6ZjOud4VGZMIzSIxyGP',\n",
       "  'duration_ms': 259800,\n",
       "  'time_signature': 4},\n",
       " {'danceability': 0.587,\n",
       "  'energy': 0.493,\n",
       "  'key': 0,\n",
       "  'loudness': -14.927,\n",
       "  'mode': 1,\n",
       "  'speechiness': 0.0505,\n",
       "  'acousticness': 0.423,\n",
       "  'instrumentalness': 0.712,\n",
       "  'liveness': 0.0909,\n",
       "  'valence': 0.451,\n",
       "  'tempo': 161.222,\n",
       "  'type': 'audio_features',\n",
       "  'id': '4iVTSRiJAA18d3QglhyJ6Q',\n",
       "  'uri': 'spotify:track:4iVTSRiJAA18d3QglhyJ6Q',\n",
       "  'track_href': 'https://api.spotify.com/v1/tracks/4iVTSRiJAA18d3QglhyJ6Q',\n",
       "  'analysis_url': 'https://api.spotify.com/v1/audio-analysis/4iVTSRiJAA18d3QglhyJ6Q',\n",
       "  'duration_ms': 354640,\n",
       "  'time_signature': 4},\n",
       " {'danceability': 0.407,\n",
       "  'energy': 0.942,\n",
       "  'key': 9,\n",
       "  'loudness': -6.867,\n",
       "  'mode': 1,\n",
       "  'speechiness': 0.0645,\n",
       "  'acousticness': 4.4e-06,\n",
       "  'instrumentalness': 0.962,\n",
       "  'liveness': 0.139,\n",
       "  'valence': 0.416,\n",
       "  'tempo': 138.041,\n",
       "  'type': 'audio_features',\n",
       "  'id': '4uJ5eg1Wg3qSu1jnvOG18s',\n",
       "  'uri': 'spotify:track:4uJ5eg1Wg3qSu1jnvOG18s',\n",
       "  'track_href': 'https://api.spotify.com/v1/tracks/4uJ5eg1Wg3qSu1jnvOG18s',\n",
       "  'analysis_url': 'https://api.spotify.com/v1/audio-analysis/4uJ5eg1Wg3qSu1jnvOG18s',\n",
       "  'duration_ms': 217101,\n",
       "  'time_signature': 4},\n",
       " {'danceability': 0.443,\n",
       "  'energy': 0.956,\n",
       "  'key': 2,\n",
       "  'loudness': -6.198,\n",
       "  'mode': 1,\n",
       "  'speechiness': 0.0511,\n",
       "  'acousticness': 5.24e-05,\n",
       "  'instrumentalness': 0.825,\n",
       "  'liveness': 0.135,\n",
       "  'valence': 0.909,\n",
       "  'tempo': 146.754,\n",
       "  'type': 'audio_features',\n",
       "  'id': '2JO3HwMRPeya8bXbtbyPcf',\n",
       "  'uri': 'spotify:track:2JO3HwMRPeya8bXbtbyPcf',\n",
       "  'track_href': 'https://api.spotify.com/v1/tracks/2JO3HwMRPeya8bXbtbyPcf',\n",
       "  'analysis_url': 'https://api.spotify.com/v1/audio-analysis/2JO3HwMRPeya8bXbtbyPcf',\n",
       "  'duration_ms': 206867,\n",
       "  'time_signature': 4},\n",
       " {'danceability': 0.629,\n",
       "  'energy': 0.547,\n",
       "  'key': 10,\n",
       "  'loudness': -13.123,\n",
       "  'mode': 0,\n",
       "  'speechiness': 0.055,\n",
       "  'acousticness': 0.72,\n",
       "  'instrumentalness': 0.00314,\n",
       "  'liveness': 0.0604,\n",
       "  'valence': 0.197,\n",
       "  'tempo': 108.375,\n",
       "  'type': 'audio_features',\n",
       "  'id': '75FEaRjZTKLhTrFGsfMUXR',\n",
       "  'uri': 'spotify:track:75FEaRjZTKLhTrFGsfMUXR',\n",
       "  'track_href': 'https://api.spotify.com/v1/tracks/75FEaRjZTKLhTrFGsfMUXR',\n",
       "  'analysis_url': 'https://api.spotify.com/v1/audio-analysis/75FEaRjZTKLhTrFGsfMUXR',\n",
       "  'duration_ms': 298933,\n",
       "  'time_signature': 4},\n",
       " {'danceability': 0.308,\n",
       "  'energy': 0.866,\n",
       "  'key': 2,\n",
       "  'loudness': -5.671,\n",
       "  'mode': 0,\n",
       "  'speechiness': 0.059,\n",
       "  'acousticness': 0.000739,\n",
       "  'instrumentalness': 0.00141,\n",
       "  'liveness': 0.232,\n",
       "  'valence': 0.227,\n",
       "  'tempo': 109.825,\n",
       "  'type': 'audio_features',\n",
       "  'id': '6p8eFfPw3nQkf37aT3AkmK',\n",
       "  'uri': 'spotify:track:6p8eFfPw3nQkf37aT3AkmK',\n",
       "  'track_href': 'https://api.spotify.com/v1/tracks/6p8eFfPw3nQkf37aT3AkmK',\n",
       "  'analysis_url': 'https://api.spotify.com/v1/audio-analysis/6p8eFfPw3nQkf37aT3AkmK',\n",
       "  'duration_ms': 438120,\n",
       "  'time_signature': 4},\n",
       " {'danceability': 0.645,\n",
       "  'energy': 0.795,\n",
       "  'key': 7,\n",
       "  'loudness': -12.095,\n",
       "  'mode': 1,\n",
       "  'speechiness': 0.0527,\n",
       "  'acousticness': 0.347,\n",
       "  'instrumentalness': 0.00389,\n",
       "  'liveness': 0.104,\n",
       "  'valence': 0.535,\n",
       "  'tempo': 112.067,\n",
       "  'type': 'audio_features',\n",
       "  'id': '4RvWPyQ5RL0ao9LPZeSouE',\n",
       "  'uri': 'spotify:track:4RvWPyQ5RL0ao9LPZeSouE',\n",
       "  'track_href': 'https://api.spotify.com/v1/tracks/4RvWPyQ5RL0ao9LPZeSouE',\n",
       "  'analysis_url': 'https://api.spotify.com/v1/audio-analysis/4RvWPyQ5RL0ao9LPZeSouE',\n",
       "  'duration_ms': 251489,\n",
       "  'time_signature': 4},\n",
       " {'danceability': 0.579,\n",
       "  'energy': 0.601,\n",
       "  'key': 8,\n",
       "  'loudness': -10.492,\n",
       "  'mode': 1,\n",
       "  'speechiness': 0.0322,\n",
       "  'acousticness': 0.0673,\n",
       "  'instrumentalness': 0.414,\n",
       "  'liveness': 0.0778,\n",
       "  'valence': 0.0392,\n",
       "  'tempo': 140.019,\n",
       "  'type': 'audio_features',\n",
       "  'id': '1kA1nhedSyqBXPseQ27AF6',\n",
       "  'uri': 'spotify:track:1kA1nhedSyqBXPseQ27AF6',\n",
       "  'track_href': 'https://api.spotify.com/v1/tracks/1kA1nhedSyqBXPseQ27AF6',\n",
       "  'analysis_url': 'https://api.spotify.com/v1/audio-analysis/1kA1nhedSyqBXPseQ27AF6',\n",
       "  'duration_ms': 257147,\n",
       "  'time_signature': 4},\n",
       " {'danceability': 0.612,\n",
       "  'energy': 0.807,\n",
       "  'key': 10,\n",
       "  'loudness': -2.81,\n",
       "  'mode': 1,\n",
       "  'speechiness': 0.0336,\n",
       "  'acousticness': 0.0495,\n",
       "  'instrumentalness': 0.0177,\n",
       "  'liveness': 0.101,\n",
       "  'valence': 0.398,\n",
       "  'tempo': 124.053,\n",
       "  'type': 'audio_features',\n",
       "  'id': '2QjOHCTQ1Jl3zawyYOpxh6',\n",
       "  'uri': 'spotify:track:2QjOHCTQ1Jl3zawyYOpxh6',\n",
       "  'track_href': 'https://api.spotify.com/v1/tracks/2QjOHCTQ1Jl3zawyYOpxh6',\n",
       "  'analysis_url': 'https://api.spotify.com/v1/audio-analysis/2QjOHCTQ1Jl3zawyYOpxh6',\n",
       "  'duration_ms': 240400,\n",
       "  'time_signature': 4},\n",
       " {'danceability': 0.515,\n",
       "  'energy': 0.479,\n",
       "  'key': 3,\n",
       "  'loudness': -7.458,\n",
       "  'mode': 1,\n",
       "  'speechiness': 0.0261,\n",
       "  'acousticness': 0.544,\n",
       "  'instrumentalness': 0.00598,\n",
       "  'liveness': 0.191,\n",
       "  'valence': 0.284,\n",
       "  'tempo': 88.964,\n",
       "  'type': 'audio_features',\n",
       "  'id': '0rKtyWc8bvkriBthvHKY8d',\n",
       "  'uri': 'spotify:track:0rKtyWc8bvkriBthvHKY8d',\n",
       "  'track_href': 'https://api.spotify.com/v1/tracks/0rKtyWc8bvkriBthvHKY8d',\n",
       "  'analysis_url': 'https://api.spotify.com/v1/audio-analysis/0rKtyWc8bvkriBthvHKY8d',\n",
       "  'duration_ms': 209274,\n",
       "  'time_signature': 4},\n",
       " {'danceability': 0.532,\n",
       "  'energy': 0.874,\n",
       "  'key': 9,\n",
       "  'loudness': -5.183,\n",
       "  'mode': 0,\n",
       "  'speechiness': 0.0482,\n",
       "  'acousticness': 0.00842,\n",
       "  'instrumentalness': 0.012,\n",
       "  'liveness': 0.452,\n",
       "  'valence': 0.361,\n",
       "  'tempo': 91.038,\n",
       "  'type': 'audio_features',\n",
       "  'id': '0U0ldCRmgCqhVvD6ksG63j',\n",
       "  'uri': 'spotify:track:0U0ldCRmgCqhVvD6ksG63j',\n",
       "  'track_href': 'https://api.spotify.com/v1/tracks/0U0ldCRmgCqhVvD6ksG63j',\n",
       "  'analysis_url': 'https://api.spotify.com/v1/audio-analysis/0U0ldCRmgCqhVvD6ksG63j',\n",
       "  'duration_ms': 258413,\n",
       "  'time_signature': 4},\n",
       " {'danceability': 0.446,\n",
       "  'energy': 0.239,\n",
       "  'key': 0,\n",
       "  'loudness': -13.945,\n",
       "  'mode': 1,\n",
       "  'speechiness': 0.0316,\n",
       "  'acousticness': 0.551,\n",
       "  'instrumentalness': 4.1e-06,\n",
       "  'liveness': 0.0697,\n",
       "  'valence': 0.298,\n",
       "  'tempo': 189.507,\n",
       "  'type': 'audio_features',\n",
       "  'id': '18AXbzPzBS8Y3AkgSxzJPb',\n",
       "  'uri': 'spotify:track:18AXbzPzBS8Y3AkgSxzJPb',\n",
       "  'track_href': 'https://api.spotify.com/v1/tracks/18AXbzPzBS8Y3AkgSxzJPb',\n",
       "  'analysis_url': 'https://api.spotify.com/v1/audio-analysis/18AXbzPzBS8Y3AkgSxzJPb',\n",
       "  'duration_ms': 336453,\n",
       "  'time_signature': 4},\n",
       " {'danceability': 0.507,\n",
       "  'energy': 0.729,\n",
       "  'key': 11,\n",
       "  'loudness': -5.399,\n",
       "  'mode': 0,\n",
       "  'speechiness': 0.0393,\n",
       "  'acousticness': 0.0182,\n",
       "  'instrumentalness': 1.4e-06,\n",
       "  'liveness': 0.0658,\n",
       "  'valence': 0.272,\n",
       "  'tempo': 105.013,\n",
       "  'type': 'audio_features',\n",
       "  'id': '6GyFP1nfCDB8lbD2bG0Hq9',\n",
       "  'uri': 'spotify:track:6GyFP1nfCDB8lbD2bG0Hq9',\n",
       "  'track_href': 'https://api.spotify.com/v1/tracks/6GyFP1nfCDB8lbD2bG0Hq9',\n",
       "  'analysis_url': 'https://api.spotify.com/v1/audio-analysis/6GyFP1nfCDB8lbD2bG0Hq9',\n",
       "  'duration_ms': 243960,\n",
       "  'time_signature': 4},\n",
       " {'danceability': 0.585,\n",
       "  'energy': 0.471,\n",
       "  'key': 4,\n",
       "  'loudness': -9.934,\n",
       "  'mode': 0,\n",
       "  'speechiness': 0.0616,\n",
       "  'acousticness': 0.0967,\n",
       "  'instrumentalness': 0.0184,\n",
       "  'liveness': 0.115,\n",
       "  'valence': 0.323,\n",
       "  'tempo': 93.099,\n",
       "  'type': 'audio_features',\n",
       "  'id': '30bqVoKjX479ab90a8Pafp',\n",
       "  'uri': 'spotify:track:30bqVoKjX479ab90a8Pafp',\n",
       "  'track_href': 'https://api.spotify.com/v1/tracks/30bqVoKjX479ab90a8Pafp',\n",
       "  'analysis_url': 'https://api.spotify.com/v1/audio-analysis/30bqVoKjX479ab90a8Pafp',\n",
       "  'duration_ms': 142000,\n",
       "  'time_signature': 4},\n",
       " {'danceability': 0.634,\n",
       "  'energy': 0.54,\n",
       "  'key': 8,\n",
       "  'loudness': -7.002,\n",
       "  'mode': 1,\n",
       "  'speechiness': 0.0777,\n",
       "  'acousticness': 0.0223,\n",
       "  'instrumentalness': 0,\n",
       "  'liveness': 0.302,\n",
       "  'valence': 0.543,\n",
       "  'tempo': 143.968,\n",
       "  'type': 'audio_features',\n",
       "  'id': '7pIorU6vXlFoXmHUdsbpfX',\n",
       "  'uri': 'spotify:track:7pIorU6vXlFoXmHUdsbpfX',\n",
       "  'track_href': 'https://api.spotify.com/v1/tracks/7pIorU6vXlFoXmHUdsbpfX',\n",
       "  'analysis_url': 'https://api.spotify.com/v1/audio-analysis/7pIorU6vXlFoXmHUdsbpfX',\n",
       "  'duration_ms': 149360,\n",
       "  'time_signature': 4},\n",
       " {'danceability': 0.588,\n",
       "  'energy': 0.521,\n",
       "  'key': 10,\n",
       "  'loudness': -9.461,\n",
       "  'mode': 1,\n",
       "  'speechiness': 0.0329,\n",
       "  'acousticness': 0.0678,\n",
       "  'instrumentalness': 0.149,\n",
       "  'liveness': 0.123,\n",
       "  'valence': 0.337,\n",
       "  'tempo': 85.012,\n",
       "  'type': 'audio_features',\n",
       "  'id': '5E30LdtzQTGqRvNd7l6kG5',\n",
       "  'uri': 'spotify:track:5E30LdtzQTGqRvNd7l6kG5',\n",
       "  'track_href': 'https://api.spotify.com/v1/tracks/5E30LdtzQTGqRvNd7l6kG5',\n",
       "  'analysis_url': 'https://api.spotify.com/v1/audio-analysis/5E30LdtzQTGqRvNd7l6kG5',\n",
       "  'duration_ms': 260173,\n",
       "  'time_signature': 4},\n",
       " {'danceability': 0.532,\n",
       "  'energy': 0.495,\n",
       "  'key': 10,\n",
       "  'loudness': -6.662,\n",
       "  'mode': 1,\n",
       "  'speechiness': 0.0343,\n",
       "  'acousticness': 0.659,\n",
       "  'instrumentalness': 0,\n",
       "  'liveness': 0.0754,\n",
       "  'valence': 0.308,\n",
       "  'tempo': 124.936,\n",
       "  'type': 'audio_features',\n",
       "  'id': '4U45aEWtQhrm8A5mxPaFZ7',\n",
       "  'uri': 'spotify:track:4U45aEWtQhrm8A5mxPaFZ7',\n",
       "  'track_href': 'https://api.spotify.com/v1/tracks/4U45aEWtQhrm8A5mxPaFZ7',\n",
       "  'analysis_url': 'https://api.spotify.com/v1/audio-analysis/4U45aEWtQhrm8A5mxPaFZ7',\n",
       "  'duration_ms': 214240,\n",
       "  'time_signature': 4},\n",
       " {'danceability': 0.468,\n",
       "  'energy': 0.517,\n",
       "  'key': 0,\n",
       "  'loudness': -7.049,\n",
       "  'mode': 0,\n",
       "  'speechiness': 0.0574,\n",
       "  'acousticness': 0.875,\n",
       "  'instrumentalness': 0.00705,\n",
       "  'liveness': 0.171,\n",
       "  'valence': 0.425,\n",
       "  'tempo': 69.282,\n",
       "  'type': 'audio_features',\n",
       "  'id': '0Mf6WhWLfOpzOxacvbcboj',\n",
       "  'uri': 'spotify:track:0Mf6WhWLfOpzOxacvbcboj',\n",
       "  'track_href': 'https://api.spotify.com/v1/tracks/0Mf6WhWLfOpzOxacvbcboj',\n",
       "  'analysis_url': 'https://api.spotify.com/v1/audio-analysis/0Mf6WhWLfOpzOxacvbcboj',\n",
       "  'duration_ms': 296053,\n",
       "  'time_signature': 4},\n",
       " {'danceability': 0.59,\n",
       "  'energy': 0.562,\n",
       "  'key': 11,\n",
       "  'loudness': -9.607,\n",
       "  'mode': 0,\n",
       "  'speechiness': 0.0505,\n",
       "  'acousticness': 0.0637,\n",
       "  'instrumentalness': 0,\n",
       "  'liveness': 0.105,\n",
       "  'valence': 0.561,\n",
       "  'tempo': 140.835,\n",
       "  'type': 'audio_features',\n",
       "  'id': '7to68V64Cu6zk0UDo5tyw3',\n",
       "  'uri': 'spotify:track:7to68V64Cu6zk0UDo5tyw3',\n",
       "  'track_href': 'https://api.spotify.com/v1/tracks/7to68V64Cu6zk0UDo5tyw3',\n",
       "  'analysis_url': 'https://api.spotify.com/v1/audio-analysis/7to68V64Cu6zk0UDo5tyw3',\n",
       "  'duration_ms': 253077,\n",
       "  'time_signature': 4},\n",
       " {'danceability': 0.617,\n",
       "  'energy': 0.778,\n",
       "  'key': 9,\n",
       "  'loudness': -8.872,\n",
       "  'mode': 0,\n",
       "  'speechiness': 0.027,\n",
       "  'acousticness': 0.459,\n",
       "  'instrumentalness': 0.925,\n",
       "  'liveness': 0.128,\n",
       "  'valence': 0.152,\n",
       "  'tempo': 100.363,\n",
       "  'type': 'audio_features',\n",
       "  'id': '2usrT8QIbIk9y0NEtQwS4j',\n",
       "  'uri': 'spotify:track:2usrT8QIbIk9y0NEtQwS4j',\n",
       "  'track_href': 'https://api.spotify.com/v1/tracks/2usrT8QIbIk9y0NEtQwS4j',\n",
       "  'analysis_url': 'https://api.spotify.com/v1/audio-analysis/2usrT8QIbIk9y0NEtQwS4j',\n",
       "  'duration_ms': 127920,\n",
       "  'time_signature': 4},\n",
       " {'danceability': 0.576,\n",
       "  'energy': 0.608,\n",
       "  'key': 9,\n",
       "  'loudness': -13.537,\n",
       "  'mode': 1,\n",
       "  'speechiness': 0.0321,\n",
       "  'acousticness': 0.169,\n",
       "  'instrumentalness': 0.916,\n",
       "  'liveness': 0.106,\n",
       "  'valence': 0.18,\n",
       "  'tempo': 150.9,\n",
       "  'type': 'audio_features',\n",
       "  'id': '5vwXQUwkpmnkJrfv69L6Mp',\n",
       "  'uri': 'spotify:track:5vwXQUwkpmnkJrfv69L6Mp',\n",
       "  'track_href': 'https://api.spotify.com/v1/tracks/5vwXQUwkpmnkJrfv69L6Mp',\n",
       "  'analysis_url': 'https://api.spotify.com/v1/audio-analysis/5vwXQUwkpmnkJrfv69L6Mp',\n",
       "  'duration_ms': 354692,\n",
       "  'time_signature': 4},\n",
       " {'danceability': 0.552,\n",
       "  'energy': 0.689,\n",
       "  'key': 5,\n",
       "  'loudness': -6.475,\n",
       "  'mode': 1,\n",
       "  'speechiness': 0.0266,\n",
       "  'acousticness': 0.352,\n",
       "  'instrumentalness': 8.51e-05,\n",
       "  'liveness': 0.0865,\n",
       "  'valence': 0.652,\n",
       "  'tempo': 98.097,\n",
       "  'type': 'audio_features',\n",
       "  'id': '5ytkHKps6RVVDFZwAqVDCB',\n",
       "  'uri': 'spotify:track:5ytkHKps6RVVDFZwAqVDCB',\n",
       "  'track_href': 'https://api.spotify.com/v1/tracks/5ytkHKps6RVVDFZwAqVDCB',\n",
       "  'analysis_url': 'https://api.spotify.com/v1/audio-analysis/5ytkHKps6RVVDFZwAqVDCB',\n",
       "  'duration_ms': 251053,\n",
       "  'time_signature': 4},\n",
       " {'danceability': 0.691,\n",
       "  'energy': 0.631,\n",
       "  'key': 2,\n",
       "  'loudness': -6.478,\n",
       "  'mode': 1,\n",
       "  'speechiness': 0.0368,\n",
       "  'acousticness': 0.0483,\n",
       "  'instrumentalness': 1.13e-05,\n",
       "  'liveness': 0.104,\n",
       "  'valence': 0.8,\n",
       "  'tempo': 92.004,\n",
       "  'type': 'audio_features',\n",
       "  'id': '086myS9r57YsLbJpU0TgK9',\n",
       "  'uri': 'spotify:track:086myS9r57YsLbJpU0TgK9',\n",
       "  'track_href': 'https://api.spotify.com/v1/tracks/086myS9r57YsLbJpU0TgK9',\n",
       "  'analysis_url': 'https://api.spotify.com/v1/audio-analysis/086myS9r57YsLbJpU0TgK9',\n",
       "  'duration_ms': 161124,\n",
       "  'time_signature': 4},\n",
       " {'danceability': 0.489,\n",
       "  'energy': 0.483,\n",
       "  'key': 9,\n",
       "  'loudness': -9.466,\n",
       "  'mode': 0,\n",
       "  'speechiness': 0.0275,\n",
       "  'acousticness': 0.42,\n",
       "  'instrumentalness': 0.0028,\n",
       "  'liveness': 0.236,\n",
       "  'valence': 0.333,\n",
       "  'tempo': 136.822,\n",
       "  'type': 'audio_features',\n",
       "  'id': '4S1VYqwfkLit9mKVY3MXoo',\n",
       "  'uri': 'spotify:track:4S1VYqwfkLit9mKVY3MXoo',\n",
       "  'track_href': 'https://api.spotify.com/v1/tracks/4S1VYqwfkLit9mKVY3MXoo',\n",
       "  'analysis_url': 'https://api.spotify.com/v1/audio-analysis/4S1VYqwfkLit9mKVY3MXoo',\n",
       "  'duration_ms': 226706,\n",
       "  'time_signature': 4},\n",
       " {'danceability': 0.309,\n",
       "  'energy': 0.414,\n",
       "  'key': 7,\n",
       "  'loudness': -8.203,\n",
       "  'mode': 0,\n",
       "  'speechiness': 0.0346,\n",
       "  'acousticness': 0.0699,\n",
       "  'instrumentalness': 0.000218,\n",
       "  'liveness': 0.126,\n",
       "  'valence': 0.166,\n",
       "  'tempo': 151.914,\n",
       "  'type': 'audio_features',\n",
       "  'id': '5MgWBlKvVESxyYpRFehNhc',\n",
       "  'uri': 'spotify:track:5MgWBlKvVESxyYpRFehNhc',\n",
       "  'track_href': 'https://api.spotify.com/v1/tracks/5MgWBlKvVESxyYpRFehNhc',\n",
       "  'analysis_url': 'https://api.spotify.com/v1/audio-analysis/5MgWBlKvVESxyYpRFehNhc',\n",
       "  'duration_ms': 278800,\n",
       "  'time_signature': 3},\n",
       " {'danceability': 0.629,\n",
       "  'energy': 0.75,\n",
       "  'key': 6,\n",
       "  'loudness': -7.801,\n",
       "  'mode': 1,\n",
       "  'speechiness': 0.0363,\n",
       "  'acousticness': 0.422,\n",
       "  'instrumentalness': 0.0332,\n",
       "  'liveness': 0.108,\n",
       "  'valence': 0.363,\n",
       "  'tempo': 142.052,\n",
       "  'type': 'audio_features',\n",
       "  'id': '6bP7n1KoDg7PX5Ceja25qC',\n",
       "  'uri': 'spotify:track:6bP7n1KoDg7PX5Ceja25qC',\n",
       "  'track_href': 'https://api.spotify.com/v1/tracks/6bP7n1KoDg7PX5Ceja25qC',\n",
       "  'analysis_url': 'https://api.spotify.com/v1/audio-analysis/6bP7n1KoDg7PX5Ceja25qC',\n",
       "  'duration_ms': 169859,\n",
       "  'time_signature': 4},\n",
       " {'danceability': 0.529,\n",
       "  'energy': 0.353,\n",
       "  'key': 7,\n",
       "  'loudness': -12.835,\n",
       "  'mode': 1,\n",
       "  'speechiness': 0.0292,\n",
       "  'acousticness': 0.788,\n",
       "  'instrumentalness': 0.853,\n",
       "  'liveness': 0.116,\n",
       "  'valence': 0.0601,\n",
       "  'tempo': 104.557,\n",
       "  'type': 'audio_features',\n",
       "  'id': '7svpAkwc6xaSxlbZ7V7JiS',\n",
       "  'uri': 'spotify:track:7svpAkwc6xaSxlbZ7V7JiS',\n",
       "  'track_href': 'https://api.spotify.com/v1/tracks/7svpAkwc6xaSxlbZ7V7JiS',\n",
       "  'analysis_url': 'https://api.spotify.com/v1/audio-analysis/7svpAkwc6xaSxlbZ7V7JiS',\n",
       "  'duration_ms': 161463,\n",
       "  'time_signature': 4},\n",
       " {'danceability': 0.26,\n",
       "  'energy': 0.12,\n",
       "  'key': 1,\n",
       "  'loudness': -15.86,\n",
       "  'mode': 1,\n",
       "  'speechiness': 0.0324,\n",
       "  'acousticness': 0.947,\n",
       "  'instrumentalness': 9.08e-06,\n",
       "  'liveness': 0.467,\n",
       "  'valence': 0.228,\n",
       "  'tempo': 69.882,\n",
       "  'type': 'audio_features',\n",
       "  'id': '3YvgdC5WnZY8lTGcr6eeE6',\n",
       "  'uri': 'spotify:track:3YvgdC5WnZY8lTGcr6eeE6',\n",
       "  'track_href': 'https://api.spotify.com/v1/tracks/3YvgdC5WnZY8lTGcr6eeE6',\n",
       "  'analysis_url': 'https://api.spotify.com/v1/audio-analysis/3YvgdC5WnZY8lTGcr6eeE6',\n",
       "  'duration_ms': 165640,\n",
       "  'time_signature': 4},\n",
       " {'danceability': 0.532,\n",
       "  'energy': 0.822,\n",
       "  'key': 7,\n",
       "  'loudness': -8.068,\n",
       "  'mode': 0,\n",
       "  'speechiness': 0.0308,\n",
       "  'acousticness': 0.000753,\n",
       "  'instrumentalness': 0.633,\n",
       "  'liveness': 0.098,\n",
       "  'valence': 0.259,\n",
       "  'tempo': 140.053,\n",
       "  'type': 'audio_features',\n",
       "  'id': '3maqY8XwtNEzFbMZymWLrD',\n",
       "  'uri': 'spotify:track:3maqY8XwtNEzFbMZymWLrD',\n",
       "  'track_href': 'https://api.spotify.com/v1/tracks/3maqY8XwtNEzFbMZymWLrD',\n",
       "  'analysis_url': 'https://api.spotify.com/v1/audio-analysis/3maqY8XwtNEzFbMZymWLrD',\n",
       "  'duration_ms': 253719,\n",
       "  'time_signature': 4},\n",
       " {'danceability': 0.513,\n",
       "  'energy': 0.439,\n",
       "  'key': 11,\n",
       "  'loudness': -10.038,\n",
       "  'mode': 0,\n",
       "  'speechiness': 0.0289,\n",
       "  'acousticness': 0.613,\n",
       "  'instrumentalness': 0.000209,\n",
       "  'liveness': 0.0707,\n",
       "  'valence': 0.168,\n",
       "  'tempo': 154.857,\n",
       "  'type': 'audio_features',\n",
       "  'id': '1J1rg6WPbqZlob4rumAUsQ',\n",
       "  'uri': 'spotify:track:1J1rg6WPbqZlob4rumAUsQ',\n",
       "  'track_href': 'https://api.spotify.com/v1/tracks/1J1rg6WPbqZlob4rumAUsQ',\n",
       "  'analysis_url': 'https://api.spotify.com/v1/audio-analysis/1J1rg6WPbqZlob4rumAUsQ',\n",
       "  'duration_ms': 330467,\n",
       "  'time_signature': 4},\n",
       " {'danceability': 0.485,\n",
       "  'energy': 0.89,\n",
       "  'key': 8,\n",
       "  'loudness': -5.992,\n",
       "  'mode': 0,\n",
       "  'speechiness': 0.0911,\n",
       "  'acousticness': 0.000872,\n",
       "  'instrumentalness': 0.818,\n",
       "  'liveness': 0.102,\n",
       "  'valence': 0.258,\n",
       "  'tempo': 128.881,\n",
       "  'type': 'audio_features',\n",
       "  'id': '5RBOcBpJXaNnHCGViJmYhh',\n",
       "  'uri': 'spotify:track:5RBOcBpJXaNnHCGViJmYhh',\n",
       "  'track_href': 'https://api.spotify.com/v1/tracks/5RBOcBpJXaNnHCGViJmYhh',\n",
       "  'analysis_url': 'https://api.spotify.com/v1/audio-analysis/5RBOcBpJXaNnHCGViJmYhh',\n",
       "  'duration_ms': 194423,\n",
       "  'time_signature': 4},\n",
       " {'danceability': 0.37,\n",
       "  'energy': 0.467,\n",
       "  'key': 5,\n",
       "  'loudness': -9.013,\n",
       "  'mode': 1,\n",
       "  'speechiness': 0.0273,\n",
       "  'acousticness': 0.0205,\n",
       "  'instrumentalness': 0.572,\n",
       "  'liveness': 0.109,\n",
       "  'valence': 0.182,\n",
       "  'tempo': 94.485,\n",
       "  'type': 'audio_features',\n",
       "  'id': '0yc6Gst2xkRu0eMLeRMGCX',\n",
       "  'uri': 'spotify:track:0yc6Gst2xkRu0eMLeRMGCX',\n",
       "  'track_href': 'https://api.spotify.com/v1/tracks/0yc6Gst2xkRu0eMLeRMGCX',\n",
       "  'analysis_url': 'https://api.spotify.com/v1/audio-analysis/0yc6Gst2xkRu0eMLeRMGCX',\n",
       "  'duration_ms': 290617,\n",
       "  'time_signature': 4},\n",
       " {'danceability': 0.685,\n",
       "  'energy': 0.584,\n",
       "  'key': 5,\n",
       "  'loudness': -10.616,\n",
       "  'mode': 0,\n",
       "  'speechiness': 0.0276,\n",
       "  'acousticness': 0.288,\n",
       "  'instrumentalness': 0.00918,\n",
       "  'liveness': 0.124,\n",
       "  'valence': 0.939,\n",
       "  'tempo': 134.546,\n",
       "  'type': 'audio_features',\n",
       "  'id': '5vmRQ3zELMLUQPo2FLQ76x',\n",
       "  'uri': 'spotify:track:5vmRQ3zELMLUQPo2FLQ76x',\n",
       "  'track_href': 'https://api.spotify.com/v1/tracks/5vmRQ3zELMLUQPo2FLQ76x',\n",
       "  'analysis_url': 'https://api.spotify.com/v1/audio-analysis/5vmRQ3zELMLUQPo2FLQ76x',\n",
       "  'duration_ms': 302413,\n",
       "  'time_signature': 4},\n",
       " {'danceability': 0.573,\n",
       "  'energy': 0.505,\n",
       "  'key': 7,\n",
       "  'loudness': -13.22,\n",
       "  'mode': 1,\n",
       "  'speechiness': 0.031,\n",
       "  'acousticness': 0.00972,\n",
       "  'instrumentalness': 0.00152,\n",
       "  'liveness': 0.0979,\n",
       "  'valence': 0.324,\n",
       "  'tempo': 94.99,\n",
       "  'type': 'audio_features',\n",
       "  'id': '3mWD2YaExjAfsWUk1vugx2',\n",
       "  'uri': 'spotify:track:3mWD2YaExjAfsWUk1vugx2',\n",
       "  'track_href': 'https://api.spotify.com/v1/tracks/3mWD2YaExjAfsWUk1vugx2',\n",
       "  'analysis_url': 'https://api.spotify.com/v1/audio-analysis/3mWD2YaExjAfsWUk1vugx2',\n",
       "  'duration_ms': 195789,\n",
       "  'time_signature': 4},\n",
       " {'danceability': 0.82,\n",
       "  'energy': 0.452,\n",
       "  'key': 1,\n",
       "  'loudness': -9.796,\n",
       "  'mode': 1,\n",
       "  'speechiness': 0.0348,\n",
       "  'acousticness': 0.543,\n",
       "  'instrumentalness': 0.00294,\n",
       "  'liveness': 0.0714,\n",
       "  'valence': 0.74,\n",
       "  'tempo': 117.401,\n",
       "  'type': 'audio_features',\n",
       "  'id': '1JSTJqkT5qHq8MDJnJbRE1',\n",
       "  'uri': 'spotify:track:1JSTJqkT5qHq8MDJnJbRE1',\n",
       "  'track_href': 'https://api.spotify.com/v1/tracks/1JSTJqkT5qHq8MDJnJbRE1',\n",
       "  'analysis_url': 'https://api.spotify.com/v1/audio-analysis/1JSTJqkT5qHq8MDJnJbRE1',\n",
       "  'duration_ms': 253920,\n",
       "  'time_signature': 4},\n",
       " {'danceability': 0.565,\n",
       "  'energy': 0.764,\n",
       "  'key': 1,\n",
       "  'loudness': -9.43,\n",
       "  'mode': 1,\n",
       "  'speechiness': 0.0351,\n",
       "  'acousticness': 0.0139,\n",
       "  'instrumentalness': 0.00488,\n",
       "  'liveness': 0.079,\n",
       "  'valence': 0.686,\n",
       "  'tempo': 100.891,\n",
       "  'type': 'audio_features',\n",
       "  'id': '3MRQ3CSjoiV1HFil8ykM9M',\n",
       "  'uri': 'spotify:track:3MRQ3CSjoiV1HFil8ykM9M',\n",
       "  'track_href': 'https://api.spotify.com/v1/tracks/3MRQ3CSjoiV1HFil8ykM9M',\n",
       "  'analysis_url': 'https://api.spotify.com/v1/audio-analysis/3MRQ3CSjoiV1HFil8ykM9M',\n",
       "  'duration_ms': 277480,\n",
       "  'time_signature': 4}]"
      ]
     },
     "execution_count": 12,
     "metadata": {},
     "output_type": "execute_result"
    }
   ],
   "source": [
    "features"
   ]
  },
  {
   "cell_type": "code",
   "execution_count": 13,
   "metadata": {},
   "outputs": [],
   "source": [
    "duration = AD.GetTotalDuration(df, \"h\")"
   ]
  },
  {
   "cell_type": "code",
   "execution_count": 14,
   "metadata": {},
   "outputs": [
    {
     "data": {
      "text/html": [
       "<div>\n",
       "<style scoped>\n",
       "    .dataframe tbody tr th:only-of-type {\n",
       "        vertical-align: middle;\n",
       "    }\n",
       "\n",
       "    .dataframe tbody tr th {\n",
       "        vertical-align: top;\n",
       "    }\n",
       "\n",
       "    .dataframe thead th {\n",
       "        text-align: right;\n",
       "    }\n",
       "</style>\n",
       "<table border=\"1\" class=\"dataframe\">\n",
       "  <thead>\n",
       "    <tr style=\"text-align: right;\">\n",
       "      <th></th>\n",
       "      <th>disc_number</th>\n",
       "      <th>duration_ms_x</th>\n",
       "      <th>popularity</th>\n",
       "      <th>track_number</th>\n",
       "      <th>danceability</th>\n",
       "      <th>energy</th>\n",
       "      <th>key</th>\n",
       "      <th>loudness</th>\n",
       "      <th>mode</th>\n",
       "      <th>speechiness</th>\n",
       "      <th>acousticness</th>\n",
       "      <th>instrumentalness</th>\n",
       "      <th>liveness</th>\n",
       "      <th>valence</th>\n",
       "      <th>tempo</th>\n",
       "      <th>duration_ms_y</th>\n",
       "      <th>time_signature</th>\n",
       "    </tr>\n",
       "  </thead>\n",
       "  <tbody>\n",
       "    <tr>\n",
       "      <th>count</th>\n",
       "      <td>37.0</td>\n",
       "      <td>37.000000</td>\n",
       "      <td>37.000000</td>\n",
       "      <td>37.000000</td>\n",
       "      <td>37.000000</td>\n",
       "      <td>37.000000</td>\n",
       "      <td>37.000000</td>\n",
       "      <td>37.000000</td>\n",
       "      <td>37.000000</td>\n",
       "      <td>37.00000</td>\n",
       "      <td>37.000000</td>\n",
       "      <td>37.000000</td>\n",
       "      <td>37.000000</td>\n",
       "      <td>37.000000</td>\n",
       "      <td>37.000000</td>\n",
       "      <td>37.000000</td>\n",
       "      <td>37.000000</td>\n",
       "    </tr>\n",
       "    <tr>\n",
       "      <th>mean</th>\n",
       "      <td>1.0</td>\n",
       "      <td>246992.081081</td>\n",
       "      <td>63.459459</td>\n",
       "      <td>4.945946</td>\n",
       "      <td>0.541973</td>\n",
       "      <td>0.616568</td>\n",
       "      <td>6.081081</td>\n",
       "      <td>-9.030703</td>\n",
       "      <td>0.567568</td>\n",
       "      <td>0.04080</td>\n",
       "      <td>0.268569</td>\n",
       "      <td>0.233968</td>\n",
       "      <td>0.134919</td>\n",
       "      <td>0.388657</td>\n",
       "      <td>118.986324</td>\n",
       "      <td>246992.378378</td>\n",
       "      <td>3.972973</td>\n",
       "    </tr>\n",
       "    <tr>\n",
       "      <th>std</th>\n",
       "      <td>0.0</td>\n",
       "      <td>66739.946668</td>\n",
       "      <td>23.509566</td>\n",
       "      <td>3.681379</td>\n",
       "      <td>0.113533</td>\n",
       "      <td>0.198141</td>\n",
       "      <td>3.759273</td>\n",
       "      <td>3.050718</td>\n",
       "      <td>0.502247</td>\n",
       "      <td>0.01546</td>\n",
       "      <td>0.289375</td>\n",
       "      <td>0.360155</td>\n",
       "      <td>0.093962</td>\n",
       "      <td>0.229933</td>\n",
       "      <td>27.288185</td>\n",
       "      <td>66739.935417</td>\n",
       "      <td>0.164399</td>\n",
       "    </tr>\n",
       "    <tr>\n",
       "      <th>min</th>\n",
       "      <td>1.0</td>\n",
       "      <td>127920.000000</td>\n",
       "      <td>0.000000</td>\n",
       "      <td>1.000000</td>\n",
       "      <td>0.260000</td>\n",
       "      <td>0.120000</td>\n",
       "      <td>0.000000</td>\n",
       "      <td>-15.860000</td>\n",
       "      <td>0.000000</td>\n",
       "      <td>0.02610</td>\n",
       "      <td>0.000004</td>\n",
       "      <td>0.000000</td>\n",
       "      <td>0.060400</td>\n",
       "      <td>0.039200</td>\n",
       "      <td>69.282000</td>\n",
       "      <td>127920.000000</td>\n",
       "      <td>3.000000</td>\n",
       "    </tr>\n",
       "    <tr>\n",
       "      <th>25%</th>\n",
       "      <td>1.0</td>\n",
       "      <td>206866.000000</td>\n",
       "      <td>46.000000</td>\n",
       "      <td>2.000000</td>\n",
       "      <td>0.489000</td>\n",
       "      <td>0.483000</td>\n",
       "      <td>2.000000</td>\n",
       "      <td>-10.492000</td>\n",
       "      <td>0.000000</td>\n",
       "      <td>0.03080</td>\n",
       "      <td>0.020500</td>\n",
       "      <td>0.000209</td>\n",
       "      <td>0.079000</td>\n",
       "      <td>0.228000</td>\n",
       "      <td>98.097000</td>\n",
       "      <td>206867.000000</td>\n",
       "      <td>4.000000</td>\n",
       "    </tr>\n",
       "    <tr>\n",
       "      <th>50%</th>\n",
       "      <td>1.0</td>\n",
       "      <td>253076.000000</td>\n",
       "      <td>73.000000</td>\n",
       "      <td>4.000000</td>\n",
       "      <td>0.565000</td>\n",
       "      <td>0.584000</td>\n",
       "      <td>7.000000</td>\n",
       "      <td>-8.872000</td>\n",
       "      <td>1.000000</td>\n",
       "      <td>0.03430</td>\n",
       "      <td>0.096700</td>\n",
       "      <td>0.005980</td>\n",
       "      <td>0.105000</td>\n",
       "      <td>0.324000</td>\n",
       "      <td>112.788000</td>\n",
       "      <td>253077.000000</td>\n",
       "      <td>4.000000</td>\n",
       "    </tr>\n",
       "    <tr>\n",
       "      <th>75%</th>\n",
       "      <td>1.0</td>\n",
       "      <td>278800.000000</td>\n",
       "      <td>81.000000</td>\n",
       "      <td>7.000000</td>\n",
       "      <td>0.612000</td>\n",
       "      <td>0.792000</td>\n",
       "      <td>9.000000</td>\n",
       "      <td>-6.662000</td>\n",
       "      <td>1.000000</td>\n",
       "      <td>0.05050</td>\n",
       "      <td>0.459000</td>\n",
       "      <td>0.572000</td>\n",
       "      <td>0.128000</td>\n",
       "      <td>0.535000</td>\n",
       "      <td>140.053000</td>\n",
       "      <td>278800.000000</td>\n",
       "      <td>4.000000</td>\n",
       "    </tr>\n",
       "    <tr>\n",
       "      <th>max</th>\n",
       "      <td>1.0</td>\n",
       "      <td>438120.000000</td>\n",
       "      <td>91.000000</td>\n",
       "      <td>16.000000</td>\n",
       "      <td>0.820000</td>\n",
       "      <td>0.956000</td>\n",
       "      <td>11.000000</td>\n",
       "      <td>-2.810000</td>\n",
       "      <td>1.000000</td>\n",
       "      <td>0.09110</td>\n",
       "      <td>0.947000</td>\n",
       "      <td>0.962000</td>\n",
       "      <td>0.467000</td>\n",
       "      <td>0.939000</td>\n",
       "      <td>189.507000</td>\n",
       "      <td>438120.000000</td>\n",
       "      <td>4.000000</td>\n",
       "    </tr>\n",
       "  </tbody>\n",
       "</table>\n",
       "</div>"
      ],
      "text/plain": [
       "       disc_number  duration_ms_x  popularity  track_number  danceability  \\\n",
       "count         37.0      37.000000   37.000000     37.000000     37.000000   \n",
       "mean           1.0  246992.081081   63.459459      4.945946      0.541973   \n",
       "std            0.0   66739.946668   23.509566      3.681379      0.113533   \n",
       "min            1.0  127920.000000    0.000000      1.000000      0.260000   \n",
       "25%            1.0  206866.000000   46.000000      2.000000      0.489000   \n",
       "50%            1.0  253076.000000   73.000000      4.000000      0.565000   \n",
       "75%            1.0  278800.000000   81.000000      7.000000      0.612000   \n",
       "max            1.0  438120.000000   91.000000     16.000000      0.820000   \n",
       "\n",
       "          energy        key   loudness       mode  speechiness  acousticness  \\\n",
       "count  37.000000  37.000000  37.000000  37.000000     37.00000     37.000000   \n",
       "mean    0.616568   6.081081  -9.030703   0.567568      0.04080      0.268569   \n",
       "std     0.198141   3.759273   3.050718   0.502247      0.01546      0.289375   \n",
       "min     0.120000   0.000000 -15.860000   0.000000      0.02610      0.000004   \n",
       "25%     0.483000   2.000000 -10.492000   0.000000      0.03080      0.020500   \n",
       "50%     0.584000   7.000000  -8.872000   1.000000      0.03430      0.096700   \n",
       "75%     0.792000   9.000000  -6.662000   1.000000      0.05050      0.459000   \n",
       "max     0.956000  11.000000  -2.810000   1.000000      0.09110      0.947000   \n",
       "\n",
       "       instrumentalness   liveness    valence       tempo  duration_ms_y  \\\n",
       "count         37.000000  37.000000  37.000000   37.000000      37.000000   \n",
       "mean           0.233968   0.134919   0.388657  118.986324  246992.378378   \n",
       "std            0.360155   0.093962   0.229933   27.288185   66739.935417   \n",
       "min            0.000000   0.060400   0.039200   69.282000  127920.000000   \n",
       "25%            0.000209   0.079000   0.228000   98.097000  206867.000000   \n",
       "50%            0.005980   0.105000   0.324000  112.788000  253077.000000   \n",
       "75%            0.572000   0.128000   0.535000  140.053000  278800.000000   \n",
       "max            0.962000   0.467000   0.939000  189.507000  438120.000000   \n",
       "\n",
       "       time_signature  \n",
       "count       37.000000  \n",
       "mean         3.972973  \n",
       "std          0.164399  \n",
       "min          3.000000  \n",
       "25%          4.000000  \n",
       "50%          4.000000  \n",
       "75%          4.000000  \n",
       "max          4.000000  "
      ]
     },
     "execution_count": 14,
     "metadata": {},
     "output_type": "execute_result"
    }
   ],
   "source": [
    "df.describe()"
   ]
  },
  {
   "cell_type": "code",
   "execution_count": 23,
   "metadata": {},
   "outputs": [
    {
     "data": {
      "text/plain": [
       "Index(['album', 'artists', 'available_markets', 'disc_number', 'duration_ms_x',\n",
       "       'explicit', 'external_ids', 'external_urls', 'href', 'id', 'is_local',\n",
       "       'name', 'popularity', 'preview_url', 'track_number', 'type_x', 'uri_x',\n",
       "       'danceability', 'energy', 'key', 'loudness', 'mode', 'speechiness',\n",
       "       'acousticness', 'instrumentalness', 'liveness', 'valence', 'tempo',\n",
       "       'type_y', 'uri_y', 'track_href', 'analysis_url', 'duration_ms_y',\n",
       "       'time_signature'],\n",
       "      dtype='object')"
      ]
     },
     "execution_count": 23,
     "metadata": {},
     "output_type": "execute_result"
    }
   ],
   "source": [
    "df.columns"
   ]
  },
  {
   "cell_type": "code",
   "execution_count": 15,
   "metadata": {},
   "outputs": [],
   "source": [
    "import plotly.express as px"
   ]
  },
  {
   "cell_type": "code",
   "execution_count": 26,
   "metadata": {},
   "outputs": [
    {
     "data": {
      "application/vnd.plotly.v1+json": {
       "config": {
        "plotlyServerURL": "https://plot.ly"
       },
       "data": [
        {
         "customdata": [
          [
           [
            {
             "external_urls": {
              "spotify": "https://open.spotify.com/artist/762310PdDnwsDxAQxzQkfX"
             },
             "href": "https://api.spotify.com/v1/artists/762310PdDnwsDxAQxzQkfX",
             "id": "762310PdDnwsDxAQxzQkfX",
             "name": "Depeche Mode",
             "type": "artist",
             "uri": "spotify:artist:762310PdDnwsDxAQxzQkfX"
            }
           ],
           "Enjoy the Silence"
          ],
          [
           [
            {
             "external_urls": {
              "spotify": "https://open.spotify.com/artist/2YnNZW22TMq4Ixf19BDJci"
             },
             "href": "https://api.spotify.com/v1/artists/2YnNZW22TMq4Ixf19BDJci",
             "id": "2YnNZW22TMq4Ixf19BDJci",
             "name": "Silent Runners",
             "type": "artist",
             "uri": "spotify:artist:2YnNZW22TMq4Ixf19BDJci"
            }
           ],
           "Roadkill"
          ],
          [
           [
            {
             "external_urls": {
              "spotify": "https://open.spotify.com/artist/7bu3H8JO7d0UbMoVzbo70s"
             },
             "href": "https://api.spotify.com/v1/artists/7bu3H8JO7d0UbMoVzbo70s",
             "id": "7bu3H8JO7d0UbMoVzbo70s",
             "name": "The Cure",
             "type": "artist",
             "uri": "spotify:artist:7bu3H8JO7d0UbMoVzbo70s"
            }
           ],
           "A Forest"
          ],
          [
           [
            {
             "external_urls": {
              "spotify": "https://open.spotify.com/artist/7hM4i3NzOOZZ0IBAGY2hJy"
             },
             "href": "https://api.spotify.com/v1/artists/7hM4i3NzOOZZ0IBAGY2hJy",
             "id": "7hM4i3NzOOZZ0IBAGY2hJy",
             "name": "Then Comes Silence",
             "type": "artist",
             "uri": "spotify:artist:7hM4i3NzOOZZ0IBAGY2hJy"
            }
           ],
           "Strange Kicks"
          ],
          [
           [
            {
             "external_urls": {
              "spotify": "https://open.spotify.com/artist/432R46LaYsJZV2Gmc4jUV5"
             },
             "href": "https://api.spotify.com/v1/artists/432R46LaYsJZV2Gmc4jUV5",
             "id": "432R46LaYsJZV2Gmc4jUV5",
             "name": "Joy Division",
             "type": "artist",
             "uri": "spotify:artist:432R46LaYsJZV2Gmc4jUV5"
            }
           ],
           "Love Will Tear Us Apart"
          ],
          [
           [
            {
             "external_urls": {
              "spotify": "https://open.spotify.com/artist/1aSxMhuvixZ8h9dK9jIDwL"
             },
             "href": "https://api.spotify.com/v1/artists/1aSxMhuvixZ8h9dK9jIDwL",
             "id": "1aSxMhuvixZ8h9dK9jIDwL",
             "name": "Kate Bush",
             "type": "artist",
             "uri": "spotify:artist:1aSxMhuvixZ8h9dK9jIDwL"
            }
           ],
           "Running Up That Hill (A Deal With God)"
          ],
          [
           [
            {
             "external_urls": {
              "spotify": "https://open.spotify.com/artist/6mdiAmATAx73kdxrNrnlao"
             },
             "href": "https://api.spotify.com/v1/artists/6mdiAmATAx73kdxrNrnlao",
             "id": "6mdiAmATAx73kdxrNrnlao",
             "name": "Iron Maiden",
             "type": "artist",
             "uri": "spotify:artist:6mdiAmATAx73kdxrNrnlao"
            }
           ],
           "Fear of the Dark - 2015 Remaster"
          ],
          [
           [
            {
             "external_urls": {
              "spotify": "https://open.spotify.com/artist/4bthk9UfsYUYdcFyqxmSUU"
             },
             "href": "https://api.spotify.com/v1/artists/4bthk9UfsYUYdcFyqxmSUU",
             "id": "4bthk9UfsYUYdcFyqxmSUU",
             "name": "Tears For Fears",
             "type": "artist",
             "uri": "spotify:artist:4bthk9UfsYUYdcFyqxmSUU"
            }
           ],
           "Everybody Wants To Rule The World"
          ],
          [
           [
            {
             "external_urls": {
              "spotify": "https://open.spotify.com/artist/0pWwt5vGNzezEhfAcc420Y"
             },
             "href": "https://api.spotify.com/v1/artists/0pWwt5vGNzezEhfAcc420Y",
             "id": "0pWwt5vGNzezEhfAcc420Y",
             "name": "Mr.Kitty",
             "type": "artist",
             "uri": "spotify:artist:0pWwt5vGNzezEhfAcc420Y"
            }
           ],
           "After Dark"
          ],
          [
           [
            {
             "external_urls": {
              "spotify": "https://open.spotify.com/artist/77SW9BnxLY8rJ0RciFqkHh"
             },
             "href": "https://api.spotify.com/v1/artists/77SW9BnxLY8rJ0RciFqkHh",
             "id": "77SW9BnxLY8rJ0RciFqkHh",
             "name": "The Neighbourhood",
             "type": "artist",
             "uri": "spotify:artist:77SW9BnxLY8rJ0RciFqkHh"
            }
           ],
           "Sweater Weather"
          ],
          [
           [
            {
             "external_urls": {
              "spotify": "https://open.spotify.com/artist/3MZsBdqDrRTJihTHQrO6Dq"
             },
             "href": "https://api.spotify.com/v1/artists/3MZsBdqDrRTJihTHQrO6Dq",
             "id": "3MZsBdqDrRTJihTHQrO6Dq",
             "name": "Joji",
             "type": "artist",
             "uri": "spotify:artist:3MZsBdqDrRTJihTHQrO6Dq"
            }
           ],
           "SLOW DANCING IN THE DARK"
          ],
          [
           [
            {
             "external_urls": {
              "spotify": "https://open.spotify.com/artist/0UF7XLthtbSF2Eur7559oV"
             },
             "href": "https://api.spotify.com/v1/artists/0UF7XLthtbSF2Eur7559oV",
             "id": "0UF7XLthtbSF2Eur7559oV",
             "name": "Kavinsky",
             "type": "artist",
             "uri": "spotify:artist:0UF7XLthtbSF2Eur7559oV"
            }
           ],
           "Nightcall"
          ],
          [
           [
            {
             "external_urls": {
              "spotify": "https://open.spotify.com/artist/4lxfqrEsLX6N1N4OCSkILp"
             },
             "href": "https://api.spotify.com/v1/artists/4lxfqrEsLX6N1N4OCSkILp",
             "id": "4lxfqrEsLX6N1N4OCSkILp",
             "name": "Phil Collins",
             "type": "artist",
             "uri": "spotify:artist:4lxfqrEsLX6N1N4OCSkILp"
            }
           ],
           "In The Air Tonight - 2015 Remastered"
          ],
          [
           [
            {
             "external_urls": {
              "spotify": "https://open.spotify.com/artist/63MQldklfxkjYDoUE4Tppz"
             },
             "href": "https://api.spotify.com/v1/artists/63MQldklfxkjYDoUE4Tppz",
             "id": "63MQldklfxkjYDoUE4Tppz",
             "name": "M83",
             "type": "artist",
             "uri": "spotify:artist:63MQldklfxkjYDoUE4Tppz"
            }
           ],
           "Midnight City"
          ],
          [
           [
            {
             "external_urls": {
              "spotify": "https://open.spotify.com/artist/2kCcBybjl3SAtIcwdWpUe3"
             },
             "href": "https://api.spotify.com/v1/artists/2kCcBybjl3SAtIcwdWpUe3",
             "id": "2kCcBybjl3SAtIcwdWpUe3",
             "name": "Lil Peep",
             "type": "artist",
             "uri": "spotify:artist:2kCcBybjl3SAtIcwdWpUe3"
            }
           ],
           "Star Shopping"
          ],
          [
           [
            {
             "external_urls": {
              "spotify": "https://open.spotify.com/artist/2kCcBybjl3SAtIcwdWpUe3"
             },
             "href": "https://api.spotify.com/v1/artists/2kCcBybjl3SAtIcwdWpUe3",
             "id": "2kCcBybjl3SAtIcwdWpUe3",
             "name": "Lil Peep",
             "type": "artist",
             "uri": "spotify:artist:2kCcBybjl3SAtIcwdWpUe3"
            },
            {
             "external_urls": {
              "spotify": "https://open.spotify.com/artist/5g63iWaMJ2UrkZMkCC8dMi"
             },
             "href": "https://api.spotify.com/v1/artists/5g63iWaMJ2UrkZMkCC8dMi",
             "id": "5g63iWaMJ2UrkZMkCC8dMi",
             "name": "Lil Tracy",
             "type": "artist",
             "uri": "spotify:artist:5g63iWaMJ2UrkZMkCC8dMi"
            }
           ],
           "witchblades"
          ],
          [
           [
            {
             "external_urls": {
              "spotify": "https://open.spotify.com/artist/77SW9BnxLY8rJ0RciFqkHh"
             },
             "href": "https://api.spotify.com/v1/artists/77SW9BnxLY8rJ0RciFqkHh",
             "id": "77SW9BnxLY8rJ0RciFqkHh",
             "name": "The Neighbourhood",
             "type": "artist",
             "uri": "spotify:artist:77SW9BnxLY8rJ0RciFqkHh"
            }
           ],
           "Daddy Issues"
          ],
          [
           [
            {
             "external_urls": {
              "spotify": "https://open.spotify.com/artist/6zFYqv1mOsgBRQbae3JJ9e"
             },
             "href": "https://api.spotify.com/v1/artists/6zFYqv1mOsgBRQbae3JJ9e",
             "id": "6zFYqv1mOsgBRQbae3JJ9e",
             "name": "Billy Joel",
             "type": "artist",
             "uri": "spotify:artist:6zFYqv1mOsgBRQbae3JJ9e"
            }
           ],
           "Vienna"
          ],
          [
           [
            {
             "external_urls": {
              "spotify": "https://open.spotify.com/artist/1t20wYnTiAT0Bs7H1hv9Wt"
             },
             "href": "https://api.spotify.com/v1/artists/1t20wYnTiAT0Bs7H1hv9Wt",
             "id": "1t20wYnTiAT0Bs7H1hv9Wt",
             "name": "EDEN",
             "type": "artist",
             "uri": "spotify:artist:1t20wYnTiAT0Bs7H1hv9Wt"
            }
           ],
           "rock + roll"
          ],
          [
           [
            {
             "external_urls": {
              "spotify": "https://open.spotify.com/artist/18lpwfiys4GtdHWNUu9qQr"
             },
             "href": "https://api.spotify.com/v1/artists/18lpwfiys4GtdHWNUu9qQr",
             "id": "18lpwfiys4GtdHWNUu9qQr",
             "name": "Ocean Alley",
             "type": "artist",
             "uri": "spotify:artist:18lpwfiys4GtdHWNUu9qQr"
            }
           ],
           "Confidence"
          ],
          [
           [
            {
             "external_urls": {
              "spotify": "https://open.spotify.com/artist/3iOvXCl6edW5Um0fXEBRXy"
             },
             "href": "https://api.spotify.com/v1/artists/3iOvXCl6edW5Um0fXEBRXy",
             "id": "3iOvXCl6edW5Um0fXEBRXy",
             "name": "The xx",
             "type": "artist",
             "uri": "spotify:artist:3iOvXCl6edW5Um0fXEBRXy"
            }
           ],
           "Intro"
          ],
          [
           [
            {
             "external_urls": {
              "spotify": "https://open.spotify.com/artist/7COP1HCvVq1cIpZcLQYoNe"
             },
             "href": "https://api.spotify.com/v1/artists/7COP1HCvVq1cIpZcLQYoNe",
             "id": "7COP1HCvVq1cIpZcLQYoNe",
             "name": "Bedroom",
             "type": "artist",
             "uri": "spotify:artist:7COP1HCvVq1cIpZcLQYoNe"
            }
           ],
           "In My Head"
          ],
          [
           [
            {
             "external_urls": {
              "spotify": "https://open.spotify.com/artist/3sntDD4Y2K97qvDq3GPqZ5"
             },
             "href": "https://api.spotify.com/v1/artists/3sntDD4Y2K97qvDq3GPqZ5",
             "id": "3sntDD4Y2K97qvDq3GPqZ5",
             "name": "Myslovitz",
             "type": "artist",
             "uri": "spotify:artist:3sntDD4Y2K97qvDq3GPqZ5"
            }
           ],
           "Dlugość dźwięku samotności"
          ],
          [
           [
            {
             "external_urls": {
              "spotify": "https://open.spotify.com/artist/7Ln80lUS6He07XvHI8qqHH"
             },
             "href": "https://api.spotify.com/v1/artists/7Ln80lUS6He07XvHI8qqHH",
             "id": "7Ln80lUS6He07XvHI8qqHH",
             "name": "Arctic Monkeys",
             "type": "artist",
             "uri": "spotify:artist:7Ln80lUS6He07XvHI8qqHH"
            }
           ],
           "Why'd You Only Call Me When You're High?"
          ],
          [
           [
            {
             "external_urls": {
              "spotify": "https://open.spotify.com/artist/0xliTEbFfy5HQHvsTknTkX"
             },
             "href": "https://api.spotify.com/v1/artists/0xliTEbFfy5HQHvsTknTkX",
             "id": "0xliTEbFfy5HQHvsTknTkX",
             "name": "Alphaville",
             "type": "artist",
             "uri": "spotify:artist:0xliTEbFfy5HQHvsTknTkX"
            }
           ],
           "Forever Young"
          ],
          [
           [
            {
             "external_urls": {
              "spotify": "https://open.spotify.com/artist/65A714FqhSPjoFZeffQbTv"
             },
             "href": "https://api.spotify.com/v1/artists/65A714FqhSPjoFZeffQbTv",
             "id": "65A714FqhSPjoFZeffQbTv",
             "name": "Lindemann",
             "type": "artist",
             "uri": "spotify:artist:65A714FqhSPjoFZeffQbTv"
            }
           ],
           "That's My Heart"
          ],
          [
           [
            {
             "external_urls": {
              "spotify": "https://open.spotify.com/artist/1r93D0anfnfL4M7tYTce0J"
             },
             "href": "https://api.spotify.com/v1/artists/1r93D0anfnfL4M7tYTce0J",
             "id": "1r93D0anfnfL4M7tYTce0J",
             "name": "Edwin Rosen",
             "type": "artist",
             "uri": "spotify:artist:1r93D0anfnfL4M7tYTce0J"
            }
           ],
           "\"1119\""
          ],
          [
           [
            {
             "external_urls": {
              "spotify": "https://open.spotify.com/artist/0pg0Zm8FsGAYy5kdHuBnSo"
             },
             "href": "https://api.spotify.com/v1/artists/0pg0Zm8FsGAYy5kdHuBnSo",
             "id": "0pg0Zm8FsGAYy5kdHuBnSo",
             "name": "salvia palth",
             "type": "artist",
             "uri": "spotify:artist:0pg0Zm8FsGAYy5kdHuBnSo"
            }
           ],
           "i was all over her"
          ],
          [
           [
            {
             "external_urls": {
              "spotify": "https://open.spotify.com/artist/3YBIrJozn8fop4UYIt7wcV"
             },
             "href": "https://api.spotify.com/v1/artists/3YBIrJozn8fop4UYIt7wcV",
             "id": "3YBIrJozn8fop4UYIt7wcV",
             "name": "Russell Crowe",
             "type": "artist",
             "uri": "spotify:artist:3YBIrJozn8fop4UYIt7wcV"
            }
           ],
           "Stars"
          ],
          [
           [
            {
             "external_urls": {
              "spotify": "https://open.spotify.com/artist/0pWwt5vGNzezEhfAcc420Y"
             },
             "href": "https://api.spotify.com/v1/artists/0pWwt5vGNzezEhfAcc420Y",
             "id": "0pWwt5vGNzezEhfAcc420Y",
             "name": "Mr.Kitty",
             "type": "artist",
             "uri": "spotify:artist:0pWwt5vGNzezEhfAcc420Y"
            }
           ],
           "Habits (feat. PASTEL GHOST)"
          ],
          [
           [
            {
             "external_urls": {
              "spotify": "https://open.spotify.com/artist/0PkkQfDUJZuR2PcQ6uEV8j"
             },
             "href": "https://api.spotify.com/v1/artists/0PkkQfDUJZuR2PcQ6uEV8j",
             "id": "0PkkQfDUJZuR2PcQ6uEV8j",
             "name": "Lady Pank",
             "type": "artist",
             "uri": "spotify:artist:0PkkQfDUJZuR2PcQ6uEV8j"
            }
           ],
           "Wciąż bardziej obcy"
          ],
          [
           [
            {
             "external_urls": {
              "spotify": "https://open.spotify.com/artist/7riQPkkGZBnTh9ve5qIhYo"
             },
             "href": "https://api.spotify.com/v1/artists/7riQPkkGZBnTh9ve5qIhYo",
             "id": "7riQPkkGZBnTh9ve5qIhYo",
             "name": "Mareux",
             "type": "artist",
             "uri": "spotify:artist:7riQPkkGZBnTh9ve5qIhYo"
            }
           ],
           "The Perfect Girl"
          ],
          [
           [
            {
             "external_urls": {
              "spotify": "https://open.spotify.com/artist/1QAJqy2dA3ihHBFIHRphZj"
             },
             "href": "https://api.spotify.com/v1/artists/1QAJqy2dA3ihHBFIHRphZj",
             "id": "1QAJqy2dA3ihHBFIHRphZj",
             "name": "Cigarettes After Sex",
             "type": "artist",
             "uri": "spotify:artist:1QAJqy2dA3ihHBFIHRphZj"
            }
           ],
           "Apocalypse"
          ],
          [
           [
            {
             "external_urls": {
              "spotify": "https://open.spotify.com/artist/2wpWOzQE5TpA0dVnh5YD08"
             },
             "href": "https://api.spotify.com/v1/artists/2wpWOzQE5TpA0dVnh5YD08",
             "id": "2wpWOzQE5TpA0dVnh5YD08",
             "name": "Bronski Beat",
             "type": "artist",
             "uri": "spotify:artist:2wpWOzQE5TpA0dVnh5YD08"
            }
           ],
           "Smalltown Boy"
          ],
          [
           [
            {
             "external_urls": {
              "spotify": "https://open.spotify.com/artist/5qxFoC4hkXgFJ3l9keZlL0"
             },
             "href": "https://api.spotify.com/v1/artists/5qxFoC4hkXgFJ3l9keZlL0",
             "id": "5qxFoC4hkXgFJ3l9keZlL0",
             "name": "Desmond Doom",
             "type": "artist",
             "uri": "spotify:artist:5qxFoC4hkXgFJ3l9keZlL0"
            }
           ],
           "You'll Never Be A Rockstar (That's Okay)"
          ],
          [
           [
            {
             "external_urls": {
              "spotify": "https://open.spotify.com/artist/5NGO30tJxFlKixkPSgXcFE"
             },
             "href": "https://api.spotify.com/v1/artists/5NGO30tJxFlKixkPSgXcFE",
             "id": "5NGO30tJxFlKixkPSgXcFE",
             "name": "The Police",
             "type": "artist",
             "uri": "spotify:artist:5NGO30tJxFlKixkPSgXcFE"
            }
           ],
           "Every Breath You Take"
          ],
          [
           [
            {
             "external_urls": {
              "spotify": "https://open.spotify.com/artist/51Blml2LZPmy7TTiAg47vQ"
             },
             "href": "https://api.spotify.com/v1/artists/51Blml2LZPmy7TTiAg47vQ",
             "id": "51Blml2LZPmy7TTiAg47vQ",
             "name": "U2",
             "type": "artist",
             "uri": "spotify:artist:51Blml2LZPmy7TTiAg47vQ"
            }
           ],
           "I Still Haven't Found What I'm Looking For - Remastered 2007"
          ]
         ],
         "hovertemplate": "energy=%{x}<br>danceability=%{y}<br>artists=%{customdata[0]}<br>name=%{customdata[1]}<extra></extra>",
         "legendgroup": "",
         "marker": {
          "color": "#636efa",
          "symbol": "circle"
         },
         "mode": "markers",
         "name": "",
         "orientation": "v",
         "showlegend": false,
         "type": "scatter",
         "x": [
          0.838,
          0.792,
          0.493,
          0.942,
          0.956,
          0.547,
          0.866,
          0.795,
          0.601,
          0.807,
          0.479,
          0.874,
          0.239,
          0.729,
          0.471,
          0.54,
          0.521,
          0.495,
          0.517,
          0.562,
          0.778,
          0.608,
          0.689,
          0.631,
          0.483,
          0.414,
          0.75,
          0.353,
          0.12,
          0.822,
          0.439,
          0.89,
          0.467,
          0.584,
          0.505,
          0.452,
          0.764
         ],
         "xaxis": "x",
         "y": [
          0.663,
          0.588,
          0.587,
          0.407,
          0.443,
          0.629,
          0.308,
          0.645,
          0.579,
          0.612,
          0.515,
          0.532,
          0.446,
          0.507,
          0.585,
          0.634,
          0.588,
          0.532,
          0.468,
          0.59,
          0.617,
          0.576,
          0.552,
          0.691,
          0.489,
          0.309,
          0.629,
          0.529,
          0.26,
          0.532,
          0.513,
          0.485,
          0.37,
          0.685,
          0.573,
          0.82,
          0.565
         ],
         "yaxis": "y"
        }
       ],
       "layout": {
        "legend": {
         "tracegroupgap": 0
        },
        "margin": {
         "t": 60
        },
        "template": {
         "data": {
          "bar": [
           {
            "error_x": {
             "color": "#2a3f5f"
            },
            "error_y": {
             "color": "#2a3f5f"
            },
            "marker": {
             "line": {
              "color": "#E5ECF6",
              "width": 0.5
             },
             "pattern": {
              "fillmode": "overlay",
              "size": 10,
              "solidity": 0.2
             }
            },
            "type": "bar"
           }
          ],
          "barpolar": [
           {
            "marker": {
             "line": {
              "color": "#E5ECF6",
              "width": 0.5
             },
             "pattern": {
              "fillmode": "overlay",
              "size": 10,
              "solidity": 0.2
             }
            },
            "type": "barpolar"
           }
          ],
          "carpet": [
           {
            "aaxis": {
             "endlinecolor": "#2a3f5f",
             "gridcolor": "white",
             "linecolor": "white",
             "minorgridcolor": "white",
             "startlinecolor": "#2a3f5f"
            },
            "baxis": {
             "endlinecolor": "#2a3f5f",
             "gridcolor": "white",
             "linecolor": "white",
             "minorgridcolor": "white",
             "startlinecolor": "#2a3f5f"
            },
            "type": "carpet"
           }
          ],
          "choropleth": [
           {
            "colorbar": {
             "outlinewidth": 0,
             "ticks": ""
            },
            "type": "choropleth"
           }
          ],
          "contour": [
           {
            "colorbar": {
             "outlinewidth": 0,
             "ticks": ""
            },
            "colorscale": [
             [
              0,
              "#0d0887"
             ],
             [
              0.1111111111111111,
              "#46039f"
             ],
             [
              0.2222222222222222,
              "#7201a8"
             ],
             [
              0.3333333333333333,
              "#9c179e"
             ],
             [
              0.4444444444444444,
              "#bd3786"
             ],
             [
              0.5555555555555556,
              "#d8576b"
             ],
             [
              0.6666666666666666,
              "#ed7953"
             ],
             [
              0.7777777777777778,
              "#fb9f3a"
             ],
             [
              0.8888888888888888,
              "#fdca26"
             ],
             [
              1,
              "#f0f921"
             ]
            ],
            "type": "contour"
           }
          ],
          "contourcarpet": [
           {
            "colorbar": {
             "outlinewidth": 0,
             "ticks": ""
            },
            "type": "contourcarpet"
           }
          ],
          "heatmap": [
           {
            "colorbar": {
             "outlinewidth": 0,
             "ticks": ""
            },
            "colorscale": [
             [
              0,
              "#0d0887"
             ],
             [
              0.1111111111111111,
              "#46039f"
             ],
             [
              0.2222222222222222,
              "#7201a8"
             ],
             [
              0.3333333333333333,
              "#9c179e"
             ],
             [
              0.4444444444444444,
              "#bd3786"
             ],
             [
              0.5555555555555556,
              "#d8576b"
             ],
             [
              0.6666666666666666,
              "#ed7953"
             ],
             [
              0.7777777777777778,
              "#fb9f3a"
             ],
             [
              0.8888888888888888,
              "#fdca26"
             ],
             [
              1,
              "#f0f921"
             ]
            ],
            "type": "heatmap"
           }
          ],
          "heatmapgl": [
           {
            "colorbar": {
             "outlinewidth": 0,
             "ticks": ""
            },
            "colorscale": [
             [
              0,
              "#0d0887"
             ],
             [
              0.1111111111111111,
              "#46039f"
             ],
             [
              0.2222222222222222,
              "#7201a8"
             ],
             [
              0.3333333333333333,
              "#9c179e"
             ],
             [
              0.4444444444444444,
              "#bd3786"
             ],
             [
              0.5555555555555556,
              "#d8576b"
             ],
             [
              0.6666666666666666,
              "#ed7953"
             ],
             [
              0.7777777777777778,
              "#fb9f3a"
             ],
             [
              0.8888888888888888,
              "#fdca26"
             ],
             [
              1,
              "#f0f921"
             ]
            ],
            "type": "heatmapgl"
           }
          ],
          "histogram": [
           {
            "marker": {
             "pattern": {
              "fillmode": "overlay",
              "size": 10,
              "solidity": 0.2
             }
            },
            "type": "histogram"
           }
          ],
          "histogram2d": [
           {
            "colorbar": {
             "outlinewidth": 0,
             "ticks": ""
            },
            "colorscale": [
             [
              0,
              "#0d0887"
             ],
             [
              0.1111111111111111,
              "#46039f"
             ],
             [
              0.2222222222222222,
              "#7201a8"
             ],
             [
              0.3333333333333333,
              "#9c179e"
             ],
             [
              0.4444444444444444,
              "#bd3786"
             ],
             [
              0.5555555555555556,
              "#d8576b"
             ],
             [
              0.6666666666666666,
              "#ed7953"
             ],
             [
              0.7777777777777778,
              "#fb9f3a"
             ],
             [
              0.8888888888888888,
              "#fdca26"
             ],
             [
              1,
              "#f0f921"
             ]
            ],
            "type": "histogram2d"
           }
          ],
          "histogram2dcontour": [
           {
            "colorbar": {
             "outlinewidth": 0,
             "ticks": ""
            },
            "colorscale": [
             [
              0,
              "#0d0887"
             ],
             [
              0.1111111111111111,
              "#46039f"
             ],
             [
              0.2222222222222222,
              "#7201a8"
             ],
             [
              0.3333333333333333,
              "#9c179e"
             ],
             [
              0.4444444444444444,
              "#bd3786"
             ],
             [
              0.5555555555555556,
              "#d8576b"
             ],
             [
              0.6666666666666666,
              "#ed7953"
             ],
             [
              0.7777777777777778,
              "#fb9f3a"
             ],
             [
              0.8888888888888888,
              "#fdca26"
             ],
             [
              1,
              "#f0f921"
             ]
            ],
            "type": "histogram2dcontour"
           }
          ],
          "mesh3d": [
           {
            "colorbar": {
             "outlinewidth": 0,
             "ticks": ""
            },
            "type": "mesh3d"
           }
          ],
          "parcoords": [
           {
            "line": {
             "colorbar": {
              "outlinewidth": 0,
              "ticks": ""
             }
            },
            "type": "parcoords"
           }
          ],
          "pie": [
           {
            "automargin": true,
            "type": "pie"
           }
          ],
          "scatter": [
           {
            "fillpattern": {
             "fillmode": "overlay",
             "size": 10,
             "solidity": 0.2
            },
            "type": "scatter"
           }
          ],
          "scatter3d": [
           {
            "line": {
             "colorbar": {
              "outlinewidth": 0,
              "ticks": ""
             }
            },
            "marker": {
             "colorbar": {
              "outlinewidth": 0,
              "ticks": ""
             }
            },
            "type": "scatter3d"
           }
          ],
          "scattercarpet": [
           {
            "marker": {
             "colorbar": {
              "outlinewidth": 0,
              "ticks": ""
             }
            },
            "type": "scattercarpet"
           }
          ],
          "scattergeo": [
           {
            "marker": {
             "colorbar": {
              "outlinewidth": 0,
              "ticks": ""
             }
            },
            "type": "scattergeo"
           }
          ],
          "scattergl": [
           {
            "marker": {
             "colorbar": {
              "outlinewidth": 0,
              "ticks": ""
             }
            },
            "type": "scattergl"
           }
          ],
          "scattermapbox": [
           {
            "marker": {
             "colorbar": {
              "outlinewidth": 0,
              "ticks": ""
             }
            },
            "type": "scattermapbox"
           }
          ],
          "scatterpolar": [
           {
            "marker": {
             "colorbar": {
              "outlinewidth": 0,
              "ticks": ""
             }
            },
            "type": "scatterpolar"
           }
          ],
          "scatterpolargl": [
           {
            "marker": {
             "colorbar": {
              "outlinewidth": 0,
              "ticks": ""
             }
            },
            "type": "scatterpolargl"
           }
          ],
          "scatterternary": [
           {
            "marker": {
             "colorbar": {
              "outlinewidth": 0,
              "ticks": ""
             }
            },
            "type": "scatterternary"
           }
          ],
          "surface": [
           {
            "colorbar": {
             "outlinewidth": 0,
             "ticks": ""
            },
            "colorscale": [
             [
              0,
              "#0d0887"
             ],
             [
              0.1111111111111111,
              "#46039f"
             ],
             [
              0.2222222222222222,
              "#7201a8"
             ],
             [
              0.3333333333333333,
              "#9c179e"
             ],
             [
              0.4444444444444444,
              "#bd3786"
             ],
             [
              0.5555555555555556,
              "#d8576b"
             ],
             [
              0.6666666666666666,
              "#ed7953"
             ],
             [
              0.7777777777777778,
              "#fb9f3a"
             ],
             [
              0.8888888888888888,
              "#fdca26"
             ],
             [
              1,
              "#f0f921"
             ]
            ],
            "type": "surface"
           }
          ],
          "table": [
           {
            "cells": {
             "fill": {
              "color": "#EBF0F8"
             },
             "line": {
              "color": "white"
             }
            },
            "header": {
             "fill": {
              "color": "#C8D4E3"
             },
             "line": {
              "color": "white"
             }
            },
            "type": "table"
           }
          ]
         },
         "layout": {
          "annotationdefaults": {
           "arrowcolor": "#2a3f5f",
           "arrowhead": 0,
           "arrowwidth": 1
          },
          "autotypenumbers": "strict",
          "coloraxis": {
           "colorbar": {
            "outlinewidth": 0,
            "ticks": ""
           }
          },
          "colorscale": {
           "diverging": [
            [
             0,
             "#8e0152"
            ],
            [
             0.1,
             "#c51b7d"
            ],
            [
             0.2,
             "#de77ae"
            ],
            [
             0.3,
             "#f1b6da"
            ],
            [
             0.4,
             "#fde0ef"
            ],
            [
             0.5,
             "#f7f7f7"
            ],
            [
             0.6,
             "#e6f5d0"
            ],
            [
             0.7,
             "#b8e186"
            ],
            [
             0.8,
             "#7fbc41"
            ],
            [
             0.9,
             "#4d9221"
            ],
            [
             1,
             "#276419"
            ]
           ],
           "sequential": [
            [
             0,
             "#0d0887"
            ],
            [
             0.1111111111111111,
             "#46039f"
            ],
            [
             0.2222222222222222,
             "#7201a8"
            ],
            [
             0.3333333333333333,
             "#9c179e"
            ],
            [
             0.4444444444444444,
             "#bd3786"
            ],
            [
             0.5555555555555556,
             "#d8576b"
            ],
            [
             0.6666666666666666,
             "#ed7953"
            ],
            [
             0.7777777777777778,
             "#fb9f3a"
            ],
            [
             0.8888888888888888,
             "#fdca26"
            ],
            [
             1,
             "#f0f921"
            ]
           ],
           "sequentialminus": [
            [
             0,
             "#0d0887"
            ],
            [
             0.1111111111111111,
             "#46039f"
            ],
            [
             0.2222222222222222,
             "#7201a8"
            ],
            [
             0.3333333333333333,
             "#9c179e"
            ],
            [
             0.4444444444444444,
             "#bd3786"
            ],
            [
             0.5555555555555556,
             "#d8576b"
            ],
            [
             0.6666666666666666,
             "#ed7953"
            ],
            [
             0.7777777777777778,
             "#fb9f3a"
            ],
            [
             0.8888888888888888,
             "#fdca26"
            ],
            [
             1,
             "#f0f921"
            ]
           ]
          },
          "colorway": [
           "#636efa",
           "#EF553B",
           "#00cc96",
           "#ab63fa",
           "#FFA15A",
           "#19d3f3",
           "#FF6692",
           "#B6E880",
           "#FF97FF",
           "#FECB52"
          ],
          "font": {
           "color": "#2a3f5f"
          },
          "geo": {
           "bgcolor": "white",
           "lakecolor": "white",
           "landcolor": "#E5ECF6",
           "showlakes": true,
           "showland": true,
           "subunitcolor": "white"
          },
          "hoverlabel": {
           "align": "left"
          },
          "hovermode": "closest",
          "mapbox": {
           "style": "light"
          },
          "paper_bgcolor": "white",
          "plot_bgcolor": "#E5ECF6",
          "polar": {
           "angularaxis": {
            "gridcolor": "white",
            "linecolor": "white",
            "ticks": ""
           },
           "bgcolor": "#E5ECF6",
           "radialaxis": {
            "gridcolor": "white",
            "linecolor": "white",
            "ticks": ""
           }
          },
          "scene": {
           "xaxis": {
            "backgroundcolor": "#E5ECF6",
            "gridcolor": "white",
            "gridwidth": 2,
            "linecolor": "white",
            "showbackground": true,
            "ticks": "",
            "zerolinecolor": "white"
           },
           "yaxis": {
            "backgroundcolor": "#E5ECF6",
            "gridcolor": "white",
            "gridwidth": 2,
            "linecolor": "white",
            "showbackground": true,
            "ticks": "",
            "zerolinecolor": "white"
           },
           "zaxis": {
            "backgroundcolor": "#E5ECF6",
            "gridcolor": "white",
            "gridwidth": 2,
            "linecolor": "white",
            "showbackground": true,
            "ticks": "",
            "zerolinecolor": "white"
           }
          },
          "shapedefaults": {
           "line": {
            "color": "#2a3f5f"
           }
          },
          "ternary": {
           "aaxis": {
            "gridcolor": "white",
            "linecolor": "white",
            "ticks": ""
           },
           "baxis": {
            "gridcolor": "white",
            "linecolor": "white",
            "ticks": ""
           },
           "bgcolor": "#E5ECF6",
           "caxis": {
            "gridcolor": "white",
            "linecolor": "white",
            "ticks": ""
           }
          },
          "title": {
           "x": 0.05
          },
          "xaxis": {
           "automargin": true,
           "gridcolor": "white",
           "linecolor": "white",
           "ticks": "",
           "title": {
            "standoff": 15
           },
           "zerolinecolor": "white",
           "zerolinewidth": 2
          },
          "yaxis": {
           "automargin": true,
           "gridcolor": "white",
           "linecolor": "white",
           "ticks": "",
           "title": {
            "standoff": 15
           },
           "zerolinecolor": "white",
           "zerolinewidth": 2
          }
         }
        },
        "xaxis": {
         "anchor": "y",
         "domain": [
          0,
          1
         ],
         "title": {
          "text": "energy"
         }
        },
        "yaxis": {
         "anchor": "x",
         "domain": [
          0,
          1
         ],
         "title": {
          "text": "danceability"
         }
        }
       }
      }
     },
     "metadata": {},
     "output_type": "display_data"
    }
   ],
   "source": [
    "fig = px.scatter(df, x=\"valence\", y=\"danceability\", hover_data=['artists', 'name'])\n",
    "fig.show()\n"
   ]
  },
  {
   "cell_type": "code",
   "execution_count": null,
   "metadata": {},
   "outputs": [],
   "source": []
  }
 ],
 "metadata": {
  "kernelspec": {
   "display_name": "venv",
   "language": "python",
   "name": "python3"
  },
  "language_info": {
   "codemirror_mode": {
    "name": "ipython",
    "version": 3
   },
   "file_extension": ".py",
   "mimetype": "text/x-python",
   "name": "python",
   "nbconvert_exporter": "python",
   "pygments_lexer": "ipython3",
   "version": "3.10.7"
  },
  "orig_nbformat": 4
 },
 "nbformat": 4,
 "nbformat_minor": 2
}
