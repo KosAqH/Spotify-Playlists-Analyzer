{
 "cells": [
  {
   "cell_type": "code",
   "execution_count": 1,
   "metadata": {},
   "outputs": [],
   "source": [
    "from app.spotify_api.spotify_connection import SpotifyConn\n",
    "from app.spotify_api.spotify_api import SpotifyApi\n",
    "from app.spotify_api.spotify_utils import load_credentials"
   ]
  },
  {
   "cell_type": "code",
   "execution_count": 2,
   "metadata": {},
   "outputs": [],
   "source": [
    "import requests\n",
    "import pandas as pd\n",
    "import plotly"
   ]
  },
  {
   "cell_type": "code",
   "execution_count": 3,
   "metadata": {},
   "outputs": [],
   "source": [
    "def get_spotify_access_token():\n",
    "    print()\n",
    "    api_key, api_secret = load_credentials()\n",
    "    conn = SpotifyConn()\n",
    "    conn.authorize(api_key, api_secret)\n",
    "    token = conn.get_access_token()\n",
    "    return token"
   ]
  },
  {
   "cell_type": "markdown",
   "metadata": {},
   "source": [
    "Try 2"
   ]
  },
  {
   "cell_type": "code",
   "execution_count": 4,
   "metadata": {},
   "outputs": [
    {
     "name": "stdout",
     "output_type": "stream",
     "text": [
      "\n"
     ]
    }
   ],
   "source": [
    "token = get_spotify_access_token()\n",
    "api = SpotifyApi(token)\n",
    "\n",
    "p = api.RequestPlaylist(\"3vFJuKtDQCYkFSrpUaf5Dh\")  # 387OhCc6mEbm96wzfFfhpp\n",
    "playlist_meta = api.RetrievePlaylistMetadata(p)"
   ]
  },
  {
   "cell_type": "code",
   "execution_count": 5,
   "metadata": {},
   "outputs": [],
   "source": [
    "ids = api.retrieveIdsFromPlaylist(\"3vFJuKtDQCYkFSrpUaf5Dh\", playlist_meta[\"total_count\"])"
   ]
  },
  {
   "cell_type": "code",
   "execution_count": 6,
   "metadata": {},
   "outputs": [
    {
     "data": {
      "text/plain": [
       "['6WK9dVrRABMkUXFLNlgWFh',\n",
       " '0KK6ZjOud4VGZMIzSIxyGP',\n",
       " '4iVTSRiJAA18d3QglhyJ6Q',\n",
       " '4uJ5eg1Wg3qSu1jnvOG18s',\n",
       " '2JO3HwMRPeya8bXbtbyPcf',\n",
       " '75FEaRjZTKLhTrFGsfMUXR',\n",
       " '6p8eFfPw3nQkf37aT3AkmK',\n",
       " '4RvWPyQ5RL0ao9LPZeSouE',\n",
       " '1kA1nhedSyqBXPseQ27AF6',\n",
       " '2QjOHCTQ1Jl3zawyYOpxh6',\n",
       " '0rKtyWc8bvkriBthvHKY8d',\n",
       " '0U0ldCRmgCqhVvD6ksG63j',\n",
       " '18AXbzPzBS8Y3AkgSxzJPb',\n",
       " '6GyFP1nfCDB8lbD2bG0Hq9',\n",
       " '30bqVoKjX479ab90a8Pafp',\n",
       " '7pIorU6vXlFoXmHUdsbpfX',\n",
       " '5E30LdtzQTGqRvNd7l6kG5',\n",
       " '4U45aEWtQhrm8A5mxPaFZ7',\n",
       " '0Mf6WhWLfOpzOxacvbcboj',\n",
       " '7to68V64Cu6zk0UDo5tyw3',\n",
       " '2usrT8QIbIk9y0NEtQwS4j',\n",
       " '5vwXQUwkpmnkJrfv69L6Mp',\n",
       " '5ytkHKps6RVVDFZwAqVDCB',\n",
       " '086myS9r57YsLbJpU0TgK9',\n",
       " '4S1VYqwfkLit9mKVY3MXoo',\n",
       " '5MgWBlKvVESxyYpRFehNhc',\n",
       " '6bP7n1KoDg7PX5Ceja25qC',\n",
       " '7svpAkwc6xaSxlbZ7V7JiS',\n",
       " '3YvgdC5WnZY8lTGcr6eeE6',\n",
       " '3maqY8XwtNEzFbMZymWLrD',\n",
       " '1J1rg6WPbqZlob4rumAUsQ',\n",
       " '5RBOcBpJXaNnHCGViJmYhh',\n",
       " '0yc6Gst2xkRu0eMLeRMGCX',\n",
       " '5vmRQ3zELMLUQPo2FLQ76x',\n",
       " '3mWD2YaExjAfsWUk1vugx2',\n",
       " '1JSTJqkT5qHq8MDJnJbRE1',\n",
       " '3MRQ3CSjoiV1HFil8ykM9M']"
      ]
     },
     "execution_count": 6,
     "metadata": {},
     "output_type": "execute_result"
    }
   ],
   "source": [
    "ids"
   ]
  },
  {
   "cell_type": "code",
   "execution_count": 7,
   "metadata": {},
   "outputs": [
    {
     "data": {
      "text/plain": [
       "37"
      ]
     },
     "execution_count": 7,
     "metadata": {},
     "output_type": "execute_result"
    }
   ],
   "source": [
    "len(ids)"
   ]
  },
  {
   "cell_type": "code",
   "execution_count": 8,
   "metadata": {},
   "outputs": [
    {
     "name": "stdout",
     "output_type": "stream",
     "text": [
      "{'album_type': 'compilation', 'artists': [{'external_urls': {'spotify': 'https://open.spotify.com/artist/762310PdDnwsDxAQxzQkfX'}, 'href': 'https://api.spotify.com/v1/artists/762310PdDnwsDxAQxzQkfX', 'id': '762310PdDnwsDxAQxzQkfX', 'name': 'Depeche Mode', 'type': 'artist', 'uri': 'spotify:artist:762310PdDnwsDxAQxzQkfX'}], 'available_markets': ['AD', 'AE', 'AG', 'AL', 'AM', 'AO', 'AR', 'AT', 'AU', 'AZ', 'BA', 'BB', 'BD', 'BE', 'BF', 'BG', 'BH', 'BI', 'BJ', 'BN', 'BO', 'BR', 'BS', 'BT', 'BW', 'BY', 'BZ', 'CD', 'CG', 'CH', 'CI', 'CL', 'CM', 'CO', 'CR', 'CV', 'CW', 'CY', 'CZ', 'DE', 'DJ', 'DK', 'DM', 'DO', 'DZ', 'EC', 'EE', 'EG', 'ES', 'ET', 'FI', 'FJ', 'FM', 'FR', 'GA', 'GB', 'GD', 'GE', 'GH', 'GM', 'GN', 'GQ', 'GR', 'GT', 'GW', 'GY', 'HK', 'HN', 'HR', 'HT', 'HU', 'ID', 'IE', 'IL', 'IN', 'IQ', 'IS', 'IT', 'JM', 'JO', 'JP', 'KE', 'KG', 'KH', 'KI', 'KM', 'KN', 'KR', 'KW', 'KZ', 'LA', 'LB', 'LC', 'LI', 'LK', 'LR', 'LS', 'LT', 'LU', 'LV', 'LY', 'MA', 'MC', 'MD', 'ME', 'MG', 'MH', 'MK', 'ML', 'MN', 'MO', 'MR', 'MT', 'MU', 'MV', 'MW', 'MY', 'MZ', 'NA', 'NE', 'NG', 'NI', 'NL', 'NO', 'NP', 'NR', 'NZ', 'OM', 'PA', 'PE', 'PG', 'PH', 'PK', 'PL', 'PS', 'PT', 'PW', 'PY', 'QA', 'RO', 'RS', 'RW', 'SA', 'SB', 'SC', 'SE', 'SG', 'SI', 'SK', 'SL', 'SM', 'SN', 'SR', 'ST', 'SV', 'SZ', 'TD', 'TG', 'TH', 'TJ', 'TL', 'TN', 'TO', 'TR', 'TT', 'TV', 'TW', 'TZ', 'UA', 'UG', 'UY', 'UZ', 'VC', 'VE', 'VN', 'VU', 'WS', 'XK', 'ZA', 'ZM', 'ZW'], 'external_urls': {'spotify': 'https://open.spotify.com/album/61h3VS8XDROIpvQznjTPTT'}, 'href': 'https://api.spotify.com/v1/albums/61h3VS8XDROIpvQznjTPTT', 'id': '61h3VS8XDROIpvQznjTPTT', 'images': [{'height': 640, 'url': 'https://i.scdn.co/image/ab67616d0000b2730a7d45a345534966a4ad2c39', 'width': 640}, {'height': 300, 'url': 'https://i.scdn.co/image/ab67616d00001e020a7d45a345534966a4ad2c39', 'width': 300}, {'height': 64, 'url': 'https://i.scdn.co/image/ab67616d000048510a7d45a345534966a4ad2c39', 'width': 64}], 'name': 'The Singles 86-98', 'release_date': '1998-09-28', 'release_date_precision': 'day', 'total_tracks': 21, 'type': 'album', 'uri': 'spotify:album:61h3VS8XDROIpvQznjTPTT'}\n",
      "{'album_type': 'album', 'artists': [{'external_urls': {'spotify': 'https://open.spotify.com/artist/2YnNZW22TMq4Ixf19BDJci'}, 'href': 'https://api.spotify.com/v1/artists/2YnNZW22TMq4Ixf19BDJci', 'id': '2YnNZW22TMq4Ixf19BDJci', 'name': 'Silent Runners', 'type': 'artist', 'uri': 'spotify:artist:2YnNZW22TMq4Ixf19BDJci'}], 'available_markets': ['AD', 'AE', 'AG', 'AL', 'AM', 'AO', 'AR', 'AT', 'AU', 'AZ', 'BA', 'BB', 'BD', 'BE', 'BF', 'BG', 'BH', 'BI', 'BJ', 'BN', 'BO', 'BR', 'BS', 'BT', 'BW', 'BY', 'BZ', 'CA', 'CD', 'CG', 'CH', 'CI', 'CL', 'CM', 'CO', 'CR', 'CV', 'CW', 'CY', 'CZ', 'DE', 'DJ', 'DK', 'DM', 'DO', 'DZ', 'EC', 'EE', 'EG', 'ES', 'ET', 'FI', 'FJ', 'FM', 'FR', 'GA', 'GB', 'GD', 'GE', 'GH', 'GM', 'GN', 'GQ', 'GR', 'GT', 'GW', 'GY', 'HK', 'HN', 'HR', 'HT', 'HU', 'ID', 'IE', 'IL', 'IN', 'IQ', 'IS', 'IT', 'JM', 'JO', 'JP', 'KE', 'KG', 'KH', 'KI', 'KM', 'KN', 'KR', 'KW', 'KZ', 'LA', 'LB', 'LC', 'LI', 'LK', 'LR', 'LS', 'LT', 'LU', 'LV', 'LY', 'MA', 'MC', 'MD', 'ME', 'MG', 'MH', 'MK', 'ML', 'MN', 'MO', 'MR', 'MT', 'MU', 'MV', 'MW', 'MX', 'MY', 'MZ', 'NA', 'NE', 'NG', 'NI', 'NL', 'NO', 'NP', 'NR', 'NZ', 'OM', 'PA', 'PE', 'PG', 'PH', 'PK', 'PL', 'PS', 'PT', 'PW', 'PY', 'QA', 'RO', 'RS', 'RW', 'SA', 'SB', 'SC', 'SE', 'SG', 'SI', 'SK', 'SL', 'SM', 'SN', 'SR', 'ST', 'SV', 'SZ', 'TD', 'TG', 'TH', 'TJ', 'TL', 'TN', 'TO', 'TR', 'TT', 'TV', 'TW', 'TZ', 'UA', 'UG', 'US', 'UY', 'UZ', 'VC', 'VE', 'VN', 'VU', 'WS', 'XK', 'ZA', 'ZM', 'ZW'], 'external_urls': {'spotify': 'https://open.spotify.com/album/7hlAOdO0yDOTA8GFrpeoAn'}, 'href': 'https://api.spotify.com/v1/albums/7hlAOdO0yDOTA8GFrpeoAn', 'id': '7hlAOdO0yDOTA8GFrpeoAn', 'images': [{'height': 640, 'url': 'https://i.scdn.co/image/ab67616d0000b273abc43313eab494c1ab3e132d', 'width': 640}, {'height': 300, 'url': 'https://i.scdn.co/image/ab67616d00001e02abc43313eab494c1ab3e132d', 'width': 300}, {'height': 64, 'url': 'https://i.scdn.co/image/ab67616d00004851abc43313eab494c1ab3e132d', 'width': 64}], 'name': 'The Directory', 'release_date': '2017-12-07', 'release_date_precision': 'day', 'total_tracks': 11, 'type': 'album', 'uri': 'spotify:album:7hlAOdO0yDOTA8GFrpeoAn'}\n",
      "{'album_type': 'album', 'artists': [{'external_urls': {'spotify': 'https://open.spotify.com/artist/7bu3H8JO7d0UbMoVzbo70s'}, 'href': 'https://api.spotify.com/v1/artists/7bu3H8JO7d0UbMoVzbo70s', 'id': '7bu3H8JO7d0UbMoVzbo70s', 'name': 'The Cure', 'type': 'artist', 'uri': 'spotify:artist:7bu3H8JO7d0UbMoVzbo70s'}], 'available_markets': ['AR', 'AT', 'AU', 'BA', 'BD', 'BE', 'BG', 'BR', 'CH', 'CL', 'CO', 'CW', 'CZ', 'DK', 'EE', 'ES', 'FI', 'FR', 'GB', 'GR', 'HK', 'HR', 'HU', 'ID', 'IE', 'IL', 'IS', 'IT', 'JP', 'KH', 'KR', 'LK', 'LT', 'LV', 'MK', 'MX', 'MY', 'NL', 'NO', 'NZ', 'PH', 'PL', 'PT', 'RO', 'SA', 'SE', 'SG', 'SI', 'SK', 'TH', 'TR', 'TW', 'VN'], 'external_urls': {'spotify': 'https://open.spotify.com/album/6hmiQJ6FbPEQIDeKEIKSck'}, 'href': 'https://api.spotify.com/v1/albums/6hmiQJ6FbPEQIDeKEIKSck', 'id': '6hmiQJ6FbPEQIDeKEIKSck', 'images': [{'height': 640, 'url': 'https://i.scdn.co/image/ab67616d0000b2734f6d78b7fb2ba87ed33fcd7e', 'width': 640}, {'height': 300, 'url': 'https://i.scdn.co/image/ab67616d00001e024f6d78b7fb2ba87ed33fcd7e', 'width': 300}, {'height': 64, 'url': 'https://i.scdn.co/image/ab67616d000048514f6d78b7fb2ba87ed33fcd7e', 'width': 64}], 'name': 'Seventeen Seconds', 'release_date': '1980-04-18', 'release_date_precision': 'day', 'total_tracks': 10, 'type': 'album', 'uri': 'spotify:album:6hmiQJ6FbPEQIDeKEIKSck'}\n",
      "{'album_type': 'album', 'artists': [{'external_urls': {'spotify': 'https://open.spotify.com/artist/7hM4i3NzOOZZ0IBAGY2hJy'}, 'href': 'https://api.spotify.com/v1/artists/7hM4i3NzOOZZ0IBAGY2hJy', 'id': '7hM4i3NzOOZZ0IBAGY2hJy', 'name': 'Then Comes Silence', 'type': 'artist', 'uri': 'spotify:artist:7hM4i3NzOOZZ0IBAGY2hJy'}], 'available_markets': ['AD', 'AE', 'AG', 'AL', 'AM', 'AO', 'AR', 'AT', 'AU', 'AZ', 'BA', 'BB', 'BD', 'BE', 'BF', 'BG', 'BH', 'BI', 'BJ', 'BN', 'BO', 'BR', 'BS', 'BT', 'BW', 'BY', 'BZ', 'CA', 'CD', 'CG', 'CH', 'CI', 'CL', 'CM', 'CO', 'CR', 'CV', 'CW', 'CY', 'CZ', 'DE', 'DJ', 'DK', 'DM', 'DO', 'DZ', 'EC', 'EE', 'EG', 'ES', 'ET', 'FI', 'FJ', 'FM', 'FR', 'GA', 'GB', 'GD', 'GE', 'GH', 'GM', 'GN', 'GQ', 'GR', 'GT', 'GW', 'GY', 'HK', 'HN', 'HR', 'HT', 'HU', 'ID', 'IE', 'IL', 'IN', 'IQ', 'IS', 'IT', 'JM', 'JO', 'JP', 'KE', 'KG', 'KH', 'KI', 'KM', 'KN', 'KR', 'KW', 'KZ', 'LA', 'LB', 'LC', 'LI', 'LK', 'LR', 'LS', 'LT', 'LU', 'LV', 'LY', 'MA', 'MC', 'MD', 'ME', 'MG', 'MH', 'MK', 'ML', 'MN', 'MO', 'MR', 'MT', 'MU', 'MV', 'MW', 'MX', 'MY', 'MZ', 'NA', 'NE', 'NG', 'NI', 'NL', 'NO', 'NP', 'NR', 'NZ', 'OM', 'PA', 'PE', 'PG', 'PH', 'PK', 'PL', 'PS', 'PT', 'PW', 'PY', 'QA', 'RO', 'RS', 'RW', 'SA', 'SB', 'SC', 'SE', 'SG', 'SI', 'SK', 'SL', 'SM', 'SN', 'SR', 'ST', 'SV', 'SZ', 'TD', 'TG', 'TH', 'TJ', 'TL', 'TN', 'TO', 'TR', 'TT', 'TV', 'TW', 'TZ', 'UA', 'UG', 'US', 'UY', 'UZ', 'VC', 'VE', 'VN', 'VU', 'WS', 'XK', 'ZA', 'ZM', 'ZW'], 'external_urls': {'spotify': 'https://open.spotify.com/album/7fIp3H5Dp7OX8c1AYssafZ'}, 'href': 'https://api.spotify.com/v1/albums/7fIp3H5Dp7OX8c1AYssafZ', 'id': '7fIp3H5Dp7OX8c1AYssafZ', 'images': [{'height': 640, 'url': 'https://i.scdn.co/image/ab67616d0000b2737334b3f523d6e0edfe18f424', 'width': 640}, {'height': 300, 'url': 'https://i.scdn.co/image/ab67616d00001e027334b3f523d6e0edfe18f424', 'width': 300}, {'height': 64, 'url': 'https://i.scdn.co/image/ab67616d000048517334b3f523d6e0edfe18f424', 'width': 64}], 'name': 'Blood', 'release_date': '2017-10-20', 'release_date_precision': 'day', 'total_tracks': 14, 'type': 'album', 'uri': 'spotify:album:7fIp3H5Dp7OX8c1AYssafZ'}\n",
      "{'album_type': 'compilation', 'artists': [{'external_urls': {'spotify': 'https://open.spotify.com/artist/432R46LaYsJZV2Gmc4jUV5'}, 'href': 'https://api.spotify.com/v1/artists/432R46LaYsJZV2Gmc4jUV5', 'id': '432R46LaYsJZV2Gmc4jUV5', 'name': 'Joy Division', 'type': 'artist', 'uri': 'spotify:artist:432R46LaYsJZV2Gmc4jUV5'}], 'available_markets': ['AD', 'AE', 'AG', 'AL', 'AM', 'AO', 'AR', 'AT', 'AU', 'AZ', 'BA', 'BB', 'BD', 'BE', 'BF', 'BG', 'BH', 'BI', 'BJ', 'BN', 'BO', 'BR', 'BS', 'BT', 'BW', 'BY', 'BZ', 'CA', 'CD', 'CG', 'CH', 'CI', 'CL', 'CM', 'CO', 'CR', 'CV', 'CW', 'CY', 'CZ', 'DE', 'DJ', 'DK', 'DM', 'DO', 'DZ', 'EC', 'EE', 'EG', 'ES', 'ET', 'FI', 'FJ', 'FM', 'FR', 'GA', 'GB', 'GD', 'GE', 'GH', 'GM', 'GN', 'GQ', 'GR', 'GT', 'GW', 'GY', 'HK', 'HN', 'HR', 'HT', 'HU', 'ID', 'IE', 'IL', 'IN', 'IQ', 'IS', 'IT', 'JM', 'JO', 'JP', 'KE', 'KG', 'KH', 'KI', 'KM', 'KN', 'KR', 'KW', 'KZ', 'LA', 'LB', 'LC', 'LI', 'LK', 'LR', 'LS', 'LT', 'LU', 'LV', 'LY', 'MA', 'MC', 'MD', 'ME', 'MG', 'MH', 'MK', 'ML', 'MN', 'MO', 'MR', 'MT', 'MU', 'MV', 'MW', 'MX', 'MY', 'MZ', 'NA', 'NE', 'NG', 'NI', 'NL', 'NO', 'NP', 'NR', 'NZ', 'OM', 'PA', 'PE', 'PG', 'PH', 'PK', 'PL', 'PS', 'PT', 'PW', 'PY', 'QA', 'RO', 'RS', 'RW', 'SA', 'SB', 'SC', 'SE', 'SG', 'SI', 'SK', 'SL', 'SM', 'SN', 'SR', 'ST', 'SV', 'SZ', 'TD', 'TG', 'TH', 'TJ', 'TL', 'TN', 'TO', 'TR', 'TT', 'TV', 'TW', 'TZ', 'UA', 'UG', 'UY', 'UZ', 'VC', 'VE', 'VN', 'VU', 'WS', 'XK', 'ZA', 'ZM', 'ZW'], 'external_urls': {'spotify': 'https://open.spotify.com/album/0p8Zy0wEzDYiFDcSt07UHe'}, 'href': 'https://api.spotify.com/v1/albums/0p8Zy0wEzDYiFDcSt07UHe', 'id': '0p8Zy0wEzDYiFDcSt07UHe', 'images': [{'height': 640, 'url': 'https://i.scdn.co/image/ab67616d0000b27365792edb445d4a107dbe97fd', 'width': 640}, {'height': 300, 'url': 'https://i.scdn.co/image/ab67616d00001e0265792edb445d4a107dbe97fd', 'width': 300}, {'height': 64, 'url': 'https://i.scdn.co/image/ab67616d0000485165792edb445d4a107dbe97fd', 'width': 64}], 'name': 'The Best Of', 'release_date': '2008-03-20', 'release_date_precision': 'day', 'total_tracks': 14, 'type': 'album', 'uri': 'spotify:album:0p8Zy0wEzDYiFDcSt07UHe'}\n",
      "{'album_type': 'album', 'artists': [{'external_urls': {'spotify': 'https://open.spotify.com/artist/1aSxMhuvixZ8h9dK9jIDwL'}, 'href': 'https://api.spotify.com/v1/artists/1aSxMhuvixZ8h9dK9jIDwL', 'id': '1aSxMhuvixZ8h9dK9jIDwL', 'name': 'Kate Bush', 'type': 'artist', 'uri': 'spotify:artist:1aSxMhuvixZ8h9dK9jIDwL'}], 'available_markets': [], 'external_urls': {'spotify': 'https://open.spotify.com/album/5BWl0bB1q0TqyFmkBEupZy'}, 'href': 'https://api.spotify.com/v1/albums/5BWl0bB1q0TqyFmkBEupZy', 'id': '5BWl0bB1q0TqyFmkBEupZy', 'images': [{'height': 640, 'url': 'https://i.scdn.co/image/ab67616d0000b27396ab64f52273635308b6bf27', 'width': 640}, {'height': 300, 'url': 'https://i.scdn.co/image/ab67616d00001e0296ab64f52273635308b6bf27', 'width': 300}, {'height': 64, 'url': 'https://i.scdn.co/image/ab67616d0000485196ab64f52273635308b6bf27', 'width': 64}], 'name': 'Hounds Of Love', 'release_date': '1985', 'release_date_precision': 'year', 'total_tracks': 12, 'type': 'album', 'uri': 'spotify:album:5BWl0bB1q0TqyFmkBEupZy'}\n",
      "{'album_type': 'album', 'artists': [{'external_urls': {'spotify': 'https://open.spotify.com/artist/6mdiAmATAx73kdxrNrnlao'}, 'href': 'https://api.spotify.com/v1/artists/6mdiAmATAx73kdxrNrnlao', 'id': '6mdiAmATAx73kdxrNrnlao', 'name': 'Iron Maiden', 'type': 'artist', 'uri': 'spotify:artist:6mdiAmATAx73kdxrNrnlao'}], 'available_markets': ['AD', 'AE', 'AG', 'AL', 'AM', 'AO', 'AR', 'AT', 'AU', 'AZ', 'BA', 'BB', 'BD', 'BE', 'BF', 'BG', 'BH', 'BI', 'BJ', 'BN', 'BO', 'BR', 'BS', 'BT', 'BW', 'BY', 'BZ', 'CA', 'CD', 'CG', 'CH', 'CI', 'CL', 'CM', 'CO', 'CR', 'CV', 'CW', 'CY', 'CZ', 'DE', 'DJ', 'DK', 'DM', 'DO', 'DZ', 'EC', 'EE', 'EG', 'ES', 'ET', 'FI', 'FJ', 'FM', 'FR', 'GA', 'GB', 'GD', 'GE', 'GH', 'GM', 'GN', 'GQ', 'GR', 'GT', 'GW', 'GY', 'HK', 'HN', 'HR', 'HT', 'HU', 'ID', 'IE', 'IL', 'IN', 'IQ', 'IS', 'IT', 'JM', 'JO', 'JP', 'KE', 'KG', 'KH', 'KI', 'KM', 'KN', 'KR', 'KW', 'KZ', 'LA', 'LB', 'LC', 'LI', 'LK', 'LR', 'LS', 'LT', 'LU', 'LV', 'LY', 'MA', 'MC', 'MD', 'ME', 'MG', 'MH', 'MK', 'ML', 'MN', 'MO', 'MR', 'MT', 'MU', 'MV', 'MW', 'MX', 'MY', 'MZ', 'NA', 'NE', 'NG', 'NI', 'NL', 'NO', 'NP', 'NR', 'NZ', 'OM', 'PA', 'PE', 'PG', 'PH', 'PK', 'PL', 'PS', 'PT', 'PW', 'PY', 'QA', 'RO', 'RS', 'RW', 'SA', 'SB', 'SC', 'SE', 'SG', 'SI', 'SK', 'SL', 'SM', 'SN', 'SR', 'ST', 'SV', 'SZ', 'TD', 'TG', 'TH', 'TJ', 'TL', 'TN', 'TO', 'TR', 'TT', 'TV', 'TW', 'TZ', 'UA', 'UG', 'UY', 'UZ', 'VC', 'VE', 'VN', 'VU', 'WS', 'XK', 'ZA', 'ZM', 'ZW'], 'external_urls': {'spotify': 'https://open.spotify.com/album/16Su3EUFLPqWVyrwN1q5wO'}, 'href': 'https://api.spotify.com/v1/albums/16Su3EUFLPqWVyrwN1q5wO', 'id': '16Su3EUFLPqWVyrwN1q5wO', 'images': [{'height': 640, 'url': 'https://i.scdn.co/image/ab67616d0000b2730dda9c11454b9053d07f585a', 'width': 640}, {'height': 300, 'url': 'https://i.scdn.co/image/ab67616d00001e020dda9c11454b9053d07f585a', 'width': 300}, {'height': 64, 'url': 'https://i.scdn.co/image/ab67616d000048510dda9c11454b9053d07f585a', 'width': 64}], 'name': 'Fear of the Dark (2015 Remaster)', 'release_date': '1992', 'release_date_precision': 'year', 'total_tracks': 12, 'type': 'album', 'uri': 'spotify:album:16Su3EUFLPqWVyrwN1q5wO'}\n",
      "{'album_type': 'album', 'artists': [{'external_urls': {'spotify': 'https://open.spotify.com/artist/4bthk9UfsYUYdcFyqxmSUU'}, 'href': 'https://api.spotify.com/v1/artists/4bthk9UfsYUYdcFyqxmSUU', 'id': '4bthk9UfsYUYdcFyqxmSUU', 'name': 'Tears For Fears', 'type': 'artist', 'uri': 'spotify:artist:4bthk9UfsYUYdcFyqxmSUU'}], 'available_markets': ['AD', 'AE', 'AG', 'AL', 'AM', 'AO', 'AR', 'AT', 'AU', 'AZ', 'BA', 'BB', 'BD', 'BE', 'BF', 'BG', 'BH', 'BI', 'BJ', 'BN', 'BO', 'BR', 'BS', 'BT', 'BW', 'BY', 'BZ', 'CA', 'CD', 'CG', 'CH', 'CI', 'CL', 'CM', 'CO', 'CR', 'CV', 'CW', 'CY', 'CZ', 'DE', 'DJ', 'DK', 'DM', 'DO', 'DZ', 'EC', 'EE', 'EG', 'ES', 'ET', 'FI', 'FJ', 'FM', 'FR', 'GA', 'GB', 'GD', 'GE', 'GH', 'GM', 'GN', 'GQ', 'GR', 'GT', 'GW', 'GY', 'HK', 'HN', 'HR', 'HT', 'HU', 'ID', 'IE', 'IL', 'IN', 'IQ', 'IS', 'IT', 'JM', 'JO', 'JP', 'KE', 'KG', 'KH', 'KI', 'KM', 'KN', 'KR', 'KW', 'KZ', 'LA', 'LB', 'LC', 'LI', 'LK', 'LR', 'LS', 'LT', 'LU', 'LV', 'LY', 'MA', 'MC', 'MD', 'ME', 'MG', 'MH', 'MK', 'ML', 'MN', 'MO', 'MR', 'MT', 'MU', 'MV', 'MW', 'MX', 'MY', 'MZ', 'NA', 'NE', 'NG', 'NI', 'NL', 'NO', 'NP', 'NR', 'NZ', 'OM', 'PA', 'PE', 'PG', 'PH', 'PK', 'PL', 'PS', 'PT', 'PW', 'PY', 'QA', 'RO', 'RS', 'RW', 'SA', 'SB', 'SC', 'SE', 'SG', 'SI', 'SK', 'SL', 'SM', 'SN', 'SR', 'ST', 'SV', 'SZ', 'TD', 'TG', 'TH', 'TJ', 'TL', 'TN', 'TO', 'TR', 'TT', 'TV', 'TW', 'TZ', 'UA', 'UG', 'US', 'UY', 'UZ', 'VC', 'VE', 'VN', 'VU', 'WS', 'XK', 'ZA', 'ZM', 'ZW'], 'external_urls': {'spotify': 'https://open.spotify.com/album/3myPwaMYjdwhtq0nFgeG6W'}, 'href': 'https://api.spotify.com/v1/albums/3myPwaMYjdwhtq0nFgeG6W', 'id': '3myPwaMYjdwhtq0nFgeG6W', 'images': [{'height': 640, 'url': 'https://i.scdn.co/image/ab67616d0000b27322463d6939fec9e17b2a6235', 'width': 640}, {'height': 300, 'url': 'https://i.scdn.co/image/ab67616d00001e0222463d6939fec9e17b2a6235', 'width': 300}, {'height': 64, 'url': 'https://i.scdn.co/image/ab67616d0000485122463d6939fec9e17b2a6235', 'width': 64}], 'name': 'Songs From The Big Chair (Super Deluxe Edition)', 'release_date': '1985-02-25', 'release_date_precision': 'day', 'total_tracks': 59, 'type': 'album', 'uri': 'spotify:album:3myPwaMYjdwhtq0nFgeG6W'}\n",
      "{'album_type': 'album', 'artists': [{'external_urls': {'spotify': 'https://open.spotify.com/artist/0pWwt5vGNzezEhfAcc420Y'}, 'href': 'https://api.spotify.com/v1/artists/0pWwt5vGNzezEhfAcc420Y', 'id': '0pWwt5vGNzezEhfAcc420Y', 'name': 'Mr.Kitty', 'type': 'artist', 'uri': 'spotify:artist:0pWwt5vGNzezEhfAcc420Y'}], 'available_markets': [], 'external_urls': {'spotify': 'https://open.spotify.com/album/73F69rvDoadb9pl3JYNVtu'}, 'href': 'https://api.spotify.com/v1/albums/73F69rvDoadb9pl3JYNVtu', 'id': '73F69rvDoadb9pl3JYNVtu', 'images': [{'height': 640, 'url': 'https://i.scdn.co/image/ab67616d0000b273b363e332ef085afac3018d3c', 'width': 640}, {'height': 300, 'url': 'https://i.scdn.co/image/ab67616d00001e02b363e332ef085afac3018d3c', 'width': 300}, {'height': 64, 'url': 'https://i.scdn.co/image/ab67616d00004851b363e332ef085afac3018d3c', 'width': 64}], 'name': 'Time', 'release_date': '2014-08-11', 'release_date_precision': 'day', 'total_tracks': 15, 'type': 'album', 'uri': 'spotify:album:73F69rvDoadb9pl3JYNVtu'}\n",
      "{'album_type': 'album', 'artists': [{'external_urls': {'spotify': 'https://open.spotify.com/artist/77SW9BnxLY8rJ0RciFqkHh'}, 'href': 'https://api.spotify.com/v1/artists/77SW9BnxLY8rJ0RciFqkHh', 'id': '77SW9BnxLY8rJ0RciFqkHh', 'name': 'The Neighbourhood', 'type': 'artist', 'uri': 'spotify:artist:77SW9BnxLY8rJ0RciFqkHh'}], 'available_markets': ['AD', 'AE', 'AG', 'AL', 'AM', 'AO', 'AR', 'AT', 'AU', 'AZ', 'BA', 'BB', 'BD', 'BE', 'BF', 'BG', 'BH', 'BI', 'BJ', 'BN', 'BO', 'BR', 'BS', 'BT', 'BW', 'BY', 'BZ', 'CA', 'CD', 'CG', 'CH', 'CI', 'CL', 'CM', 'CO', 'CR', 'CV', 'CW', 'CY', 'CZ', 'DE', 'DJ', 'DK', 'DM', 'DO', 'DZ', 'EC', 'EE', 'EG', 'ES', 'ET', 'FI', 'FJ', 'FM', 'FR', 'GA', 'GD', 'GE', 'GH', 'GM', 'GN', 'GQ', 'GR', 'GT', 'GW', 'GY', 'HK', 'HN', 'HR', 'HT', 'HU', 'ID', 'IL', 'IN', 'IQ', 'IS', 'IT', 'JM', 'JO', 'JP', 'KE', 'KG', 'KH', 'KI', 'KM', 'KN', 'KR', 'KW', 'KZ', 'LA', 'LB', 'LC', 'LI', 'LK', 'LR', 'LS', 'LT', 'LU', 'LV', 'LY', 'MA', 'MC', 'MD', 'ME', 'MG', 'MH', 'MK', 'ML', 'MN', 'MO', 'MR', 'MT', 'MU', 'MV', 'MW', 'MX', 'MY', 'MZ', 'NA', 'NE', 'NG', 'NI', 'NL', 'NO', 'NP', 'NR', 'NZ', 'OM', 'PA', 'PE', 'PG', 'PH', 'PK', 'PL', 'PS', 'PT', 'PW', 'PY', 'QA', 'RO', 'RS', 'RW', 'SA', 'SB', 'SC', 'SE', 'SG', 'SI', 'SK', 'SL', 'SM', 'SN', 'SR', 'ST', 'SV', 'SZ', 'TD', 'TG', 'TH', 'TJ', 'TL', 'TN', 'TO', 'TR', 'TT', 'TV', 'TW', 'TZ', 'UA', 'UG', 'US', 'UY', 'UZ', 'VC', 'VE', 'VN', 'VU', 'WS', 'XK', 'ZA', 'ZM', 'ZW'], 'external_urls': {'spotify': 'https://open.spotify.com/album/4xkM0BwLM9H2IUcbYzpcBI'}, 'href': 'https://api.spotify.com/v1/albums/4xkM0BwLM9H2IUcbYzpcBI', 'id': '4xkM0BwLM9H2IUcbYzpcBI', 'images': [{'height': 640, 'url': 'https://i.scdn.co/image/ab67616d0000b2738265a736a1eb838ad5a0b921', 'width': 640}, {'height': 300, 'url': 'https://i.scdn.co/image/ab67616d00001e028265a736a1eb838ad5a0b921', 'width': 300}, {'height': 64, 'url': 'https://i.scdn.co/image/ab67616d000048518265a736a1eb838ad5a0b921', 'width': 64}], 'name': 'I Love You.', 'release_date': '2013-04-19', 'release_date_precision': 'day', 'total_tracks': 11, 'type': 'album', 'uri': 'spotify:album:4xkM0BwLM9H2IUcbYzpcBI'}\n",
      "{'album_type': 'album', 'artists': [{'external_urls': {'spotify': 'https://open.spotify.com/artist/3MZsBdqDrRTJihTHQrO6Dq'}, 'href': 'https://api.spotify.com/v1/artists/3MZsBdqDrRTJihTHQrO6Dq', 'id': '3MZsBdqDrRTJihTHQrO6Dq', 'name': 'Joji', 'type': 'artist', 'uri': 'spotify:artist:3MZsBdqDrRTJihTHQrO6Dq'}], 'available_markets': ['AD', 'AE', 'AG', 'AL', 'AM', 'AO', 'AR', 'AT', 'AU', 'AZ', 'BA', 'BB', 'BD', 'BE', 'BF', 'BG', 'BH', 'BI', 'BJ', 'BN', 'BO', 'BR', 'BS', 'BT', 'BW', 'BY', 'BZ', 'CA', 'CD', 'CG', 'CH', 'CI', 'CL', 'CM', 'CO', 'CR', 'CV', 'CW', 'CY', 'CZ', 'DE', 'DJ', 'DK', 'DM', 'DO', 'DZ', 'EC', 'EE', 'EG', 'ES', 'ET', 'FI', 'FJ', 'FM', 'FR', 'GA', 'GB', 'GD', 'GE', 'GH', 'GM', 'GN', 'GQ', 'GR', 'GT', 'GW', 'GY', 'HK', 'HN', 'HR', 'HT', 'HU', 'ID', 'IE', 'IL', 'IN', 'IQ', 'IS', 'IT', 'JM', 'JO', 'JP', 'KE', 'KG', 'KH', 'KI', 'KM', 'KN', 'KR', 'KW', 'KZ', 'LA', 'LB', 'LC', 'LI', 'LK', 'LR', 'LS', 'LT', 'LU', 'LV', 'LY', 'MA', 'MC', 'MD', 'ME', 'MG', 'MH', 'MK', 'ML', 'MN', 'MO', 'MR', 'MT', 'MU', 'MV', 'MW', 'MX', 'MY', 'MZ', 'NA', 'NE', 'NG', 'NI', 'NL', 'NO', 'NP', 'NR', 'NZ', 'OM', 'PA', 'PE', 'PG', 'PH', 'PK', 'PL', 'PS', 'PT', 'PW', 'PY', 'QA', 'RO', 'RS', 'RW', 'SA', 'SB', 'SC', 'SE', 'SG', 'SI', 'SK', 'SL', 'SM', 'SN', 'SR', 'ST', 'SV', 'SZ', 'TD', 'TG', 'TH', 'TJ', 'TL', 'TN', 'TO', 'TR', 'TT', 'TV', 'TW', 'TZ', 'UA', 'UG', 'US', 'UY', 'UZ', 'VC', 'VE', 'VN', 'VU', 'WS', 'XK', 'ZA', 'ZM', 'ZW'], 'external_urls': {'spotify': 'https://open.spotify.com/album/34GQP3dILpyCN018y2k61L'}, 'href': 'https://api.spotify.com/v1/albums/34GQP3dILpyCN018y2k61L', 'id': '34GQP3dILpyCN018y2k61L', 'images': [{'height': 640, 'url': 'https://i.scdn.co/image/ab67616d0000b27360ba1d6104d0475c7555a6b2', 'width': 640}, {'height': 300, 'url': 'https://i.scdn.co/image/ab67616d00001e0260ba1d6104d0475c7555a6b2', 'width': 300}, {'height': 64, 'url': 'https://i.scdn.co/image/ab67616d0000485160ba1d6104d0475c7555a6b2', 'width': 64}], 'name': 'BALLADS 1', 'release_date': '2018-10-26', 'release_date_precision': 'day', 'total_tracks': 12, 'type': 'album', 'uri': 'spotify:album:34GQP3dILpyCN018y2k61L'}\n",
      "{'album_type': 'album', 'artists': [{'external_urls': {'spotify': 'https://open.spotify.com/artist/0UF7XLthtbSF2Eur7559oV'}, 'href': 'https://api.spotify.com/v1/artists/0UF7XLthtbSF2Eur7559oV', 'id': '0UF7XLthtbSF2Eur7559oV', 'name': 'Kavinsky', 'type': 'artist', 'uri': 'spotify:artist:0UF7XLthtbSF2Eur7559oV'}], 'available_markets': ['AE', 'AT', 'AU', 'BA', 'BD', 'BE', 'BF', 'BH', 'BJ', 'BR', 'CA', 'CG', 'CH', 'CI', 'CM', 'CR', 'CW', 'DE', 'DK', 'DZ', 'EE', 'EG', 'ES', 'FI', 'FR', 'GB', 'GN', 'HR', 'HU', 'IE', 'IN', 'IQ', 'IS', 'IT', 'JO', 'JP', 'KW', 'LB', 'LK', 'LT', 'LU', 'LV', 'LY', 'MA', 'ME', 'MG', 'MK', 'ML', 'MU', 'MX', 'MY', 'NE', 'NL', 'NO', 'NZ', 'OM', 'PH', 'PK', 'PL', 'PT', 'QA', 'RS', 'RW', 'SA', 'SE', 'SI', 'SN', 'TD', 'TN', 'US', 'XK'], 'external_urls': {'spotify': 'https://open.spotify.com/album/07nBld9enf1PyRysZAVSqJ'}, 'href': 'https://api.spotify.com/v1/albums/07nBld9enf1PyRysZAVSqJ', 'id': '07nBld9enf1PyRysZAVSqJ', 'images': [{'height': 640, 'url': 'https://i.scdn.co/image/ab67616d0000b273d6d8c2eaa1f9031b62f7a3f7', 'width': 640}, {'height': 300, 'url': 'https://i.scdn.co/image/ab67616d00001e02d6d8c2eaa1f9031b62f7a3f7', 'width': 300}, {'height': 64, 'url': 'https://i.scdn.co/image/ab67616d00004851d6d8c2eaa1f9031b62f7a3f7', 'width': 64}], 'name': 'Nightcall', 'release_date': '2010', 'release_date_precision': 'year', 'total_tracks': 7, 'type': 'album', 'uri': 'spotify:album:07nBld9enf1PyRysZAVSqJ'}\n",
      "{'album_type': 'album', 'artists': [{'external_urls': {'spotify': 'https://open.spotify.com/artist/4lxfqrEsLX6N1N4OCSkILp'}, 'href': 'https://api.spotify.com/v1/artists/4lxfqrEsLX6N1N4OCSkILp', 'id': '4lxfqrEsLX6N1N4OCSkILp', 'name': 'Phil Collins', 'type': 'artist', 'uri': 'spotify:artist:4lxfqrEsLX6N1N4OCSkILp'}], 'available_markets': ['AD', 'AE', 'AG', 'AL', 'AM', 'AO', 'AR', 'AT', 'AU', 'AZ', 'BA', 'BB', 'BD', 'BE', 'BF', 'BG', 'BH', 'BI', 'BJ', 'BN', 'BO', 'BR', 'BS', 'BT', 'BW', 'BY', 'BZ', 'CA', 'CD', 'CG', 'CH', 'CI', 'CL', 'CM', 'CO', 'CR', 'CV', 'CW', 'CY', 'CZ', 'DE', 'DJ', 'DK', 'DM', 'DO', 'DZ', 'EC', 'EE', 'EG', 'ES', 'ET', 'FI', 'FJ', 'FM', 'FR', 'GA', 'GB', 'GD', 'GE', 'GH', 'GM', 'GN', 'GQ', 'GR', 'GT', 'GW', 'GY', 'HK', 'HN', 'HR', 'HT', 'HU', 'ID', 'IE', 'IL', 'IN', 'IQ', 'IS', 'IT', 'JM', 'JO', 'KE', 'KG', 'KH', 'KI', 'KM', 'KN', 'KR', 'KW', 'KZ', 'LA', 'LB', 'LC', 'LI', 'LK', 'LR', 'LS', 'LT', 'LU', 'LV', 'LY', 'MA', 'MC', 'MD', 'ME', 'MG', 'MH', 'MK', 'ML', 'MN', 'MO', 'MR', 'MT', 'MU', 'MV', 'MW', 'MX', 'MY', 'MZ', 'NA', 'NE', 'NG', 'NI', 'NL', 'NO', 'NP', 'NR', 'NZ', 'OM', 'PA', 'PE', 'PG', 'PH', 'PK', 'PL', 'PS', 'PT', 'PW', 'PY', 'QA', 'RO', 'RS', 'RW', 'SA', 'SB', 'SC', 'SE', 'SG', 'SI', 'SK', 'SL', 'SM', 'SN', 'SR', 'ST', 'SV', 'SZ', 'TD', 'TG', 'TH', 'TJ', 'TL', 'TN', 'TO', 'TR', 'TT', 'TV', 'TW', 'TZ', 'UA', 'UG', 'US', 'UY', 'UZ', 'VC', 'VE', 'VN', 'VU', 'WS', 'XK', 'ZA', 'ZM', 'ZW'], 'external_urls': {'spotify': 'https://open.spotify.com/album/1cM3r0WQZWNkCpEbmFjLln'}, 'href': 'https://api.spotify.com/v1/albums/1cM3r0WQZWNkCpEbmFjLln', 'id': '1cM3r0WQZWNkCpEbmFjLln', 'images': [{'height': 640, 'url': 'https://i.scdn.co/image/ab67616d0000b273f6954c1f074f66907a8c5483', 'width': 640}, {'height': 300, 'url': 'https://i.scdn.co/image/ab67616d00001e02f6954c1f074f66907a8c5483', 'width': 300}, {'height': 64, 'url': 'https://i.scdn.co/image/ab67616d00004851f6954c1f074f66907a8c5483', 'width': 64}], 'name': 'Face Value (Deluxe Editon)', 'release_date': '1981-01-01', 'release_date_precision': 'day', 'total_tracks': 24, 'type': 'album', 'uri': 'spotify:album:1cM3r0WQZWNkCpEbmFjLln'}\n",
      "{'album_type': 'album', 'artists': [{'external_urls': {'spotify': 'https://open.spotify.com/artist/63MQldklfxkjYDoUE4Tppz'}, 'href': 'https://api.spotify.com/v1/artists/63MQldklfxkjYDoUE4Tppz', 'id': '63MQldklfxkjYDoUE4Tppz', 'name': 'M83', 'type': 'artist', 'uri': 'spotify:artist:63MQldklfxkjYDoUE4Tppz'}], 'available_markets': ['AD', 'AE', 'AG', 'AL', 'AM', 'AO', 'AR', 'AT', 'AU', 'AZ', 'BA', 'BB', 'BD', 'BE', 'BF', 'BG', 'BH', 'BI', 'BJ', 'BN', 'BO', 'BR', 'BS', 'BT', 'BW', 'BY', 'BZ', 'CD', 'CG', 'CH', 'CI', 'CL', 'CM', 'CO', 'CR', 'CV', 'CW', 'CY', 'CZ', 'DE', 'DJ', 'DK', 'DM', 'DO', 'DZ', 'EC', 'EE', 'EG', 'ES', 'ET', 'FI', 'FJ', 'FM', 'FR', 'GA', 'GB', 'GD', 'GE', 'GH', 'GM', 'GN', 'GQ', 'GR', 'GT', 'GW', 'GY', 'HK', 'HN', 'HR', 'HT', 'HU', 'ID', 'IE', 'IL', 'IN', 'IQ', 'IS', 'IT', 'JM', 'JO', 'JP', 'KE', 'KG', 'KH', 'KI', 'KM', 'KN', 'KR', 'KW', 'KZ', 'LA', 'LB', 'LC', 'LI', 'LK', 'LR', 'LS', 'LT', 'LU', 'LV', 'LY', 'MA', 'MC', 'MD', 'ME', 'MG', 'MH', 'MK', 'ML', 'MN', 'MO', 'MR', 'MT', 'MU', 'MV', 'MW', 'MX', 'MY', 'MZ', 'NA', 'NE', 'NG', 'NI', 'NL', 'NO', 'NP', 'NR', 'NZ', 'OM', 'PA', 'PE', 'PG', 'PH', 'PK', 'PL', 'PS', 'PT', 'PW', 'PY', 'QA', 'RO', 'RS', 'RW', 'SA', 'SB', 'SC', 'SE', 'SG', 'SI', 'SK', 'SL', 'SM', 'SN', 'SR', 'ST', 'SV', 'SZ', 'TD', 'TG', 'TH', 'TJ', 'TL', 'TN', 'TO', 'TR', 'TT', 'TV', 'TW', 'TZ', 'UA', 'UG', 'UY', 'UZ', 'VC', 'VE', 'VN', 'VU', 'WS', 'XK', 'ZA', 'ZM', 'ZW'], 'external_urls': {'spotify': 'https://open.spotify.com/album/6EB14IXV5oyOiItGBv7mtG'}, 'href': 'https://api.spotify.com/v1/albums/6EB14IXV5oyOiItGBv7mtG', 'id': '6EB14IXV5oyOiItGBv7mtG', 'images': [{'height': 640, 'url': 'https://i.scdn.co/image/ab67616d0000b273b3591763154a27326b3f431a', 'width': 640}, {'height': 300, 'url': 'https://i.scdn.co/image/ab67616d00001e02b3591763154a27326b3f431a', 'width': 300}, {'height': 64, 'url': 'https://i.scdn.co/image/ab67616d00004851b3591763154a27326b3f431a', 'width': 64}], 'name': \"Hurry up, We're Dreaming\", 'release_date': '2011-10-17', 'release_date_precision': 'day', 'total_tracks': 22, 'type': 'album', 'uri': 'spotify:album:6EB14IXV5oyOiItGBv7mtG'}\n",
      "{'album_type': 'single', 'artists': [{'external_urls': {'spotify': 'https://open.spotify.com/artist/2kCcBybjl3SAtIcwdWpUe3'}, 'href': 'https://api.spotify.com/v1/artists/2kCcBybjl3SAtIcwdWpUe3', 'id': '2kCcBybjl3SAtIcwdWpUe3', 'name': 'Lil Peep', 'type': 'artist', 'uri': 'spotify:artist:2kCcBybjl3SAtIcwdWpUe3'}], 'available_markets': [], 'external_urls': {'spotify': 'https://open.spotify.com/album/1dEpGPZONvmwYlE2jDOWOM'}, 'href': 'https://api.spotify.com/v1/albums/1dEpGPZONvmwYlE2jDOWOM', 'id': '1dEpGPZONvmwYlE2jDOWOM', 'images': [{'height': 640, 'url': 'https://i.scdn.co/image/ab67616d0000b273e813c020ab6245eae154ec16', 'width': 640}, {'height': 300, 'url': 'https://i.scdn.co/image/ab67616d00001e02e813c020ab6245eae154ec16', 'width': 300}, {'height': 64, 'url': 'https://i.scdn.co/image/ab67616d00004851e813c020ab6245eae154ec16', 'width': 64}], 'name': 'Star Shopping', 'release_date': '2015', 'release_date_precision': 'year', 'total_tracks': 1, 'type': 'album', 'uri': 'spotify:album:1dEpGPZONvmwYlE2jDOWOM'}\n",
      "{'album_type': 'single', 'artists': [{'external_urls': {'spotify': 'https://open.spotify.com/artist/2kCcBybjl3SAtIcwdWpUe3'}, 'href': 'https://api.spotify.com/v1/artists/2kCcBybjl3SAtIcwdWpUe3', 'id': '2kCcBybjl3SAtIcwdWpUe3', 'name': 'Lil Peep', 'type': 'artist', 'uri': 'spotify:artist:2kCcBybjl3SAtIcwdWpUe3'}, {'external_urls': {'spotify': 'https://open.spotify.com/artist/5g63iWaMJ2UrkZMkCC8dMi'}, 'href': 'https://api.spotify.com/v1/artists/5g63iWaMJ2UrkZMkCC8dMi', 'id': '5g63iWaMJ2UrkZMkCC8dMi', 'name': 'Lil Tracy', 'type': 'artist', 'uri': 'spotify:artist:5g63iWaMJ2UrkZMkCC8dMi'}], 'available_markets': [], 'external_urls': {'spotify': 'https://open.spotify.com/album/4p3WczKLm6G2DHv2NnoCFk'}, 'href': 'https://api.spotify.com/v1/albums/4p3WczKLm6G2DHv2NnoCFk', 'id': '4p3WczKLm6G2DHv2NnoCFk', 'images': [{'height': 640, 'url': 'https://i.scdn.co/image/ab67616d0000b2731ded4d4e9c83f69cf01ea1d4', 'width': 640}, {'height': 300, 'url': 'https://i.scdn.co/image/ab67616d00001e021ded4d4e9c83f69cf01ea1d4', 'width': 300}, {'height': 64, 'url': 'https://i.scdn.co/image/ab67616d000048511ded4d4e9c83f69cf01ea1d4', 'width': 64}], 'name': 'CASTLES II', 'release_date': '2021-07-02', 'release_date_precision': 'day', 'total_tracks': 5, 'type': 'album', 'uri': 'spotify:album:4p3WczKLm6G2DHv2NnoCFk'}\n",
      "{'album_type': 'album', 'artists': [{'external_urls': {'spotify': 'https://open.spotify.com/artist/77SW9BnxLY8rJ0RciFqkHh'}, 'href': 'https://api.spotify.com/v1/artists/77SW9BnxLY8rJ0RciFqkHh', 'id': '77SW9BnxLY8rJ0RciFqkHh', 'name': 'The Neighbourhood', 'type': 'artist', 'uri': 'spotify:artist:77SW9BnxLY8rJ0RciFqkHh'}], 'available_markets': ['AD', 'AE', 'AG', 'AL', 'AM', 'AO', 'AR', 'AT', 'AU', 'AZ', 'BA', 'BB', 'BD', 'BE', 'BF', 'BG', 'BH', 'BI', 'BJ', 'BN', 'BO', 'BR', 'BS', 'BT', 'BW', 'BY', 'BZ', 'CA', 'CD', 'CG', 'CH', 'CI', 'CL', 'CM', 'CO', 'CR', 'CV', 'CW', 'CY', 'CZ', 'DE', 'DJ', 'DK', 'DM', 'DO', 'DZ', 'EC', 'EE', 'EG', 'ES', 'ET', 'FI', 'FJ', 'FM', 'FR', 'GA', 'GB', 'GD', 'GE', 'GH', 'GM', 'GN', 'GQ', 'GR', 'GT', 'GW', 'GY', 'HK', 'HN', 'HR', 'HT', 'HU', 'ID', 'IE', 'IL', 'IN', 'IQ', 'IS', 'IT', 'JM', 'JO', 'JP', 'KE', 'KG', 'KH', 'KI', 'KM', 'KN', 'KR', 'KW', 'KZ', 'LA', 'LB', 'LC', 'LI', 'LK', 'LR', 'LS', 'LT', 'LU', 'LV', 'LY', 'MA', 'MC', 'MD', 'ME', 'MG', 'MH', 'MK', 'ML', 'MN', 'MO', 'MR', 'MT', 'MU', 'MV', 'MW', 'MX', 'MY', 'MZ', 'NA', 'NE', 'NG', 'NI', 'NL', 'NO', 'NP', 'NR', 'NZ', 'OM', 'PA', 'PE', 'PG', 'PH', 'PK', 'PL', 'PS', 'PT', 'PW', 'PY', 'QA', 'RO', 'RS', 'RW', 'SA', 'SB', 'SC', 'SE', 'SG', 'SI', 'SK', 'SL', 'SM', 'SN', 'SR', 'ST', 'SV', 'SZ', 'TD', 'TG', 'TH', 'TJ', 'TL', 'TN', 'TO', 'TR', 'TT', 'TV', 'TW', 'TZ', 'UA', 'UG', 'US', 'UY', 'UZ', 'VC', 'VE', 'VN', 'VU', 'WS', 'XK', 'ZA', 'ZM', 'ZW'], 'external_urls': {'spotify': 'https://open.spotify.com/album/18iFxjZugvKhuNNMbLjZJF'}, 'href': 'https://api.spotify.com/v1/albums/18iFxjZugvKhuNNMbLjZJF', 'id': '18iFxjZugvKhuNNMbLjZJF', 'images': [{'height': 640, 'url': 'https://i.scdn.co/image/ab67616d0000b2733066581d697fbdee4303d685', 'width': 640}, {'height': 300, 'url': 'https://i.scdn.co/image/ab67616d00001e023066581d697fbdee4303d685', 'width': 300}, {'height': 64, 'url': 'https://i.scdn.co/image/ab67616d000048513066581d697fbdee4303d685', 'width': 64}], 'name': 'Wiped Out!', 'release_date': '2015-10-30', 'release_date_precision': 'day', 'total_tracks': 11, 'type': 'album', 'uri': 'spotify:album:18iFxjZugvKhuNNMbLjZJF'}\n",
      "{'album_type': 'album', 'artists': [{'external_urls': {'spotify': 'https://open.spotify.com/artist/6zFYqv1mOsgBRQbae3JJ9e'}, 'href': 'https://api.spotify.com/v1/artists/6zFYqv1mOsgBRQbae3JJ9e', 'id': '6zFYqv1mOsgBRQbae3JJ9e', 'name': 'Billy Joel', 'type': 'artist', 'uri': 'spotify:artist:6zFYqv1mOsgBRQbae3JJ9e'}], 'available_markets': ['AD', 'AE', 'AG', 'AL', 'AM', 'AO', 'AR', 'AT', 'AU', 'AZ', 'BA', 'BB', 'BD', 'BE', 'BF', 'BG', 'BH', 'BI', 'BJ', 'BN', 'BO', 'BR', 'BS', 'BT', 'BW', 'BY', 'BZ', 'CA', 'CD', 'CG', 'CH', 'CI', 'CL', 'CM', 'CO', 'CR', 'CV', 'CW', 'CY', 'CZ', 'DE', 'DJ', 'DK', 'DM', 'DO', 'DZ', 'EC', 'EE', 'EG', 'ES', 'ET', 'FI', 'FJ', 'FM', 'FR', 'GA', 'GB', 'GD', 'GE', 'GH', 'GM', 'GN', 'GQ', 'GR', 'GT', 'GW', 'GY', 'HK', 'HN', 'HR', 'HT', 'HU', 'ID', 'IE', 'IL', 'IN', 'IQ', 'IS', 'IT', 'JM', 'JO', 'JP', 'KE', 'KG', 'KH', 'KI', 'KM', 'KN', 'KR', 'KW', 'KZ', 'LA', 'LB', 'LC', 'LI', 'LK', 'LR', 'LS', 'LT', 'LU', 'LV', 'LY', 'MA', 'MC', 'MD', 'ME', 'MG', 'MH', 'MK', 'ML', 'MN', 'MO', 'MR', 'MT', 'MU', 'MV', 'MW', 'MX', 'MY', 'MZ', 'NA', 'NE', 'NG', 'NI', 'NL', 'NO', 'NP', 'NR', 'NZ', 'OM', 'PA', 'PE', 'PG', 'PH', 'PK', 'PL', 'PS', 'PT', 'PW', 'PY', 'QA', 'RO', 'RS', 'RW', 'SA', 'SB', 'SC', 'SE', 'SG', 'SI', 'SK', 'SL', 'SM', 'SN', 'SR', 'ST', 'SV', 'SZ', 'TD', 'TG', 'TH', 'TJ', 'TL', 'TN', 'TO', 'TR', 'TT', 'TV', 'TW', 'TZ', 'UA', 'UG', 'US', 'UY', 'UZ', 'VC', 'VE', 'VN', 'VU', 'WS', 'XK', 'ZA', 'ZM', 'ZW'], 'external_urls': {'spotify': 'https://open.spotify.com/album/1Mhn9VosyjtWn4dMPFlna6'}, 'href': 'https://api.spotify.com/v1/albums/1Mhn9VosyjtWn4dMPFlna6', 'id': '1Mhn9VosyjtWn4dMPFlna6', 'images': [{'height': 640, 'url': 'https://i.scdn.co/image/ab67616d0000b2736ce61113662ecf693b605ee5', 'width': 640}, {'height': 300, 'url': 'https://i.scdn.co/image/ab67616d00001e026ce61113662ecf693b605ee5', 'width': 300}, {'height': 64, 'url': 'https://i.scdn.co/image/ab67616d000048516ce61113662ecf693b605ee5', 'width': 64}], 'name': 'The Stranger (Legacy Edition)', 'release_date': '1977', 'release_date_precision': 'year', 'total_tracks': 21, 'type': 'album', 'uri': 'spotify:album:1Mhn9VosyjtWn4dMPFlna6'}\n",
      "{'album_type': 'album', 'artists': [{'external_urls': {'spotify': 'https://open.spotify.com/artist/1t20wYnTiAT0Bs7H1hv9Wt'}, 'href': 'https://api.spotify.com/v1/artists/1t20wYnTiAT0Bs7H1hv9Wt', 'id': '1t20wYnTiAT0Bs7H1hv9Wt', 'name': 'EDEN', 'type': 'artist', 'uri': 'spotify:artist:1t20wYnTiAT0Bs7H1hv9Wt'}], 'available_markets': ['AD', 'AE', 'AG', 'AL', 'AM', 'AO', 'AR', 'AT', 'AU', 'AZ', 'BA', 'BB', 'BD', 'BE', 'BF', 'BG', 'BH', 'BI', 'BJ', 'BN', 'BO', 'BR', 'BS', 'BT', 'BW', 'BY', 'BZ', 'CA', 'CD', 'CG', 'CH', 'CI', 'CL', 'CM', 'CO', 'CR', 'CV', 'CW', 'CY', 'CZ', 'DE', 'DJ', 'DK', 'DM', 'DO', 'DZ', 'EC', 'EE', 'EG', 'ES', 'ET', 'FI', 'FJ', 'FM', 'FR', 'GA', 'GB', 'GD', 'GE', 'GH', 'GM', 'GN', 'GQ', 'GR', 'GT', 'GW', 'GY', 'HK', 'HN', 'HR', 'HT', 'HU', 'ID', 'IE', 'IL', 'IN', 'IQ', 'IS', 'IT', 'JM', 'JO', 'KE', 'KG', 'KH', 'KI', 'KM', 'KN', 'KR', 'KW', 'KZ', 'LA', 'LB', 'LC', 'LI', 'LK', 'LR', 'LS', 'LT', 'LU', 'LV', 'LY', 'MA', 'MC', 'MD', 'ME', 'MG', 'MH', 'MK', 'ML', 'MN', 'MO', 'MR', 'MT', 'MU', 'MV', 'MW', 'MX', 'MY', 'MZ', 'NA', 'NE', 'NG', 'NI', 'NL', 'NO', 'NP', 'NR', 'NZ', 'OM', 'PA', 'PE', 'PG', 'PH', 'PK', 'PL', 'PS', 'PT', 'PW', 'PY', 'QA', 'RO', 'RS', 'RW', 'SA', 'SB', 'SC', 'SE', 'SG', 'SI', 'SK', 'SL', 'SM', 'SN', 'SR', 'ST', 'SV', 'SZ', 'TD', 'TG', 'TH', 'TJ', 'TL', 'TN', 'TO', 'TR', 'TT', 'TV', 'TW', 'TZ', 'UA', 'UG', 'US', 'UY', 'UZ', 'VC', 'VE', 'VN', 'VU', 'WS', 'XK', 'ZA', 'ZM', 'ZW'], 'external_urls': {'spotify': 'https://open.spotify.com/album/7AVvQhnDEUidKyJsXmQ7ju'}, 'href': 'https://api.spotify.com/v1/albums/7AVvQhnDEUidKyJsXmQ7ju', 'id': '7AVvQhnDEUidKyJsXmQ7ju', 'images': [{'height': 640, 'url': 'https://i.scdn.co/image/ab67616d0000b273c61b46cf682d7f0183fcb87c', 'width': 640}, {'height': 300, 'url': 'https://i.scdn.co/image/ab67616d00001e02c61b46cf682d7f0183fcb87c', 'width': 300}, {'height': 64, 'url': 'https://i.scdn.co/image/ab67616d00004851c61b46cf682d7f0183fcb87c', 'width': 64}], 'name': 'i think you think too much of me', 'release_date': '2016-08-19', 'release_date_precision': 'day', 'total_tracks': 7, 'type': 'album', 'uri': 'spotify:album:7AVvQhnDEUidKyJsXmQ7ju'}\n",
      "{'album_type': 'album', 'artists': [{'external_urls': {'spotify': 'https://open.spotify.com/artist/18lpwfiys4GtdHWNUu9qQr'}, 'href': 'https://api.spotify.com/v1/artists/18lpwfiys4GtdHWNUu9qQr', 'id': '18lpwfiys4GtdHWNUu9qQr', 'name': 'Ocean Alley', 'type': 'artist', 'uri': 'spotify:artist:18lpwfiys4GtdHWNUu9qQr'}], 'available_markets': ['AD', 'AE', 'AG', 'AL', 'AM', 'AO', 'AR', 'AT', 'AU', 'AZ', 'BA', 'BB', 'BD', 'BE', 'BF', 'BG', 'BH', 'BI', 'BJ', 'BN', 'BO', 'BR', 'BS', 'BT', 'BW', 'BY', 'BZ', 'CA', 'CD', 'CG', 'CH', 'CI', 'CL', 'CM', 'CO', 'CR', 'CV', 'CW', 'CY', 'CZ', 'DE', 'DJ', 'DK', 'DM', 'DO', 'DZ', 'EC', 'EE', 'EG', 'ES', 'ET', 'FI', 'FJ', 'FM', 'FR', 'GA', 'GB', 'GD', 'GE', 'GH', 'GM', 'GN', 'GQ', 'GR', 'GT', 'GW', 'GY', 'HK', 'HN', 'HR', 'HT', 'HU', 'ID', 'IE', 'IL', 'IN', 'IQ', 'IS', 'IT', 'JM', 'JO', 'JP', 'KE', 'KG', 'KH', 'KI', 'KM', 'KN', 'KR', 'KW', 'KZ', 'LA', 'LB', 'LC', 'LI', 'LK', 'LR', 'LS', 'LT', 'LU', 'LV', 'LY', 'MA', 'MC', 'MD', 'ME', 'MG', 'MH', 'MK', 'ML', 'MN', 'MO', 'MR', 'MT', 'MU', 'MV', 'MW', 'MX', 'MY', 'MZ', 'NA', 'NE', 'NG', 'NI', 'NL', 'NO', 'NP', 'NR', 'NZ', 'OM', 'PA', 'PE', 'PG', 'PH', 'PK', 'PL', 'PS', 'PT', 'PW', 'PY', 'QA', 'RO', 'RS', 'RW', 'SA', 'SB', 'SC', 'SE', 'SG', 'SI', 'SK', 'SL', 'SM', 'SN', 'SR', 'ST', 'SV', 'SZ', 'TD', 'TG', 'TH', 'TJ', 'TL', 'TN', 'TO', 'TR', 'TT', 'TV', 'TW', 'TZ', 'UA', 'UG', 'US', 'UY', 'UZ', 'VC', 'VE', 'VN', 'VU', 'WS', 'XK', 'ZA', 'ZM', 'ZW'], 'external_urls': {'spotify': 'https://open.spotify.com/album/0MVMsDS0kofp6A8cbJ5kSH'}, 'href': 'https://api.spotify.com/v1/albums/0MVMsDS0kofp6A8cbJ5kSH', 'id': '0MVMsDS0kofp6A8cbJ5kSH', 'images': [{'height': 640, 'url': 'https://i.scdn.co/image/ab67616d0000b27346329ac2946a9313ff6b52f3', 'width': 640}, {'height': 300, 'url': 'https://i.scdn.co/image/ab67616d00001e0246329ac2946a9313ff6b52f3', 'width': 300}, {'height': 64, 'url': 'https://i.scdn.co/image/ab67616d0000485146329ac2946a9313ff6b52f3', 'width': 64}], 'name': 'Chiaroscuro', 'release_date': '2018-03-09', 'release_date_precision': 'day', 'total_tracks': 12, 'type': 'album', 'uri': 'spotify:album:0MVMsDS0kofp6A8cbJ5kSH'}\n",
      "{'album_type': 'album', 'artists': [{'external_urls': {'spotify': 'https://open.spotify.com/artist/3iOvXCl6edW5Um0fXEBRXy'}, 'href': 'https://api.spotify.com/v1/artists/3iOvXCl6edW5Um0fXEBRXy', 'id': '3iOvXCl6edW5Um0fXEBRXy', 'name': 'The xx', 'type': 'artist', 'uri': 'spotify:artist:3iOvXCl6edW5Um0fXEBRXy'}], 'available_markets': ['AD', 'AE', 'AG', 'AL', 'AM', 'AO', 'AR', 'AT', 'AU', 'AZ', 'BA', 'BB', 'BD', 'BE', 'BF', 'BG', 'BH', 'BI', 'BJ', 'BN', 'BO', 'BR', 'BS', 'BT', 'BW', 'BY', 'BZ', 'CD', 'CG', 'CH', 'CI', 'CL', 'CM', 'CO', 'CR', 'CV', 'CW', 'CY', 'CZ', 'DE', 'DJ', 'DK', 'DM', 'DO', 'DZ', 'EC', 'EE', 'EG', 'ES', 'ET', 'FI', 'FJ', 'FM', 'FR', 'GA', 'GB', 'GD', 'GE', 'GH', 'GM', 'GN', 'GQ', 'GR', 'GT', 'GW', 'GY', 'HK', 'HN', 'HR', 'HT', 'HU', 'ID', 'IE', 'IL', 'IN', 'IQ', 'IS', 'IT', 'JM', 'JO', 'JP', 'KE', 'KG', 'KH', 'KI', 'KM', 'KN', 'KR', 'KW', 'KZ', 'LA', 'LB', 'LC', 'LI', 'LK', 'LR', 'LS', 'LT', 'LU', 'LV', 'LY', 'MA', 'MC', 'MD', 'ME', 'MG', 'MH', 'MK', 'ML', 'MN', 'MO', 'MR', 'MT', 'MU', 'MV', 'MW', 'MX', 'MY', 'MZ', 'NA', 'NE', 'NG', 'NI', 'NL', 'NO', 'NP', 'NR', 'NZ', 'OM', 'PA', 'PE', 'PG', 'PH', 'PK', 'PL', 'PS', 'PT', 'PW', 'PY', 'QA', 'RO', 'RS', 'RW', 'SA', 'SB', 'SC', 'SE', 'SG', 'SI', 'SK', 'SL', 'SM', 'SN', 'SR', 'ST', 'SV', 'SZ', 'TD', 'TG', 'TH', 'TJ', 'TL', 'TN', 'TO', 'TR', 'TT', 'TV', 'TW', 'TZ', 'UA', 'UG', 'UY', 'UZ', 'VC', 'VE', 'VN', 'VU', 'WS', 'XK', 'ZA', 'ZM', 'ZW'], 'external_urls': {'spotify': 'https://open.spotify.com/album/2av2ZSHlvD7rvLSsMvtYCG'}, 'href': 'https://api.spotify.com/v1/albums/2av2ZSHlvD7rvLSsMvtYCG', 'id': '2av2ZSHlvD7rvLSsMvtYCG', 'images': [{'height': 640, 'url': 'https://i.scdn.co/image/ab67616d0000b27348a95897fd91eb34032a93e3', 'width': 640}, {'height': 300, 'url': 'https://i.scdn.co/image/ab67616d00001e0248a95897fd91eb34032a93e3', 'width': 300}, {'height': 64, 'url': 'https://i.scdn.co/image/ab67616d0000485148a95897fd91eb34032a93e3', 'width': 64}], 'name': 'xx', 'release_date': '2009-08-16', 'release_date_precision': 'day', 'total_tracks': 11, 'type': 'album', 'uri': 'spotify:album:2av2ZSHlvD7rvLSsMvtYCG'}\n",
      "{'album_type': 'single', 'artists': [{'external_urls': {'spotify': 'https://open.spotify.com/artist/7COP1HCvVq1cIpZcLQYoNe'}, 'href': 'https://api.spotify.com/v1/artists/7COP1HCvVq1cIpZcLQYoNe', 'id': '7COP1HCvVq1cIpZcLQYoNe', 'name': 'Bedroom', 'type': 'artist', 'uri': 'spotify:artist:7COP1HCvVq1cIpZcLQYoNe'}], 'available_markets': ['AD', 'AE', 'AG', 'AL', 'AM', 'AO', 'AR', 'AT', 'AU', 'AZ', 'BA', 'BB', 'BD', 'BE', 'BF', 'BG', 'BH', 'BI', 'BJ', 'BN', 'BO', 'BR', 'BS', 'BT', 'BW', 'BY', 'BZ', 'CA', 'CD', 'CG', 'CH', 'CI', 'CL', 'CM', 'CO', 'CR', 'CV', 'CW', 'CY', 'CZ', 'DE', 'DJ', 'DK', 'DM', 'DO', 'DZ', 'EC', 'EE', 'EG', 'ES', 'ET', 'FI', 'FJ', 'FM', 'FR', 'GA', 'GB', 'GD', 'GE', 'GH', 'GM', 'GN', 'GQ', 'GR', 'GT', 'GW', 'GY', 'HK', 'HN', 'HR', 'HT', 'HU', 'ID', 'IE', 'IL', 'IN', 'IQ', 'IS', 'IT', 'JM', 'JO', 'JP', 'KE', 'KG', 'KH', 'KI', 'KM', 'KN', 'KR', 'KW', 'KZ', 'LA', 'LB', 'LC', 'LI', 'LK', 'LR', 'LS', 'LT', 'LU', 'LV', 'LY', 'MA', 'MC', 'MD', 'ME', 'MG', 'MH', 'MK', 'ML', 'MN', 'MO', 'MR', 'MT', 'MU', 'MV', 'MW', 'MX', 'MY', 'MZ', 'NA', 'NE', 'NG', 'NI', 'NL', 'NO', 'NP', 'NR', 'NZ', 'OM', 'PA', 'PE', 'PG', 'PH', 'PK', 'PL', 'PS', 'PT', 'PW', 'PY', 'QA', 'RO', 'RS', 'RW', 'SA', 'SB', 'SC', 'SE', 'SG', 'SI', 'SK', 'SL', 'SM', 'SN', 'SR', 'ST', 'SV', 'SZ', 'TD', 'TG', 'TH', 'TJ', 'TL', 'TN', 'TO', 'TR', 'TT', 'TV', 'TW', 'TZ', 'UA', 'UG', 'US', 'UY', 'UZ', 'VC', 'VE', 'VN', 'VU', 'WS', 'XK', 'ZA', 'ZM', 'ZW'], 'external_urls': {'spotify': 'https://open.spotify.com/album/3okCOhHlfrEPaHZIIUo04l'}, 'href': 'https://api.spotify.com/v1/albums/3okCOhHlfrEPaHZIIUo04l', 'id': '3okCOhHlfrEPaHZIIUo04l', 'images': [{'height': 640, 'url': 'https://i.scdn.co/image/ab67616d0000b273c3b630a32628bdc23d55a359', 'width': 640}, {'height': 300, 'url': 'https://i.scdn.co/image/ab67616d00001e02c3b630a32628bdc23d55a359', 'width': 300}, {'height': 64, 'url': 'https://i.scdn.co/image/ab67616d00004851c3b630a32628bdc23d55a359', 'width': 64}], 'name': 'In My Head', 'release_date': '2017-01-12', 'release_date_precision': 'day', 'total_tracks': 1, 'type': 'album', 'uri': 'spotify:album:3okCOhHlfrEPaHZIIUo04l'}\n",
      "{'album_type': 'album', 'artists': [{'external_urls': {'spotify': 'https://open.spotify.com/artist/3sntDD4Y2K97qvDq3GPqZ5'}, 'href': 'https://api.spotify.com/v1/artists/3sntDD4Y2K97qvDq3GPqZ5', 'id': '3sntDD4Y2K97qvDq3GPqZ5', 'name': 'Myslovitz', 'type': 'artist', 'uri': 'spotify:artist:3sntDD4Y2K97qvDq3GPqZ5'}], 'available_markets': ['AD', 'AE', 'AG', 'AL', 'AM', 'AO', 'AR', 'AT', 'AU', 'AZ', 'BA', 'BB', 'BD', 'BE', 'BF', 'BG', 'BH', 'BI', 'BJ', 'BN', 'BO', 'BR', 'BS', 'BT', 'BW', 'BY', 'BZ', 'CA', 'CD', 'CG', 'CH', 'CI', 'CL', 'CM', 'CO', 'CR', 'CV', 'CW', 'CY', 'CZ', 'DE', 'DJ', 'DK', 'DM', 'DO', 'DZ', 'EC', 'EE', 'EG', 'ES', 'ET', 'FI', 'FJ', 'FM', 'FR', 'GA', 'GB', 'GD', 'GE', 'GH', 'GM', 'GN', 'GQ', 'GR', 'GT', 'GW', 'GY', 'HK', 'HN', 'HR', 'HT', 'HU', 'ID', 'IE', 'IL', 'IN', 'IQ', 'IS', 'IT', 'JM', 'JO', 'JP', 'KE', 'KG', 'KH', 'KI', 'KM', 'KN', 'KR', 'KW', 'KZ', 'LA', 'LB', 'LC', 'LI', 'LK', 'LR', 'LS', 'LT', 'LU', 'LV', 'LY', 'MA', 'MC', 'MD', 'ME', 'MG', 'MH', 'MK', 'ML', 'MN', 'MO', 'MR', 'MT', 'MU', 'MV', 'MW', 'MX', 'MY', 'MZ', 'NA', 'NE', 'NG', 'NI', 'NL', 'NO', 'NP', 'NR', 'NZ', 'OM', 'PA', 'PE', 'PG', 'PH', 'PK', 'PL', 'PS', 'PT', 'PW', 'PY', 'QA', 'RO', 'RS', 'RW', 'SA', 'SB', 'SC', 'SE', 'SG', 'SI', 'SK', 'SL', 'SM', 'SN', 'SR', 'ST', 'SV', 'SZ', 'TD', 'TG', 'TH', 'TJ', 'TL', 'TN', 'TO', 'TR', 'TT', 'TV', 'TW', 'TZ', 'UA', 'UG', 'US', 'UY', 'UZ', 'VC', 'VE', 'VN', 'VU', 'WS', 'XK', 'ZA', 'ZM', 'ZW'], 'external_urls': {'spotify': 'https://open.spotify.com/album/7A0cDRZUQt4GhpSrMSfUcQ'}, 'href': 'https://api.spotify.com/v1/albums/7A0cDRZUQt4GhpSrMSfUcQ', 'id': '7A0cDRZUQt4GhpSrMSfUcQ', 'images': [{'height': 640, 'url': 'https://i.scdn.co/image/ab67616d0000b2736b41580c45b1584ebf8c9270', 'width': 640}, {'height': 300, 'url': 'https://i.scdn.co/image/ab67616d00001e026b41580c45b1584ebf8c9270', 'width': 300}, {'height': 64, 'url': 'https://i.scdn.co/image/ab67616d000048516b41580c45b1584ebf8c9270', 'width': 64}], 'name': 'Miłość w czasach popkultury', 'release_date': '1999', 'release_date_precision': 'year', 'total_tracks': 12, 'type': 'album', 'uri': 'spotify:album:7A0cDRZUQt4GhpSrMSfUcQ'}\n",
      "{'album_type': 'album', 'artists': [{'external_urls': {'spotify': 'https://open.spotify.com/artist/7Ln80lUS6He07XvHI8qqHH'}, 'href': 'https://api.spotify.com/v1/artists/7Ln80lUS6He07XvHI8qqHH', 'id': '7Ln80lUS6He07XvHI8qqHH', 'name': 'Arctic Monkeys', 'type': 'artist', 'uri': 'spotify:artist:7Ln80lUS6He07XvHI8qqHH'}], 'available_markets': ['AD', 'AE', 'AG', 'AL', 'AM', 'AO', 'AR', 'AT', 'AU', 'AZ', 'BA', 'BB', 'BD', 'BE', 'BF', 'BG', 'BH', 'BI', 'BJ', 'BN', 'BO', 'BR', 'BS', 'BT', 'BW', 'BZ', 'CA', 'CD', 'CG', 'CH', 'CI', 'CL', 'CM', 'CO', 'CR', 'CV', 'CW', 'CY', 'CZ', 'DE', 'DJ', 'DK', 'DM', 'DO', 'DZ', 'EC', 'EE', 'EG', 'ES', 'ET', 'FI', 'FJ', 'FM', 'FR', 'GA', 'GB', 'GD', 'GE', 'GH', 'GM', 'GN', 'GQ', 'GR', 'GT', 'GW', 'GY', 'HK', 'HN', 'HR', 'HT', 'HU', 'ID', 'IE', 'IL', 'IN', 'IQ', 'IS', 'IT', 'JM', 'JO', 'JP', 'KE', 'KG', 'KH', 'KI', 'KM', 'KN', 'KR', 'KW', 'KZ', 'LA', 'LB', 'LC', 'LI', 'LK', 'LR', 'LS', 'LT', 'LU', 'LV', 'LY', 'MA', 'MC', 'MD', 'ME', 'MG', 'MH', 'MK', 'ML', 'MN', 'MO', 'MR', 'MT', 'MU', 'MV', 'MW', 'MX', 'MY', 'MZ', 'NA', 'NE', 'NG', 'NI', 'NL', 'NO', 'NP', 'NR', 'NZ', 'OM', 'PA', 'PE', 'PG', 'PH', 'PK', 'PL', 'PS', 'PT', 'PW', 'PY', 'QA', 'RO', 'RS', 'RW', 'SA', 'SB', 'SC', 'SE', 'SG', 'SI', 'SK', 'SL', 'SM', 'SN', 'SR', 'ST', 'SV', 'SZ', 'TD', 'TG', 'TH', 'TJ', 'TL', 'TN', 'TO', 'TR', 'TT', 'TV', 'TW', 'TZ', 'UA', 'UG', 'US', 'UY', 'UZ', 'VC', 'VE', 'VN', 'VU', 'WS', 'XK', 'ZA', 'ZM', 'ZW'], 'external_urls': {'spotify': 'https://open.spotify.com/album/78bpIziExqiI9qztvNFlQu'}, 'href': 'https://api.spotify.com/v1/albums/78bpIziExqiI9qztvNFlQu', 'id': '78bpIziExqiI9qztvNFlQu', 'images': [{'height': 640, 'url': 'https://i.scdn.co/image/ab67616d0000b2734ae1c4c5c45aabe565499163', 'width': 640}, {'height': 300, 'url': 'https://i.scdn.co/image/ab67616d00001e024ae1c4c5c45aabe565499163', 'width': 300}, {'height': 64, 'url': 'https://i.scdn.co/image/ab67616d000048514ae1c4c5c45aabe565499163', 'width': 64}], 'name': 'AM', 'release_date': '2013-09-09', 'release_date_precision': 'day', 'total_tracks': 12, 'type': 'album', 'uri': 'spotify:album:78bpIziExqiI9qztvNFlQu'}\n",
      "{'album_type': 'album', 'artists': [{'external_urls': {'spotify': 'https://open.spotify.com/artist/0xliTEbFfy5HQHvsTknTkX'}, 'href': 'https://api.spotify.com/v1/artists/0xliTEbFfy5HQHvsTknTkX', 'id': '0xliTEbFfy5HQHvsTknTkX', 'name': 'Alphaville', 'type': 'artist', 'uri': 'spotify:artist:0xliTEbFfy5HQHvsTknTkX'}], 'available_markets': ['AD', 'AE', 'AG', 'AL', 'AM', 'AO', 'AR', 'AT', 'AU', 'AZ', 'BA', 'BB', 'BD', 'BE', 'BF', 'BG', 'BH', 'BI', 'BJ', 'BN', 'BO', 'BR', 'BS', 'BT', 'BW', 'BY', 'BZ', 'CA', 'CD', 'CG', 'CH', 'CI', 'CL', 'CM', 'CO', 'CR', 'CV', 'CW', 'CY', 'CZ', 'DE', 'DJ', 'DK', 'DM', 'DO', 'DZ', 'EC', 'EE', 'EG', 'ES', 'ET', 'FI', 'FJ', 'FM', 'FR', 'GA', 'GB', 'GD', 'GE', 'GH', 'GM', 'GN', 'GQ', 'GR', 'GT', 'GW', 'GY', 'HK', 'HN', 'HR', 'HT', 'HU', 'ID', 'IE', 'IL', 'IN', 'IQ', 'IS', 'IT', 'JM', 'JO', 'JP', 'KE', 'KG', 'KH', 'KI', 'KM', 'KN', 'KR', 'KW', 'KZ', 'LA', 'LB', 'LC', 'LI', 'LK', 'LR', 'LS', 'LT', 'LU', 'LV', 'LY', 'MA', 'MC', 'MD', 'ME', 'MG', 'MH', 'MK', 'ML', 'MN', 'MO', 'MR', 'MT', 'MU', 'MV', 'MW', 'MX', 'MY', 'MZ', 'NA', 'NE', 'NG', 'NI', 'NL', 'NO', 'NP', 'NR', 'NZ', 'OM', 'PA', 'PE', 'PG', 'PH', 'PK', 'PL', 'PS', 'PT', 'PW', 'PY', 'QA', 'RO', 'RS', 'RW', 'SA', 'SB', 'SC', 'SE', 'SG', 'SI', 'SK', 'SL', 'SM', 'SN', 'SR', 'ST', 'SV', 'SZ', 'TD', 'TG', 'TH', 'TJ', 'TL', 'TN', 'TO', 'TR', 'TT', 'TV', 'TW', 'TZ', 'UA', 'UG', 'US', 'UY', 'UZ', 'VC', 'VE', 'VN', 'VU', 'WS', 'XK', 'ZA', 'ZM', 'ZW'], 'external_urls': {'spotify': 'https://open.spotify.com/album/2256qKBSQdt53T5dz4Kdcs'}, 'href': 'https://api.spotify.com/v1/albums/2256qKBSQdt53T5dz4Kdcs', 'id': '2256qKBSQdt53T5dz4Kdcs', 'images': [{'height': 640, 'url': 'https://i.scdn.co/image/ab67616d0000b2734b89690216baf8e04fdd3056', 'width': 640}, {'height': 300, 'url': 'https://i.scdn.co/image/ab67616d00001e024b89690216baf8e04fdd3056', 'width': 300}, {'height': 64, 'url': 'https://i.scdn.co/image/ab67616d000048514b89690216baf8e04fdd3056', 'width': 64}], 'name': 'Forever Young', 'release_date': '1984-09-27', 'release_date_precision': 'day', 'total_tracks': 10, 'type': 'album', 'uri': 'spotify:album:2256qKBSQdt53T5dz4Kdcs'}\n",
      "{'album_type': 'album', 'artists': [{'external_urls': {'spotify': 'https://open.spotify.com/artist/65A714FqhSPjoFZeffQbTv'}, 'href': 'https://api.spotify.com/v1/artists/65A714FqhSPjoFZeffQbTv', 'id': '65A714FqhSPjoFZeffQbTv', 'name': 'Lindemann', 'type': 'artist', 'uri': 'spotify:artist:65A714FqhSPjoFZeffQbTv'}], 'available_markets': ['AG', 'AL', 'AM', 'AR', 'AT', 'AU', 'AZ', 'BA', 'BB', 'BE', 'BF', 'BG', 'BN', 'BO', 'BR', 'BS', 'BW', 'BY', 'BZ', 'CA', 'CH', 'CL', 'CO', 'CR', 'CV', 'CW', 'CY', 'CZ', 'DE', 'DK', 'DM', 'DO', 'EC', 'EE', 'ES', 'FI', 'FJ', 'FM', 'FR', 'GB', 'GD', 'GH', 'GM', 'GR', 'GT', 'GW', 'HK', 'HN', 'HR', 'HT', 'HU', 'ID', 'IE', 'IL', 'IN', 'IT', 'JM', 'JP', 'KE', 'KG', 'KH', 'KN', 'KR', 'KZ', 'LA', 'LC', 'LK', 'LT', 'LU', 'LV', 'MD', 'ME', 'MK', 'MN', 'MO', 'MT', 'MU', 'MX', 'MY', 'MZ', 'NA', 'NE', 'NG', 'NI', 'NL', 'NO', 'NP', 'NZ', 'PA', 'PE', 'PG', 'PH', 'PL', 'PT', 'PY', 'RO', 'RS', 'SE', 'SG', 'SI', 'SK', 'SV', 'SZ', 'TD', 'TH', 'TJ', 'TL', 'TR', 'TT', 'TW', 'UA', 'UG', 'US', 'UY', 'UZ', 'VC', 'VE', 'VN', 'XK', 'ZA', 'ZW'], 'external_urls': {'spotify': 'https://open.spotify.com/album/0koBPzLDxkhwKrKb3JmJ9n'}, 'href': 'https://api.spotify.com/v1/albums/0koBPzLDxkhwKrKb3JmJ9n', 'id': '0koBPzLDxkhwKrKb3JmJ9n', 'images': [{'height': 640, 'url': 'https://i.scdn.co/image/ab67616d0000b2736df62f6900c46bf4eb1059e3', 'width': 640}, {'height': 300, 'url': 'https://i.scdn.co/image/ab67616d00001e026df62f6900c46bf4eb1059e3', 'width': 300}, {'height': 64, 'url': 'https://i.scdn.co/image/ab67616d000048516df62f6900c46bf4eb1059e3', 'width': 64}], 'name': 'Skills in Pills', 'release_date': '2015-06-30', 'release_date_precision': 'day', 'total_tracks': 11, 'type': 'album', 'uri': 'spotify:album:0koBPzLDxkhwKrKb3JmJ9n'}\n",
      "{'album_type': 'single', 'artists': [{'external_urls': {'spotify': 'https://open.spotify.com/artist/1r93D0anfnfL4M7tYTce0J'}, 'href': 'https://api.spotify.com/v1/artists/1r93D0anfnfL4M7tYTce0J', 'id': '1r93D0anfnfL4M7tYTce0J', 'name': 'Edwin Rosen', 'type': 'artist', 'uri': 'spotify:artist:1r93D0anfnfL4M7tYTce0J'}], 'available_markets': ['AD', 'AE', 'AG', 'AL', 'AM', 'AO', 'AR', 'AT', 'AU', 'AZ', 'BA', 'BB', 'BD', 'BE', 'BF', 'BG', 'BH', 'BI', 'BJ', 'BN', 'BO', 'BR', 'BS', 'BT', 'BW', 'BY', 'BZ', 'CA', 'CD', 'CG', 'CH', 'CI', 'CL', 'CM', 'CO', 'CR', 'CV', 'CW', 'CY', 'CZ', 'DE', 'DJ', 'DK', 'DM', 'DO', 'DZ', 'EC', 'EE', 'EG', 'ES', 'ET', 'FI', 'FJ', 'FM', 'FR', 'GA', 'GB', 'GD', 'GE', 'GH', 'GM', 'GN', 'GQ', 'GR', 'GT', 'GW', 'GY', 'HK', 'HN', 'HR', 'HT', 'HU', 'ID', 'IE', 'IL', 'IN', 'IQ', 'IS', 'IT', 'JM', 'JO', 'JP', 'KE', 'KG', 'KH', 'KI', 'KM', 'KN', 'KR', 'KW', 'KZ', 'LA', 'LB', 'LC', 'LI', 'LK', 'LR', 'LS', 'LT', 'LU', 'LV', 'LY', 'MA', 'MC', 'MD', 'ME', 'MG', 'MH', 'MK', 'ML', 'MN', 'MO', 'MR', 'MT', 'MU', 'MV', 'MW', 'MX', 'MY', 'MZ', 'NA', 'NE', 'NG', 'NI', 'NL', 'NO', 'NP', 'NR', 'NZ', 'OM', 'PA', 'PE', 'PG', 'PH', 'PK', 'PL', 'PS', 'PT', 'PW', 'PY', 'QA', 'RO', 'RS', 'RW', 'SA', 'SB', 'SC', 'SE', 'SG', 'SI', 'SK', 'SL', 'SM', 'SN', 'SR', 'ST', 'SV', 'SZ', 'TD', 'TG', 'TH', 'TJ', 'TL', 'TN', 'TO', 'TR', 'TT', 'TV', 'TW', 'TZ', 'UA', 'UG', 'US', 'UY', 'UZ', 'VC', 'VE', 'VN', 'VU', 'WS', 'XK', 'ZA', 'ZM', 'ZW'], 'external_urls': {'spotify': 'https://open.spotify.com/album/5uBWtsYMlfufVVzDRLmTtg'}, 'href': 'https://api.spotify.com/v1/albums/5uBWtsYMlfufVVzDRLmTtg', 'id': '5uBWtsYMlfufVVzDRLmTtg', 'images': [{'height': 640, 'url': 'https://i.scdn.co/image/ab67616d0000b2730d55a59436d62beff364b699', 'width': 640}, {'height': 300, 'url': 'https://i.scdn.co/image/ab67616d00001e020d55a59436d62beff364b699', 'width': 300}, {'height': 64, 'url': 'https://i.scdn.co/image/ab67616d000048510d55a59436d62beff364b699', 'width': 64}], 'name': '\"1119\"', 'release_date': '2020-10-16', 'release_date_precision': 'day', 'total_tracks': 1, 'type': 'album', 'uri': 'spotify:album:5uBWtsYMlfufVVzDRLmTtg'}\n",
      "{'album_type': 'album', 'artists': [{'external_urls': {'spotify': 'https://open.spotify.com/artist/0pg0Zm8FsGAYy5kdHuBnSo'}, 'href': 'https://api.spotify.com/v1/artists/0pg0Zm8FsGAYy5kdHuBnSo', 'id': '0pg0Zm8FsGAYy5kdHuBnSo', 'name': 'salvia palth', 'type': 'artist', 'uri': 'spotify:artist:0pg0Zm8FsGAYy5kdHuBnSo'}], 'available_markets': ['AD', 'AE', 'AG', 'AL', 'AM', 'AO', 'AR', 'AT', 'AU', 'AZ', 'BA', 'BB', 'BD', 'BE', 'BF', 'BG', 'BH', 'BI', 'BJ', 'BN', 'BO', 'BR', 'BS', 'BT', 'BW', 'BY', 'BZ', 'CA', 'CD', 'CG', 'CH', 'CI', 'CL', 'CM', 'CO', 'CR', 'CV', 'CW', 'CY', 'CZ', 'DE', 'DJ', 'DK', 'DM', 'DO', 'DZ', 'EC', 'EE', 'EG', 'ES', 'ET', 'FI', 'FJ', 'FM', 'FR', 'GA', 'GB', 'GD', 'GE', 'GH', 'GM', 'GN', 'GQ', 'GR', 'GT', 'GW', 'GY', 'HK', 'HN', 'HR', 'HT', 'HU', 'ID', 'IE', 'IL', 'IN', 'IQ', 'IS', 'IT', 'JM', 'JO', 'JP', 'KE', 'KG', 'KH', 'KI', 'KM', 'KN', 'KR', 'KW', 'KZ', 'LA', 'LB', 'LC', 'LI', 'LK', 'LR', 'LS', 'LT', 'LU', 'LV', 'LY', 'MA', 'MC', 'MD', 'ME', 'MG', 'MH', 'MK', 'ML', 'MN', 'MO', 'MR', 'MT', 'MU', 'MV', 'MW', 'MX', 'MY', 'MZ', 'NA', 'NE', 'NG', 'NI', 'NL', 'NO', 'NP', 'NR', 'NZ', 'OM', 'PA', 'PE', 'PG', 'PH', 'PK', 'PL', 'PS', 'PT', 'PW', 'PY', 'QA', 'RO', 'RS', 'RW', 'SA', 'SB', 'SC', 'SE', 'SG', 'SI', 'SK', 'SL', 'SM', 'SN', 'SR', 'ST', 'SV', 'SZ', 'TD', 'TG', 'TH', 'TJ', 'TL', 'TN', 'TO', 'TR', 'TT', 'TV', 'TW', 'TZ', 'UA', 'UG', 'US', 'UY', 'UZ', 'VC', 'VE', 'VN', 'VU', 'WS', 'XK', 'ZA', 'ZM', 'ZW'], 'external_urls': {'spotify': 'https://open.spotify.com/album/23KJrzHF1IBfjzpRgTtaJx'}, 'href': 'https://api.spotify.com/v1/albums/23KJrzHF1IBfjzpRgTtaJx', 'id': '23KJrzHF1IBfjzpRgTtaJx', 'images': [{'height': 640, 'url': 'https://i.scdn.co/image/ab67616d0000b27375398280edcb0278b4516c48', 'width': 640}, {'height': 300, 'url': 'https://i.scdn.co/image/ab67616d00001e0275398280edcb0278b4516c48', 'width': 300}, {'height': 64, 'url': 'https://i.scdn.co/image/ab67616d0000485175398280edcb0278b4516c48', 'width': 64}], 'name': 'melanchole', 'release_date': '2013-01-01', 'release_date_precision': 'day', 'total_tracks': 13, 'type': 'album', 'uri': 'spotify:album:23KJrzHF1IBfjzpRgTtaJx'}\n",
      "{'album_type': 'album', 'artists': [{'external_urls': {'spotify': 'https://open.spotify.com/artist/71wy5iisVKXLZgoPxdFi8A'}, 'href': 'https://api.spotify.com/v1/artists/71wy5iisVKXLZgoPxdFi8A', 'id': '71wy5iisVKXLZgoPxdFi8A', 'name': 'Les Misérables Cast', 'type': 'artist', 'uri': 'spotify:artist:71wy5iisVKXLZgoPxdFi8A'}], 'available_markets': ['AD', 'AE', 'AG', 'AL', 'AM', 'AO', 'AR', 'AT', 'AU', 'AZ', 'BA', 'BB', 'BE', 'BF', 'BG', 'BH', 'BI', 'BJ', 'BN', 'BO', 'BR', 'BS', 'BT', 'BW', 'BY', 'BZ', 'CD', 'CG', 'CH', 'CI', 'CL', 'CM', 'CO', 'CR', 'CV', 'CW', 'CY', 'CZ', 'DE', 'DJ', 'DK', 'DM', 'DO', 'DZ', 'EC', 'EE', 'EG', 'ES', 'FI', 'FJ', 'FM', 'FR', 'GA', 'GB', 'GD', 'GH', 'GM', 'GN', 'GQ', 'GR', 'GT', 'GW', 'GY', 'HK', 'HN', 'HR', 'HU', 'ID', 'IE', 'IL', 'IN', 'IQ', 'IS', 'IT', 'JM', 'JO', 'KE', 'KG', 'KH', 'KM', 'KN', 'KR', 'KW', 'KZ', 'LA', 'LB', 'LC', 'LI', 'LK', 'LR', 'LS', 'LT', 'LU', 'LV', 'MC', 'MD', 'ME', 'MG', 'MK', 'ML', 'MN', 'MO', 'MR', 'MT', 'MU', 'MV', 'MW', 'MY', 'MZ', 'NA', 'NE', 'NG', 'NI', 'NL', 'NO', 'NP', 'NZ', 'OM', 'PA', 'PE', 'PG', 'PH', 'PK', 'PL', 'PT', 'PW', 'PY', 'QA', 'RO', 'RS', 'RW', 'SA', 'SB', 'SC', 'SE', 'SG', 'SI', 'SK', 'SL', 'SN', 'SR', 'ST', 'SV', 'SZ', 'TD', 'TG', 'TH', 'TJ', 'TL', 'TN', 'TR', 'TT', 'TW', 'TZ', 'UA', 'UG', 'UY', 'UZ', 'VC', 'VE', 'VN', 'XK', 'ZA', 'ZM', 'ZW'], 'external_urls': {'spotify': 'https://open.spotify.com/album/20exLke5P8o4D1Bj4iRcPf'}, 'href': 'https://api.spotify.com/v1/albums/20exLke5P8o4D1Bj4iRcPf', 'id': '20exLke5P8o4D1Bj4iRcPf', 'images': [{'height': 640, 'url': 'https://i.scdn.co/image/ab67616d0000b273170e79548d280867ef12742b', 'width': 640}, {'height': 300, 'url': 'https://i.scdn.co/image/ab67616d00001e02170e79548d280867ef12742b', 'width': 300}, {'height': 64, 'url': 'https://i.scdn.co/image/ab67616d00004851170e79548d280867ef12742b', 'width': 64}], 'name': 'Les Misérables: The Motion Picture Soundtrack Deluxe (Deluxe Edition)', 'release_date': '2013-01-01', 'release_date_precision': 'day', 'total_tracks': 42, 'type': 'album', 'uri': 'spotify:album:20exLke5P8o4D1Bj4iRcPf'}\n",
      "{'album_type': 'album', 'artists': [{'external_urls': {'spotify': 'https://open.spotify.com/artist/0pWwt5vGNzezEhfAcc420Y'}, 'href': 'https://api.spotify.com/v1/artists/0pWwt5vGNzezEhfAcc420Y', 'id': '0pWwt5vGNzezEhfAcc420Y', 'name': 'Mr.Kitty', 'type': 'artist', 'uri': 'spotify:artist:0pWwt5vGNzezEhfAcc420Y'}], 'available_markets': ['AD', 'AE', 'AG', 'AL', 'AM', 'AO', 'AR', 'AT', 'AU', 'AZ', 'BA', 'BB', 'BD', 'BE', 'BF', 'BG', 'BH', 'BI', 'BJ', 'BN', 'BO', 'BR', 'BS', 'BT', 'BW', 'BY', 'BZ', 'CA', 'CD', 'CG', 'CH', 'CI', 'CL', 'CM', 'CO', 'CR', 'CV', 'CW', 'CY', 'CZ', 'DE', 'DJ', 'DK', 'DM', 'DO', 'DZ', 'EC', 'EE', 'EG', 'ES', 'ET', 'FI', 'FJ', 'FM', 'FR', 'GA', 'GB', 'GD', 'GE', 'GH', 'GM', 'GN', 'GQ', 'GR', 'GT', 'GW', 'GY', 'HK', 'HN', 'HR', 'HT', 'HU', 'ID', 'IE', 'IL', 'IN', 'IQ', 'IS', 'IT', 'JM', 'JO', 'JP', 'KE', 'KG', 'KH', 'KI', 'KM', 'KN', 'KR', 'KW', 'KZ', 'LA', 'LB', 'LC', 'LI', 'LK', 'LR', 'LS', 'LT', 'LU', 'LV', 'LY', 'MA', 'MC', 'MD', 'ME', 'MG', 'MH', 'MK', 'ML', 'MN', 'MO', 'MR', 'MT', 'MU', 'MV', 'MW', 'MX', 'MY', 'MZ', 'NA', 'NE', 'NG', 'NI', 'NL', 'NO', 'NP', 'NR', 'NZ', 'OM', 'PA', 'PE', 'PG', 'PH', 'PK', 'PL', 'PS', 'PT', 'PW', 'PY', 'QA', 'RO', 'RS', 'RW', 'SA', 'SB', 'SC', 'SE', 'SG', 'SI', 'SK', 'SL', 'SM', 'SN', 'SR', 'ST', 'SV', 'SZ', 'TD', 'TG', 'TH', 'TJ', 'TL', 'TN', 'TO', 'TR', 'TT', 'TV', 'TW', 'TZ', 'UA', 'UG', 'US', 'UY', 'UZ', 'VC', 'VE', 'VN', 'VU', 'WS', 'XK', 'ZA', 'ZM', 'ZW'], 'external_urls': {'spotify': 'https://open.spotify.com/album/7EbRbTKOAx4p2xgpSDzuP3'}, 'href': 'https://api.spotify.com/v1/albums/7EbRbTKOAx4p2xgpSDzuP3', 'id': '7EbRbTKOAx4p2xgpSDzuP3', 'images': [{'height': 640, 'url': 'https://i.scdn.co/image/ab67616d0000b2735d3ecd69fb38c0d661d6837f', 'width': 640}, {'height': 300, 'url': 'https://i.scdn.co/image/ab67616d00001e025d3ecd69fb38c0d661d6837f', 'width': 300}, {'height': 64, 'url': 'https://i.scdn.co/image/ab67616d000048515d3ecd69fb38c0d661d6837f', 'width': 64}], 'name': 'A.I.', 'release_date': '2017-03-10', 'release_date_precision': 'day', 'total_tracks': 15, 'type': 'album', 'uri': 'spotify:album:7EbRbTKOAx4p2xgpSDzuP3'}\n",
      "{'album_type': 'album', 'artists': [{'external_urls': {'spotify': 'https://open.spotify.com/artist/0PkkQfDUJZuR2PcQ6uEV8j'}, 'href': 'https://api.spotify.com/v1/artists/0PkkQfDUJZuR2PcQ6uEV8j', 'id': '0PkkQfDUJZuR2PcQ6uEV8j', 'name': 'Lady Pank', 'type': 'artist', 'uri': 'spotify:artist:0PkkQfDUJZuR2PcQ6uEV8j'}], 'available_markets': ['AD', 'AE', 'AG', 'AL', 'AM', 'AO', 'AR', 'AT', 'AU', 'AZ', 'BA', 'BB', 'BD', 'BE', 'BF', 'BG', 'BH', 'BI', 'BJ', 'BN', 'BO', 'BR', 'BS', 'BT', 'BW', 'BY', 'BZ', 'CA', 'CD', 'CG', 'CH', 'CI', 'CL', 'CM', 'CO', 'CR', 'CV', 'CW', 'CY', 'CZ', 'DE', 'DJ', 'DK', 'DM', 'DO', 'DZ', 'EC', 'EE', 'EG', 'ES', 'ET', 'FI', 'FJ', 'FM', 'FR', 'GA', 'GB', 'GD', 'GE', 'GH', 'GM', 'GN', 'GQ', 'GR', 'GT', 'GW', 'GY', 'HK', 'HN', 'HR', 'HT', 'HU', 'ID', 'IE', 'IL', 'IN', 'IQ', 'IS', 'IT', 'JM', 'JO', 'JP', 'KE', 'KG', 'KH', 'KI', 'KM', 'KN', 'KR', 'KW', 'KZ', 'LA', 'LB', 'LC', 'LI', 'LK', 'LR', 'LS', 'LT', 'LU', 'LV', 'LY', 'MA', 'MC', 'MD', 'ME', 'MG', 'MH', 'MK', 'ML', 'MN', 'MO', 'MR', 'MT', 'MU', 'MV', 'MW', 'MX', 'MY', 'MZ', 'NA', 'NE', 'NG', 'NI', 'NL', 'NO', 'NP', 'NR', 'NZ', 'OM', 'PA', 'PE', 'PG', 'PH', 'PK', 'PL', 'PS', 'PT', 'PW', 'PY', 'QA', 'RO', 'RS', 'RW', 'SA', 'SB', 'SC', 'SE', 'SG', 'SI', 'SK', 'SL', 'SM', 'SN', 'SR', 'ST', 'SV', 'SZ', 'TD', 'TG', 'TH', 'TJ', 'TL', 'TN', 'TO', 'TR', 'TT', 'TV', 'TW', 'TZ', 'UA', 'UG', 'US', 'UY', 'UZ', 'VC', 'VE', 'VN', 'VU', 'WS', 'XK', 'ZA', 'ZM', 'ZW'], 'external_urls': {'spotify': 'https://open.spotify.com/album/1HrCTAe0ejQtd7xIGuwMTN'}, 'href': 'https://api.spotify.com/v1/albums/1HrCTAe0ejQtd7xIGuwMTN', 'id': '1HrCTAe0ejQtd7xIGuwMTN', 'images': [{'height': 640, 'url': 'https://i.scdn.co/image/ab67616d0000b2738150be7d67b7b1d8330fa504', 'width': 640}, {'height': 300, 'url': 'https://i.scdn.co/image/ab67616d00001e028150be7d67b7b1d8330fa504', 'width': 300}, {'height': 64, 'url': 'https://i.scdn.co/image/ab67616d000048518150be7d67b7b1d8330fa504', 'width': 64}], 'name': 'Lady Pank', 'release_date': '2003-01-01', 'release_date_precision': 'day', 'total_tracks': 10, 'type': 'album', 'uri': 'spotify:album:1HrCTAe0ejQtd7xIGuwMTN'}\n",
      "{'album_type': 'single', 'artists': [{'external_urls': {'spotify': 'https://open.spotify.com/artist/7riQPkkGZBnTh9ve5qIhYo'}, 'href': 'https://api.spotify.com/v1/artists/7riQPkkGZBnTh9ve5qIhYo', 'id': '7riQPkkGZBnTh9ve5qIhYo', 'name': 'Mareux', 'type': 'artist', 'uri': 'spotify:artist:7riQPkkGZBnTh9ve5qIhYo'}], 'available_markets': ['AD', 'AE', 'AG', 'AL', 'AM', 'AO', 'AR', 'AT', 'AU', 'AZ', 'BA', 'BB', 'BD', 'BE', 'BF', 'BG', 'BH', 'BI', 'BJ', 'BN', 'BO', 'BR', 'BS', 'BT', 'BW', 'BY', 'BZ', 'CA', 'CD', 'CG', 'CH', 'CI', 'CL', 'CM', 'CO', 'CR', 'CV', 'CW', 'CY', 'CZ', 'DE', 'DJ', 'DK', 'DM', 'DO', 'DZ', 'EC', 'EE', 'EG', 'ES', 'ET', 'FI', 'FJ', 'FM', 'FR', 'GA', 'GB', 'GD', 'GE', 'GH', 'GM', 'GN', 'GQ', 'GR', 'GT', 'GW', 'GY', 'HK', 'HN', 'HR', 'HT', 'HU', 'ID', 'IE', 'IL', 'IN', 'IQ', 'IS', 'IT', 'JM', 'JO', 'JP', 'KE', 'KG', 'KH', 'KI', 'KM', 'KN', 'KR', 'KW', 'KZ', 'LA', 'LB', 'LC', 'LI', 'LK', 'LR', 'LS', 'LT', 'LU', 'LV', 'LY', 'MA', 'MC', 'MD', 'ME', 'MG', 'MH', 'MK', 'ML', 'MN', 'MO', 'MR', 'MT', 'MU', 'MV', 'MW', 'MX', 'MY', 'MZ', 'NA', 'NE', 'NG', 'NI', 'NL', 'NO', 'NP', 'NR', 'NZ', 'OM', 'PA', 'PE', 'PG', 'PH', 'PK', 'PL', 'PS', 'PT', 'PW', 'PY', 'QA', 'RO', 'RS', 'RW', 'SA', 'SB', 'SC', 'SE', 'SG', 'SI', 'SK', 'SL', 'SM', 'SN', 'SR', 'ST', 'SV', 'SZ', 'TD', 'TG', 'TH', 'TJ', 'TL', 'TN', 'TO', 'TR', 'TT', 'TV', 'TW', 'TZ', 'UA', 'UG', 'US', 'UY', 'UZ', 'VC', 'VE', 'VN', 'VU', 'WS', 'XK', 'ZA', 'ZM', 'ZW'], 'external_urls': {'spotify': 'https://open.spotify.com/album/2JnZQM70jbT0J1Xq0qgl24'}, 'href': 'https://api.spotify.com/v1/albums/2JnZQM70jbT0J1Xq0qgl24', 'id': '2JnZQM70jbT0J1Xq0qgl24', 'images': [{'height': 640, 'url': 'https://i.scdn.co/image/ab67616d0000b2733d54a30e59638f60f56dd4e6', 'width': 640}, {'height': 300, 'url': 'https://i.scdn.co/image/ab67616d00001e023d54a30e59638f60f56dd4e6', 'width': 300}, {'height': 64, 'url': 'https://i.scdn.co/image/ab67616d000048513d54a30e59638f60f56dd4e6', 'width': 64}], 'name': 'The Perfect Girl', 'release_date': '2021-12-08', 'release_date_precision': 'day', 'total_tracks': 1, 'type': 'album', 'uri': 'spotify:album:2JnZQM70jbT0J1Xq0qgl24'}\n",
      "{'album_type': 'album', 'artists': [{'external_urls': {'spotify': 'https://open.spotify.com/artist/1QAJqy2dA3ihHBFIHRphZj'}, 'href': 'https://api.spotify.com/v1/artists/1QAJqy2dA3ihHBFIHRphZj', 'id': '1QAJqy2dA3ihHBFIHRphZj', 'name': 'Cigarettes After Sex', 'type': 'artist', 'uri': 'spotify:artist:1QAJqy2dA3ihHBFIHRphZj'}], 'available_markets': ['AD', 'AE', 'AL', 'AM', 'AT', 'AU', 'AZ', 'BA', 'BD', 'BE', 'BG', 'BH', 'BN', 'BT', 'BY', 'CH', 'CW', 'CY', 'CZ', 'DE', 'DJ', 'DK', 'DZ', 'EE', 'EG', 'ES', 'FI', 'FJ', 'FM', 'FR', 'GB', 'GE', 'GR', 'HK', 'HR', 'HU', 'ID', 'IE', 'IL', 'IN', 'IQ', 'IS', 'IT', 'JO', 'JP', 'KG', 'KH', 'KI', 'KR', 'KW', 'KZ', 'LA', 'LB', 'LI', 'LK', 'LT', 'LU', 'LV', 'LY', 'MA', 'MC', 'MD', 'ME', 'MH', 'MK', 'MN', 'MO', 'MT', 'MV', 'MY', 'NL', 'NO', 'NP', 'NR', 'NZ', 'OM', 'PG', 'PH', 'PK', 'PL', 'PS', 'PT', 'PW', 'QA', 'RO', 'RS', 'SA', 'SB', 'SE', 'SG', 'SI', 'SK', 'SM', 'TH', 'TJ', 'TL', 'TN', 'TO', 'TR', 'TV', 'TW', 'UA', 'UZ', 'VN', 'VU', 'WS', 'XK'], 'external_urls': {'spotify': 'https://open.spotify.com/album/2mxFsS5yylSTHNivV53HoA'}, 'href': 'https://api.spotify.com/v1/albums/2mxFsS5yylSTHNivV53HoA', 'id': '2mxFsS5yylSTHNivV53HoA', 'images': [{'height': 640, 'url': 'https://i.scdn.co/image/ab67616d0000b27312b69bf576f5e80291f75161', 'width': 640}, {'height': 300, 'url': 'https://i.scdn.co/image/ab67616d00001e0212b69bf576f5e80291f75161', 'width': 300}, {'height': 64, 'url': 'https://i.scdn.co/image/ab67616d0000485112b69bf576f5e80291f75161', 'width': 64}], 'name': 'Cigarettes After Sex', 'release_date': '2017-06-09', 'release_date_precision': 'day', 'total_tracks': 10, 'type': 'album', 'uri': 'spotify:album:2mxFsS5yylSTHNivV53HoA'}\n",
      "{'album_type': 'album', 'artists': [{'external_urls': {'spotify': 'https://open.spotify.com/artist/2wpWOzQE5TpA0dVnh5YD08'}, 'href': 'https://api.spotify.com/v1/artists/2wpWOzQE5TpA0dVnh5YD08', 'id': '2wpWOzQE5TpA0dVnh5YD08', 'name': 'Bronski Beat', 'type': 'artist', 'uri': 'spotify:artist:2wpWOzQE5TpA0dVnh5YD08'}], 'available_markets': ['AD', 'AE', 'AG', 'AL', 'AM', 'AO', 'AR', 'AT', 'AU', 'AZ', 'BA', 'BB', 'BD', 'BE', 'BF', 'BG', 'BH', 'BI', 'BJ', 'BN', 'BO', 'BR', 'BS', 'BT', 'BW', 'BY', 'BZ', 'CA', 'CD', 'CG', 'CH', 'CI', 'CL', 'CM', 'CO', 'CR', 'CV', 'CW', 'CY', 'CZ', 'DE', 'DJ', 'DK', 'DM', 'DO', 'DZ', 'EC', 'EE', 'EG', 'ES', 'ET', 'FI', 'FJ', 'FM', 'FR', 'GA', 'GB', 'GD', 'GE', 'GH', 'GM', 'GN', 'GQ', 'GR', 'GT', 'GW', 'GY', 'HK', 'HN', 'HR', 'HT', 'HU', 'ID', 'IE', 'IL', 'IN', 'IQ', 'IS', 'IT', 'JM', 'JO', 'JP', 'KE', 'KG', 'KH', 'KI', 'KM', 'KN', 'KR', 'KW', 'KZ', 'LA', 'LB', 'LC', 'LI', 'LK', 'LR', 'LS', 'LT', 'LU', 'LV', 'LY', 'MA', 'MC', 'MD', 'ME', 'MG', 'MH', 'MK', 'ML', 'MN', 'MO', 'MR', 'MT', 'MU', 'MV', 'MW', 'MX', 'MY', 'MZ', 'NA', 'NE', 'NG', 'NI', 'NL', 'NO', 'NP', 'NR', 'NZ', 'OM', 'PA', 'PE', 'PG', 'PH', 'PK', 'PL', 'PS', 'PT', 'PW', 'PY', 'QA', 'RO', 'RS', 'RW', 'SA', 'SB', 'SC', 'SE', 'SG', 'SI', 'SK', 'SL', 'SM', 'SN', 'SR', 'ST', 'SV', 'SZ', 'TD', 'TG', 'TH', 'TJ', 'TL', 'TN', 'TO', 'TR', 'TT', 'TV', 'TW', 'TZ', 'UA', 'UG', 'US', 'UY', 'UZ', 'VC', 'VE', 'VN', 'VU', 'WS', 'XK', 'ZA', 'ZM', 'ZW'], 'external_urls': {'spotify': 'https://open.spotify.com/album/6OMYQUITdN6wBaWfEtgooI'}, 'href': 'https://api.spotify.com/v1/albums/6OMYQUITdN6wBaWfEtgooI', 'id': '6OMYQUITdN6wBaWfEtgooI', 'images': [{'height': 640, 'url': 'https://i.scdn.co/image/ab67616d0000b2736affdd29d6ee84a298746ef7', 'width': 640}, {'height': 300, 'url': 'https://i.scdn.co/image/ab67616d00001e026affdd29d6ee84a298746ef7', 'width': 300}, {'height': 64, 'url': 'https://i.scdn.co/image/ab67616d000048516affdd29d6ee84a298746ef7', 'width': 64}], 'name': 'The Age of Consent', 'release_date': '1984-10-15', 'release_date_precision': 'day', 'total_tracks': 16, 'type': 'album', 'uri': 'spotify:album:6OMYQUITdN6wBaWfEtgooI'}\n",
      "{'album_type': 'single', 'artists': [{'external_urls': {'spotify': 'https://open.spotify.com/artist/5qxFoC4hkXgFJ3l9keZlL0'}, 'href': 'https://api.spotify.com/v1/artists/5qxFoC4hkXgFJ3l9keZlL0', 'id': '5qxFoC4hkXgFJ3l9keZlL0', 'name': 'Desmond Doom', 'type': 'artist', 'uri': 'spotify:artist:5qxFoC4hkXgFJ3l9keZlL0'}], 'available_markets': ['AD', 'AE', 'AG', 'AL', 'AM', 'AO', 'AR', 'AT', 'AU', 'AZ', 'BA', 'BB', 'BD', 'BE', 'BF', 'BG', 'BH', 'BI', 'BJ', 'BN', 'BO', 'BR', 'BS', 'BT', 'BW', 'BY', 'BZ', 'CA', 'CD', 'CG', 'CH', 'CI', 'CL', 'CM', 'CO', 'CR', 'CV', 'CW', 'CY', 'CZ', 'DE', 'DJ', 'DK', 'DM', 'DO', 'DZ', 'EC', 'EE', 'EG', 'ES', 'ET', 'FI', 'FJ', 'FM', 'FR', 'GA', 'GB', 'GD', 'GE', 'GH', 'GM', 'GN', 'GQ', 'GR', 'GT', 'GW', 'GY', 'HK', 'HN', 'HR', 'HT', 'HU', 'ID', 'IE', 'IL', 'IN', 'IQ', 'IS', 'IT', 'JM', 'JO', 'JP', 'KE', 'KG', 'KH', 'KI', 'KM', 'KN', 'KR', 'KW', 'KZ', 'LA', 'LB', 'LC', 'LI', 'LK', 'LR', 'LS', 'LT', 'LU', 'LV', 'LY', 'MA', 'MC', 'MD', 'ME', 'MG', 'MH', 'MK', 'ML', 'MN', 'MO', 'MR', 'MT', 'MU', 'MV', 'MW', 'MX', 'MY', 'MZ', 'NA', 'NE', 'NG', 'NI', 'NL', 'NO', 'NP', 'NR', 'NZ', 'OM', 'PA', 'PE', 'PG', 'PH', 'PK', 'PL', 'PS', 'PT', 'PW', 'PY', 'QA', 'RO', 'RS', 'RW', 'SA', 'SB', 'SC', 'SE', 'SG', 'SI', 'SK', 'SL', 'SM', 'SN', 'SR', 'ST', 'SV', 'SZ', 'TD', 'TG', 'TH', 'TJ', 'TL', 'TN', 'TO', 'TR', 'TT', 'TV', 'TW', 'TZ', 'UA', 'UG', 'US', 'UY', 'UZ', 'VC', 'VE', 'VN', 'VU', 'WS', 'XK', 'ZA', 'ZM', 'ZW'], 'external_urls': {'spotify': 'https://open.spotify.com/album/0LFIZNChdYd6iRL2kY1nQU'}, 'href': 'https://api.spotify.com/v1/albums/0LFIZNChdYd6iRL2kY1nQU', 'id': '0LFIZNChdYd6iRL2kY1nQU', 'images': [{'height': 640, 'url': 'https://i.scdn.co/image/ab67616d0000b2736117302e4e19548a2087aa4f', 'width': 640}, {'height': 300, 'url': 'https://i.scdn.co/image/ab67616d00001e026117302e4e19548a2087aa4f', 'width': 300}, {'height': 64, 'url': 'https://i.scdn.co/image/ab67616d000048516117302e4e19548a2087aa4f', 'width': 64}], 'name': 'Surf-Goth B-Sides', 'release_date': '2022-12-03', 'release_date_precision': 'day', 'total_tracks': 6, 'type': 'album', 'uri': 'spotify:album:0LFIZNChdYd6iRL2kY1nQU'}\n",
      "{'album_type': 'album', 'artists': [{'external_urls': {'spotify': 'https://open.spotify.com/artist/5NGO30tJxFlKixkPSgXcFE'}, 'href': 'https://api.spotify.com/v1/artists/5NGO30tJxFlKixkPSgXcFE', 'id': '5NGO30tJxFlKixkPSgXcFE', 'name': 'The Police', 'type': 'artist', 'uri': 'spotify:artist:5NGO30tJxFlKixkPSgXcFE'}], 'available_markets': ['AD', 'AE', 'AG', 'AL', 'AM', 'AO', 'AR', 'AT', 'AU', 'AZ', 'BA', 'BB', 'BD', 'BE', 'BF', 'BG', 'BH', 'BI', 'BJ', 'BN', 'BO', 'BR', 'BS', 'BT', 'BW', 'BY', 'BZ', 'CA', 'CD', 'CG', 'CH', 'CI', 'CL', 'CM', 'CO', 'CR', 'CV', 'CW', 'CY', 'CZ', 'DE', 'DJ', 'DK', 'DM', 'DO', 'DZ', 'EC', 'EE', 'EG', 'ES', 'ET', 'FI', 'FJ', 'FM', 'FR', 'GA', 'GB', 'GD', 'GE', 'GH', 'GM', 'GN', 'GQ', 'GR', 'GT', 'GW', 'GY', 'HK', 'HN', 'HR', 'HT', 'HU', 'ID', 'IE', 'IL', 'IN', 'IQ', 'IS', 'IT', 'JM', 'JO', 'JP', 'KE', 'KG', 'KH', 'KI', 'KM', 'KN', 'KR', 'KW', 'KZ', 'LA', 'LB', 'LC', 'LI', 'LK', 'LR', 'LS', 'LT', 'LU', 'LV', 'LY', 'MA', 'MC', 'MD', 'ME', 'MG', 'MH', 'MK', 'ML', 'MN', 'MO', 'MR', 'MT', 'MU', 'MV', 'MW', 'MX', 'MY', 'MZ', 'NA', 'NE', 'NG', 'NI', 'NL', 'NO', 'NP', 'NR', 'NZ', 'OM', 'PA', 'PE', 'PG', 'PH', 'PK', 'PL', 'PS', 'PT', 'PW', 'PY', 'QA', 'RO', 'RS', 'RW', 'SA', 'SB', 'SC', 'SE', 'SG', 'SI', 'SK', 'SL', 'SM', 'SN', 'SR', 'ST', 'SV', 'SZ', 'TD', 'TG', 'TH', 'TJ', 'TL', 'TN', 'TO', 'TR', 'TT', 'TV', 'TW', 'TZ', 'UA', 'UG', 'US', 'UY', 'UZ', 'VC', 'VE', 'VN', 'VU', 'WS', 'XK', 'ZA', 'ZM', 'ZW'], 'external_urls': {'spotify': 'https://open.spotify.com/album/5W9OT0a5iZlBr83a9WMKFY'}, 'href': 'https://api.spotify.com/v1/albums/5W9OT0a5iZlBr83a9WMKFY', 'id': '5W9OT0a5iZlBr83a9WMKFY', 'images': [{'height': 640, 'url': 'https://i.scdn.co/image/ab67616d0000b273c8e97cafeb2acb85b21a777e', 'width': 640}, {'height': 300, 'url': 'https://i.scdn.co/image/ab67616d00001e02c8e97cafeb2acb85b21a777e', 'width': 300}, {'height': 64, 'url': 'https://i.scdn.co/image/ab67616d00004851c8e97cafeb2acb85b21a777e', 'width': 64}], 'name': 'Synchronicity (Remastered 2003)', 'release_date': '1983-06-17', 'release_date_precision': 'day', 'total_tracks': 11, 'type': 'album', 'uri': 'spotify:album:5W9OT0a5iZlBr83a9WMKFY'}\n",
      "{'album_type': 'album', 'artists': [{'external_urls': {'spotify': 'https://open.spotify.com/artist/51Blml2LZPmy7TTiAg47vQ'}, 'href': 'https://api.spotify.com/v1/artists/51Blml2LZPmy7TTiAg47vQ', 'id': '51Blml2LZPmy7TTiAg47vQ', 'name': 'U2', 'type': 'artist', 'uri': 'spotify:artist:51Blml2LZPmy7TTiAg47vQ'}], 'available_markets': ['AD', 'AE', 'AG', 'AL', 'AM', 'AO', 'AR', 'AT', 'AU', 'AZ', 'BA', 'BB', 'BD', 'BE', 'BF', 'BG', 'BH', 'BI', 'BJ', 'BN', 'BO', 'BR', 'BS', 'BT', 'BW', 'BY', 'BZ', 'CA', 'CD', 'CG', 'CH', 'CI', 'CL', 'CM', 'CO', 'CR', 'CV', 'CW', 'CY', 'CZ', 'DE', 'DJ', 'DK', 'DM', 'DO', 'DZ', 'EC', 'EE', 'EG', 'ES', 'ET', 'FI', 'FJ', 'FM', 'FR', 'GA', 'GB', 'GD', 'GE', 'GH', 'GM', 'GN', 'GQ', 'GR', 'GT', 'GW', 'GY', 'HK', 'HN', 'HR', 'HT', 'HU', 'ID', 'IE', 'IL', 'IN', 'IQ', 'IS', 'IT', 'JM', 'JO', 'JP', 'KE', 'KG', 'KH', 'KI', 'KM', 'KN', 'KR', 'KW', 'KZ', 'LA', 'LB', 'LC', 'LI', 'LK', 'LR', 'LS', 'LT', 'LU', 'LV', 'LY', 'MA', 'MC', 'MD', 'ME', 'MG', 'MH', 'MK', 'ML', 'MN', 'MO', 'MR', 'MT', 'MU', 'MV', 'MW', 'MX', 'MY', 'MZ', 'NA', 'NE', 'NG', 'NI', 'NL', 'NO', 'NP', 'NR', 'NZ', 'OM', 'PA', 'PE', 'PG', 'PH', 'PK', 'PL', 'PS', 'PT', 'PW', 'PY', 'QA', 'RO', 'RS', 'RW', 'SA', 'SB', 'SC', 'SE', 'SG', 'SI', 'SK', 'SL', 'SM', 'SN', 'SR', 'ST', 'SV', 'SZ', 'TD', 'TG', 'TH', 'TJ', 'TL', 'TN', 'TO', 'TR', 'TT', 'TV', 'TW', 'TZ', 'UA', 'UG', 'US', 'UY', 'UZ', 'VC', 'VE', 'VN', 'VU', 'WS', 'XK', 'ZA', 'ZM', 'ZW'], 'external_urls': {'spotify': 'https://open.spotify.com/album/5vBZRYu2GLA65nfxBvG1a7'}, 'href': 'https://api.spotify.com/v1/albums/5vBZRYu2GLA65nfxBvG1a7', 'id': '5vBZRYu2GLA65nfxBvG1a7', 'images': [{'height': 640, 'url': 'https://i.scdn.co/image/ab67616d0000b273f8996a3f97e80d9d700635c3', 'width': 640}, {'height': 300, 'url': 'https://i.scdn.co/image/ab67616d00001e02f8996a3f97e80d9d700635c3', 'width': 300}, {'height': 64, 'url': 'https://i.scdn.co/image/ab67616d00004851f8996a3f97e80d9d700635c3', 'width': 64}], 'name': 'The Joshua Tree', 'release_date': '1987-03-10', 'release_date_precision': 'day', 'total_tracks': 11, 'type': 'album', 'uri': 'spotify:album:5vBZRYu2GLA65nfxBvG1a7'}\n"
     ]
    }
   ],
   "source": [
    "meta = api.retrieveSongsMetadata(ids)\n",
    "features = api.retrieveSongsAudioFeatures(ids)"
   ]
  },
  {
   "cell_type": "code",
   "execution_count": 9,
   "metadata": {},
   "outputs": [
    {
     "data": {
      "text/plain": [
       "[{'external_urls': {'spotify': 'https://open.spotify.com/artist/762310PdDnwsDxAQxzQkfX'},\n",
       "  'href': 'https://api.spotify.com/v1/artists/762310PdDnwsDxAQxzQkfX',\n",
       "  'id': '762310PdDnwsDxAQxzQkfX',\n",
       "  'name': 'Depeche Mode',\n",
       "  'type': 'artist',\n",
       "  'uri': 'spotify:artist:762310PdDnwsDxAQxzQkfX'}]"
      ]
     },
     "execution_count": 9,
     "metadata": {},
     "output_type": "execute_result"
    }
   ],
   "source": [
    "meta[0][\"artists\"]"
   ]
  },
  {
   "cell_type": "code",
   "execution_count": 10,
   "metadata": {},
   "outputs": [],
   "source": [
    "df_meta = pd.DataFrame(meta)\n",
    "df_af = pd.DataFrame(features)\n",
    "\n",
    "from app.spotify_api.audio_data import AudioData\n",
    "\n",
    "AD = AudioData()\n",
    "df = AD.mergeTracksData(df_meta, df_af)"
   ]
  },
  {
   "cell_type": "code",
   "execution_count": 11,
   "metadata": {},
   "outputs": [
    {
     "data": {
      "text/plain": [
       "album                {'album_type': 'album', 'artists': [{'external...\n",
       "artists              [{'external_urls': {'spotify': 'https://open.s...\n",
       "available_markets                                                   []\n",
       "disc_number                                                          1\n",
       "duration_ms_x                                                   298933\n",
       "explicit                                                         False\n",
       "external_ids                                  {'isrc': 'GBCNR8500002'}\n",
       "external_urls        {'spotify': 'https://open.spotify.com/track/75...\n",
       "href                 https://api.spotify.com/v1/tracks/75FEaRjZTKLh...\n",
       "id                                              75FEaRjZTKLhTrFGsfMUXR\n",
       "is_local                                                         False\n",
       "name                            Running Up That Hill (A Deal With God)\n",
       "popularity                                                          30\n",
       "preview_url                                                       None\n",
       "track_number                                                         1\n",
       "type_x                                                           track\n",
       "uri_x                             spotify:track:75FEaRjZTKLhTrFGsfMUXR\n",
       "album_name                                              Hounds Of Love\n",
       "album_id                                        5BWl0bB1q0TqyFmkBEupZy\n",
       "genres                                                         unknown\n",
       "artist_name                                                  Kate Bush\n",
       "danceability                                                     0.629\n",
       "energy                                                           0.547\n",
       "key                                                                 10\n",
       "loudness                                                       -13.123\n",
       "mode                                                                 0\n",
       "speechiness                                                      0.055\n",
       "acousticness                                                      0.72\n",
       "instrumentalness                                               0.00314\n",
       "liveness                                                        0.0604\n",
       "valence                                                          0.197\n",
       "tempo                                                          108.375\n",
       "type_y                                                  audio_features\n",
       "uri_y                             spotify:track:75FEaRjZTKLhTrFGsfMUXR\n",
       "track_href           https://api.spotify.com/v1/tracks/75FEaRjZTKLh...\n",
       "analysis_url         https://api.spotify.com/v1/audio-analysis/75FE...\n",
       "duration_ms_y                                                   298933\n",
       "time_signature                                                       4\n",
       "Name: 5, dtype: object"
      ]
     },
     "execution_count": 11,
     "metadata": {},
     "output_type": "execute_result"
    }
   ],
   "source": [
    "df.iloc[5]"
   ]
  },
  {
   "cell_type": "code",
   "execution_count": 12,
   "metadata": {},
   "outputs": [
    {
     "data": {
      "text/plain": [
       "[{'danceability': 0.663,\n",
       "  'energy': 0.838,\n",
       "  'key': 0,\n",
       "  'loudness': -5.744,\n",
       "  'mode': 0,\n",
       "  'speechiness': 0.0286,\n",
       "  'acousticness': 0.2,\n",
       "  'instrumentalness': 0.000177,\n",
       "  'liveness': 0.0782,\n",
       "  'valence': 0.752,\n",
       "  'tempo': 112.788,\n",
       "  'type': 'audio_features',\n",
       "  'id': '6WK9dVrRABMkUXFLNlgWFh',\n",
       "  'uri': 'spotify:track:6WK9dVrRABMkUXFLNlgWFh',\n",
       "  'track_href': 'https://api.spotify.com/v1/tracks/6WK9dVrRABMkUXFLNlgWFh',\n",
       "  'analysis_url': 'https://api.spotify.com/v1/audio-analysis/6WK9dVrRABMkUXFLNlgWFh',\n",
       "  'duration_ms': 255133,\n",
       "  'time_signature': 4},\n",
       " {'danceability': 0.588,\n",
       "  'energy': 0.792,\n",
       "  'key': 11,\n",
       "  'loudness': -8.809,\n",
       "  'mode': 0,\n",
       "  'speechiness': 0.0337,\n",
       "  'acousticness': 0.0584,\n",
       "  'instrumentalness': 0.753,\n",
       "  'liveness': 0.0743,\n",
       "  'valence': 0.254,\n",
       "  'tempo': 105.001,\n",
       "  'type': 'audio_features',\n",
       "  'id': '0KK6ZjOud4VGZMIzSIxyGP',\n",
       "  'uri': 'spotify:track:0KK6ZjOud4VGZMIzSIxyGP',\n",
       "  'track_href': 'https://api.spotify.com/v1/tracks/0KK6ZjOud4VGZMIzSIxyGP',\n",
       "  'analysis_url': 'https://api.spotify.com/v1/audio-analysis/0KK6ZjOud4VGZMIzSIxyGP',\n",
       "  'duration_ms': 259800,\n",
       "  'time_signature': 4},\n",
       " {'danceability': 0.587,\n",
       "  'energy': 0.493,\n",
       "  'key': 0,\n",
       "  'loudness': -14.927,\n",
       "  'mode': 1,\n",
       "  'speechiness': 0.0505,\n",
       "  'acousticness': 0.423,\n",
       "  'instrumentalness': 0.712,\n",
       "  'liveness': 0.0909,\n",
       "  'valence': 0.451,\n",
       "  'tempo': 161.222,\n",
       "  'type': 'audio_features',\n",
       "  'id': '4iVTSRiJAA18d3QglhyJ6Q',\n",
       "  'uri': 'spotify:track:4iVTSRiJAA18d3QglhyJ6Q',\n",
       "  'track_href': 'https://api.spotify.com/v1/tracks/4iVTSRiJAA18d3QglhyJ6Q',\n",
       "  'analysis_url': 'https://api.spotify.com/v1/audio-analysis/4iVTSRiJAA18d3QglhyJ6Q',\n",
       "  'duration_ms': 354640,\n",
       "  'time_signature': 4},\n",
       " {'danceability': 0.407,\n",
       "  'energy': 0.942,\n",
       "  'key': 9,\n",
       "  'loudness': -6.867,\n",
       "  'mode': 1,\n",
       "  'speechiness': 0.0645,\n",
       "  'acousticness': 4.4e-06,\n",
       "  'instrumentalness': 0.962,\n",
       "  'liveness': 0.139,\n",
       "  'valence': 0.416,\n",
       "  'tempo': 138.041,\n",
       "  'type': 'audio_features',\n",
       "  'id': '4uJ5eg1Wg3qSu1jnvOG18s',\n",
       "  'uri': 'spotify:track:4uJ5eg1Wg3qSu1jnvOG18s',\n",
       "  'track_href': 'https://api.spotify.com/v1/tracks/4uJ5eg1Wg3qSu1jnvOG18s',\n",
       "  'analysis_url': 'https://api.spotify.com/v1/audio-analysis/4uJ5eg1Wg3qSu1jnvOG18s',\n",
       "  'duration_ms': 217101,\n",
       "  'time_signature': 4},\n",
       " {'danceability': 0.443,\n",
       "  'energy': 0.956,\n",
       "  'key': 2,\n",
       "  'loudness': -6.198,\n",
       "  'mode': 1,\n",
       "  'speechiness': 0.0511,\n",
       "  'acousticness': 5.24e-05,\n",
       "  'instrumentalness': 0.825,\n",
       "  'liveness': 0.135,\n",
       "  'valence': 0.909,\n",
       "  'tempo': 146.754,\n",
       "  'type': 'audio_features',\n",
       "  'id': '2JO3HwMRPeya8bXbtbyPcf',\n",
       "  'uri': 'spotify:track:2JO3HwMRPeya8bXbtbyPcf',\n",
       "  'track_href': 'https://api.spotify.com/v1/tracks/2JO3HwMRPeya8bXbtbyPcf',\n",
       "  'analysis_url': 'https://api.spotify.com/v1/audio-analysis/2JO3HwMRPeya8bXbtbyPcf',\n",
       "  'duration_ms': 206867,\n",
       "  'time_signature': 4},\n",
       " {'danceability': 0.629,\n",
       "  'energy': 0.547,\n",
       "  'key': 10,\n",
       "  'loudness': -13.123,\n",
       "  'mode': 0,\n",
       "  'speechiness': 0.055,\n",
       "  'acousticness': 0.72,\n",
       "  'instrumentalness': 0.00314,\n",
       "  'liveness': 0.0604,\n",
       "  'valence': 0.197,\n",
       "  'tempo': 108.375,\n",
       "  'type': 'audio_features',\n",
       "  'id': '75FEaRjZTKLhTrFGsfMUXR',\n",
       "  'uri': 'spotify:track:75FEaRjZTKLhTrFGsfMUXR',\n",
       "  'track_href': 'https://api.spotify.com/v1/tracks/75FEaRjZTKLhTrFGsfMUXR',\n",
       "  'analysis_url': 'https://api.spotify.com/v1/audio-analysis/75FEaRjZTKLhTrFGsfMUXR',\n",
       "  'duration_ms': 298933,\n",
       "  'time_signature': 4},\n",
       " {'danceability': 0.308,\n",
       "  'energy': 0.866,\n",
       "  'key': 2,\n",
       "  'loudness': -5.671,\n",
       "  'mode': 0,\n",
       "  'speechiness': 0.059,\n",
       "  'acousticness': 0.000739,\n",
       "  'instrumentalness': 0.00141,\n",
       "  'liveness': 0.232,\n",
       "  'valence': 0.227,\n",
       "  'tempo': 109.825,\n",
       "  'type': 'audio_features',\n",
       "  'id': '6p8eFfPw3nQkf37aT3AkmK',\n",
       "  'uri': 'spotify:track:6p8eFfPw3nQkf37aT3AkmK',\n",
       "  'track_href': 'https://api.spotify.com/v1/tracks/6p8eFfPw3nQkf37aT3AkmK',\n",
       "  'analysis_url': 'https://api.spotify.com/v1/audio-analysis/6p8eFfPw3nQkf37aT3AkmK',\n",
       "  'duration_ms': 438120,\n",
       "  'time_signature': 4},\n",
       " {'danceability': 0.645,\n",
       "  'energy': 0.795,\n",
       "  'key': 7,\n",
       "  'loudness': -12.095,\n",
       "  'mode': 1,\n",
       "  'speechiness': 0.0527,\n",
       "  'acousticness': 0.347,\n",
       "  'instrumentalness': 0.00389,\n",
       "  'liveness': 0.104,\n",
       "  'valence': 0.535,\n",
       "  'tempo': 112.067,\n",
       "  'type': 'audio_features',\n",
       "  'id': '4RvWPyQ5RL0ao9LPZeSouE',\n",
       "  'uri': 'spotify:track:4RvWPyQ5RL0ao9LPZeSouE',\n",
       "  'track_href': 'https://api.spotify.com/v1/tracks/4RvWPyQ5RL0ao9LPZeSouE',\n",
       "  'analysis_url': 'https://api.spotify.com/v1/audio-analysis/4RvWPyQ5RL0ao9LPZeSouE',\n",
       "  'duration_ms': 251489,\n",
       "  'time_signature': 4},\n",
       " {'danceability': 0.579,\n",
       "  'energy': 0.601,\n",
       "  'key': 8,\n",
       "  'loudness': -10.492,\n",
       "  'mode': 1,\n",
       "  'speechiness': 0.0322,\n",
       "  'acousticness': 0.0673,\n",
       "  'instrumentalness': 0.414,\n",
       "  'liveness': 0.0778,\n",
       "  'valence': 0.0392,\n",
       "  'tempo': 140.019,\n",
       "  'type': 'audio_features',\n",
       "  'id': '1kA1nhedSyqBXPseQ27AF6',\n",
       "  'uri': 'spotify:track:1kA1nhedSyqBXPseQ27AF6',\n",
       "  'track_href': 'https://api.spotify.com/v1/tracks/1kA1nhedSyqBXPseQ27AF6',\n",
       "  'analysis_url': 'https://api.spotify.com/v1/audio-analysis/1kA1nhedSyqBXPseQ27AF6',\n",
       "  'duration_ms': 257147,\n",
       "  'time_signature': 4},\n",
       " {'danceability': 0.612,\n",
       "  'energy': 0.807,\n",
       "  'key': 10,\n",
       "  'loudness': -2.81,\n",
       "  'mode': 1,\n",
       "  'speechiness': 0.0336,\n",
       "  'acousticness': 0.0495,\n",
       "  'instrumentalness': 0.0177,\n",
       "  'liveness': 0.101,\n",
       "  'valence': 0.398,\n",
       "  'tempo': 124.053,\n",
       "  'type': 'audio_features',\n",
       "  'id': '2QjOHCTQ1Jl3zawyYOpxh6',\n",
       "  'uri': 'spotify:track:2QjOHCTQ1Jl3zawyYOpxh6',\n",
       "  'track_href': 'https://api.spotify.com/v1/tracks/2QjOHCTQ1Jl3zawyYOpxh6',\n",
       "  'analysis_url': 'https://api.spotify.com/v1/audio-analysis/2QjOHCTQ1Jl3zawyYOpxh6',\n",
       "  'duration_ms': 240400,\n",
       "  'time_signature': 4},\n",
       " {'danceability': 0.515,\n",
       "  'energy': 0.479,\n",
       "  'key': 3,\n",
       "  'loudness': -7.458,\n",
       "  'mode': 1,\n",
       "  'speechiness': 0.0261,\n",
       "  'acousticness': 0.544,\n",
       "  'instrumentalness': 0.00598,\n",
       "  'liveness': 0.191,\n",
       "  'valence': 0.284,\n",
       "  'tempo': 88.964,\n",
       "  'type': 'audio_features',\n",
       "  'id': '0rKtyWc8bvkriBthvHKY8d',\n",
       "  'uri': 'spotify:track:0rKtyWc8bvkriBthvHKY8d',\n",
       "  'track_href': 'https://api.spotify.com/v1/tracks/0rKtyWc8bvkriBthvHKY8d',\n",
       "  'analysis_url': 'https://api.spotify.com/v1/audio-analysis/0rKtyWc8bvkriBthvHKY8d',\n",
       "  'duration_ms': 209274,\n",
       "  'time_signature': 4},\n",
       " {'danceability': 0.532,\n",
       "  'energy': 0.874,\n",
       "  'key': 9,\n",
       "  'loudness': -5.183,\n",
       "  'mode': 0,\n",
       "  'speechiness': 0.0482,\n",
       "  'acousticness': 0.00842,\n",
       "  'instrumentalness': 0.012,\n",
       "  'liveness': 0.452,\n",
       "  'valence': 0.361,\n",
       "  'tempo': 91.038,\n",
       "  'type': 'audio_features',\n",
       "  'id': '0U0ldCRmgCqhVvD6ksG63j',\n",
       "  'uri': 'spotify:track:0U0ldCRmgCqhVvD6ksG63j',\n",
       "  'track_href': 'https://api.spotify.com/v1/tracks/0U0ldCRmgCqhVvD6ksG63j',\n",
       "  'analysis_url': 'https://api.spotify.com/v1/audio-analysis/0U0ldCRmgCqhVvD6ksG63j',\n",
       "  'duration_ms': 258413,\n",
       "  'time_signature': 4},\n",
       " {'danceability': 0.446,\n",
       "  'energy': 0.239,\n",
       "  'key': 0,\n",
       "  'loudness': -13.945,\n",
       "  'mode': 1,\n",
       "  'speechiness': 0.0316,\n",
       "  'acousticness': 0.551,\n",
       "  'instrumentalness': 4.1e-06,\n",
       "  'liveness': 0.0697,\n",
       "  'valence': 0.298,\n",
       "  'tempo': 189.507,\n",
       "  'type': 'audio_features',\n",
       "  'id': '18AXbzPzBS8Y3AkgSxzJPb',\n",
       "  'uri': 'spotify:track:18AXbzPzBS8Y3AkgSxzJPb',\n",
       "  'track_href': 'https://api.spotify.com/v1/tracks/18AXbzPzBS8Y3AkgSxzJPb',\n",
       "  'analysis_url': 'https://api.spotify.com/v1/audio-analysis/18AXbzPzBS8Y3AkgSxzJPb',\n",
       "  'duration_ms': 336453,\n",
       "  'time_signature': 4},\n",
       " {'danceability': 0.507,\n",
       "  'energy': 0.729,\n",
       "  'key': 11,\n",
       "  'loudness': -5.399,\n",
       "  'mode': 0,\n",
       "  'speechiness': 0.0393,\n",
       "  'acousticness': 0.0182,\n",
       "  'instrumentalness': 1.4e-06,\n",
       "  'liveness': 0.0658,\n",
       "  'valence': 0.272,\n",
       "  'tempo': 105.013,\n",
       "  'type': 'audio_features',\n",
       "  'id': '6GyFP1nfCDB8lbD2bG0Hq9',\n",
       "  'uri': 'spotify:track:6GyFP1nfCDB8lbD2bG0Hq9',\n",
       "  'track_href': 'https://api.spotify.com/v1/tracks/6GyFP1nfCDB8lbD2bG0Hq9',\n",
       "  'analysis_url': 'https://api.spotify.com/v1/audio-analysis/6GyFP1nfCDB8lbD2bG0Hq9',\n",
       "  'duration_ms': 243960,\n",
       "  'time_signature': 4},\n",
       " {'danceability': 0.585,\n",
       "  'energy': 0.471,\n",
       "  'key': 4,\n",
       "  'loudness': -9.934,\n",
       "  'mode': 0,\n",
       "  'speechiness': 0.0616,\n",
       "  'acousticness': 0.0967,\n",
       "  'instrumentalness': 0.0184,\n",
       "  'liveness': 0.115,\n",
       "  'valence': 0.323,\n",
       "  'tempo': 93.099,\n",
       "  'type': 'audio_features',\n",
       "  'id': '30bqVoKjX479ab90a8Pafp',\n",
       "  'uri': 'spotify:track:30bqVoKjX479ab90a8Pafp',\n",
       "  'track_href': 'https://api.spotify.com/v1/tracks/30bqVoKjX479ab90a8Pafp',\n",
       "  'analysis_url': 'https://api.spotify.com/v1/audio-analysis/30bqVoKjX479ab90a8Pafp',\n",
       "  'duration_ms': 142000,\n",
       "  'time_signature': 4},\n",
       " {'danceability': 0.634,\n",
       "  'energy': 0.54,\n",
       "  'key': 8,\n",
       "  'loudness': -7.002,\n",
       "  'mode': 1,\n",
       "  'speechiness': 0.0777,\n",
       "  'acousticness': 0.0223,\n",
       "  'instrumentalness': 0,\n",
       "  'liveness': 0.302,\n",
       "  'valence': 0.543,\n",
       "  'tempo': 143.968,\n",
       "  'type': 'audio_features',\n",
       "  'id': '7pIorU6vXlFoXmHUdsbpfX',\n",
       "  'uri': 'spotify:track:7pIorU6vXlFoXmHUdsbpfX',\n",
       "  'track_href': 'https://api.spotify.com/v1/tracks/7pIorU6vXlFoXmHUdsbpfX',\n",
       "  'analysis_url': 'https://api.spotify.com/v1/audio-analysis/7pIorU6vXlFoXmHUdsbpfX',\n",
       "  'duration_ms': 149360,\n",
       "  'time_signature': 4},\n",
       " {'danceability': 0.588,\n",
       "  'energy': 0.521,\n",
       "  'key': 10,\n",
       "  'loudness': -9.461,\n",
       "  'mode': 1,\n",
       "  'speechiness': 0.0329,\n",
       "  'acousticness': 0.0678,\n",
       "  'instrumentalness': 0.149,\n",
       "  'liveness': 0.123,\n",
       "  'valence': 0.337,\n",
       "  'tempo': 85.012,\n",
       "  'type': 'audio_features',\n",
       "  'id': '5E30LdtzQTGqRvNd7l6kG5',\n",
       "  'uri': 'spotify:track:5E30LdtzQTGqRvNd7l6kG5',\n",
       "  'track_href': 'https://api.spotify.com/v1/tracks/5E30LdtzQTGqRvNd7l6kG5',\n",
       "  'analysis_url': 'https://api.spotify.com/v1/audio-analysis/5E30LdtzQTGqRvNd7l6kG5',\n",
       "  'duration_ms': 260173,\n",
       "  'time_signature': 4},\n",
       " {'danceability': 0.532,\n",
       "  'energy': 0.495,\n",
       "  'key': 10,\n",
       "  'loudness': -6.662,\n",
       "  'mode': 1,\n",
       "  'speechiness': 0.0343,\n",
       "  'acousticness': 0.659,\n",
       "  'instrumentalness': 0,\n",
       "  'liveness': 0.0754,\n",
       "  'valence': 0.308,\n",
       "  'tempo': 124.936,\n",
       "  'type': 'audio_features',\n",
       "  'id': '4U45aEWtQhrm8A5mxPaFZ7',\n",
       "  'uri': 'spotify:track:4U45aEWtQhrm8A5mxPaFZ7',\n",
       "  'track_href': 'https://api.spotify.com/v1/tracks/4U45aEWtQhrm8A5mxPaFZ7',\n",
       "  'analysis_url': 'https://api.spotify.com/v1/audio-analysis/4U45aEWtQhrm8A5mxPaFZ7',\n",
       "  'duration_ms': 214240,\n",
       "  'time_signature': 4},\n",
       " {'danceability': 0.468,\n",
       "  'energy': 0.517,\n",
       "  'key': 0,\n",
       "  'loudness': -7.049,\n",
       "  'mode': 0,\n",
       "  'speechiness': 0.0574,\n",
       "  'acousticness': 0.875,\n",
       "  'instrumentalness': 0.00705,\n",
       "  'liveness': 0.171,\n",
       "  'valence': 0.425,\n",
       "  'tempo': 69.282,\n",
       "  'type': 'audio_features',\n",
       "  'id': '0Mf6WhWLfOpzOxacvbcboj',\n",
       "  'uri': 'spotify:track:0Mf6WhWLfOpzOxacvbcboj',\n",
       "  'track_href': 'https://api.spotify.com/v1/tracks/0Mf6WhWLfOpzOxacvbcboj',\n",
       "  'analysis_url': 'https://api.spotify.com/v1/audio-analysis/0Mf6WhWLfOpzOxacvbcboj',\n",
       "  'duration_ms': 296053,\n",
       "  'time_signature': 4},\n",
       " {'danceability': 0.59,\n",
       "  'energy': 0.562,\n",
       "  'key': 11,\n",
       "  'loudness': -9.607,\n",
       "  'mode': 0,\n",
       "  'speechiness': 0.0505,\n",
       "  'acousticness': 0.0637,\n",
       "  'instrumentalness': 0,\n",
       "  'liveness': 0.105,\n",
       "  'valence': 0.561,\n",
       "  'tempo': 140.835,\n",
       "  'type': 'audio_features',\n",
       "  'id': '7to68V64Cu6zk0UDo5tyw3',\n",
       "  'uri': 'spotify:track:7to68V64Cu6zk0UDo5tyw3',\n",
       "  'track_href': 'https://api.spotify.com/v1/tracks/7to68V64Cu6zk0UDo5tyw3',\n",
       "  'analysis_url': 'https://api.spotify.com/v1/audio-analysis/7to68V64Cu6zk0UDo5tyw3',\n",
       "  'duration_ms': 253077,\n",
       "  'time_signature': 4},\n",
       " {'danceability': 0.617,\n",
       "  'energy': 0.778,\n",
       "  'key': 9,\n",
       "  'loudness': -8.872,\n",
       "  'mode': 0,\n",
       "  'speechiness': 0.027,\n",
       "  'acousticness': 0.459,\n",
       "  'instrumentalness': 0.925,\n",
       "  'liveness': 0.128,\n",
       "  'valence': 0.152,\n",
       "  'tempo': 100.363,\n",
       "  'type': 'audio_features',\n",
       "  'id': '2usrT8QIbIk9y0NEtQwS4j',\n",
       "  'uri': 'spotify:track:2usrT8QIbIk9y0NEtQwS4j',\n",
       "  'track_href': 'https://api.spotify.com/v1/tracks/2usrT8QIbIk9y0NEtQwS4j',\n",
       "  'analysis_url': 'https://api.spotify.com/v1/audio-analysis/2usrT8QIbIk9y0NEtQwS4j',\n",
       "  'duration_ms': 127920,\n",
       "  'time_signature': 4},\n",
       " {'danceability': 0.576,\n",
       "  'energy': 0.608,\n",
       "  'key': 9,\n",
       "  'loudness': -13.537,\n",
       "  'mode': 1,\n",
       "  'speechiness': 0.0321,\n",
       "  'acousticness': 0.169,\n",
       "  'instrumentalness': 0.916,\n",
       "  'liveness': 0.106,\n",
       "  'valence': 0.18,\n",
       "  'tempo': 150.9,\n",
       "  'type': 'audio_features',\n",
       "  'id': '5vwXQUwkpmnkJrfv69L6Mp',\n",
       "  'uri': 'spotify:track:5vwXQUwkpmnkJrfv69L6Mp',\n",
       "  'track_href': 'https://api.spotify.com/v1/tracks/5vwXQUwkpmnkJrfv69L6Mp',\n",
       "  'analysis_url': 'https://api.spotify.com/v1/audio-analysis/5vwXQUwkpmnkJrfv69L6Mp',\n",
       "  'duration_ms': 354692,\n",
       "  'time_signature': 4},\n",
       " {'danceability': 0.552,\n",
       "  'energy': 0.689,\n",
       "  'key': 5,\n",
       "  'loudness': -6.475,\n",
       "  'mode': 1,\n",
       "  'speechiness': 0.0266,\n",
       "  'acousticness': 0.352,\n",
       "  'instrumentalness': 8.51e-05,\n",
       "  'liveness': 0.0865,\n",
       "  'valence': 0.652,\n",
       "  'tempo': 98.097,\n",
       "  'type': 'audio_features',\n",
       "  'id': '5ytkHKps6RVVDFZwAqVDCB',\n",
       "  'uri': 'spotify:track:5ytkHKps6RVVDFZwAqVDCB',\n",
       "  'track_href': 'https://api.spotify.com/v1/tracks/5ytkHKps6RVVDFZwAqVDCB',\n",
       "  'analysis_url': 'https://api.spotify.com/v1/audio-analysis/5ytkHKps6RVVDFZwAqVDCB',\n",
       "  'duration_ms': 251053,\n",
       "  'time_signature': 4},\n",
       " {'danceability': 0.691,\n",
       "  'energy': 0.631,\n",
       "  'key': 2,\n",
       "  'loudness': -6.478,\n",
       "  'mode': 1,\n",
       "  'speechiness': 0.0368,\n",
       "  'acousticness': 0.0483,\n",
       "  'instrumentalness': 1.13e-05,\n",
       "  'liveness': 0.104,\n",
       "  'valence': 0.8,\n",
       "  'tempo': 92.004,\n",
       "  'type': 'audio_features',\n",
       "  'id': '086myS9r57YsLbJpU0TgK9',\n",
       "  'uri': 'spotify:track:086myS9r57YsLbJpU0TgK9',\n",
       "  'track_href': 'https://api.spotify.com/v1/tracks/086myS9r57YsLbJpU0TgK9',\n",
       "  'analysis_url': 'https://api.spotify.com/v1/audio-analysis/086myS9r57YsLbJpU0TgK9',\n",
       "  'duration_ms': 161124,\n",
       "  'time_signature': 4},\n",
       " {'danceability': 0.489,\n",
       "  'energy': 0.483,\n",
       "  'key': 9,\n",
       "  'loudness': -9.466,\n",
       "  'mode': 0,\n",
       "  'speechiness': 0.0275,\n",
       "  'acousticness': 0.42,\n",
       "  'instrumentalness': 0.0028,\n",
       "  'liveness': 0.236,\n",
       "  'valence': 0.333,\n",
       "  'tempo': 136.822,\n",
       "  'type': 'audio_features',\n",
       "  'id': '4S1VYqwfkLit9mKVY3MXoo',\n",
       "  'uri': 'spotify:track:4S1VYqwfkLit9mKVY3MXoo',\n",
       "  'track_href': 'https://api.spotify.com/v1/tracks/4S1VYqwfkLit9mKVY3MXoo',\n",
       "  'analysis_url': 'https://api.spotify.com/v1/audio-analysis/4S1VYqwfkLit9mKVY3MXoo',\n",
       "  'duration_ms': 226706,\n",
       "  'time_signature': 4},\n",
       " {'danceability': 0.309,\n",
       "  'energy': 0.414,\n",
       "  'key': 7,\n",
       "  'loudness': -8.203,\n",
       "  'mode': 0,\n",
       "  'speechiness': 0.0346,\n",
       "  'acousticness': 0.0699,\n",
       "  'instrumentalness': 0.000218,\n",
       "  'liveness': 0.126,\n",
       "  'valence': 0.166,\n",
       "  'tempo': 151.914,\n",
       "  'type': 'audio_features',\n",
       "  'id': '5MgWBlKvVESxyYpRFehNhc',\n",
       "  'uri': 'spotify:track:5MgWBlKvVESxyYpRFehNhc',\n",
       "  'track_href': 'https://api.spotify.com/v1/tracks/5MgWBlKvVESxyYpRFehNhc',\n",
       "  'analysis_url': 'https://api.spotify.com/v1/audio-analysis/5MgWBlKvVESxyYpRFehNhc',\n",
       "  'duration_ms': 278800,\n",
       "  'time_signature': 3},\n",
       " {'danceability': 0.629,\n",
       "  'energy': 0.75,\n",
       "  'key': 6,\n",
       "  'loudness': -7.801,\n",
       "  'mode': 1,\n",
       "  'speechiness': 0.0363,\n",
       "  'acousticness': 0.422,\n",
       "  'instrumentalness': 0.0332,\n",
       "  'liveness': 0.108,\n",
       "  'valence': 0.363,\n",
       "  'tempo': 142.052,\n",
       "  'type': 'audio_features',\n",
       "  'id': '6bP7n1KoDg7PX5Ceja25qC',\n",
       "  'uri': 'spotify:track:6bP7n1KoDg7PX5Ceja25qC',\n",
       "  'track_href': 'https://api.spotify.com/v1/tracks/6bP7n1KoDg7PX5Ceja25qC',\n",
       "  'analysis_url': 'https://api.spotify.com/v1/audio-analysis/6bP7n1KoDg7PX5Ceja25qC',\n",
       "  'duration_ms': 169859,\n",
       "  'time_signature': 4},\n",
       " {'danceability': 0.529,\n",
       "  'energy': 0.353,\n",
       "  'key': 7,\n",
       "  'loudness': -12.835,\n",
       "  'mode': 1,\n",
       "  'speechiness': 0.0292,\n",
       "  'acousticness': 0.788,\n",
       "  'instrumentalness': 0.853,\n",
       "  'liveness': 0.116,\n",
       "  'valence': 0.0601,\n",
       "  'tempo': 104.557,\n",
       "  'type': 'audio_features',\n",
       "  'id': '7svpAkwc6xaSxlbZ7V7JiS',\n",
       "  'uri': 'spotify:track:7svpAkwc6xaSxlbZ7V7JiS',\n",
       "  'track_href': 'https://api.spotify.com/v1/tracks/7svpAkwc6xaSxlbZ7V7JiS',\n",
       "  'analysis_url': 'https://api.spotify.com/v1/audio-analysis/7svpAkwc6xaSxlbZ7V7JiS',\n",
       "  'duration_ms': 161463,\n",
       "  'time_signature': 4},\n",
       " {'danceability': 0.26,\n",
       "  'energy': 0.12,\n",
       "  'key': 1,\n",
       "  'loudness': -15.86,\n",
       "  'mode': 1,\n",
       "  'speechiness': 0.0324,\n",
       "  'acousticness': 0.947,\n",
       "  'instrumentalness': 9.08e-06,\n",
       "  'liveness': 0.467,\n",
       "  'valence': 0.228,\n",
       "  'tempo': 69.882,\n",
       "  'type': 'audio_features',\n",
       "  'id': '3YvgdC5WnZY8lTGcr6eeE6',\n",
       "  'uri': 'spotify:track:3YvgdC5WnZY8lTGcr6eeE6',\n",
       "  'track_href': 'https://api.spotify.com/v1/tracks/3YvgdC5WnZY8lTGcr6eeE6',\n",
       "  'analysis_url': 'https://api.spotify.com/v1/audio-analysis/3YvgdC5WnZY8lTGcr6eeE6',\n",
       "  'duration_ms': 165640,\n",
       "  'time_signature': 4},\n",
       " {'danceability': 0.532,\n",
       "  'energy': 0.822,\n",
       "  'key': 7,\n",
       "  'loudness': -8.068,\n",
       "  'mode': 0,\n",
       "  'speechiness': 0.0308,\n",
       "  'acousticness': 0.000753,\n",
       "  'instrumentalness': 0.633,\n",
       "  'liveness': 0.098,\n",
       "  'valence': 0.259,\n",
       "  'tempo': 140.053,\n",
       "  'type': 'audio_features',\n",
       "  'id': '3maqY8XwtNEzFbMZymWLrD',\n",
       "  'uri': 'spotify:track:3maqY8XwtNEzFbMZymWLrD',\n",
       "  'track_href': 'https://api.spotify.com/v1/tracks/3maqY8XwtNEzFbMZymWLrD',\n",
       "  'analysis_url': 'https://api.spotify.com/v1/audio-analysis/3maqY8XwtNEzFbMZymWLrD',\n",
       "  'duration_ms': 253719,\n",
       "  'time_signature': 4},\n",
       " {'danceability': 0.513,\n",
       "  'energy': 0.439,\n",
       "  'key': 11,\n",
       "  'loudness': -10.038,\n",
       "  'mode': 0,\n",
       "  'speechiness': 0.0289,\n",
       "  'acousticness': 0.613,\n",
       "  'instrumentalness': 0.000209,\n",
       "  'liveness': 0.0707,\n",
       "  'valence': 0.168,\n",
       "  'tempo': 154.857,\n",
       "  'type': 'audio_features',\n",
       "  'id': '1J1rg6WPbqZlob4rumAUsQ',\n",
       "  'uri': 'spotify:track:1J1rg6WPbqZlob4rumAUsQ',\n",
       "  'track_href': 'https://api.spotify.com/v1/tracks/1J1rg6WPbqZlob4rumAUsQ',\n",
       "  'analysis_url': 'https://api.spotify.com/v1/audio-analysis/1J1rg6WPbqZlob4rumAUsQ',\n",
       "  'duration_ms': 330467,\n",
       "  'time_signature': 4},\n",
       " {'danceability': 0.485,\n",
       "  'energy': 0.89,\n",
       "  'key': 8,\n",
       "  'loudness': -5.992,\n",
       "  'mode': 0,\n",
       "  'speechiness': 0.0911,\n",
       "  'acousticness': 0.000872,\n",
       "  'instrumentalness': 0.818,\n",
       "  'liveness': 0.102,\n",
       "  'valence': 0.258,\n",
       "  'tempo': 128.881,\n",
       "  'type': 'audio_features',\n",
       "  'id': '5RBOcBpJXaNnHCGViJmYhh',\n",
       "  'uri': 'spotify:track:5RBOcBpJXaNnHCGViJmYhh',\n",
       "  'track_href': 'https://api.spotify.com/v1/tracks/5RBOcBpJXaNnHCGViJmYhh',\n",
       "  'analysis_url': 'https://api.spotify.com/v1/audio-analysis/5RBOcBpJXaNnHCGViJmYhh',\n",
       "  'duration_ms': 194423,\n",
       "  'time_signature': 4},\n",
       " {'danceability': 0.37,\n",
       "  'energy': 0.467,\n",
       "  'key': 5,\n",
       "  'loudness': -9.013,\n",
       "  'mode': 1,\n",
       "  'speechiness': 0.0273,\n",
       "  'acousticness': 0.0205,\n",
       "  'instrumentalness': 0.572,\n",
       "  'liveness': 0.109,\n",
       "  'valence': 0.182,\n",
       "  'tempo': 94.485,\n",
       "  'type': 'audio_features',\n",
       "  'id': '0yc6Gst2xkRu0eMLeRMGCX',\n",
       "  'uri': 'spotify:track:0yc6Gst2xkRu0eMLeRMGCX',\n",
       "  'track_href': 'https://api.spotify.com/v1/tracks/0yc6Gst2xkRu0eMLeRMGCX',\n",
       "  'analysis_url': 'https://api.spotify.com/v1/audio-analysis/0yc6Gst2xkRu0eMLeRMGCX',\n",
       "  'duration_ms': 290617,\n",
       "  'time_signature': 4},\n",
       " {'danceability': 0.685,\n",
       "  'energy': 0.584,\n",
       "  'key': 5,\n",
       "  'loudness': -10.616,\n",
       "  'mode': 0,\n",
       "  'speechiness': 0.0276,\n",
       "  'acousticness': 0.288,\n",
       "  'instrumentalness': 0.00918,\n",
       "  'liveness': 0.124,\n",
       "  'valence': 0.939,\n",
       "  'tempo': 134.546,\n",
       "  'type': 'audio_features',\n",
       "  'id': '5vmRQ3zELMLUQPo2FLQ76x',\n",
       "  'uri': 'spotify:track:5vmRQ3zELMLUQPo2FLQ76x',\n",
       "  'track_href': 'https://api.spotify.com/v1/tracks/5vmRQ3zELMLUQPo2FLQ76x',\n",
       "  'analysis_url': 'https://api.spotify.com/v1/audio-analysis/5vmRQ3zELMLUQPo2FLQ76x',\n",
       "  'duration_ms': 302413,\n",
       "  'time_signature': 4},\n",
       " {'danceability': 0.573,\n",
       "  'energy': 0.505,\n",
       "  'key': 7,\n",
       "  'loudness': -13.22,\n",
       "  'mode': 1,\n",
       "  'speechiness': 0.031,\n",
       "  'acousticness': 0.00972,\n",
       "  'instrumentalness': 0.00152,\n",
       "  'liveness': 0.0979,\n",
       "  'valence': 0.324,\n",
       "  'tempo': 94.99,\n",
       "  'type': 'audio_features',\n",
       "  'id': '3mWD2YaExjAfsWUk1vugx2',\n",
       "  'uri': 'spotify:track:3mWD2YaExjAfsWUk1vugx2',\n",
       "  'track_href': 'https://api.spotify.com/v1/tracks/3mWD2YaExjAfsWUk1vugx2',\n",
       "  'analysis_url': 'https://api.spotify.com/v1/audio-analysis/3mWD2YaExjAfsWUk1vugx2',\n",
       "  'duration_ms': 195789,\n",
       "  'time_signature': 4},\n",
       " {'danceability': 0.82,\n",
       "  'energy': 0.452,\n",
       "  'key': 1,\n",
       "  'loudness': -9.796,\n",
       "  'mode': 1,\n",
       "  'speechiness': 0.0348,\n",
       "  'acousticness': 0.543,\n",
       "  'instrumentalness': 0.00294,\n",
       "  'liveness': 0.0714,\n",
       "  'valence': 0.74,\n",
       "  'tempo': 117.401,\n",
       "  'type': 'audio_features',\n",
       "  'id': '1JSTJqkT5qHq8MDJnJbRE1',\n",
       "  'uri': 'spotify:track:1JSTJqkT5qHq8MDJnJbRE1',\n",
       "  'track_href': 'https://api.spotify.com/v1/tracks/1JSTJqkT5qHq8MDJnJbRE1',\n",
       "  'analysis_url': 'https://api.spotify.com/v1/audio-analysis/1JSTJqkT5qHq8MDJnJbRE1',\n",
       "  'duration_ms': 253920,\n",
       "  'time_signature': 4},\n",
       " {'danceability': 0.565,\n",
       "  'energy': 0.764,\n",
       "  'key': 1,\n",
       "  'loudness': -9.43,\n",
       "  'mode': 1,\n",
       "  'speechiness': 0.0351,\n",
       "  'acousticness': 0.0139,\n",
       "  'instrumentalness': 0.00488,\n",
       "  'liveness': 0.079,\n",
       "  'valence': 0.686,\n",
       "  'tempo': 100.891,\n",
       "  'type': 'audio_features',\n",
       "  'id': '3MRQ3CSjoiV1HFil8ykM9M',\n",
       "  'uri': 'spotify:track:3MRQ3CSjoiV1HFil8ykM9M',\n",
       "  'track_href': 'https://api.spotify.com/v1/tracks/3MRQ3CSjoiV1HFil8ykM9M',\n",
       "  'analysis_url': 'https://api.spotify.com/v1/audio-analysis/3MRQ3CSjoiV1HFil8ykM9M',\n",
       "  'duration_ms': 277480,\n",
       "  'time_signature': 4}]"
      ]
     },
     "execution_count": 12,
     "metadata": {},
     "output_type": "execute_result"
    }
   ],
   "source": [
    "features"
   ]
  },
  {
   "cell_type": "code",
   "execution_count": 13,
   "metadata": {},
   "outputs": [],
   "source": [
    "duration = AD.GetTotalDuration(df, \"h\")"
   ]
  },
  {
   "cell_type": "code",
   "execution_count": 14,
   "metadata": {},
   "outputs": [
    {
     "data": {
      "text/html": [
       "<div>\n",
       "<style scoped>\n",
       "    .dataframe tbody tr th:only-of-type {\n",
       "        vertical-align: middle;\n",
       "    }\n",
       "\n",
       "    .dataframe tbody tr th {\n",
       "        vertical-align: top;\n",
       "    }\n",
       "\n",
       "    .dataframe thead th {\n",
       "        text-align: right;\n",
       "    }\n",
       "</style>\n",
       "<table border=\"1\" class=\"dataframe\">\n",
       "  <thead>\n",
       "    <tr style=\"text-align: right;\">\n",
       "      <th></th>\n",
       "      <th>disc_number</th>\n",
       "      <th>duration_ms_x</th>\n",
       "      <th>popularity</th>\n",
       "      <th>track_number</th>\n",
       "      <th>danceability</th>\n",
       "      <th>energy</th>\n",
       "      <th>key</th>\n",
       "      <th>loudness</th>\n",
       "      <th>mode</th>\n",
       "      <th>speechiness</th>\n",
       "      <th>acousticness</th>\n",
       "      <th>instrumentalness</th>\n",
       "      <th>liveness</th>\n",
       "      <th>valence</th>\n",
       "      <th>tempo</th>\n",
       "      <th>duration_ms_y</th>\n",
       "      <th>time_signature</th>\n",
       "    </tr>\n",
       "  </thead>\n",
       "  <tbody>\n",
       "    <tr>\n",
       "      <th>count</th>\n",
       "      <td>37.0</td>\n",
       "      <td>37.000000</td>\n",
       "      <td>37.000000</td>\n",
       "      <td>37.000000</td>\n",
       "      <td>37.000000</td>\n",
       "      <td>37.000000</td>\n",
       "      <td>37.000000</td>\n",
       "      <td>37.000000</td>\n",
       "      <td>37.000000</td>\n",
       "      <td>37.00000</td>\n",
       "      <td>37.000000</td>\n",
       "      <td>37.000000</td>\n",
       "      <td>37.000000</td>\n",
       "      <td>37.000000</td>\n",
       "      <td>37.000000</td>\n",
       "      <td>37.000000</td>\n",
       "      <td>37.000000</td>\n",
       "    </tr>\n",
       "    <tr>\n",
       "      <th>mean</th>\n",
       "      <td>1.0</td>\n",
       "      <td>246992.081081</td>\n",
       "      <td>63.459459</td>\n",
       "      <td>4.945946</td>\n",
       "      <td>0.541973</td>\n",
       "      <td>0.616568</td>\n",
       "      <td>6.081081</td>\n",
       "      <td>-9.030703</td>\n",
       "      <td>0.567568</td>\n",
       "      <td>0.04080</td>\n",
       "      <td>0.268569</td>\n",
       "      <td>0.233968</td>\n",
       "      <td>0.134919</td>\n",
       "      <td>0.388657</td>\n",
       "      <td>118.986324</td>\n",
       "      <td>246992.378378</td>\n",
       "      <td>3.972973</td>\n",
       "    </tr>\n",
       "    <tr>\n",
       "      <th>std</th>\n",
       "      <td>0.0</td>\n",
       "      <td>66739.946668</td>\n",
       "      <td>23.509566</td>\n",
       "      <td>3.681379</td>\n",
       "      <td>0.113533</td>\n",
       "      <td>0.198141</td>\n",
       "      <td>3.759273</td>\n",
       "      <td>3.050718</td>\n",
       "      <td>0.502247</td>\n",
       "      <td>0.01546</td>\n",
       "      <td>0.289375</td>\n",
       "      <td>0.360155</td>\n",
       "      <td>0.093962</td>\n",
       "      <td>0.229933</td>\n",
       "      <td>27.288185</td>\n",
       "      <td>66739.935417</td>\n",
       "      <td>0.164399</td>\n",
       "    </tr>\n",
       "    <tr>\n",
       "      <th>min</th>\n",
       "      <td>1.0</td>\n",
       "      <td>127920.000000</td>\n",
       "      <td>0.000000</td>\n",
       "      <td>1.000000</td>\n",
       "      <td>0.260000</td>\n",
       "      <td>0.120000</td>\n",
       "      <td>0.000000</td>\n",
       "      <td>-15.860000</td>\n",
       "      <td>0.000000</td>\n",
       "      <td>0.02610</td>\n",
       "      <td>0.000004</td>\n",
       "      <td>0.000000</td>\n",
       "      <td>0.060400</td>\n",
       "      <td>0.039200</td>\n",
       "      <td>69.282000</td>\n",
       "      <td>127920.000000</td>\n",
       "      <td>3.000000</td>\n",
       "    </tr>\n",
       "    <tr>\n",
       "      <th>25%</th>\n",
       "      <td>1.0</td>\n",
       "      <td>206866.000000</td>\n",
       "      <td>46.000000</td>\n",
       "      <td>2.000000</td>\n",
       "      <td>0.489000</td>\n",
       "      <td>0.483000</td>\n",
       "      <td>2.000000</td>\n",
       "      <td>-10.492000</td>\n",
       "      <td>0.000000</td>\n",
       "      <td>0.03080</td>\n",
       "      <td>0.020500</td>\n",
       "      <td>0.000209</td>\n",
       "      <td>0.079000</td>\n",
       "      <td>0.228000</td>\n",
       "      <td>98.097000</td>\n",
       "      <td>206867.000000</td>\n",
       "      <td>4.000000</td>\n",
       "    </tr>\n",
       "    <tr>\n",
       "      <th>50%</th>\n",
       "      <td>1.0</td>\n",
       "      <td>253076.000000</td>\n",
       "      <td>73.000000</td>\n",
       "      <td>4.000000</td>\n",
       "      <td>0.565000</td>\n",
       "      <td>0.584000</td>\n",
       "      <td>7.000000</td>\n",
       "      <td>-8.872000</td>\n",
       "      <td>1.000000</td>\n",
       "      <td>0.03430</td>\n",
       "      <td>0.096700</td>\n",
       "      <td>0.005980</td>\n",
       "      <td>0.105000</td>\n",
       "      <td>0.324000</td>\n",
       "      <td>112.788000</td>\n",
       "      <td>253077.000000</td>\n",
       "      <td>4.000000</td>\n",
       "    </tr>\n",
       "    <tr>\n",
       "      <th>75%</th>\n",
       "      <td>1.0</td>\n",
       "      <td>278800.000000</td>\n",
       "      <td>81.000000</td>\n",
       "      <td>7.000000</td>\n",
       "      <td>0.612000</td>\n",
       "      <td>0.792000</td>\n",
       "      <td>9.000000</td>\n",
       "      <td>-6.662000</td>\n",
       "      <td>1.000000</td>\n",
       "      <td>0.05050</td>\n",
       "      <td>0.459000</td>\n",
       "      <td>0.572000</td>\n",
       "      <td>0.128000</td>\n",
       "      <td>0.535000</td>\n",
       "      <td>140.053000</td>\n",
       "      <td>278800.000000</td>\n",
       "      <td>4.000000</td>\n",
       "    </tr>\n",
       "    <tr>\n",
       "      <th>max</th>\n",
       "      <td>1.0</td>\n",
       "      <td>438120.000000</td>\n",
       "      <td>91.000000</td>\n",
       "      <td>16.000000</td>\n",
       "      <td>0.820000</td>\n",
       "      <td>0.956000</td>\n",
       "      <td>11.000000</td>\n",
       "      <td>-2.810000</td>\n",
       "      <td>1.000000</td>\n",
       "      <td>0.09110</td>\n",
       "      <td>0.947000</td>\n",
       "      <td>0.962000</td>\n",
       "      <td>0.467000</td>\n",
       "      <td>0.939000</td>\n",
       "      <td>189.507000</td>\n",
       "      <td>438120.000000</td>\n",
       "      <td>4.000000</td>\n",
       "    </tr>\n",
       "  </tbody>\n",
       "</table>\n",
       "</div>"
      ],
      "text/plain": [
       "       disc_number  duration_ms_x  popularity  track_number  danceability  \\\n",
       "count         37.0      37.000000   37.000000     37.000000     37.000000   \n",
       "mean           1.0  246992.081081   63.459459      4.945946      0.541973   \n",
       "std            0.0   66739.946668   23.509566      3.681379      0.113533   \n",
       "min            1.0  127920.000000    0.000000      1.000000      0.260000   \n",
       "25%            1.0  206866.000000   46.000000      2.000000      0.489000   \n",
       "50%            1.0  253076.000000   73.000000      4.000000      0.565000   \n",
       "75%            1.0  278800.000000   81.000000      7.000000      0.612000   \n",
       "max            1.0  438120.000000   91.000000     16.000000      0.820000   \n",
       "\n",
       "          energy        key   loudness       mode  speechiness  acousticness  \\\n",
       "count  37.000000  37.000000  37.000000  37.000000     37.00000     37.000000   \n",
       "mean    0.616568   6.081081  -9.030703   0.567568      0.04080      0.268569   \n",
       "std     0.198141   3.759273   3.050718   0.502247      0.01546      0.289375   \n",
       "min     0.120000   0.000000 -15.860000   0.000000      0.02610      0.000004   \n",
       "25%     0.483000   2.000000 -10.492000   0.000000      0.03080      0.020500   \n",
       "50%     0.584000   7.000000  -8.872000   1.000000      0.03430      0.096700   \n",
       "75%     0.792000   9.000000  -6.662000   1.000000      0.05050      0.459000   \n",
       "max     0.956000  11.000000  -2.810000   1.000000      0.09110      0.947000   \n",
       "\n",
       "       instrumentalness   liveness    valence       tempo  duration_ms_y  \\\n",
       "count         37.000000  37.000000  37.000000   37.000000      37.000000   \n",
       "mean           0.233968   0.134919   0.388657  118.986324  246992.378378   \n",
       "std            0.360155   0.093962   0.229933   27.288185   66739.935417   \n",
       "min            0.000000   0.060400   0.039200   69.282000  127920.000000   \n",
       "25%            0.000209   0.079000   0.228000   98.097000  206867.000000   \n",
       "50%            0.005980   0.105000   0.324000  112.788000  253077.000000   \n",
       "75%            0.572000   0.128000   0.535000  140.053000  278800.000000   \n",
       "max            0.962000   0.467000   0.939000  189.507000  438120.000000   \n",
       "\n",
       "       time_signature  \n",
       "count       37.000000  \n",
       "mean         3.972973  \n",
       "std          0.164399  \n",
       "min          3.000000  \n",
       "25%          4.000000  \n",
       "50%          4.000000  \n",
       "75%          4.000000  \n",
       "max          4.000000  "
      ]
     },
     "execution_count": 14,
     "metadata": {},
     "output_type": "execute_result"
    }
   ],
   "source": [
    "df.describe()"
   ]
  },
  {
   "cell_type": "code",
   "execution_count": 15,
   "metadata": {},
   "outputs": [
    {
     "data": {
      "text/plain": [
       "Index(['album', 'artists', 'available_markets', 'disc_number', 'duration_ms_x',\n",
       "       'explicit', 'external_ids', 'external_urls', 'href', 'id', 'is_local',\n",
       "       'name', 'popularity', 'preview_url', 'track_number', 'type_x', 'uri_x',\n",
       "       'album_name', 'album_id', 'genres', 'artist_name', 'danceability',\n",
       "       'energy', 'key', 'loudness', 'mode', 'speechiness', 'acousticness',\n",
       "       'instrumentalness', 'liveness', 'valence', 'tempo', 'type_y', 'uri_y',\n",
       "       'track_href', 'analysis_url', 'duration_ms_y', 'time_signature'],\n",
       "      dtype='object')"
      ]
     },
     "execution_count": 15,
     "metadata": {},
     "output_type": "execute_result"
    }
   ],
   "source": [
    "df.columns"
   ]
  },
  {
   "cell_type": "code",
   "execution_count": 16,
   "metadata": {},
   "outputs": [],
   "source": [
    "import plotly.express as px"
   ]
  },
  {
   "cell_type": "code",
   "execution_count": 17,
   "metadata": {},
   "outputs": [
    {
     "data": {
      "application/vnd.plotly.v1+json": {
       "config": {
        "plotlyServerURL": "https://plot.ly"
       },
       "data": [
        {
         "customdata": [
          [
           "Depeche Mode",
           "Enjoy the Silence"
          ],
          [
           "Silent Runners",
           "Roadkill"
          ],
          [
           "The Cure",
           "A Forest"
          ],
          [
           "Then Comes Silence",
           "Strange Kicks"
          ],
          [
           "Joy Division",
           "Love Will Tear Us Apart"
          ],
          [
           "Kate Bush",
           "Running Up That Hill (A Deal With God)"
          ],
          [
           "Iron Maiden",
           "Fear of the Dark - 2015 Remaster"
          ],
          [
           "Tears For Fears",
           "Everybody Wants To Rule The World"
          ],
          [
           "Mr.Kitty",
           "After Dark"
          ],
          [
           "The Neighbourhood",
           "Sweater Weather"
          ],
          [
           "Joji",
           "SLOW DANCING IN THE DARK"
          ],
          [
           "Kavinsky",
           "Nightcall"
          ],
          [
           "Phil Collins",
           "In The Air Tonight - 2015 Remastered"
          ],
          [
           "M83",
           "Midnight City"
          ],
          [
           "Lil Peep",
           "Star Shopping"
          ],
          [
           "Lil Peep",
           "witchblades"
          ],
          [
           "The Neighbourhood",
           "Daddy Issues"
          ],
          [
           "Billy Joel",
           "Vienna"
          ],
          [
           "EDEN",
           "rock + roll"
          ],
          [
           "Ocean Alley",
           "Confidence"
          ],
          [
           "The xx",
           "Intro"
          ],
          [
           "Bedroom",
           "In My Head"
          ],
          [
           "Myslovitz",
           "Dlugość dźwięku samotności"
          ],
          [
           "Arctic Monkeys",
           "Why'd You Only Call Me When You're High?"
          ],
          [
           "Alphaville",
           "Forever Young"
          ],
          [
           "Lindemann",
           "That's My Heart"
          ],
          [
           "Edwin Rosen",
           "\"1119\""
          ],
          [
           "salvia palth",
           "i was all over her"
          ],
          [
           "Russell Crowe",
           "Stars"
          ],
          [
           "Mr.Kitty",
           "Habits (feat. PASTEL GHOST)"
          ],
          [
           "Lady Pank",
           "Wciąż bardziej obcy"
          ],
          [
           "Mareux",
           "The Perfect Girl"
          ],
          [
           "Cigarettes After Sex",
           "Apocalypse"
          ],
          [
           "Bronski Beat",
           "Smalltown Boy"
          ],
          [
           "Desmond Doom",
           "You'll Never Be A Rockstar (That's Okay)"
          ],
          [
           "The Police",
           "Every Breath You Take"
          ],
          [
           "U2",
           "I Still Haven't Found What I'm Looking For - Remastered 2007"
          ]
         ],
         "hovertemplate": "valence=%{x}<br>danceability=%{y}<br>popularity=%{marker.size}<br>artist_name=%{customdata[0]}<br>name=%{customdata[1]}<extra></extra>",
         "legendgroup": "",
         "marker": {
          "color": "#636efa",
          "size": [
           75,
           34,
           66,
           40,
           67,
           30,
           73,
           90,
           0,
           91,
           84,
           77,
           79,
           81,
           6,
           46,
           86,
           81,
           59,
           66,
           75,
           74,
           63,
           89,
           75,
           45,
           56,
           80,
           46,
           60,
           41,
           81,
           85,
           77,
           20,
           89,
           61
          ],
          "sizemode": "area",
          "sizeref": 0.2275,
          "symbol": "circle"
         },
         "mode": "markers",
         "name": "",
         "orientation": "v",
         "showlegend": false,
         "type": "scatter",
         "x": [
          0.752,
          0.254,
          0.451,
          0.416,
          0.909,
          0.197,
          0.227,
          0.535,
          0.0392,
          0.398,
          0.284,
          0.361,
          0.298,
          0.272,
          0.323,
          0.543,
          0.337,
          0.308,
          0.425,
          0.561,
          0.152,
          0.18,
          0.652,
          0.8,
          0.333,
          0.166,
          0.363,
          0.0601,
          0.228,
          0.259,
          0.168,
          0.258,
          0.182,
          0.939,
          0.324,
          0.74,
          0.686
         ],
         "xaxis": "x",
         "y": [
          0.663,
          0.588,
          0.587,
          0.407,
          0.443,
          0.629,
          0.308,
          0.645,
          0.579,
          0.612,
          0.515,
          0.532,
          0.446,
          0.507,
          0.585,
          0.634,
          0.588,
          0.532,
          0.468,
          0.59,
          0.617,
          0.576,
          0.552,
          0.691,
          0.489,
          0.309,
          0.629,
          0.529,
          0.26,
          0.532,
          0.513,
          0.485,
          0.37,
          0.685,
          0.573,
          0.82,
          0.565
         ],
         "yaxis": "y"
        }
       ],
       "layout": {
        "legend": {
         "itemsizing": "constant",
         "tracegroupgap": 0
        },
        "margin": {
         "t": 60
        },
        "template": {
         "data": {
          "bar": [
           {
            "error_x": {
             "color": "#2a3f5f"
            },
            "error_y": {
             "color": "#2a3f5f"
            },
            "marker": {
             "line": {
              "color": "#E5ECF6",
              "width": 0.5
             },
             "pattern": {
              "fillmode": "overlay",
              "size": 10,
              "solidity": 0.2
             }
            },
            "type": "bar"
           }
          ],
          "barpolar": [
           {
            "marker": {
             "line": {
              "color": "#E5ECF6",
              "width": 0.5
             },
             "pattern": {
              "fillmode": "overlay",
              "size": 10,
              "solidity": 0.2
             }
            },
            "type": "barpolar"
           }
          ],
          "carpet": [
           {
            "aaxis": {
             "endlinecolor": "#2a3f5f",
             "gridcolor": "white",
             "linecolor": "white",
             "minorgridcolor": "white",
             "startlinecolor": "#2a3f5f"
            },
            "baxis": {
             "endlinecolor": "#2a3f5f",
             "gridcolor": "white",
             "linecolor": "white",
             "minorgridcolor": "white",
             "startlinecolor": "#2a3f5f"
            },
            "type": "carpet"
           }
          ],
          "choropleth": [
           {
            "colorbar": {
             "outlinewidth": 0,
             "ticks": ""
            },
            "type": "choropleth"
           }
          ],
          "contour": [
           {
            "colorbar": {
             "outlinewidth": 0,
             "ticks": ""
            },
            "colorscale": [
             [
              0,
              "#0d0887"
             ],
             [
              0.1111111111111111,
              "#46039f"
             ],
             [
              0.2222222222222222,
              "#7201a8"
             ],
             [
              0.3333333333333333,
              "#9c179e"
             ],
             [
              0.4444444444444444,
              "#bd3786"
             ],
             [
              0.5555555555555556,
              "#d8576b"
             ],
             [
              0.6666666666666666,
              "#ed7953"
             ],
             [
              0.7777777777777778,
              "#fb9f3a"
             ],
             [
              0.8888888888888888,
              "#fdca26"
             ],
             [
              1,
              "#f0f921"
             ]
            ],
            "type": "contour"
           }
          ],
          "contourcarpet": [
           {
            "colorbar": {
             "outlinewidth": 0,
             "ticks": ""
            },
            "type": "contourcarpet"
           }
          ],
          "heatmap": [
           {
            "colorbar": {
             "outlinewidth": 0,
             "ticks": ""
            },
            "colorscale": [
             [
              0,
              "#0d0887"
             ],
             [
              0.1111111111111111,
              "#46039f"
             ],
             [
              0.2222222222222222,
              "#7201a8"
             ],
             [
              0.3333333333333333,
              "#9c179e"
             ],
             [
              0.4444444444444444,
              "#bd3786"
             ],
             [
              0.5555555555555556,
              "#d8576b"
             ],
             [
              0.6666666666666666,
              "#ed7953"
             ],
             [
              0.7777777777777778,
              "#fb9f3a"
             ],
             [
              0.8888888888888888,
              "#fdca26"
             ],
             [
              1,
              "#f0f921"
             ]
            ],
            "type": "heatmap"
           }
          ],
          "heatmapgl": [
           {
            "colorbar": {
             "outlinewidth": 0,
             "ticks": ""
            },
            "colorscale": [
             [
              0,
              "#0d0887"
             ],
             [
              0.1111111111111111,
              "#46039f"
             ],
             [
              0.2222222222222222,
              "#7201a8"
             ],
             [
              0.3333333333333333,
              "#9c179e"
             ],
             [
              0.4444444444444444,
              "#bd3786"
             ],
             [
              0.5555555555555556,
              "#d8576b"
             ],
             [
              0.6666666666666666,
              "#ed7953"
             ],
             [
              0.7777777777777778,
              "#fb9f3a"
             ],
             [
              0.8888888888888888,
              "#fdca26"
             ],
             [
              1,
              "#f0f921"
             ]
            ],
            "type": "heatmapgl"
           }
          ],
          "histogram": [
           {
            "marker": {
             "pattern": {
              "fillmode": "overlay",
              "size": 10,
              "solidity": 0.2
             }
            },
            "type": "histogram"
           }
          ],
          "histogram2d": [
           {
            "colorbar": {
             "outlinewidth": 0,
             "ticks": ""
            },
            "colorscale": [
             [
              0,
              "#0d0887"
             ],
             [
              0.1111111111111111,
              "#46039f"
             ],
             [
              0.2222222222222222,
              "#7201a8"
             ],
             [
              0.3333333333333333,
              "#9c179e"
             ],
             [
              0.4444444444444444,
              "#bd3786"
             ],
             [
              0.5555555555555556,
              "#d8576b"
             ],
             [
              0.6666666666666666,
              "#ed7953"
             ],
             [
              0.7777777777777778,
              "#fb9f3a"
             ],
             [
              0.8888888888888888,
              "#fdca26"
             ],
             [
              1,
              "#f0f921"
             ]
            ],
            "type": "histogram2d"
           }
          ],
          "histogram2dcontour": [
           {
            "colorbar": {
             "outlinewidth": 0,
             "ticks": ""
            },
            "colorscale": [
             [
              0,
              "#0d0887"
             ],
             [
              0.1111111111111111,
              "#46039f"
             ],
             [
              0.2222222222222222,
              "#7201a8"
             ],
             [
              0.3333333333333333,
              "#9c179e"
             ],
             [
              0.4444444444444444,
              "#bd3786"
             ],
             [
              0.5555555555555556,
              "#d8576b"
             ],
             [
              0.6666666666666666,
              "#ed7953"
             ],
             [
              0.7777777777777778,
              "#fb9f3a"
             ],
             [
              0.8888888888888888,
              "#fdca26"
             ],
             [
              1,
              "#f0f921"
             ]
            ],
            "type": "histogram2dcontour"
           }
          ],
          "mesh3d": [
           {
            "colorbar": {
             "outlinewidth": 0,
             "ticks": ""
            },
            "type": "mesh3d"
           }
          ],
          "parcoords": [
           {
            "line": {
             "colorbar": {
              "outlinewidth": 0,
              "ticks": ""
             }
            },
            "type": "parcoords"
           }
          ],
          "pie": [
           {
            "automargin": true,
            "type": "pie"
           }
          ],
          "scatter": [
           {
            "fillpattern": {
             "fillmode": "overlay",
             "size": 10,
             "solidity": 0.2
            },
            "type": "scatter"
           }
          ],
          "scatter3d": [
           {
            "line": {
             "colorbar": {
              "outlinewidth": 0,
              "ticks": ""
             }
            },
            "marker": {
             "colorbar": {
              "outlinewidth": 0,
              "ticks": ""
             }
            },
            "type": "scatter3d"
           }
          ],
          "scattercarpet": [
           {
            "marker": {
             "colorbar": {
              "outlinewidth": 0,
              "ticks": ""
             }
            },
            "type": "scattercarpet"
           }
          ],
          "scattergeo": [
           {
            "marker": {
             "colorbar": {
              "outlinewidth": 0,
              "ticks": ""
             }
            },
            "type": "scattergeo"
           }
          ],
          "scattergl": [
           {
            "marker": {
             "colorbar": {
              "outlinewidth": 0,
              "ticks": ""
             }
            },
            "type": "scattergl"
           }
          ],
          "scattermapbox": [
           {
            "marker": {
             "colorbar": {
              "outlinewidth": 0,
              "ticks": ""
             }
            },
            "type": "scattermapbox"
           }
          ],
          "scatterpolar": [
           {
            "marker": {
             "colorbar": {
              "outlinewidth": 0,
              "ticks": ""
             }
            },
            "type": "scatterpolar"
           }
          ],
          "scatterpolargl": [
           {
            "marker": {
             "colorbar": {
              "outlinewidth": 0,
              "ticks": ""
             }
            },
            "type": "scatterpolargl"
           }
          ],
          "scatterternary": [
           {
            "marker": {
             "colorbar": {
              "outlinewidth": 0,
              "ticks": ""
             }
            },
            "type": "scatterternary"
           }
          ],
          "surface": [
           {
            "colorbar": {
             "outlinewidth": 0,
             "ticks": ""
            },
            "colorscale": [
             [
              0,
              "#0d0887"
             ],
             [
              0.1111111111111111,
              "#46039f"
             ],
             [
              0.2222222222222222,
              "#7201a8"
             ],
             [
              0.3333333333333333,
              "#9c179e"
             ],
             [
              0.4444444444444444,
              "#bd3786"
             ],
             [
              0.5555555555555556,
              "#d8576b"
             ],
             [
              0.6666666666666666,
              "#ed7953"
             ],
             [
              0.7777777777777778,
              "#fb9f3a"
             ],
             [
              0.8888888888888888,
              "#fdca26"
             ],
             [
              1,
              "#f0f921"
             ]
            ],
            "type": "surface"
           }
          ],
          "table": [
           {
            "cells": {
             "fill": {
              "color": "#EBF0F8"
             },
             "line": {
              "color": "white"
             }
            },
            "header": {
             "fill": {
              "color": "#C8D4E3"
             },
             "line": {
              "color": "white"
             }
            },
            "type": "table"
           }
          ]
         },
         "layout": {
          "annotationdefaults": {
           "arrowcolor": "#2a3f5f",
           "arrowhead": 0,
           "arrowwidth": 1
          },
          "autotypenumbers": "strict",
          "coloraxis": {
           "colorbar": {
            "outlinewidth": 0,
            "ticks": ""
           }
          },
          "colorscale": {
           "diverging": [
            [
             0,
             "#8e0152"
            ],
            [
             0.1,
             "#c51b7d"
            ],
            [
             0.2,
             "#de77ae"
            ],
            [
             0.3,
             "#f1b6da"
            ],
            [
             0.4,
             "#fde0ef"
            ],
            [
             0.5,
             "#f7f7f7"
            ],
            [
             0.6,
             "#e6f5d0"
            ],
            [
             0.7,
             "#b8e186"
            ],
            [
             0.8,
             "#7fbc41"
            ],
            [
             0.9,
             "#4d9221"
            ],
            [
             1,
             "#276419"
            ]
           ],
           "sequential": [
            [
             0,
             "#0d0887"
            ],
            [
             0.1111111111111111,
             "#46039f"
            ],
            [
             0.2222222222222222,
             "#7201a8"
            ],
            [
             0.3333333333333333,
             "#9c179e"
            ],
            [
             0.4444444444444444,
             "#bd3786"
            ],
            [
             0.5555555555555556,
             "#d8576b"
            ],
            [
             0.6666666666666666,
             "#ed7953"
            ],
            [
             0.7777777777777778,
             "#fb9f3a"
            ],
            [
             0.8888888888888888,
             "#fdca26"
            ],
            [
             1,
             "#f0f921"
            ]
           ],
           "sequentialminus": [
            [
             0,
             "#0d0887"
            ],
            [
             0.1111111111111111,
             "#46039f"
            ],
            [
             0.2222222222222222,
             "#7201a8"
            ],
            [
             0.3333333333333333,
             "#9c179e"
            ],
            [
             0.4444444444444444,
             "#bd3786"
            ],
            [
             0.5555555555555556,
             "#d8576b"
            ],
            [
             0.6666666666666666,
             "#ed7953"
            ],
            [
             0.7777777777777778,
             "#fb9f3a"
            ],
            [
             0.8888888888888888,
             "#fdca26"
            ],
            [
             1,
             "#f0f921"
            ]
           ]
          },
          "colorway": [
           "#636efa",
           "#EF553B",
           "#00cc96",
           "#ab63fa",
           "#FFA15A",
           "#19d3f3",
           "#FF6692",
           "#B6E880",
           "#FF97FF",
           "#FECB52"
          ],
          "font": {
           "color": "#2a3f5f"
          },
          "geo": {
           "bgcolor": "white",
           "lakecolor": "white",
           "landcolor": "#E5ECF6",
           "showlakes": true,
           "showland": true,
           "subunitcolor": "white"
          },
          "hoverlabel": {
           "align": "left"
          },
          "hovermode": "closest",
          "mapbox": {
           "style": "light"
          },
          "paper_bgcolor": "white",
          "plot_bgcolor": "#E5ECF6",
          "polar": {
           "angularaxis": {
            "gridcolor": "white",
            "linecolor": "white",
            "ticks": ""
           },
           "bgcolor": "#E5ECF6",
           "radialaxis": {
            "gridcolor": "white",
            "linecolor": "white",
            "ticks": ""
           }
          },
          "scene": {
           "xaxis": {
            "backgroundcolor": "#E5ECF6",
            "gridcolor": "white",
            "gridwidth": 2,
            "linecolor": "white",
            "showbackground": true,
            "ticks": "",
            "zerolinecolor": "white"
           },
           "yaxis": {
            "backgroundcolor": "#E5ECF6",
            "gridcolor": "white",
            "gridwidth": 2,
            "linecolor": "white",
            "showbackground": true,
            "ticks": "",
            "zerolinecolor": "white"
           },
           "zaxis": {
            "backgroundcolor": "#E5ECF6",
            "gridcolor": "white",
            "gridwidth": 2,
            "linecolor": "white",
            "showbackground": true,
            "ticks": "",
            "zerolinecolor": "white"
           }
          },
          "shapedefaults": {
           "line": {
            "color": "#2a3f5f"
           }
          },
          "ternary": {
           "aaxis": {
            "gridcolor": "white",
            "linecolor": "white",
            "ticks": ""
           },
           "baxis": {
            "gridcolor": "white",
            "linecolor": "white",
            "ticks": ""
           },
           "bgcolor": "#E5ECF6",
           "caxis": {
            "gridcolor": "white",
            "linecolor": "white",
            "ticks": ""
           }
          },
          "title": {
           "x": 0.05
          },
          "xaxis": {
           "automargin": true,
           "gridcolor": "white",
           "linecolor": "white",
           "ticks": "",
           "title": {
            "standoff": 15
           },
           "zerolinecolor": "white",
           "zerolinewidth": 2
          },
          "yaxis": {
           "automargin": true,
           "gridcolor": "white",
           "linecolor": "white",
           "ticks": "",
           "title": {
            "standoff": 15
           },
           "zerolinecolor": "white",
           "zerolinewidth": 2
          }
         }
        },
        "xaxis": {
         "anchor": "y",
         "domain": [
          0,
          1
         ],
         "title": {
          "text": "valence"
         }
        },
        "yaxis": {
         "anchor": "x",
         "domain": [
          0,
          1
         ],
         "title": {
          "text": "danceability"
         }
        }
       }
      }
     },
     "metadata": {},
     "output_type": "display_data"
    }
   ],
   "source": [
    "fig = px.scatter(df, x=\"valence\", y=\"danceability\", size = \"popularity\", hover_data=['artist_name', 'name'])\n",
    "fig.show()\n"
   ]
  },
  {
   "cell_type": "code",
   "execution_count": 39,
   "metadata": {},
   "outputs": [
    {
     "data": {
      "application/vnd.plotly.v1+json": {
       "config": {
        "plotlyServerURL": "https://plot.ly"
       },
       "data": [
        {
         "alignmentgroup": "True",
         "bingroup": "x",
         "hovertemplate": "valence=%{x}<br>count=%{y}<extra></extra>",
         "legendgroup": "",
         "marker": {
          "color": "#636efa",
          "pattern": {
           "shape": ""
          }
         },
         "name": "",
         "nbinsx": 10,
         "offsetgroup": "",
         "orientation": "v",
         "showlegend": false,
         "type": "histogram",
         "x": [
          0.752,
          0.254,
          0.451,
          0.416,
          0.909,
          0.197,
          0.227,
          0.535,
          0.0392,
          0.398,
          0.284,
          0.361,
          0.298,
          0.272,
          0.323,
          0.543,
          0.337,
          0.308,
          0.425,
          0.561,
          0.152,
          0.18,
          0.652,
          0.8,
          0.333,
          0.166,
          0.363,
          0.0601,
          0.228,
          0.259,
          0.168,
          0.258,
          0.182,
          0.939,
          0.324,
          0.74,
          0.686
         ],
         "xaxis": "x",
         "yaxis": "y"
        },
        {
         "alignmentgroup": "True",
         "hovertemplate": "valence=%{x}<extra></extra>",
         "legendgroup": "",
         "marker": {
          "color": "#636efa"
         },
         "name": "",
         "offsetgroup": "",
         "scalegroup": "x",
         "showlegend": false,
         "type": "violin",
         "x": [
          0.752,
          0.254,
          0.451,
          0.416,
          0.909,
          0.197,
          0.227,
          0.535,
          0.0392,
          0.398,
          0.284,
          0.361,
          0.298,
          0.272,
          0.323,
          0.543,
          0.337,
          0.308,
          0.425,
          0.561,
          0.152,
          0.18,
          0.652,
          0.8,
          0.333,
          0.166,
          0.363,
          0.0601,
          0.228,
          0.259,
          0.168,
          0.258,
          0.182,
          0.939,
          0.324,
          0.74,
          0.686
         ],
         "xaxis": "x2",
         "yaxis": "y2"
        }
       ],
       "layout": {
        "barmode": "relative",
        "legend": {
         "tracegroupgap": 0
        },
        "margin": {
         "t": 60
        },
        "template": {
         "data": {
          "bar": [
           {
            "error_x": {
             "color": "#2a3f5f"
            },
            "error_y": {
             "color": "#2a3f5f"
            },
            "marker": {
             "line": {
              "color": "#E5ECF6",
              "width": 0.5
             },
             "pattern": {
              "fillmode": "overlay",
              "size": 10,
              "solidity": 0.2
             }
            },
            "type": "bar"
           }
          ],
          "barpolar": [
           {
            "marker": {
             "line": {
              "color": "#E5ECF6",
              "width": 0.5
             },
             "pattern": {
              "fillmode": "overlay",
              "size": 10,
              "solidity": 0.2
             }
            },
            "type": "barpolar"
           }
          ],
          "carpet": [
           {
            "aaxis": {
             "endlinecolor": "#2a3f5f",
             "gridcolor": "white",
             "linecolor": "white",
             "minorgridcolor": "white",
             "startlinecolor": "#2a3f5f"
            },
            "baxis": {
             "endlinecolor": "#2a3f5f",
             "gridcolor": "white",
             "linecolor": "white",
             "minorgridcolor": "white",
             "startlinecolor": "#2a3f5f"
            },
            "type": "carpet"
           }
          ],
          "choropleth": [
           {
            "colorbar": {
             "outlinewidth": 0,
             "ticks": ""
            },
            "type": "choropleth"
           }
          ],
          "contour": [
           {
            "colorbar": {
             "outlinewidth": 0,
             "ticks": ""
            },
            "colorscale": [
             [
              0,
              "#0d0887"
             ],
             [
              0.1111111111111111,
              "#46039f"
             ],
             [
              0.2222222222222222,
              "#7201a8"
             ],
             [
              0.3333333333333333,
              "#9c179e"
             ],
             [
              0.4444444444444444,
              "#bd3786"
             ],
             [
              0.5555555555555556,
              "#d8576b"
             ],
             [
              0.6666666666666666,
              "#ed7953"
             ],
             [
              0.7777777777777778,
              "#fb9f3a"
             ],
             [
              0.8888888888888888,
              "#fdca26"
             ],
             [
              1,
              "#f0f921"
             ]
            ],
            "type": "contour"
           }
          ],
          "contourcarpet": [
           {
            "colorbar": {
             "outlinewidth": 0,
             "ticks": ""
            },
            "type": "contourcarpet"
           }
          ],
          "heatmap": [
           {
            "colorbar": {
             "outlinewidth": 0,
             "ticks": ""
            },
            "colorscale": [
             [
              0,
              "#0d0887"
             ],
             [
              0.1111111111111111,
              "#46039f"
             ],
             [
              0.2222222222222222,
              "#7201a8"
             ],
             [
              0.3333333333333333,
              "#9c179e"
             ],
             [
              0.4444444444444444,
              "#bd3786"
             ],
             [
              0.5555555555555556,
              "#d8576b"
             ],
             [
              0.6666666666666666,
              "#ed7953"
             ],
             [
              0.7777777777777778,
              "#fb9f3a"
             ],
             [
              0.8888888888888888,
              "#fdca26"
             ],
             [
              1,
              "#f0f921"
             ]
            ],
            "type": "heatmap"
           }
          ],
          "heatmapgl": [
           {
            "colorbar": {
             "outlinewidth": 0,
             "ticks": ""
            },
            "colorscale": [
             [
              0,
              "#0d0887"
             ],
             [
              0.1111111111111111,
              "#46039f"
             ],
             [
              0.2222222222222222,
              "#7201a8"
             ],
             [
              0.3333333333333333,
              "#9c179e"
             ],
             [
              0.4444444444444444,
              "#bd3786"
             ],
             [
              0.5555555555555556,
              "#d8576b"
             ],
             [
              0.6666666666666666,
              "#ed7953"
             ],
             [
              0.7777777777777778,
              "#fb9f3a"
             ],
             [
              0.8888888888888888,
              "#fdca26"
             ],
             [
              1,
              "#f0f921"
             ]
            ],
            "type": "heatmapgl"
           }
          ],
          "histogram": [
           {
            "marker": {
             "pattern": {
              "fillmode": "overlay",
              "size": 10,
              "solidity": 0.2
             }
            },
            "type": "histogram"
           }
          ],
          "histogram2d": [
           {
            "colorbar": {
             "outlinewidth": 0,
             "ticks": ""
            },
            "colorscale": [
             [
              0,
              "#0d0887"
             ],
             [
              0.1111111111111111,
              "#46039f"
             ],
             [
              0.2222222222222222,
              "#7201a8"
             ],
             [
              0.3333333333333333,
              "#9c179e"
             ],
             [
              0.4444444444444444,
              "#bd3786"
             ],
             [
              0.5555555555555556,
              "#d8576b"
             ],
             [
              0.6666666666666666,
              "#ed7953"
             ],
             [
              0.7777777777777778,
              "#fb9f3a"
             ],
             [
              0.8888888888888888,
              "#fdca26"
             ],
             [
              1,
              "#f0f921"
             ]
            ],
            "type": "histogram2d"
           }
          ],
          "histogram2dcontour": [
           {
            "colorbar": {
             "outlinewidth": 0,
             "ticks": ""
            },
            "colorscale": [
             [
              0,
              "#0d0887"
             ],
             [
              0.1111111111111111,
              "#46039f"
             ],
             [
              0.2222222222222222,
              "#7201a8"
             ],
             [
              0.3333333333333333,
              "#9c179e"
             ],
             [
              0.4444444444444444,
              "#bd3786"
             ],
             [
              0.5555555555555556,
              "#d8576b"
             ],
             [
              0.6666666666666666,
              "#ed7953"
             ],
             [
              0.7777777777777778,
              "#fb9f3a"
             ],
             [
              0.8888888888888888,
              "#fdca26"
             ],
             [
              1,
              "#f0f921"
             ]
            ],
            "type": "histogram2dcontour"
           }
          ],
          "mesh3d": [
           {
            "colorbar": {
             "outlinewidth": 0,
             "ticks": ""
            },
            "type": "mesh3d"
           }
          ],
          "parcoords": [
           {
            "line": {
             "colorbar": {
              "outlinewidth": 0,
              "ticks": ""
             }
            },
            "type": "parcoords"
           }
          ],
          "pie": [
           {
            "automargin": true,
            "type": "pie"
           }
          ],
          "scatter": [
           {
            "fillpattern": {
             "fillmode": "overlay",
             "size": 10,
             "solidity": 0.2
            },
            "type": "scatter"
           }
          ],
          "scatter3d": [
           {
            "line": {
             "colorbar": {
              "outlinewidth": 0,
              "ticks": ""
             }
            },
            "marker": {
             "colorbar": {
              "outlinewidth": 0,
              "ticks": ""
             }
            },
            "type": "scatter3d"
           }
          ],
          "scattercarpet": [
           {
            "marker": {
             "colorbar": {
              "outlinewidth": 0,
              "ticks": ""
             }
            },
            "type": "scattercarpet"
           }
          ],
          "scattergeo": [
           {
            "marker": {
             "colorbar": {
              "outlinewidth": 0,
              "ticks": ""
             }
            },
            "type": "scattergeo"
           }
          ],
          "scattergl": [
           {
            "marker": {
             "colorbar": {
              "outlinewidth": 0,
              "ticks": ""
             }
            },
            "type": "scattergl"
           }
          ],
          "scattermapbox": [
           {
            "marker": {
             "colorbar": {
              "outlinewidth": 0,
              "ticks": ""
             }
            },
            "type": "scattermapbox"
           }
          ],
          "scatterpolar": [
           {
            "marker": {
             "colorbar": {
              "outlinewidth": 0,
              "ticks": ""
             }
            },
            "type": "scatterpolar"
           }
          ],
          "scatterpolargl": [
           {
            "marker": {
             "colorbar": {
              "outlinewidth": 0,
              "ticks": ""
             }
            },
            "type": "scatterpolargl"
           }
          ],
          "scatterternary": [
           {
            "marker": {
             "colorbar": {
              "outlinewidth": 0,
              "ticks": ""
             }
            },
            "type": "scatterternary"
           }
          ],
          "surface": [
           {
            "colorbar": {
             "outlinewidth": 0,
             "ticks": ""
            },
            "colorscale": [
             [
              0,
              "#0d0887"
             ],
             [
              0.1111111111111111,
              "#46039f"
             ],
             [
              0.2222222222222222,
              "#7201a8"
             ],
             [
              0.3333333333333333,
              "#9c179e"
             ],
             [
              0.4444444444444444,
              "#bd3786"
             ],
             [
              0.5555555555555556,
              "#d8576b"
             ],
             [
              0.6666666666666666,
              "#ed7953"
             ],
             [
              0.7777777777777778,
              "#fb9f3a"
             ],
             [
              0.8888888888888888,
              "#fdca26"
             ],
             [
              1,
              "#f0f921"
             ]
            ],
            "type": "surface"
           }
          ],
          "table": [
           {
            "cells": {
             "fill": {
              "color": "#EBF0F8"
             },
             "line": {
              "color": "white"
             }
            },
            "header": {
             "fill": {
              "color": "#C8D4E3"
             },
             "line": {
              "color": "white"
             }
            },
            "type": "table"
           }
          ]
         },
         "layout": {
          "annotationdefaults": {
           "arrowcolor": "#2a3f5f",
           "arrowhead": 0,
           "arrowwidth": 1
          },
          "autotypenumbers": "strict",
          "coloraxis": {
           "colorbar": {
            "outlinewidth": 0,
            "ticks": ""
           }
          },
          "colorscale": {
           "diverging": [
            [
             0,
             "#8e0152"
            ],
            [
             0.1,
             "#c51b7d"
            ],
            [
             0.2,
             "#de77ae"
            ],
            [
             0.3,
             "#f1b6da"
            ],
            [
             0.4,
             "#fde0ef"
            ],
            [
             0.5,
             "#f7f7f7"
            ],
            [
             0.6,
             "#e6f5d0"
            ],
            [
             0.7,
             "#b8e186"
            ],
            [
             0.8,
             "#7fbc41"
            ],
            [
             0.9,
             "#4d9221"
            ],
            [
             1,
             "#276419"
            ]
           ],
           "sequential": [
            [
             0,
             "#0d0887"
            ],
            [
             0.1111111111111111,
             "#46039f"
            ],
            [
             0.2222222222222222,
             "#7201a8"
            ],
            [
             0.3333333333333333,
             "#9c179e"
            ],
            [
             0.4444444444444444,
             "#bd3786"
            ],
            [
             0.5555555555555556,
             "#d8576b"
            ],
            [
             0.6666666666666666,
             "#ed7953"
            ],
            [
             0.7777777777777778,
             "#fb9f3a"
            ],
            [
             0.8888888888888888,
             "#fdca26"
            ],
            [
             1,
             "#f0f921"
            ]
           ],
           "sequentialminus": [
            [
             0,
             "#0d0887"
            ],
            [
             0.1111111111111111,
             "#46039f"
            ],
            [
             0.2222222222222222,
             "#7201a8"
            ],
            [
             0.3333333333333333,
             "#9c179e"
            ],
            [
             0.4444444444444444,
             "#bd3786"
            ],
            [
             0.5555555555555556,
             "#d8576b"
            ],
            [
             0.6666666666666666,
             "#ed7953"
            ],
            [
             0.7777777777777778,
             "#fb9f3a"
            ],
            [
             0.8888888888888888,
             "#fdca26"
            ],
            [
             1,
             "#f0f921"
            ]
           ]
          },
          "colorway": [
           "#636efa",
           "#EF553B",
           "#00cc96",
           "#ab63fa",
           "#FFA15A",
           "#19d3f3",
           "#FF6692",
           "#B6E880",
           "#FF97FF",
           "#FECB52"
          ],
          "font": {
           "color": "#2a3f5f"
          },
          "geo": {
           "bgcolor": "white",
           "lakecolor": "white",
           "landcolor": "#E5ECF6",
           "showlakes": true,
           "showland": true,
           "subunitcolor": "white"
          },
          "hoverlabel": {
           "align": "left"
          },
          "hovermode": "closest",
          "mapbox": {
           "style": "light"
          },
          "paper_bgcolor": "white",
          "plot_bgcolor": "#E5ECF6",
          "polar": {
           "angularaxis": {
            "gridcolor": "white",
            "linecolor": "white",
            "ticks": ""
           },
           "bgcolor": "#E5ECF6",
           "radialaxis": {
            "gridcolor": "white",
            "linecolor": "white",
            "ticks": ""
           }
          },
          "scene": {
           "xaxis": {
            "backgroundcolor": "#E5ECF6",
            "gridcolor": "white",
            "gridwidth": 2,
            "linecolor": "white",
            "showbackground": true,
            "ticks": "",
            "zerolinecolor": "white"
           },
           "yaxis": {
            "backgroundcolor": "#E5ECF6",
            "gridcolor": "white",
            "gridwidth": 2,
            "linecolor": "white",
            "showbackground": true,
            "ticks": "",
            "zerolinecolor": "white"
           },
           "zaxis": {
            "backgroundcolor": "#E5ECF6",
            "gridcolor": "white",
            "gridwidth": 2,
            "linecolor": "white",
            "showbackground": true,
            "ticks": "",
            "zerolinecolor": "white"
           }
          },
          "shapedefaults": {
           "line": {
            "color": "#2a3f5f"
           }
          },
          "ternary": {
           "aaxis": {
            "gridcolor": "white",
            "linecolor": "white",
            "ticks": ""
           },
           "baxis": {
            "gridcolor": "white",
            "linecolor": "white",
            "ticks": ""
           },
           "bgcolor": "#E5ECF6",
           "caxis": {
            "gridcolor": "white",
            "linecolor": "white",
            "ticks": ""
           }
          },
          "title": {
           "x": 0.05
          },
          "xaxis": {
           "automargin": true,
           "gridcolor": "white",
           "linecolor": "white",
           "ticks": "",
           "title": {
            "standoff": 15
           },
           "zerolinecolor": "white",
           "zerolinewidth": 2
          },
          "yaxis": {
           "automargin": true,
           "gridcolor": "white",
           "linecolor": "white",
           "ticks": "",
           "title": {
            "standoff": 15
           },
           "zerolinecolor": "white",
           "zerolinewidth": 2
          }
         }
        },
        "xaxis": {
         "anchor": "y",
         "domain": [
          0,
          1
         ],
         "title": {
          "text": "valence"
         }
        },
        "xaxis2": {
         "anchor": "y2",
         "domain": [
          0,
          1
         ],
         "matches": "x",
         "showgrid": true,
         "showticklabels": false
        },
        "yaxis": {
         "anchor": "x",
         "domain": [
          0,
          0.8316
         ],
         "title": {
          "text": "count"
         }
        },
        "yaxis2": {
         "anchor": "x2",
         "domain": [
          0.8416,
          1
         ],
         "matches": "y2",
         "showgrid": false,
         "showline": false,
         "showticklabels": false,
         "ticks": ""
        }
       }
      }
     },
     "metadata": {},
     "output_type": "display_data"
    }
   ],
   "source": [
    "fig = px.histogram(df, x=\"valence\", nbins=10, marginal=\"violin\")\n",
    "fig.show()\n"
   ]
  },
  {
   "cell_type": "code",
   "execution_count": 47,
   "metadata": {},
   "outputs": [
    {
     "data": {
      "text/plain": [
       "array(['Depeche Mode', 'Silent Runners', 'The Cure', 'Then Comes Silence',\n",
       "       'Joy Division', 'Kate Bush', 'Iron Maiden', 'Tears For Fears',\n",
       "       'Mr.Kitty', 'The Neighbourhood', 'Joji', 'Kavinsky',\n",
       "       'Phil Collins', 'M83', 'Lil Peep', 'Lil Peep', 'The Neighbourhood',\n",
       "       'Billy Joel', 'EDEN', 'Ocean Alley', 'The xx', 'Bedroom',\n",
       "       'Myslovitz', 'Arctic Monkeys', 'Alphaville', 'Lindemann',\n",
       "       'Edwin Rosen', 'salvia palth', 'Russell Crowe', 'Mr.Kitty',\n",
       "       'Lady Pank', 'Mareux', 'Cigarettes After Sex', 'Bronski Beat',\n",
       "       'Desmond Doom', 'The Police', 'U2'], dtype=object)"
      ]
     },
     "execution_count": 47,
     "metadata": {},
     "output_type": "execute_result"
    }
   ],
   "source": [
    "df[\"artist_name\"].values"
   ]
  },
  {
   "cell_type": "code",
   "execution_count": 65,
   "metadata": {},
   "outputs": [
    {
     "data": {
      "application/vnd.plotly.v1+json": {
       "config": {
        "plotlyServerURL": "https://plot.ly"
       },
       "data": [
        {
         "legendgroup": "valence",
         "marker": {
          "color": "rgb(31, 119, 180)"
         },
         "mode": "lines",
         "name": "valence",
         "showlegend": true,
         "type": "scatter",
         "x": [
          0.0392,
          0.0409996,
          0.042799199999999996,
          0.0445988,
          0.0463984,
          0.048198,
          0.049997599999999996,
          0.0517972,
          0.0535968,
          0.0553964,
          0.057196,
          0.058995599999999995,
          0.060795199999999994,
          0.06259479999999999,
          0.06439439999999999,
          0.066194,
          0.0679936,
          0.0697932,
          0.07159279999999998,
          0.0733924,
          0.075192,
          0.0769916,
          0.0787912,
          0.08059079999999999,
          0.0823904,
          0.08418999999999999,
          0.0859896,
          0.0877892,
          0.0895888,
          0.0913884,
          0.093188,
          0.0949876,
          0.09678719999999999,
          0.0985868,
          0.10038639999999999,
          0.102186,
          0.10398559999999998,
          0.1057852,
          0.1075848,
          0.10938439999999999,
          0.11118399999999999,
          0.11298359999999999,
          0.11478319999999999,
          0.11658279999999999,
          0.1183824,
          0.120182,
          0.1219816,
          0.1237812,
          0.1255808,
          0.1273804,
          0.12918,
          0.13097959999999997,
          0.1327792,
          0.1345788,
          0.1363784,
          0.138178,
          0.13997759999999998,
          0.1417772,
          0.1435768,
          0.1453764,
          0.147176,
          0.14897559999999999,
          0.1507752,
          0.1525748,
          0.1543744,
          0.15617399999999998,
          0.1579736,
          0.1597732,
          0.1615728,
          0.1633724,
          0.16517199999999999,
          0.1669716,
          0.16877119999999995,
          0.17057080000000002,
          0.17237039999999998,
          0.17417,
          0.1759696,
          0.17776920000000002,
          0.17956879999999997,
          0.18136839999999999,
          0.183168,
          0.1849676,
          0.18676719999999997,
          0.18856679999999998,
          0.1903664,
          0.192166,
          0.19396559999999996,
          0.19576519999999997,
          0.19756479999999998,
          0.1993644,
          0.201164,
          0.20296360000000002,
          0.20476319999999998,
          0.2065628,
          0.2083624,
          0.21016200000000002,
          0.21196159999999997,
          0.21376119999999998,
          0.2155608,
          0.21736039999999995,
          0.21915999999999997,
          0.22095959999999998,
          0.2227592,
          0.22455879999999995,
          0.22635839999999996,
          0.22815799999999997,
          0.22995759999999998,
          0.2317572,
          0.2335568,
          0.23535639999999997,
          0.23715599999999998,
          0.2389556,
          0.2407552,
          0.24255479999999996,
          0.24435439999999997,
          0.24615399999999998,
          0.2479536,
          0.24975319999999995,
          0.25155279999999997,
          0.2533524,
          0.255152,
          0.2569516,
          0.2587512,
          0.26055079999999997,
          0.2623504,
          0.26415,
          0.2659496,
          0.26774919999999997,
          0.2695488,
          0.2713484,
          0.273148,
          0.27494759999999996,
          0.27674719999999997,
          0.2785468,
          0.2803464,
          0.28214599999999995,
          0.28394559999999996,
          0.2857452,
          0.2875448,
          0.2893444,
          0.291144,
          0.2929436,
          0.2947432,
          0.29654279999999994,
          0.29834239999999995,
          0.300142,
          0.30194160000000003,
          0.3037412,
          0.3055408,
          0.3073404,
          0.30914,
          0.3109396,
          0.3127392,
          0.3145388,
          0.3163384,
          0.318138,
          0.3199376,
          0.3217372,
          0.3235368,
          0.32533639999999997,
          0.327136,
          0.3289356,
          0.3307352,
          0.33253479999999996,
          0.3343344,
          0.336134,
          0.3379336,
          0.33973319999999996,
          0.34153279999999997,
          0.3433324,
          0.345132,
          0.34693159999999995,
          0.34873119999999996,
          0.3505308,
          0.3523304,
          0.35412999999999994,
          0.3559296,
          0.3577292,
          0.35952880000000004,
          0.3613284,
          0.363128,
          0.3649276,
          0.36672720000000003,
          0.3685268,
          0.3703264,
          0.372126,
          0.3739256,
          0.3757252,
          0.3775248,
          0.3793244,
          0.381124,
          0.3829236,
          0.3847232,
          0.3865228,
          0.38832239999999996,
          0.39012199999999997,
          0.3919216,
          0.3937212,
          0.39552079999999995,
          0.39732039999999996,
          0.39912,
          0.4009196,
          0.40271919999999994,
          0.40451879999999996,
          0.40631839999999997,
          0.408118,
          0.40991759999999994,
          0.41171719999999995,
          0.41351679999999996,
          0.41531640000000003,
          0.417116,
          0.4189156,
          0.4207152,
          0.4225148,
          0.4243144,
          0.426114,
          0.4279136,
          0.4297132,
          0.4315128,
          0.4333124,
          0.435112,
          0.4369116,
          0.43871119999999997,
          0.4405108,
          0.4423104,
          0.44411,
          0.44590959999999996,
          0.4477092,
          0.4495088,
          0.4513084,
          0.45310799999999996,
          0.45490759999999997,
          0.4567072,
          0.4585068,
          0.46030639999999995,
          0.46210599999999996,
          0.4639056,
          0.46570519999999993,
          0.46750479999999994,
          0.46930439999999995,
          0.471104,
          0.4729036,
          0.4747032,
          0.4765028,
          0.4783024,
          0.480102,
          0.4819016,
          0.4837012,
          0.4855008,
          0.48730039999999997,
          0.4891,
          0.4908996,
          0.4926992,
          0.49449879999999996,
          0.4962984,
          0.498098,
          0.4998976,
          0.5016972,
          0.5034968,
          0.5052964,
          0.507096,
          0.5088955999999999,
          0.5106951999999999,
          0.5124947999999999,
          0.5142943999999999,
          0.5160939999999999,
          0.5178936,
          0.5196932,
          0.5214928,
          0.5232923999999999,
          0.5250919999999999,
          0.5268915999999999,
          0.5286911999999999,
          0.5304907999999999,
          0.5322903999999999,
          0.53409,
          0.5358896,
          0.5376892,
          0.5394888,
          0.5412884,
          0.543088,
          0.5448876,
          0.5466872,
          0.5484867999999999,
          0.5502864,
          0.552086,
          0.5538855999999999,
          0.5556852,
          0.5574847999999999,
          0.5592844,
          0.561084,
          0.5628835999999999,
          0.5646832,
          0.5664828,
          0.5682824,
          0.570082,
          0.5718816,
          0.5736812,
          0.5754808,
          0.5772803999999999,
          0.57908,
          0.5808795999999999,
          0.5826792,
          0.5844788,
          0.5862784,
          0.588078,
          0.5898776,
          0.5916771999999999,
          0.5934768,
          0.5952763999999999,
          0.5970759999999999,
          0.5988756,
          0.6006752,
          0.6024748,
          0.6042744,
          0.6060739999999999,
          0.6078736,
          0.6096731999999999,
          0.6114727999999999,
          0.6132723999999999,
          0.615072,
          0.6168716000000001,
          0.6186712,
          0.6204708,
          0.6222704,
          0.62407,
          0.6258695999999999,
          0.6276692,
          0.6294687999999999,
          0.6312684000000001,
          0.633068,
          0.6348676,
          0.6366672,
          0.6384668,
          0.6402663999999999,
          0.642066,
          0.6438655999999999,
          0.6456651999999999,
          0.6474648,
          0.6492644,
          0.651064,
          0.6528636,
          0.6546631999999999,
          0.6564628,
          0.6582623999999999,
          0.6600619999999999,
          0.6618615999999999,
          0.6636612,
          0.6654608,
          0.6672604,
          0.6690599999999999,
          0.6708596,
          0.6726592,
          0.6744587999999999,
          0.6762584,
          0.6780579999999999,
          0.6798576000000001,
          0.6816572,
          0.6834568,
          0.6852564,
          0.687056,
          0.6888555999999999,
          0.6906552,
          0.6924547999999999,
          0.6942544,
          0.696054,
          0.6978536,
          0.6996532,
          0.7014528,
          0.7032523999999999,
          0.705052,
          0.7068515999999999,
          0.7086512,
          0.7104507999999999,
          0.7122504,
          0.71405,
          0.7158496,
          0.7176491999999999,
          0.7194488,
          0.7212483999999999,
          0.723048,
          0.7248475999999999,
          0.7266471999999999,
          0.7284468,
          0.7302464,
          0.732046,
          0.7338456,
          0.7356452,
          0.7374447999999999,
          0.7392444,
          0.7410439999999999,
          0.7428436,
          0.7446432,
          0.7464428,
          0.7482424,
          0.750042,
          0.7518415999999999,
          0.7536412,
          0.7554407999999999,
          0.7572404,
          0.7590399999999999,
          0.7608396,
          0.7626392,
          0.7644388,
          0.7662383999999999,
          0.768038,
          0.7698375999999999,
          0.7716372,
          0.7734367999999999,
          0.7752363999999999,
          0.777036,
          0.7788356,
          0.7806351999999999,
          0.7824348,
          0.7842343999999999,
          0.786034,
          0.7878335999999999,
          0.7896331999999999,
          0.7914328,
          0.7932324,
          0.795032,
          0.7968316,
          0.7986312,
          0.8004308,
          0.8022304,
          0.8040299999999999,
          0.8058296,
          0.8076291999999999,
          0.8094288,
          0.8112284,
          0.813028,
          0.8148275999999999,
          0.8166272,
          0.8184267999999999,
          0.8202264,
          0.8220259999999999,
          0.8238255999999999,
          0.8256252,
          0.8274248,
          0.8292243999999999,
          0.831024,
          0.8328235999999999,
          0.8346232,
          0.8364227999999999,
          0.8382223999999999,
          0.8400219999999999,
          0.8418216,
          0.8436211999999998,
          0.8454208,
          0.8472204,
          0.84902,
          0.8508196,
          0.8526191999999999,
          0.8544188,
          0.8562183999999999,
          0.858018,
          0.8598176,
          0.8616172,
          0.8634168,
          0.8652164,
          0.8670159999999999,
          0.8688156,
          0.8706151999999999,
          0.8724147999999999,
          0.8742144,
          0.876014,
          0.8778136,
          0.8796132,
          0.8814127999999999,
          0.8832124,
          0.8850119999999999,
          0.8868115999999999,
          0.8886111999999999,
          0.8904108,
          0.8922103999999998,
          0.89401,
          0.8958095999999999,
          0.8976092,
          0.8994087999999999,
          0.9012083999999999,
          0.903008,
          0.9048075999999999,
          0.9066072,
          0.9084068,
          0.9102064,
          0.912006,
          0.9138056,
          0.9156051999999999,
          0.9174048,
          0.9192043999999999,
          0.9210039999999999,
          0.9228036,
          0.9246032,
          0.9264028,
          0.9282024,
          0.9300019999999999,
          0.9318016,
          0.9336011999999999,
          0.9354007999999999,
          0.9372003999999999
         ],
         "xaxis": "x",
         "y": [
          0.6106069297140542,
          0.6208281342869074,
          0.6311459105639144,
          0.6415595012321618,
          0.6520680979940745,
          0.6626708407560488,
          0.6733668168380705,
          0.6841550602060128,
          0.69503455072831,
          0.7060042134587194,
          0.717062917946867,
          0.7282094775782789,
          0.7394426489455898,
          0.7507611312526091,
          0.7621635657529067,
          0.7736485352245699,
          0.7852145634827514,
          0.7968601149316085,
          0.8085835941572045,
          0.8203833455629065,
          0.8322576530487782,
          0.8442047397364337,
          0.8562227677407621,
          0.8683098379898961,
          0.8804639900947479,
          0.8926832022693725,
          0.9049653913033808,
          0.9173084125875428,
          0.9297100601936793,
          0.9421680670098711,
          0.9546801049319328,
          0.967243785112056,
          0.9798566582654294,
          0.9925162150355844,
          1.0052198864191337,
          1.0179650442504937,
          1.0307490017471,
          1.0435690141155525,
          1.0564222792190279,
          1.069305938306236,
          1.0822170768020904,
          1.0951527251601976,
          1.1081098597771633,
          1.1210854039686506,
          1.134076229007024,
          1.1470791552203183,
          1.1600909531522139,
          1.1731083447825836,
          1.186128004808105,
          1.1991465619823491,
          1.2121606005146577,
          1.2251666615270627,
          1.238161244568387,
          1.2511408091846112,
          1.264101776544499,
          1.2770405311193957,
          1.2899534224160432,
          1.3028367667611707,
          1.3156868491365563,
          1.3284999250631802,
          1.3412722225330211,
          1.353999943986981,
          1.3666792683373534,
          1.37930635303321,
          1.3918773361669845,
          1.4043883386205147,
          1.4168354662487228,
          1.4292148120990693,
          1.441522458664879,
          1.4537544801705744,
          1.4659069448868152,
          1.4779759174735165,
          1.4899574613486473,
          1.5018476410807238,
          1.5136425248028236,
          1.5253381866459848,
          1.536930709189758,
          1.548416185927717,
          1.559790723745674,
          1.5710504454103484,
          1.5821914920662155,
          1.5932100257382524,
          1.604102231838294,
          1.614864321672693,
          1.6254925349489895,
          1.6359831422792956,
          1.646332447678066,
          1.6565367910520081,
          1.6665925506797836,
          1.6764961456792784,
          1.6862440384601236,
          1.695832737159252,
          1.70525879805722,
          1.714518827973093,
          1.723609486635683,
          1.7325274890289615,
          1.7412696077094867,
          1.74983267509373,
          1.7582135857131684,
          1.7664092984351007,
          1.7744168386471273,
          1.7822333004032773,
          1.7898558485298193,
          1.7972817206888017,
          1.8045082293974255,
          1.8115327640013748,
          1.8183527926002774,
          1.824965863923517,
          1.831369609154635,
          1.837561743702638,
          1.8435400689185342,
          1.8493024737554984,
          1.8548469363710942,
          1.8601715256700353,
          1.8652744027860089,
          1.8701538225011531,
          1.8748081346018048,
          1.879235785169205,
          1.8834353178038912,
          1.8874053747825732,
          1.8911446981463136,
          1.8946521307189323,
          1.8979266170545688,
          1.9009672043134214,
          1.903773043064723,
          1.9063433880160905,
          1.9086775986684152,
          1.9107751398955595,
          1.9126355824481533,
          1.914258603380862,
          1.915643986402563,
          1.9167916221489205,
          1.9177015083769264,
          1.918373750081018,
          1.9188085595304902,
          1.9190062562279349,
          1.9189672667885522,
          1.9186921247402169,
          1.918181470244283,
          1.9174360497371339,
          1.9164567154926055,
          1.9152444251054557,
          1.913800240896114,
          1.912125329237046,
          1.910220959801122,
          1.9080885047324563,
          1.9057294377402498,
          1.903145333116257,
          1.9003378646765747,
          1.897308804628488,
          1.8940600223632404,
          1.8905934831756213,
          1.8869112469113616,
          1.8830154665433991,
          1.8789083866781575,
          1.8745923419930237,
          1.8700697556063393,
          1.8653431373812315,
          1.8604150821647347,
          1.855288267963694,
          1.8499654540590162,
          1.8444494790599242,
          1.838743258899913,
          1.8328497847761984,
          1.826772121034484,
          1.8205134030009844,
          1.814076834763658,
          1.8074656869046963,
          1.8006832941863575,
          1.7937330531923124,
          1.786618419926712,
          1.7793429073732272,
          1.7719100830163992,
          1.7643235663276602,
          1.7565870262184322,
          1.7487041784627746,
          1.7406787830920696,
          1.7325146417642927,
          1.72421559511044,
          1.7157855200607146,
          1.707228327153115,
          1.698547957827084,
          1.6897483817049,
          1.6808335938635186,
          1.6718076120995817,
          1.6626744741903188,
          1.653438235153086,
          1.6441029645062755,
          1.6346727435343489,
          1.625151662559722,
          1.6155438182242259,
          1.6058533107828894,
          1.5960842414127023,
          1.586240709539084,
          1.576326810182683,
          1.566346631329152,
          1.5563042513244918,
          1.5462037362985281,
          1.5360491376190284,
          1.5258444893789498,
          1.5155938059192355,
          1.5053010793895385,
          1.4949702773491804,
          1.4846053404106219,
          1.4742101799276193,
          1.463788675730211,
          1.4533446739085738,
          1.4428819846477465,
          1.4324043801151174,
          1.4219155924024915,
          1.4114193115245062,
          1.4009191834750032,
          1.390418808342973,
          1.379921738489508,
          1.3694314767871556,
          1.3589514749229596,
          1.3484851317663689,
          1.338035791803094,
          1.3276067436359122,
          1.3172012185532787,
          1.3068223891665376,
          1.2964733681164002,
          1.2861572068492508,
          1.2758768944637413,
          1.2656353566280336,
          1.2554354545679292,
          1.2452799841260185,
          1.235171674891895,
          1.2251131894033587,
          1.215107122418417,
          1.2051560002578228,
          1.1952622802177364,
          1.1854283500520564,
          1.1756565275238113,
          1.1659490600249347,
          1.1563081242636446,
          1.14673582601856,
          1.137234199958583,
          1.1278052095274995,
          1.1184507468921692,
          1.109172632953071,
          1.0999726174159246,
          1.0908523789230062,
          1.0818135252427195,
          1.072857593515906,
          1.0639860505573249,
          1.0552002932106663,
          1.0465016487554037,
          1.0378913753637442,
          1.0293706626058932,
          1.0209406320017886,
          1.012602337617445,
          1.0043567667040019,
          0.9962048403775327,
          0.9881474143376688,
          0.9801852796230575,
          0.9723191634016511,
          0.9645497297938443,
          0.9568775807264297,
          0.9493032568153751,
          0.9418272382754145,
          0.9344499458544517,
          0.9271717417907913,
          0.9199929307912361,
          0.9129137610280934,
          0.9059344251531808,
          0.8990550613269308,
          0.8922757542607462,
          0.8855965362707784,
          0.8790173883413608,
          0.8725382411963494,
          0.8661589763767109,
          0.8598794273226967,
          0.8536993804590489,
          0.8476185762817052,
          0.8416367104445479,
          0.8357534348447963,
          0.8299683587057184,
          0.8242810496553851,
          0.818691034800281,
          0.8131978017926387,
          0.8078007998904502,
          0.802499441009163,
          0.7972931007641667,
          0.792181119503221,
          0.7871628033280846,
          0.7822374251046467,
          0.7774042254609531,
          0.7726624137726089,
          0.7680111691350688,
          0.7634496413224586,
          0.7589769517325851,
          0.754592194317911,
          0.7502944365023043,
          0.7460827200834667,
          0.7419560621209896,
          0.737913455810067,
          0.7339538713409448,
          0.730076256744252,
          0.726279538722412,
          0.7225626234673853,
          0.718924397465051,
          0.715363728286574,
          0.7118794653671582,
          0.70847044077262,
          0.7051354699542542,
          0.7018733524925069,
          0.6986828728299909,
          0.6955628009944073,
          0.6925118933119705,
          0.689528893111934,
          0.68661253142285,
          0.6837615276611956,
          0.6809745903130044,
          0.6782504176091559,
          0.6755876981949726,
          0.6729851117947561,
          0.6704413298719162,
          0.6679550162852994,
          0.6655248279423449,
          0.6631494154496469,
          0.6608274237615019,
          0.6585574928269857,
          0.6563382582360738,
          0.6541683518653003,
          0.6520464025233996,
          0.6499710365973539,
          0.6479408786992191,
          0.64595455231407,
          0.6440106804493464,
          0.6421078862858605,
          0.6402447938306477,
          0.6384200285718206,
          0.6366322181355186,
          0.6348799929450014,
          0.6331619868818741,
          0.6314768379493908,
          0.6298231889377113,
          0.6281996880909507,
          0.6266049897757856,
          0.6250377551513492,
          0.6234966528400695,
          0.6219803595990718,
          0.6204875609916987,
          0.6190169520586577,
          0.617567237988251,
          0.6161371347850975,
          0.6147253699367012,
          0.6133306830771856,
          0.6119518266474617,
          0.6105875665510546,
          0.6092366828047852,
          0.6078979701834542,
          0.6065702388576502,
          0.6052523150237687,
          0.603943041525306,
          0.6026412784644597,
          0.6013459038030541,
          0.6000558139517851,
          0.5987699243467715,
          0.5974871700123763,
          0.5962065061092738,
          0.5949269084667151,
          0.5936473740979589,
          0.5923669216978308,
          0.5910845921213916,
          0.5897994488426919,
          0.5885105783926243,
          0.5872170907748901,
          0.5859181198591277,
          0.5846128237502737,
          0.583300385133267,
          0.5819800115922226,
          0.5806509359032631,
          0.5793124163002188,
          0.5779637367124612,
          0.5766042069741824,
          0.5752331630044789,
          0.5738499669576596,
          0.5724540073432481,
          0.5710446991152139,
          0.5696214837300269,
          0.5681838291731913,
          0.5667312299539883,
          0.5652632070682164,
          0.5637793079287949,
          0.562279106264165,
          0.5607622019844914,
          0.5592282210157535,
          0.5576768151018671,
          0.5561076615750813,
          0.5545204630949423,
          0.5529149473562142,
          0.5512908667662002,
          0.5496479980920091,
          0.5479861420783557,
          0.54630512303658,
          0.5446047884056342,
          0.5428850082858551,
          0.5411456749464085,
          0.5393867023073701,
          0.5376080253974513,
          0.5358095997884702,
          0.5339914010076983,
          0.5321534239292974,
          0.5302956821460995,
          0.5284182073230413,
          0.5265210485336151,
          0.5246042715807401,
          0.5226679583034994,
          0.5207122058712355,
          0.5187371260665149,
          0.516742844558524,
          0.5147295001684641,
          0.5126972441285553,
          0.5106462393362582,
          0.5085766596053587,
          0.5064886889155439,
          0.5043825206621304,
          0.5022583569075849,
          0.5001164076364838,
          0.4979568900155512,
          0.4957800276603982,
          0.49358604991056787,
          0.4913751911144777,
          0.4891476899258124,
          0.4869037886129048,
          0.4846437323825943,
          0.48236776872002274,
          0.480076146745785,
          0.47776911659179955,
          0.4754469287972186,
          0.4731098337256432,
          0.4707580810048555,
          0.4683919189902038,
          0.4660115942527391,
          0.46361735109310553,
          0.4612094310821457,
          0.45878807262908355,
          0.45635351057809814,
          0.45390597583399955,
          0.45144569501766835,
          0.44897289015180725,
          0.44648777837750503,
          0.44399057170200024,
          0.4414814767779716,
          0.4389606947145806,
          0.43642842092041667,
          0.4338848449784035,
          0.43133015055264684,
          0.4287645153271056,
          0.42618811097590187,
          0.42360110316498045,
          0.421003651584764,
          0.41839591001335424,
          0.41577802640975414,
          0.41315014303651065,
          0.4105123966110918,
          0.40786491848524414,
          0.40520783485149986,
          0.40254126697593623,
          0.3998653314562144,
          0.39718014050387446,
          0.3944858022497814,
          0.39178242107158184,
          0.3890700979419528,
          0.38634893079639465,
          0.3836190149192512,
          0.3808804433466142,
          0.37813330728471645,
          0.37537769654239056,
          0.3726136999761281,
          0.3698414059462611,
          0.36706090278274595,
          0.3642722792590271,
          0.3614756250724298,
          0.35867103132953326,
          0.3558585910349529,
          0.35303839958197686,
          0.3502105552434877,
          0.3473751596616204,
          0.3445323183346071,
          0.341682141099284,
          0.338824742607745,
          0.3359602427966642,
          0.3330887673478186,
          0.3302104481383892,
          0.3273254236796433,
          0.32443383954264937,
          0.3215358487697026,
          0.31863161227020215,
          0.3157212991997585,
          0.312805087321362,
          0.3098831633475026,
          0.30695572326218595,
          0.3040229726218474,
          0.3010851268342327,
          0.2981424114143773,
          0.2951950622168767,
          0.29224332564371897
         ],
         "yaxis": "y"
        },
        {
         "legendgroup": "valence",
         "marker": {
          "color": "rgb(31, 119, 180)",
          "symbol": "line-ns-open"
         },
         "mode": "markers",
         "name": "valence",
         "showlegend": false,
         "type": "scatter",
         "x": [
          0.752,
          0.254,
          0.451,
          0.416,
          0.909,
          0.197,
          0.227,
          0.535,
          0.0392,
          0.398,
          0.284,
          0.361,
          0.298,
          0.272,
          0.323,
          0.543,
          0.337,
          0.308,
          0.425,
          0.561,
          0.152,
          0.18,
          0.652,
          0.8,
          0.333,
          0.166,
          0.363,
          0.0601,
          0.228,
          0.259,
          0.168,
          0.258,
          0.182,
          0.939,
          0.324,
          0.74,
          0.686
         ],
         "xaxis": "x",
         "y": [
          "valence",
          "valence",
          "valence",
          "valence",
          "valence",
          "valence",
          "valence",
          "valence",
          "valence",
          "valence",
          "valence",
          "valence",
          "valence",
          "valence",
          "valence",
          "valence",
          "valence",
          "valence",
          "valence",
          "valence",
          "valence",
          "valence",
          "valence",
          "valence",
          "valence",
          "valence",
          "valence",
          "valence",
          "valence",
          "valence",
          "valence",
          "valence",
          "valence",
          "valence",
          "valence",
          "valence",
          "valence"
         ],
         "yaxis": "y2"
        }
       ],
       "layout": {
        "barmode": "overlay",
        "hovermode": "closest",
        "legend": {
         "traceorder": "reversed"
        },
        "template": {
         "data": {
          "bar": [
           {
            "error_x": {
             "color": "#2a3f5f"
            },
            "error_y": {
             "color": "#2a3f5f"
            },
            "marker": {
             "line": {
              "color": "#E5ECF6",
              "width": 0.5
             },
             "pattern": {
              "fillmode": "overlay",
              "size": 10,
              "solidity": 0.2
             }
            },
            "type": "bar"
           }
          ],
          "barpolar": [
           {
            "marker": {
             "line": {
              "color": "#E5ECF6",
              "width": 0.5
             },
             "pattern": {
              "fillmode": "overlay",
              "size": 10,
              "solidity": 0.2
             }
            },
            "type": "barpolar"
           }
          ],
          "carpet": [
           {
            "aaxis": {
             "endlinecolor": "#2a3f5f",
             "gridcolor": "white",
             "linecolor": "white",
             "minorgridcolor": "white",
             "startlinecolor": "#2a3f5f"
            },
            "baxis": {
             "endlinecolor": "#2a3f5f",
             "gridcolor": "white",
             "linecolor": "white",
             "minorgridcolor": "white",
             "startlinecolor": "#2a3f5f"
            },
            "type": "carpet"
           }
          ],
          "choropleth": [
           {
            "colorbar": {
             "outlinewidth": 0,
             "ticks": ""
            },
            "type": "choropleth"
           }
          ],
          "contour": [
           {
            "colorbar": {
             "outlinewidth": 0,
             "ticks": ""
            },
            "colorscale": [
             [
              0,
              "#0d0887"
             ],
             [
              0.1111111111111111,
              "#46039f"
             ],
             [
              0.2222222222222222,
              "#7201a8"
             ],
             [
              0.3333333333333333,
              "#9c179e"
             ],
             [
              0.4444444444444444,
              "#bd3786"
             ],
             [
              0.5555555555555556,
              "#d8576b"
             ],
             [
              0.6666666666666666,
              "#ed7953"
             ],
             [
              0.7777777777777778,
              "#fb9f3a"
             ],
             [
              0.8888888888888888,
              "#fdca26"
             ],
             [
              1,
              "#f0f921"
             ]
            ],
            "type": "contour"
           }
          ],
          "contourcarpet": [
           {
            "colorbar": {
             "outlinewidth": 0,
             "ticks": ""
            },
            "type": "contourcarpet"
           }
          ],
          "heatmap": [
           {
            "colorbar": {
             "outlinewidth": 0,
             "ticks": ""
            },
            "colorscale": [
             [
              0,
              "#0d0887"
             ],
             [
              0.1111111111111111,
              "#46039f"
             ],
             [
              0.2222222222222222,
              "#7201a8"
             ],
             [
              0.3333333333333333,
              "#9c179e"
             ],
             [
              0.4444444444444444,
              "#bd3786"
             ],
             [
              0.5555555555555556,
              "#d8576b"
             ],
             [
              0.6666666666666666,
              "#ed7953"
             ],
             [
              0.7777777777777778,
              "#fb9f3a"
             ],
             [
              0.8888888888888888,
              "#fdca26"
             ],
             [
              1,
              "#f0f921"
             ]
            ],
            "type": "heatmap"
           }
          ],
          "heatmapgl": [
           {
            "colorbar": {
             "outlinewidth": 0,
             "ticks": ""
            },
            "colorscale": [
             [
              0,
              "#0d0887"
             ],
             [
              0.1111111111111111,
              "#46039f"
             ],
             [
              0.2222222222222222,
              "#7201a8"
             ],
             [
              0.3333333333333333,
              "#9c179e"
             ],
             [
              0.4444444444444444,
              "#bd3786"
             ],
             [
              0.5555555555555556,
              "#d8576b"
             ],
             [
              0.6666666666666666,
              "#ed7953"
             ],
             [
              0.7777777777777778,
              "#fb9f3a"
             ],
             [
              0.8888888888888888,
              "#fdca26"
             ],
             [
              1,
              "#f0f921"
             ]
            ],
            "type": "heatmapgl"
           }
          ],
          "histogram": [
           {
            "marker": {
             "pattern": {
              "fillmode": "overlay",
              "size": 10,
              "solidity": 0.2
             }
            },
            "type": "histogram"
           }
          ],
          "histogram2d": [
           {
            "colorbar": {
             "outlinewidth": 0,
             "ticks": ""
            },
            "colorscale": [
             [
              0,
              "#0d0887"
             ],
             [
              0.1111111111111111,
              "#46039f"
             ],
             [
              0.2222222222222222,
              "#7201a8"
             ],
             [
              0.3333333333333333,
              "#9c179e"
             ],
             [
              0.4444444444444444,
              "#bd3786"
             ],
             [
              0.5555555555555556,
              "#d8576b"
             ],
             [
              0.6666666666666666,
              "#ed7953"
             ],
             [
              0.7777777777777778,
              "#fb9f3a"
             ],
             [
              0.8888888888888888,
              "#fdca26"
             ],
             [
              1,
              "#f0f921"
             ]
            ],
            "type": "histogram2d"
           }
          ],
          "histogram2dcontour": [
           {
            "colorbar": {
             "outlinewidth": 0,
             "ticks": ""
            },
            "colorscale": [
             [
              0,
              "#0d0887"
             ],
             [
              0.1111111111111111,
              "#46039f"
             ],
             [
              0.2222222222222222,
              "#7201a8"
             ],
             [
              0.3333333333333333,
              "#9c179e"
             ],
             [
              0.4444444444444444,
              "#bd3786"
             ],
             [
              0.5555555555555556,
              "#d8576b"
             ],
             [
              0.6666666666666666,
              "#ed7953"
             ],
             [
              0.7777777777777778,
              "#fb9f3a"
             ],
             [
              0.8888888888888888,
              "#fdca26"
             ],
             [
              1,
              "#f0f921"
             ]
            ],
            "type": "histogram2dcontour"
           }
          ],
          "mesh3d": [
           {
            "colorbar": {
             "outlinewidth": 0,
             "ticks": ""
            },
            "type": "mesh3d"
           }
          ],
          "parcoords": [
           {
            "line": {
             "colorbar": {
              "outlinewidth": 0,
              "ticks": ""
             }
            },
            "type": "parcoords"
           }
          ],
          "pie": [
           {
            "automargin": true,
            "type": "pie"
           }
          ],
          "scatter": [
           {
            "fillpattern": {
             "fillmode": "overlay",
             "size": 10,
             "solidity": 0.2
            },
            "type": "scatter"
           }
          ],
          "scatter3d": [
           {
            "line": {
             "colorbar": {
              "outlinewidth": 0,
              "ticks": ""
             }
            },
            "marker": {
             "colorbar": {
              "outlinewidth": 0,
              "ticks": ""
             }
            },
            "type": "scatter3d"
           }
          ],
          "scattercarpet": [
           {
            "marker": {
             "colorbar": {
              "outlinewidth": 0,
              "ticks": ""
             }
            },
            "type": "scattercarpet"
           }
          ],
          "scattergeo": [
           {
            "marker": {
             "colorbar": {
              "outlinewidth": 0,
              "ticks": ""
             }
            },
            "type": "scattergeo"
           }
          ],
          "scattergl": [
           {
            "marker": {
             "colorbar": {
              "outlinewidth": 0,
              "ticks": ""
             }
            },
            "type": "scattergl"
           }
          ],
          "scattermapbox": [
           {
            "marker": {
             "colorbar": {
              "outlinewidth": 0,
              "ticks": ""
             }
            },
            "type": "scattermapbox"
           }
          ],
          "scatterpolar": [
           {
            "marker": {
             "colorbar": {
              "outlinewidth": 0,
              "ticks": ""
             }
            },
            "type": "scatterpolar"
           }
          ],
          "scatterpolargl": [
           {
            "marker": {
             "colorbar": {
              "outlinewidth": 0,
              "ticks": ""
             }
            },
            "type": "scatterpolargl"
           }
          ],
          "scatterternary": [
           {
            "marker": {
             "colorbar": {
              "outlinewidth": 0,
              "ticks": ""
             }
            },
            "type": "scatterternary"
           }
          ],
          "surface": [
           {
            "colorbar": {
             "outlinewidth": 0,
             "ticks": ""
            },
            "colorscale": [
             [
              0,
              "#0d0887"
             ],
             [
              0.1111111111111111,
              "#46039f"
             ],
             [
              0.2222222222222222,
              "#7201a8"
             ],
             [
              0.3333333333333333,
              "#9c179e"
             ],
             [
              0.4444444444444444,
              "#bd3786"
             ],
             [
              0.5555555555555556,
              "#d8576b"
             ],
             [
              0.6666666666666666,
              "#ed7953"
             ],
             [
              0.7777777777777778,
              "#fb9f3a"
             ],
             [
              0.8888888888888888,
              "#fdca26"
             ],
             [
              1,
              "#f0f921"
             ]
            ],
            "type": "surface"
           }
          ],
          "table": [
           {
            "cells": {
             "fill": {
              "color": "#EBF0F8"
             },
             "line": {
              "color": "white"
             }
            },
            "header": {
             "fill": {
              "color": "#C8D4E3"
             },
             "line": {
              "color": "white"
             }
            },
            "type": "table"
           }
          ]
         },
         "layout": {
          "annotationdefaults": {
           "arrowcolor": "#2a3f5f",
           "arrowhead": 0,
           "arrowwidth": 1
          },
          "autotypenumbers": "strict",
          "coloraxis": {
           "colorbar": {
            "outlinewidth": 0,
            "ticks": ""
           }
          },
          "colorscale": {
           "diverging": [
            [
             0,
             "#8e0152"
            ],
            [
             0.1,
             "#c51b7d"
            ],
            [
             0.2,
             "#de77ae"
            ],
            [
             0.3,
             "#f1b6da"
            ],
            [
             0.4,
             "#fde0ef"
            ],
            [
             0.5,
             "#f7f7f7"
            ],
            [
             0.6,
             "#e6f5d0"
            ],
            [
             0.7,
             "#b8e186"
            ],
            [
             0.8,
             "#7fbc41"
            ],
            [
             0.9,
             "#4d9221"
            ],
            [
             1,
             "#276419"
            ]
           ],
           "sequential": [
            [
             0,
             "#0d0887"
            ],
            [
             0.1111111111111111,
             "#46039f"
            ],
            [
             0.2222222222222222,
             "#7201a8"
            ],
            [
             0.3333333333333333,
             "#9c179e"
            ],
            [
             0.4444444444444444,
             "#bd3786"
            ],
            [
             0.5555555555555556,
             "#d8576b"
            ],
            [
             0.6666666666666666,
             "#ed7953"
            ],
            [
             0.7777777777777778,
             "#fb9f3a"
            ],
            [
             0.8888888888888888,
             "#fdca26"
            ],
            [
             1,
             "#f0f921"
            ]
           ],
           "sequentialminus": [
            [
             0,
             "#0d0887"
            ],
            [
             0.1111111111111111,
             "#46039f"
            ],
            [
             0.2222222222222222,
             "#7201a8"
            ],
            [
             0.3333333333333333,
             "#9c179e"
            ],
            [
             0.4444444444444444,
             "#bd3786"
            ],
            [
             0.5555555555555556,
             "#d8576b"
            ],
            [
             0.6666666666666666,
             "#ed7953"
            ],
            [
             0.7777777777777778,
             "#fb9f3a"
            ],
            [
             0.8888888888888888,
             "#fdca26"
            ],
            [
             1,
             "#f0f921"
            ]
           ]
          },
          "colorway": [
           "#636efa",
           "#EF553B",
           "#00cc96",
           "#ab63fa",
           "#FFA15A",
           "#19d3f3",
           "#FF6692",
           "#B6E880",
           "#FF97FF",
           "#FECB52"
          ],
          "font": {
           "color": "#2a3f5f"
          },
          "geo": {
           "bgcolor": "white",
           "lakecolor": "white",
           "landcolor": "#E5ECF6",
           "showlakes": true,
           "showland": true,
           "subunitcolor": "white"
          },
          "hoverlabel": {
           "align": "left"
          },
          "hovermode": "closest",
          "mapbox": {
           "style": "light"
          },
          "paper_bgcolor": "white",
          "plot_bgcolor": "#E5ECF6",
          "polar": {
           "angularaxis": {
            "gridcolor": "white",
            "linecolor": "white",
            "ticks": ""
           },
           "bgcolor": "#E5ECF6",
           "radialaxis": {
            "gridcolor": "white",
            "linecolor": "white",
            "ticks": ""
           }
          },
          "scene": {
           "xaxis": {
            "backgroundcolor": "#E5ECF6",
            "gridcolor": "white",
            "gridwidth": 2,
            "linecolor": "white",
            "showbackground": true,
            "ticks": "",
            "zerolinecolor": "white"
           },
           "yaxis": {
            "backgroundcolor": "#E5ECF6",
            "gridcolor": "white",
            "gridwidth": 2,
            "linecolor": "white",
            "showbackground": true,
            "ticks": "",
            "zerolinecolor": "white"
           },
           "zaxis": {
            "backgroundcolor": "#E5ECF6",
            "gridcolor": "white",
            "gridwidth": 2,
            "linecolor": "white",
            "showbackground": true,
            "ticks": "",
            "zerolinecolor": "white"
           }
          },
          "shapedefaults": {
           "line": {
            "color": "#2a3f5f"
           }
          },
          "ternary": {
           "aaxis": {
            "gridcolor": "white",
            "linecolor": "white",
            "ticks": ""
           },
           "baxis": {
            "gridcolor": "white",
            "linecolor": "white",
            "ticks": ""
           },
           "bgcolor": "#E5ECF6",
           "caxis": {
            "gridcolor": "white",
            "linecolor": "white",
            "ticks": ""
           }
          },
          "title": {
           "x": 0.05
          },
          "xaxis": {
           "automargin": true,
           "gridcolor": "white",
           "linecolor": "white",
           "ticks": "",
           "title": {
            "standoff": 15
           },
           "zerolinecolor": "white",
           "zerolinewidth": 2
          },
          "yaxis": {
           "automargin": true,
           "gridcolor": "white",
           "linecolor": "white",
           "ticks": "",
           "title": {
            "standoff": 15
           },
           "zerolinecolor": "white",
           "zerolinewidth": 2
          }
         }
        },
        "xaxis": {
         "anchor": "y2",
         "domain": [
          0,
          1
         ],
         "zeroline": false
        },
        "yaxis": {
         "anchor": "free",
         "domain": [
          0.35,
          1
         ],
         "position": 0
        },
        "yaxis2": {
         "anchor": "x",
         "domain": [
          0,
          0.25
         ],
         "dtick": 1,
         "showticklabels": false
        }
       }
      }
     },
     "metadata": {},
     "output_type": "display_data"
    }
   ],
   "source": [
    "import plotly.figure_factory as ff\n",
    "\n",
    "fig = ff.create_distplot([df[\"valence\"]], [\"valence\"], bin_size=.1, show_hist=False)\n",
    "fig.show()"
   ]
  },
  {
   "cell_type": "code",
   "execution_count": 30,
   "metadata": {},
   "outputs": [],
   "source": [
    "mode_artist = df[\"artist_name\"].mode().values"
   ]
  },
  {
   "cell_type": "code",
   "execution_count": 32,
   "metadata": {},
   "outputs": [
    {
     "data": {
      "text/plain": [
       "array(['Lil Peep', 'Mr.Kitty', 'The Neighbourhood'], dtype=object)"
      ]
     },
     "execution_count": 32,
     "metadata": {},
     "output_type": "execute_result"
    }
   ],
   "source": [
    "mode_artist"
   ]
  },
  {
   "cell_type": "code",
   "execution_count": 33,
   "metadata": {},
   "outputs": [
    {
     "data": {
      "text/plain": [
       "array([ True,  True,  True, False, False, False, False, False, False,\n",
       "       False, False, False, False, False, False, False, False, False,\n",
       "       False, False, False, False, False, False, False, False, False,\n",
       "       False, False, False, False, False, False, False])"
      ]
     },
     "execution_count": 33,
     "metadata": {},
     "output_type": "execute_result"
    }
   ],
   "source": [
    "df[\"artist_name\"].value_counts().index.isin(mode_artist)"
   ]
  },
  {
   "cell_type": "code",
   "execution_count": null,
   "metadata": {},
   "outputs": [],
   "source": []
  }
 ],
 "metadata": {
  "kernelspec": {
   "display_name": "venv",
   "language": "python",
   "name": "python3"
  },
  "language_info": {
   "codemirror_mode": {
    "name": "ipython",
    "version": 3
   },
   "file_extension": ".py",
   "mimetype": "text/x-python",
   "name": "python",
   "nbconvert_exporter": "python",
   "pygments_lexer": "ipython3",
   "version": "3.10.7"
  },
  "orig_nbformat": 4
 },
 "nbformat": 4,
 "nbformat_minor": 2
}
