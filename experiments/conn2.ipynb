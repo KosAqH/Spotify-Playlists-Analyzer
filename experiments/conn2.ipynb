{
 "cells": [
  {
   "cell_type": "code",
   "execution_count": 3,
   "metadata": {},
   "outputs": [],
   "source": [
    "import requests\n",
    "import os\n",
    "from spotify_utils import load_credentials\n",
    "\n",
    "api_key, api_secret = load_credentials()"
   ]
  },
  {
   "cell_type": "code",
   "execution_count": 4,
   "metadata": {},
   "outputs": [
    {
     "data": {
      "text/plain": [
       "'BQD0cAfi_DQTpOoN04IP3UxfKw6-jVS3MZDtyVLYiALroVf26gCHO6oWjNs9zGU0Vyiy8apjhryay0is_NxGYX3vEEsgrEJ12SxTlZb1R60nGFFhTtI'"
      ]
     },
     "execution_count": 4,
     "metadata": {},
     "output_type": "execute_result"
    }
   ],
   "source": [
    "from spotify_connection import SpotifyConn\n",
    "conn = SpotifyConn()\n",
    "conn.authorize(api_key, api_secret)\n",
    "conn.get_access_token()"
   ]
  },
  {
   "cell_type": "code",
   "execution_count": null,
   "metadata": {},
   "outputs": [],
   "source": [
    "from spotify_api import SpotifyApi"
   ]
  }
 ],
 "metadata": {
  "kernelspec": {
   "display_name": "venv",
   "language": "python",
   "name": "python3"
  },
  "language_info": {
   "codemirror_mode": {
    "name": "ipython",
    "version": 3
   },
   "file_extension": ".py",
   "mimetype": "text/x-python",
   "name": "python",
   "nbconvert_exporter": "python",
   "pygments_lexer": "ipython3",
   "version": "3.10.7"
  },
  "orig_nbformat": 4
 },
 "nbformat": 4,
 "nbformat_minor": 2
}
