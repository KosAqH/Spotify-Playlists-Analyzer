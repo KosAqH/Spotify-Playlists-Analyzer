{
 "cells": [
  {
   "cell_type": "code",
   "execution_count": 1,
   "metadata": {},
   "outputs": [],
   "source": [
    "import requests\n",
    "import os\n",
    "from spotify_utils import load_credentials\n",
    "\n",
    "api_key, api_secret = load_credentials()"
   ]
  },
  {
   "cell_type": "code",
   "execution_count": 2,
   "metadata": {},
   "outputs": [],
   "source": [
    "from spotify_connection import SpotifyConn\n",
    "conn = SpotifyConn()\n",
    "conn.authorize(api_key, api_secret)\n",
    "token = conn.get_access_token()"
   ]
  },
  {
   "cell_type": "code",
   "execution_count": 3,
   "metadata": {},
   "outputs": [],
   "source": [
    "from spotify_api import SpotifyApi\n",
    "api = SpotifyApi(token)"
   ]
  },
  {
   "cell_type": "code",
   "execution_count": 4,
   "metadata": {},
   "outputs": [],
   "source": [
    "p = api.GetPlaylistInfo(\"387OhCc6mEbm96wzfFfhpp\")"
   ]
  },
  {
   "cell_type": "code",
   "execution_count": 5,
   "metadata": {},
   "outputs": [
    {
     "data": {
      "text/plain": [
       "dict_keys(['collaborative', 'description', 'external_urls', 'followers', 'href', 'id', 'images', 'name', 'owner', 'primary_color', 'public', 'snapshot_id', 'tracks', 'type', 'uri'])"
      ]
     },
     "execution_count": 5,
     "metadata": {},
     "output_type": "execute_result"
    }
   ],
   "source": [
    "p.keys()"
   ]
  },
  {
   "cell_type": "code",
   "execution_count": 6,
   "metadata": {},
   "outputs": [
    {
     "data": {
      "text/plain": [
       "84"
      ]
     },
     "execution_count": 6,
     "metadata": {},
     "output_type": "execute_result"
    }
   ],
   "source": [
    "p[\"tracks\"][\"total\"]"
   ]
  },
  {
   "cell_type": "code",
   "execution_count": 7,
   "metadata": {},
   "outputs": [
    {
     "name": "stdout",
     "output_type": "stream",
     "text": [
      "38T0tPVZHcPZyhtOcCP7pF\n",
      "0RM8O4t1Bhm5kqp0v6bdlp\n",
      "5scYmJwXDkJKwZxCyZ2eJi\n",
      "6jrhM7a1WutMCrxstNERAS\n",
      "7bKTYD3I09ooHVVIPT8TVs\n",
      "6XJJZX0iAIRjvJV3Cp37Ld\n",
      "3vI81Vdm9QTMTHJ4jLKT0I\n",
      "3w9BvZtn4KYDLbv9uHYMyR\n",
      "2LMXAlcaN53mR1eHiwnJbb\n",
      "2oKlfdH7fCAe8z747g4nB1\n",
      "5wY7ZogIkopqocAjGeyzPO\n",
      "77CdmLyI4X3aMaIM8tDfAh\n",
      "3loPEnpB2etfSF6yj55No7\n",
      "3VjEZW12YW8yIxjKIzUZfi\n",
      "5se16gmowjt08lPNzhM9zB\n",
      "2HoUttBjnYCtEoXsNbOXam\n",
      "4Mtx9n9E7YPHOlZ2JP9ahR\n",
      "2X3JGSEfV6nFpGA7vE2J6j\n",
      "0jxRiAmMulCY61Tbt8AUrB\n",
      "1Rn0B4zeGbcttEct0N1XpP\n",
      "7KP37Bb5QbhCPj8dYOO5Fz\n",
      "2oKlfdH7fCAe8z747g4nB1\n",
      "6y20BV5L33R8YXM0YuI38N\n",
      "1RwDsaft1szD0FO3DVEtaT\n",
      "5fb0p81SAZBkZEvmLAfGKz\n",
      "0MHHAIjPAd3OSfBS3H0fPg\n",
      "3XaQQKhU2pumYcya8Xypro\n",
      "52LL3IFB8N3PaJmoZ8Xii1\n",
      "06hBdrgjUendZyH9U1WV22\n",
      "5xoNx4guLOeGsuFxuqTord\n",
      "4zx4H3Q0ASymmPgbfUmeRo\n",
      "6GyDY0yE47rfk8pcuKhioh\n",
      "1D3YGmST01Ba0WRiT7THPG\n",
      "1rzYrkxgRuLLJDqWdB32pK\n",
      "0wzRcekWyVCSyPtlPOeJau\n",
      "37gG4GPeTRPKKdXYx3zTRC\n",
      "7f9I5WdyXm5q1XqnSYgQZb\n",
      "0NdTUS4UiNYCNn5FgVqKQY\n",
      "3czdA0j4iaLDJJCoT5D8iP\n",
      "6wVWJl64yoTzU27EI8ep20\n",
      "5kxVyCgEUND7E2QKG7JmoF\n",
      "5eyTC5GZzpzlN7YRO9AoPf\n",
      "5bsnLiT00hG37qd8p2jdVl\n",
      "086myS9r57YsLbJpU0TgK9\n",
      "7nzsY8vlnKdvGOEE0rjAXZ\n",
      "5Z5nbOXhsSbySVC7WUc6y9\n",
      "45n7uujqwmMyBMjBu9SwRu\n",
      "2x8evxqUlF0eRabbW2JBJd\n",
      "0z5x3VmmQ7cyTeOP7VAf3T\n",
      "5FVd6KXrgO9B3JPmC8OPst\n",
      "2fyIS6GXMgUcSv4oejx63f\n",
      "1zx6GSqLYI2ynzAHnPRKBR\n",
      "0BxE4FqsDD1Ot4YuBXwAPp\n",
      "42GuKw49pPxNAkIhWGwgFs\n",
      "5hljqZrl0h7RcIhUnOPuve\n",
      "3DQVgcqaP3iSMbaKsd57l5\n",
      "2AT8iROs4FQueDv2c8q2KE\n",
      "3KJykNgI7TNt021kxuwmZN\n",
      "6Yq2Dnb5Gre9mAT0TEDiZx\n",
      "1665EkzeTTVQPc54hX6TJ2\n",
      "2fNLY6Ks5tKg2e4zRClS0k\n",
      "34cApnF3mzQP4nQUPlVHKs\n",
      "41w6ltCbsfGBfvtPjnoClr\n",
      "3yEHNTreqh59UTvirrfj3c\n",
      "4pzRQIRRHXYsAryBKXALCF\n",
      "6Zqigzh6qzzkJyEuYAR0oh\n",
      "4t9QTp7MClntMBhGeHhmqX\n",
      "7jCy1opEtV4a0TnKrtsSdo\n",
      "4DVPJXPqKLIon9BHklap1w\n",
      "33HgPbip48TE0sFcWtqX8u\n",
      "3iIu8fcVztSKU1uiz5xfuc\n",
      "29DR7RKR6iAbWbjM9SQRu8\n",
      "6wkV4uyxWrfNim5QmLmQnp\n",
      "1ZZ7uFD6pS1Rt3ELtMqsSl\n",
      "4yHfTcEnBFtnHYAjp5ECIR\n",
      "1ZVtivOJ0BjrwCSgeGKL1b\n",
      "6ClWZ12bBTGXAUjSkvGZdj\n",
      "2Y6sYRN1zHuC4RE7ftNWYt\n",
      "0KMDkQbcglNudXuynwKMs6\n",
      "3KJykNgI7TNt021kxuwmZN\n",
      "4yI1Xf1Jtb3ik0YjTprblB\n",
      "5EYdTPdJD74r9EVZBztqGG\n",
      "4CeeEOM32jQcH3eN9Q2dGj\n",
      "2nFaT0t36H6UX3wN3Vxvjm\n"
     ]
    }
   ],
   "source": [
    "for t in p[\"tracks\"][\"items\"]:\n",
    "    print(t[\"track\"][\"id\"])"
   ]
  },
  {
   "cell_type": "code",
   "execution_count": 8,
   "metadata": {},
   "outputs": [
    {
     "data": {
      "text/plain": [
       "{'added_at': '2023-07-18T16:59:41Z',\n",
       " 'added_by': {'external_urls': {'spotify': 'https://open.spotify.com/user/kosa99pl'},\n",
       "  'href': 'https://api.spotify.com/v1/users/kosa99pl',\n",
       "  'id': 'kosa99pl',\n",
       "  'type': 'user',\n",
       "  'uri': 'spotify:user:kosa99pl'},\n",
       " 'is_local': False,\n",
       " 'primary_color': None,\n",
       " 'track': {'album': {'album_type': 'single',\n",
       "   'artists': [{'external_urls': {'spotify': 'https://open.spotify.com/artist/7jVv8c5Fj3E9VhNjxT4snq'},\n",
       "     'href': 'https://api.spotify.com/v1/artists/7jVv8c5Fj3E9VhNjxT4snq',\n",
       "     'id': '7jVv8c5Fj3E9VhNjxT4snq',\n",
       "     'name': 'Lil Nas X',\n",
       "     'type': 'artist',\n",
       "     'uri': 'spotify:artist:7jVv8c5Fj3E9VhNjxT4snq'}],\n",
       "   'available_markets': ['AD',\n",
       "    'AE',\n",
       "    'AG',\n",
       "    'AL',\n",
       "    'AM',\n",
       "    'AO',\n",
       "    'AR',\n",
       "    'AT',\n",
       "    'AU',\n",
       "    'AZ',\n",
       "    'BA',\n",
       "    'BB',\n",
       "    'BD',\n",
       "    'BE',\n",
       "    'BF',\n",
       "    'BG',\n",
       "    'BH',\n",
       "    'BI',\n",
       "    'BJ',\n",
       "    'BN',\n",
       "    'BO',\n",
       "    'BR',\n",
       "    'BS',\n",
       "    'BT',\n",
       "    'BW',\n",
       "    'BY',\n",
       "    'BZ',\n",
       "    'CA',\n",
       "    'CD',\n",
       "    'CG',\n",
       "    'CH',\n",
       "    'CI',\n",
       "    'CL',\n",
       "    'CM',\n",
       "    'CO',\n",
       "    'CR',\n",
       "    'CV',\n",
       "    'CW',\n",
       "    'CY',\n",
       "    'CZ',\n",
       "    'DE',\n",
       "    'DJ',\n",
       "    'DK',\n",
       "    'DM',\n",
       "    'DO',\n",
       "    'DZ',\n",
       "    'EC',\n",
       "    'EE',\n",
       "    'EG',\n",
       "    'ES',\n",
       "    'ET',\n",
       "    'FI',\n",
       "    'FJ',\n",
       "    'FM',\n",
       "    'FR',\n",
       "    'GA',\n",
       "    'GB',\n",
       "    'GD',\n",
       "    'GE',\n",
       "    'GH',\n",
       "    'GM',\n",
       "    'GN',\n",
       "    'GQ',\n",
       "    'GR',\n",
       "    'GT',\n",
       "    'GW',\n",
       "    'GY',\n",
       "    'HK',\n",
       "    'HN',\n",
       "    'HR',\n",
       "    'HT',\n",
       "    'HU',\n",
       "    'ID',\n",
       "    'IE',\n",
       "    'IL',\n",
       "    'IN',\n",
       "    'IQ',\n",
       "    'IS',\n",
       "    'IT',\n",
       "    'JM',\n",
       "    'JO',\n",
       "    'JP',\n",
       "    'KE',\n",
       "    'KG',\n",
       "    'KH',\n",
       "    'KI',\n",
       "    'KM',\n",
       "    'KN',\n",
       "    'KR',\n",
       "    'KW',\n",
       "    'KZ',\n",
       "    'LA',\n",
       "    'LB',\n",
       "    'LC',\n",
       "    'LI',\n",
       "    'LK',\n",
       "    'LR',\n",
       "    'LS',\n",
       "    'LT',\n",
       "    'LU',\n",
       "    'LV',\n",
       "    'LY',\n",
       "    'MA',\n",
       "    'MC',\n",
       "    'MD',\n",
       "    'ME',\n",
       "    'MG',\n",
       "    'MH',\n",
       "    'MK',\n",
       "    'ML',\n",
       "    'MN',\n",
       "    'MO',\n",
       "    'MR',\n",
       "    'MT',\n",
       "    'MU',\n",
       "    'MV',\n",
       "    'MW',\n",
       "    'MX',\n",
       "    'MY',\n",
       "    'MZ',\n",
       "    'NA',\n",
       "    'NE',\n",
       "    'NG',\n",
       "    'NI',\n",
       "    'NL',\n",
       "    'NO',\n",
       "    'NP',\n",
       "    'NR',\n",
       "    'NZ',\n",
       "    'OM',\n",
       "    'PA',\n",
       "    'PE',\n",
       "    'PG',\n",
       "    'PH',\n",
       "    'PK',\n",
       "    'PL',\n",
       "    'PS',\n",
       "    'PT',\n",
       "    'PW',\n",
       "    'PY',\n",
       "    'QA',\n",
       "    'RO',\n",
       "    'RS',\n",
       "    'RW',\n",
       "    'SA',\n",
       "    'SB',\n",
       "    'SC',\n",
       "    'SE',\n",
       "    'SG',\n",
       "    'SI',\n",
       "    'SK',\n",
       "    'SL',\n",
       "    'SM',\n",
       "    'SN',\n",
       "    'SR',\n",
       "    'ST',\n",
       "    'SV',\n",
       "    'SZ',\n",
       "    'TD',\n",
       "    'TG',\n",
       "    'TH',\n",
       "    'TJ',\n",
       "    'TL',\n",
       "    'TN',\n",
       "    'TO',\n",
       "    'TR',\n",
       "    'TT',\n",
       "    'TV',\n",
       "    'TW',\n",
       "    'TZ',\n",
       "    'UA',\n",
       "    'UG',\n",
       "    'US',\n",
       "    'UY',\n",
       "    'UZ',\n",
       "    'VC',\n",
       "    'VE',\n",
       "    'VN',\n",
       "    'VU',\n",
       "    'WS',\n",
       "    'XK',\n",
       "    'ZA',\n",
       "    'ZM',\n",
       "    'ZW'],\n",
       "   'external_urls': {'spotify': 'https://open.spotify.com/album/0aIy6J8M9yHTnjtRu81Nr9'},\n",
       "   'href': 'https://api.spotify.com/v1/albums/0aIy6J8M9yHTnjtRu81Nr9',\n",
       "   'id': '0aIy6J8M9yHTnjtRu81Nr9',\n",
       "   'images': [{'height': 640,\n",
       "     'url': 'https://i.scdn.co/image/ab67616d0000b27304cd9a1664fb4539a55643fe',\n",
       "     'width': 640},\n",
       "    {'height': 300,\n",
       "     'url': 'https://i.scdn.co/image/ab67616d00001e0204cd9a1664fb4539a55643fe',\n",
       "     'width': 300},\n",
       "    {'height': 64,\n",
       "     'url': 'https://i.scdn.co/image/ab67616d0000485104cd9a1664fb4539a55643fe',\n",
       "     'width': 64}],\n",
       "   'name': \"STAR WALKIN' (League of Legends Worlds Anthem)\",\n",
       "   'release_date': '2022-09-22',\n",
       "   'release_date_precision': 'day',\n",
       "   'total_tracks': 1,\n",
       "   'type': 'album',\n",
       "   'uri': 'spotify:album:0aIy6J8M9yHTnjtRu81Nr9'},\n",
       "  'artists': [{'external_urls': {'spotify': 'https://open.spotify.com/artist/7jVv8c5Fj3E9VhNjxT4snq'},\n",
       "    'href': 'https://api.spotify.com/v1/artists/7jVv8c5Fj3E9VhNjxT4snq',\n",
       "    'id': '7jVv8c5Fj3E9VhNjxT4snq',\n",
       "    'name': 'Lil Nas X',\n",
       "    'type': 'artist',\n",
       "    'uri': 'spotify:artist:7jVv8c5Fj3E9VhNjxT4snq'}],\n",
       "  'available_markets': ['AR',\n",
       "   'AU',\n",
       "   'AT',\n",
       "   'BE',\n",
       "   'BO',\n",
       "   'BR',\n",
       "   'BG',\n",
       "   'CA',\n",
       "   'CL',\n",
       "   'CO',\n",
       "   'CR',\n",
       "   'CY',\n",
       "   'CZ',\n",
       "   'DK',\n",
       "   'DO',\n",
       "   'DE',\n",
       "   'EC',\n",
       "   'EE',\n",
       "   'SV',\n",
       "   'FI',\n",
       "   'FR',\n",
       "   'GR',\n",
       "   'GT',\n",
       "   'HN',\n",
       "   'HK',\n",
       "   'HU',\n",
       "   'IS',\n",
       "   'IE',\n",
       "   'IT',\n",
       "   'LV',\n",
       "   'LT',\n",
       "   'LU',\n",
       "   'MY',\n",
       "   'MT',\n",
       "   'MX',\n",
       "   'NL',\n",
       "   'NZ',\n",
       "   'NI',\n",
       "   'NO',\n",
       "   'PA',\n",
       "   'PY',\n",
       "   'PE',\n",
       "   'PH',\n",
       "   'PL',\n",
       "   'PT',\n",
       "   'SG',\n",
       "   'SK',\n",
       "   'ES',\n",
       "   'SE',\n",
       "   'CH',\n",
       "   'TW',\n",
       "   'TR',\n",
       "   'UY',\n",
       "   'US',\n",
       "   'GB',\n",
       "   'AD',\n",
       "   'LI',\n",
       "   'MC',\n",
       "   'ID',\n",
       "   'JP',\n",
       "   'TH',\n",
       "   'VN',\n",
       "   'RO',\n",
       "   'IL',\n",
       "   'ZA',\n",
       "   'SA',\n",
       "   'AE',\n",
       "   'BH',\n",
       "   'QA',\n",
       "   'OM',\n",
       "   'KW',\n",
       "   'EG',\n",
       "   'MA',\n",
       "   'DZ',\n",
       "   'TN',\n",
       "   'LB',\n",
       "   'JO',\n",
       "   'PS',\n",
       "   'IN',\n",
       "   'BY',\n",
       "   'KZ',\n",
       "   'MD',\n",
       "   'UA',\n",
       "   'AL',\n",
       "   'BA',\n",
       "   'HR',\n",
       "   'ME',\n",
       "   'MK',\n",
       "   'RS',\n",
       "   'SI',\n",
       "   'KR',\n",
       "   'BD',\n",
       "   'PK',\n",
       "   'LK',\n",
       "   'GH',\n",
       "   'KE',\n",
       "   'NG',\n",
       "   'TZ',\n",
       "   'UG',\n",
       "   'AG',\n",
       "   'AM',\n",
       "   'BS',\n",
       "   'BB',\n",
       "   'BZ',\n",
       "   'BT',\n",
       "   'BW',\n",
       "   'BF',\n",
       "   'CV',\n",
       "   'CW',\n",
       "   'DM',\n",
       "   'FJ',\n",
       "   'GM',\n",
       "   'GE',\n",
       "   'GD',\n",
       "   'GW',\n",
       "   'GY',\n",
       "   'HT',\n",
       "   'JM',\n",
       "   'KI',\n",
       "   'LS',\n",
       "   'LR',\n",
       "   'MW',\n",
       "   'MV',\n",
       "   'ML',\n",
       "   'MH',\n",
       "   'FM',\n",
       "   'NA',\n",
       "   'NR',\n",
       "   'NE',\n",
       "   'PW',\n",
       "   'PG',\n",
       "   'WS',\n",
       "   'SM',\n",
       "   'ST',\n",
       "   'SN',\n",
       "   'SC',\n",
       "   'SL',\n",
       "   'SB',\n",
       "   'KN',\n",
       "   'LC',\n",
       "   'VC',\n",
       "   'SR',\n",
       "   'TL',\n",
       "   'TO',\n",
       "   'TT',\n",
       "   'TV',\n",
       "   'VU',\n",
       "   'AZ',\n",
       "   'BN',\n",
       "   'BI',\n",
       "   'KH',\n",
       "   'CM',\n",
       "   'TD',\n",
       "   'KM',\n",
       "   'GQ',\n",
       "   'SZ',\n",
       "   'GA',\n",
       "   'GN',\n",
       "   'KG',\n",
       "   'LA',\n",
       "   'MO',\n",
       "   'MR',\n",
       "   'MN',\n",
       "   'NP',\n",
       "   'RW',\n",
       "   'TG',\n",
       "   'UZ',\n",
       "   'ZW',\n",
       "   'BJ',\n",
       "   'MG',\n",
       "   'MU',\n",
       "   'MZ',\n",
       "   'AO',\n",
       "   'CI',\n",
       "   'DJ',\n",
       "   'ZM',\n",
       "   'CD',\n",
       "   'CG',\n",
       "   'IQ',\n",
       "   'LY',\n",
       "   'TJ',\n",
       "   'VE',\n",
       "   'ET',\n",
       "   'XK'],\n",
       "  'disc_number': 1,\n",
       "  'duration_ms': 210575,\n",
       "  'episode': False,\n",
       "  'explicit': True,\n",
       "  'external_ids': {'isrc': 'USSM12208809'},\n",
       "  'external_urls': {'spotify': 'https://open.spotify.com/track/38T0tPVZHcPZyhtOcCP7pF'},\n",
       "  'href': 'https://api.spotify.com/v1/tracks/38T0tPVZHcPZyhtOcCP7pF',\n",
       "  'id': '38T0tPVZHcPZyhtOcCP7pF',\n",
       "  'is_local': False,\n",
       "  'name': \"STAR WALKIN' (League of Legends Worlds Anthem)\",\n",
       "  'popularity': 82,\n",
       "  'preview_url': 'https://p.scdn.co/mp3-preview/ffa9d53ff1f83a322ac0523d7a6ce13b231e4a3a?cid=c093d42cc5cd48ee96b661691d04f460',\n",
       "  'track': True,\n",
       "  'track_number': 1,\n",
       "  'type': 'track',\n",
       "  'uri': 'spotify:track:38T0tPVZHcPZyhtOcCP7pF'},\n",
       " 'video_thumbnail': {'url': None}}"
      ]
     },
     "execution_count": 8,
     "metadata": {},
     "output_type": "execute_result"
    }
   ],
   "source": [
    "p[\"tracks\"][\"items\"][0]"
   ]
  },
  {
   "cell_type": "code",
   "execution_count": 9,
   "metadata": {},
   "outputs": [],
   "source": [
    "track_id_1 = \"5scYmJwXDkJKwZxCyZ2eJi\"\n",
    "track_id_2 = \"6XJJZX0iAIRjvJV3Cp37Ld\"\n",
    "\n",
    "headers = {'Authorization': f'Bearer {token}'}\n",
    "r = requests.get(f\"https://api.spotify.com/v1/audio-features/{track_id_1},{track_id_2}\", headers=headers)"
   ]
  },
  {
   "cell_type": "code",
   "execution_count": 10,
   "metadata": {},
   "outputs": [
    {
     "data": {
      "text/plain": [
       "<Response [400]>"
      ]
     },
     "execution_count": 10,
     "metadata": {},
     "output_type": "execute_result"
    }
   ],
   "source": [
    "r"
   ]
  },
  {
   "cell_type": "markdown",
   "metadata": {},
   "source": [
    "https://developer.spotify.com/documentation/web-api/reference/get-audio-features\n"
   ]
  },
  {
   "cell_type": "code",
   "execution_count": 13,
   "metadata": {},
   "outputs": [],
   "source": [
    "ids = \"\"\n",
    "for t in p[\"tracks\"][\"items\"]:\n",
    "    id = t[\"track\"][\"id\"]\n",
    "    ids += id + \",\"\n",
    "r = requests.get(f\"https://api.spotify.com/v1/audio-features?ids={ids[:-2]}\", headers=headers)"
   ]
  },
  {
   "cell_type": "code",
   "execution_count": 14,
   "metadata": {},
   "outputs": [
    {
     "data": {
      "text/plain": [
       "84"
      ]
     },
     "execution_count": 14,
     "metadata": {},
     "output_type": "execute_result"
    }
   ],
   "source": [
    "len(r.json()[\"audio_features\"])"
   ]
  },
  {
   "cell_type": "code",
   "execution_count": 15,
   "metadata": {},
   "outputs": [],
   "source": [
    "r.json()['audio_features'][-1]"
   ]
  },
  {
   "cell_type": "code",
   "execution_count": 16,
   "metadata": {},
   "outputs": [],
   "source": [
    "import pandas as pd\n",
    "import matplotlib.pyplot as plt"
   ]
  },
  {
   "cell_type": "code",
   "execution_count": 17,
   "metadata": {},
   "outputs": [],
   "source": [
    "df=pd.DataFrame(r.json()['audio_features'][:-1])\n"
   ]
  },
  {
   "cell_type": "code",
   "execution_count": 18,
   "metadata": {},
   "outputs": [],
   "source": [
    "import numpy as np"
   ]
  },
  {
   "cell_type": "code",
   "execution_count": 19,
   "metadata": {},
   "outputs": [
    {
     "data": {
      "text/plain": [
       "<Axes: ylabel='Frequency'>"
      ]
     },
     "execution_count": 19,
     "metadata": {},
     "output_type": "execute_result"
    },
    {
     "data": {
      "image/png": "[encoded data removed]",
      "text/plain": [
       "<Figure size 640x480 with 1 Axes>"
      ]
     },
     "metadata": {},
     "output_type": "display_data"
    }
   ],
   "source": [
    "df[\"danceability\"].plot.hist(bins=24)"
   ]
  },
  {
   "cell_type": "code",
   "execution_count": 20,
   "metadata": {},
   "outputs": [
    {
     "data": {
      "text/plain": [
       "<Axes: ylabel='Density'>"
      ]
     },
     "execution_count": 20,
     "metadata": {},
     "output_type": "execute_result"
    },
    {
     "data": {
      "image/png": "[encoded data removed]",
      "text/plain": [
       "<Figure size 640x480 with 1 Axes>"
      ]
     },
     "metadata": {},
     "output_type": "display_data"
    }
   ],
   "source": [
    "df[\"danceability\"].plot.kde()"
   ]
  },
  {
   "cell_type": "code",
   "execution_count": 21,
   "metadata": {},
   "outputs": [
    {
     "data": {
      "text/html": [
       "<div>\n",
       "<style scoped>\n",
       "    .dataframe tbody tr th:only-of-type {\n",
       "        vertical-align: middle;\n",
       "    }\n",
       "\n",
       "    .dataframe tbody tr th {\n",
       "        vertical-align: top;\n",
       "    }\n",
       "\n",
       "    .dataframe thead th {\n",
       "        text-align: right;\n",
       "    }\n",
       "</style>\n",
       "<table border=\"1\" class=\"dataframe\">\n",
       "  <thead>\n",
       "    <tr style=\"text-align: right;\">\n",
       "      <th></th>\n",
       "      <th>danceability</th>\n",
       "      <th>energy</th>\n",
       "      <th>key</th>\n",
       "      <th>loudness</th>\n",
       "      <th>mode</th>\n",
       "      <th>speechiness</th>\n",
       "      <th>acousticness</th>\n",
       "      <th>instrumentalness</th>\n",
       "      <th>liveness</th>\n",
       "      <th>valence</th>\n",
       "      <th>tempo</th>\n",
       "      <th>type</th>\n",
       "      <th>id</th>\n",
       "      <th>uri</th>\n",
       "      <th>track_href</th>\n",
       "      <th>analysis_url</th>\n",
       "      <th>duration_ms</th>\n",
       "      <th>time_signature</th>\n",
       "    </tr>\n",
       "  </thead>\n",
       "  <tbody>\n",
       "    <tr>\n",
       "      <th>77</th>\n",
       "      <td>0.957</td>\n",
       "      <td>0.7</td>\n",
       "      <td>1</td>\n",
       "      <td>-6.192</td>\n",
       "      <td>1</td>\n",
       "      <td>0.17</td>\n",
       "      <td>0.189</td>\n",
       "      <td>0.102</td>\n",
       "      <td>0.053</td>\n",
       "      <td>0.845</td>\n",
       "      <td>130.106</td>\n",
       "      <td>audio_features</td>\n",
       "      <td>2Y6sYRN1zHuC4RE7ftNWYt</td>\n",
       "      <td>spotify:track:2Y6sYRN1zHuC4RE7ftNWYt</td>\n",
       "      <td>https://api.spotify.com/v1/tracks/2Y6sYRN1zHuC...</td>\n",
       "      <td>https://api.spotify.com/v1/audio-analysis/2Y6s...</td>\n",
       "      <td>197342</td>\n",
       "      <td>4</td>\n",
       "    </tr>\n",
       "  </tbody>\n",
       "</table>\n",
       "</div>"
      ],
      "text/plain": [
       "    danceability  energy  key  loudness  mode  speechiness  acousticness  \\\n",
       "77         0.957     0.7    1    -6.192     1         0.17         0.189   \n",
       "\n",
       "    instrumentalness  liveness  valence    tempo            type  \\\n",
       "77             0.102     0.053    0.845  130.106  audio_features   \n",
       "\n",
       "                        id                                   uri  \\\n",
       "77  2Y6sYRN1zHuC4RE7ftNWYt  spotify:track:2Y6sYRN1zHuC4RE7ftNWYt   \n",
       "\n",
       "                                           track_href  \\\n",
       "77  https://api.spotify.com/v1/tracks/2Y6sYRN1zHuC...   \n",
       "\n",
       "                                         analysis_url  duration_ms  \\\n",
       "77  https://api.spotify.com/v1/audio-analysis/2Y6s...       197342   \n",
       "\n",
       "    time_signature  \n",
       "77               4  "
      ]
     },
     "execution_count": 21,
     "metadata": {},
     "output_type": "execute_result"
    }
   ],
   "source": [
    "df[df[\"danceability\"] == df[\"danceability\"].max()]"
   ]
  },
  {
   "cell_type": "code",
   "execution_count": 22,
   "metadata": {},
   "outputs": [
    {
     "data": {
      "text/html": [
       "<div>\n",
       "<style scoped>\n",
       "    .dataframe tbody tr th:only-of-type {\n",
       "        vertical-align: middle;\n",
       "    }\n",
       "\n",
       "    .dataframe tbody tr th {\n",
       "        vertical-align: top;\n",
       "    }\n",
       "\n",
       "    .dataframe thead th {\n",
       "        text-align: right;\n",
       "    }\n",
       "</style>\n",
       "<table border=\"1\" class=\"dataframe\">\n",
       "  <thead>\n",
       "    <tr style=\"text-align: right;\">\n",
       "      <th></th>\n",
       "      <th>danceability</th>\n",
       "      <th>energy</th>\n",
       "      <th>key</th>\n",
       "      <th>loudness</th>\n",
       "      <th>mode</th>\n",
       "      <th>speechiness</th>\n",
       "      <th>acousticness</th>\n",
       "      <th>instrumentalness</th>\n",
       "      <th>liveness</th>\n",
       "      <th>valence</th>\n",
       "      <th>tempo</th>\n",
       "      <th>type</th>\n",
       "      <th>id</th>\n",
       "      <th>uri</th>\n",
       "      <th>track_href</th>\n",
       "      <th>analysis_url</th>\n",
       "      <th>duration_ms</th>\n",
       "      <th>time_signature</th>\n",
       "    </tr>\n",
       "  </thead>\n",
       "  <tbody>\n",
       "    <tr>\n",
       "      <th>77</th>\n",
       "      <td>0.957</td>\n",
       "      <td>0.700</td>\n",
       "      <td>1</td>\n",
       "      <td>-6.192</td>\n",
       "      <td>1</td>\n",
       "      <td>0.170</td>\n",
       "      <td>0.189</td>\n",
       "      <td>0.102</td>\n",
       "      <td>0.053</td>\n",
       "      <td>0.845</td>\n",
       "      <td>130.106</td>\n",
       "      <td>audio_features</td>\n",
       "      <td>2Y6sYRN1zHuC4RE7ftNWYt</td>\n",
       "      <td>spotify:track:2Y6sYRN1zHuC4RE7ftNWYt</td>\n",
       "      <td>https://api.spotify.com/v1/tracks/2Y6sYRN1zHuC...</td>\n",
       "      <td>https://api.spotify.com/v1/audio-analysis/2Y6s...</td>\n",
       "      <td>197342</td>\n",
       "      <td>4</td>\n",
       "    </tr>\n",
       "    <tr>\n",
       "      <th>70</th>\n",
       "      <td>0.940</td>\n",
       "      <td>0.482</td>\n",
       "      <td>1</td>\n",
       "      <td>-7.454</td>\n",
       "      <td>1</td>\n",
       "      <td>0.184</td>\n",
       "      <td>0.118</td>\n",
       "      <td>0.000</td>\n",
       "      <td>0.089</td>\n",
       "      <td>0.317</td>\n",
       "      <td>107.992</td>\n",
       "      <td>audio_features</td>\n",
       "      <td>3iIu8fcVztSKU1uiz5xfuc</td>\n",
       "      <td>spotify:track:3iIu8fcVztSKU1uiz5xfuc</td>\n",
       "      <td>https://api.spotify.com/v1/tracks/3iIu8fcVztSK...</td>\n",
       "      <td>https://api.spotify.com/v1/audio-analysis/3iIu...</td>\n",
       "      <td>191111</td>\n",
       "      <td>4</td>\n",
       "    </tr>\n",
       "    <tr>\n",
       "      <th>76</th>\n",
       "      <td>0.927</td>\n",
       "      <td>0.611</td>\n",
       "      <td>1</td>\n",
       "      <td>-4.672</td>\n",
       "      <td>1</td>\n",
       "      <td>0.128</td>\n",
       "      <td>0.133</td>\n",
       "      <td>0.000</td>\n",
       "      <td>0.129</td>\n",
       "      <td>0.236</td>\n",
       "      <td>129.054</td>\n",
       "      <td>audio_features</td>\n",
       "      <td>6ClWZ12bBTGXAUjSkvGZdj</td>\n",
       "      <td>spotify:track:6ClWZ12bBTGXAUjSkvGZdj</td>\n",
       "      <td>https://api.spotify.com/v1/tracks/6ClWZ12bBTGX...</td>\n",
       "      <td>https://api.spotify.com/v1/audio-analysis/6ClW...</td>\n",
       "      <td>122791</td>\n",
       "      <td>4</td>\n",
       "    </tr>\n",
       "    <tr>\n",
       "      <th>74</th>\n",
       "      <td>0.922</td>\n",
       "      <td>0.747</td>\n",
       "      <td>1</td>\n",
       "      <td>-6.695</td>\n",
       "      <td>1</td>\n",
       "      <td>0.145</td>\n",
       "      <td>0.223</td>\n",
       "      <td>0.000</td>\n",
       "      <td>0.252</td>\n",
       "      <td>0.315</td>\n",
       "      <td>110.029</td>\n",
       "      <td>audio_features</td>\n",
       "      <td>4yHfTcEnBFtnHYAjp5ECIR</td>\n",
       "      <td>spotify:track:4yHfTcEnBFtnHYAjp5ECIR</td>\n",
       "      <td>https://api.spotify.com/v1/tracks/4yHfTcEnBFtn...</td>\n",
       "      <td>https://api.spotify.com/v1/audio-analysis/4yHf...</td>\n",
       "      <td>133091</td>\n",
       "      <td>4</td>\n",
       "    </tr>\n",
       "    <tr>\n",
       "      <th>59</th>\n",
       "      <td>0.898</td>\n",
       "      <td>0.694</td>\n",
       "      <td>2</td>\n",
       "      <td>-9.171</td>\n",
       "      <td>1</td>\n",
       "      <td>0.304</td>\n",
       "      <td>0.297</td>\n",
       "      <td>0.000</td>\n",
       "      <td>0.255</td>\n",
       "      <td>0.895</td>\n",
       "      <td>96.976</td>\n",
       "      <td>audio_features</td>\n",
       "      <td>1665EkzeTTVQPc54hX6TJ2</td>\n",
       "      <td>spotify:track:1665EkzeTTVQPc54hX6TJ2</td>\n",
       "      <td>https://api.spotify.com/v1/tracks/1665EkzeTTVQ...</td>\n",
       "      <td>https://api.spotify.com/v1/audio-analysis/1665...</td>\n",
       "      <td>178763</td>\n",
       "      <td>4</td>\n",
       "    </tr>\n",
       "  </tbody>\n",
       "</table>\n",
       "</div>"
      ],
      "text/plain": [
       "    danceability  energy  key  loudness  mode  speechiness  acousticness  \\\n",
       "77         0.957   0.700    1    -6.192     1        0.170         0.189   \n",
       "70         0.940   0.482    1    -7.454     1        0.184         0.118   \n",
       "76         0.927   0.611    1    -4.672     1        0.128         0.133   \n",
       "74         0.922   0.747    1    -6.695     1        0.145         0.223   \n",
       "59         0.898   0.694    2    -9.171     1        0.304         0.297   \n",
       "\n",
       "    instrumentalness  liveness  valence    tempo            type  \\\n",
       "77             0.102     0.053    0.845  130.106  audio_features   \n",
       "70             0.000     0.089    0.317  107.992  audio_features   \n",
       "76             0.000     0.129    0.236  129.054  audio_features   \n",
       "74             0.000     0.252    0.315  110.029  audio_features   \n",
       "59             0.000     0.255    0.895   96.976  audio_features   \n",
       "\n",
       "                        id                                   uri  \\\n",
       "77  2Y6sYRN1zHuC4RE7ftNWYt  spotify:track:2Y6sYRN1zHuC4RE7ftNWYt   \n",
       "70  3iIu8fcVztSKU1uiz5xfuc  spotify:track:3iIu8fcVztSKU1uiz5xfuc   \n",
       "76  6ClWZ12bBTGXAUjSkvGZdj  spotify:track:6ClWZ12bBTGXAUjSkvGZdj   \n",
       "74  4yHfTcEnBFtnHYAjp5ECIR  spotify:track:4yHfTcEnBFtnHYAjp5ECIR   \n",
       "59  1665EkzeTTVQPc54hX6TJ2  spotify:track:1665EkzeTTVQPc54hX6TJ2   \n",
       "\n",
       "                                           track_href  \\\n",
       "77  https://api.spotify.com/v1/tracks/2Y6sYRN1zHuC...   \n",
       "70  https://api.spotify.com/v1/tracks/3iIu8fcVztSK...   \n",
       "76  https://api.spotify.com/v1/tracks/6ClWZ12bBTGX...   \n",
       "74  https://api.spotify.com/v1/tracks/4yHfTcEnBFtn...   \n",
       "59  https://api.spotify.com/v1/tracks/1665EkzeTTVQ...   \n",
       "\n",
       "                                         analysis_url  duration_ms  \\\n",
       "77  https://api.spotify.com/v1/audio-analysis/2Y6s...       197342   \n",
       "70  https://api.spotify.com/v1/audio-analysis/3iIu...       191111   \n",
       "76  https://api.spotify.com/v1/audio-analysis/6ClW...       122791   \n",
       "74  https://api.spotify.com/v1/audio-analysis/4yHf...       133091   \n",
       "59  https://api.spotify.com/v1/audio-analysis/1665...       178763   \n",
       "\n",
       "    time_signature  \n",
       "77               4  \n",
       "70               4  \n",
       "76               4  \n",
       "74               4  \n",
       "59               4  "
      ]
     },
     "execution_count": 22,
     "metadata": {},
     "output_type": "execute_result"
    }
   ],
   "source": [
    "df.sort_values(by=\"danceability\", ascending=False).head(5)"
   ]
  },
  {
   "cell_type": "code",
   "execution_count": 23,
   "metadata": {},
   "outputs": [
    {
     "data": {
      "text/html": [
       "<div>\n",
       "<style scoped>\n",
       "    .dataframe tbody tr th:only-of-type {\n",
       "        vertical-align: middle;\n",
       "    }\n",
       "\n",
       "    .dataframe tbody tr th {\n",
       "        vertical-align: top;\n",
       "    }\n",
       "\n",
       "    .dataframe thead th {\n",
       "        text-align: right;\n",
       "    }\n",
       "</style>\n",
       "<table border=\"1\" class=\"dataframe\">\n",
       "  <thead>\n",
       "    <tr style=\"text-align: right;\">\n",
       "      <th></th>\n",
       "      <th>danceability</th>\n",
       "      <th>energy</th>\n",
       "      <th>key</th>\n",
       "      <th>loudness</th>\n",
       "      <th>mode</th>\n",
       "      <th>speechiness</th>\n",
       "      <th>acousticness</th>\n",
       "      <th>instrumentalness</th>\n",
       "      <th>liveness</th>\n",
       "      <th>valence</th>\n",
       "      <th>tempo</th>\n",
       "      <th>type</th>\n",
       "      <th>id</th>\n",
       "      <th>uri</th>\n",
       "      <th>track_href</th>\n",
       "      <th>analysis_url</th>\n",
       "      <th>duration_ms</th>\n",
       "      <th>time_signature</th>\n",
       "    </tr>\n",
       "  </thead>\n",
       "  <tbody>\n",
       "    <tr>\n",
       "      <th>25</th>\n",
       "      <td>0.187</td>\n",
       "      <td>0.855</td>\n",
       "      <td>11</td>\n",
       "      <td>-4.316</td>\n",
       "      <td>0</td>\n",
       "      <td>0.0624</td>\n",
       "      <td>0.000531</td>\n",
       "      <td>0.020400</td>\n",
       "      <td>0.361</td>\n",
       "      <td>0.257</td>\n",
       "      <td>160.892</td>\n",
       "      <td>audio_features</td>\n",
       "      <td>0MHHAIjPAd3OSfBS3H0fPg</td>\n",
       "      <td>spotify:track:0MHHAIjPAd3OSfBS3H0fPg</td>\n",
       "      <td>https://api.spotify.com/v1/tracks/0MHHAIjPAd3O...</td>\n",
       "      <td>https://api.spotify.com/v1/audio-analysis/0MHH...</td>\n",
       "      <td>235400</td>\n",
       "      <td>3</td>\n",
       "    </tr>\n",
       "    <tr>\n",
       "      <th>46</th>\n",
       "      <td>0.244</td>\n",
       "      <td>0.896</td>\n",
       "      <td>6</td>\n",
       "      <td>-5.576</td>\n",
       "      <td>0</td>\n",
       "      <td>0.4640</td>\n",
       "      <td>0.061400</td>\n",
       "      <td>0.000028</td>\n",
       "      <td>0.127</td>\n",
       "      <td>0.142</td>\n",
       "      <td>83.354</td>\n",
       "      <td>audio_features</td>\n",
       "      <td>45n7uujqwmMyBMjBu9SwRu</td>\n",
       "      <td>spotify:track:45n7uujqwmMyBMjBu9SwRu</td>\n",
       "      <td>https://api.spotify.com/v1/tracks/45n7uujqwmMy...</td>\n",
       "      <td>https://api.spotify.com/v1/audio-analysis/45n7...</td>\n",
       "      <td>220507</td>\n",
       "      <td>4</td>\n",
       "    </tr>\n",
       "    <tr>\n",
       "      <th>34</th>\n",
       "      <td>0.246</td>\n",
       "      <td>0.991</td>\n",
       "      <td>9</td>\n",
       "      <td>-3.903</td>\n",
       "      <td>1</td>\n",
       "      <td>0.0870</td>\n",
       "      <td>0.009440</td>\n",
       "      <td>0.075300</td>\n",
       "      <td>0.867</td>\n",
       "      <td>0.415</td>\n",
       "      <td>159.390</td>\n",
       "      <td>audio_features</td>\n",
       "      <td>0wzRcekWyVCSyPtlPOeJau</td>\n",
       "      <td>spotify:track:0wzRcekWyVCSyPtlPOeJau</td>\n",
       "      <td>https://api.spotify.com/v1/tracks/0wzRcekWyVCS...</td>\n",
       "      <td>https://api.spotify.com/v1/audio-analysis/0wzR...</td>\n",
       "      <td>187147</td>\n",
       "      <td>4</td>\n",
       "    </tr>\n",
       "    <tr>\n",
       "      <th>29</th>\n",
       "      <td>0.264</td>\n",
       "      <td>0.882</td>\n",
       "      <td>7</td>\n",
       "      <td>-4.362</td>\n",
       "      <td>1</td>\n",
       "      <td>0.0791</td>\n",
       "      <td>0.000570</td>\n",
       "      <td>0.112000</td>\n",
       "      <td>0.283</td>\n",
       "      <td>0.766</td>\n",
       "      <td>85.537</td>\n",
       "      <td>audio_features</td>\n",
       "      <td>5xoNx4guLOeGsuFxuqTord</td>\n",
       "      <td>spotify:track:5xoNx4guLOeGsuFxuqTord</td>\n",
       "      <td>https://api.spotify.com/v1/tracks/5xoNx4guLOeG...</td>\n",
       "      <td>https://api.spotify.com/v1/audio-analysis/5xoN...</td>\n",
       "      <td>390579</td>\n",
       "      <td>4</td>\n",
       "    </tr>\n",
       "    <tr>\n",
       "      <th>42</th>\n",
       "      <td>0.287</td>\n",
       "      <td>0.721</td>\n",
       "      <td>9</td>\n",
       "      <td>-5.810</td>\n",
       "      <td>1</td>\n",
       "      <td>0.0387</td>\n",
       "      <td>0.007640</td>\n",
       "      <td>0.000000</td>\n",
       "      <td>0.328</td>\n",
       "      <td>0.763</td>\n",
       "      <td>169.252</td>\n",
       "      <td>audio_features</td>\n",
       "      <td>5bsnLiT00hG37qd8p2jdVl</td>\n",
       "      <td>spotify:track:5bsnLiT00hG37qd8p2jdVl</td>\n",
       "      <td>https://api.spotify.com/v1/tracks/5bsnLiT00hG3...</td>\n",
       "      <td>https://api.spotify.com/v1/audio-analysis/5bsn...</td>\n",
       "      <td>197973</td>\n",
       "      <td>4</td>\n",
       "    </tr>\n",
       "  </tbody>\n",
       "</table>\n",
       "</div>"
      ],
      "text/plain": [
       "    danceability  energy  key  loudness  mode  speechiness  acousticness  \\\n",
       "25         0.187   0.855   11    -4.316     0       0.0624      0.000531   \n",
       "46         0.244   0.896    6    -5.576     0       0.4640      0.061400   \n",
       "34         0.246   0.991    9    -3.903     1       0.0870      0.009440   \n",
       "29         0.264   0.882    7    -4.362     1       0.0791      0.000570   \n",
       "42         0.287   0.721    9    -5.810     1       0.0387      0.007640   \n",
       "\n",
       "    instrumentalness  liveness  valence    tempo            type  \\\n",
       "25          0.020400     0.361    0.257  160.892  audio_features   \n",
       "46          0.000028     0.127    0.142   83.354  audio_features   \n",
       "34          0.075300     0.867    0.415  159.390  audio_features   \n",
       "29          0.112000     0.283    0.766   85.537  audio_features   \n",
       "42          0.000000     0.328    0.763  169.252  audio_features   \n",
       "\n",
       "                        id                                   uri  \\\n",
       "25  0MHHAIjPAd3OSfBS3H0fPg  spotify:track:0MHHAIjPAd3OSfBS3H0fPg   \n",
       "46  45n7uujqwmMyBMjBu9SwRu  spotify:track:45n7uujqwmMyBMjBu9SwRu   \n",
       "34  0wzRcekWyVCSyPtlPOeJau  spotify:track:0wzRcekWyVCSyPtlPOeJau   \n",
       "29  5xoNx4guLOeGsuFxuqTord  spotify:track:5xoNx4guLOeGsuFxuqTord   \n",
       "42  5bsnLiT00hG37qd8p2jdVl  spotify:track:5bsnLiT00hG37qd8p2jdVl   \n",
       "\n",
       "                                           track_href  \\\n",
       "25  https://api.spotify.com/v1/tracks/0MHHAIjPAd3O...   \n",
       "46  https://api.spotify.com/v1/tracks/45n7uujqwmMy...   \n",
       "34  https://api.spotify.com/v1/tracks/0wzRcekWyVCS...   \n",
       "29  https://api.spotify.com/v1/tracks/5xoNx4guLOeG...   \n",
       "42  https://api.spotify.com/v1/tracks/5bsnLiT00hG3...   \n",
       "\n",
       "                                         analysis_url  duration_ms  \\\n",
       "25  https://api.spotify.com/v1/audio-analysis/0MHH...       235400   \n",
       "46  https://api.spotify.com/v1/audio-analysis/45n7...       220507   \n",
       "34  https://api.spotify.com/v1/audio-analysis/0wzR...       187147   \n",
       "29  https://api.spotify.com/v1/audio-analysis/5xoN...       390579   \n",
       "42  https://api.spotify.com/v1/audio-analysis/5bsn...       197973   \n",
       "\n",
       "    time_signature  \n",
       "25               3  \n",
       "46               4  \n",
       "34               4  \n",
       "29               4  \n",
       "42               4  "
      ]
     },
     "execution_count": 23,
     "metadata": {},
     "output_type": "execute_result"
    }
   ],
   "source": [
    "df.sort_values(by=\"danceability\", ascending=True).head(5)"
   ]
  },
  {
   "cell_type": "code",
   "execution_count": 24,
   "metadata": {},
   "outputs": [
    {
     "data": {
      "text/plain": [
       "<Axes: xlabel='danceability', ylabel='energy'>"
      ]
     },
     "execution_count": 24,
     "metadata": {},
     "output_type": "execute_result"
    },
    {
     "data": {
      "image/png": "[encoded data removed]",
      "text/plain": [
       "<Figure size 640x480 with 2 Axes>"
      ]
     },
     "metadata": {},
     "output_type": "display_data"
    }
   ],
   "source": [
    "df.plot(kind=\"scatter\", x=\"danceability\", y=\"energy\", c=\"loudness\", colormap=\"BrBG\")"
   ]
  },
  {
   "cell_type": "code",
   "execution_count": 25,
   "metadata": {},
   "outputs": [],
   "source": [
    "songs_ids = df.sort_values(by=\"danceability\", ascending=True).head(5)[\"id\"].values\n",
    "ids = ','.join(songs_ids)"
   ]
  },
  {
   "cell_type": "code",
   "execution_count": 27,
   "metadata": {},
   "outputs": [
    {
     "data": {
      "text/plain": [
       "array(['0MHHAIjPAd3OSfBS3H0fPg', '45n7uujqwmMyBMjBu9SwRu',\n",
       "       '0wzRcekWyVCSyPtlPOeJau', '5xoNx4guLOeGsuFxuqTord',\n",
       "       '5bsnLiT00hG37qd8p2jdVl'], dtype=object)"
      ]
     },
     "execution_count": 27,
     "metadata": {},
     "output_type": "execute_result"
    }
   ],
   "source": [
    "songs_ids"
   ]
  },
  {
   "cell_type": "code",
   "execution_count": 32,
   "metadata": {},
   "outputs": [],
   "source": [
    "l = api.GetTracksMetadata(songs_ids)"
   ]
  },
  {
   "cell_type": "code",
   "execution_count": 33,
   "metadata": {},
   "outputs": [
    {
     "data": {
      "text/plain": [
       "[{'title': 'My God Is the Sun',\n",
       "  'artist': 'Queens of the Stone Age',\n",
       "  'album': '...Like Clockwork',\n",
       "  'img': 'https://i.scdn.co/image/ab67616d0000b273eee7c041844e45dd76469fa0'},\n",
       " {'title': 'Pretty Visitors',\n",
       "  'artist': 'Arctic Monkeys',\n",
       "  'album': 'Humbug',\n",
       "  'img': 'https://i.scdn.co/image/ab67616d0000b273f65d720a5d70dbb93e96d528'},\n",
       " {'title': 'Go With The Flow',\n",
       "  'artist': 'Queens of the Stone Age',\n",
       "  'album': 'Songs For The Deaf',\n",
       "  'img': 'https://i.scdn.co/image/ab67616d0000b2739eec33b045d88f87b9b06e67'},\n",
       " {'title': 'The Evil Has Landed',\n",
       "  'artist': 'Queens of the Stone Age',\n",
       "  'album': 'Villains',\n",
       "  'img': 'https://i.scdn.co/image/ab67616d0000b27389401ba9a9c231e2add35ae8'},\n",
       " {'title': 'Cornerstone',\n",
       "  'artist': 'Arctic Monkeys',\n",
       "  'album': 'Humbug',\n",
       "  'img': 'https://i.scdn.co/image/ab67616d0000b273f65d720a5d70dbb93e96d528'}]"
      ]
     },
     "execution_count": 33,
     "metadata": {},
     "output_type": "execute_result"
    }
   ],
   "source": [
    "l"
   ]
  },
  {
   "cell_type": "code",
   "execution_count": null,
   "metadata": {},
   "outputs": [
    {
     "data": {
      "text/plain": [
       "'0MHHAIjPAd3OSfBS3H0fPg?45n7uujqwmMyBMjBu9SwRu?0wzRcekWyVCSyPtlPOeJau?5xoNx4guLOeGsuFxuqTord?5bsnLiT00hG37qd8p2jdVl'"
      ]
     },
     "execution_count": 67,
     "metadata": {},
     "output_type": "execute_result"
    }
   ],
   "source": [
    "ids"
   ]
  },
  {
   "cell_type": "code",
   "execution_count": null,
   "metadata": {},
   "outputs": [],
   "source": [
    "r = requests.get(f\"https://api.spotify.com/v1/tracks?ids={ids}\", headers=headers)"
   ]
  },
  {
   "cell_type": "code",
   "execution_count": null,
   "metadata": {},
   "outputs": [
    {
     "data": {
      "text/plain": [
       "<Response [200]>"
      ]
     },
     "execution_count": 81,
     "metadata": {},
     "output_type": "execute_result"
    }
   ],
   "source": [
    "r"
   ]
  },
  {
   "cell_type": "code",
   "execution_count": null,
   "metadata": {},
   "outputs": [
    {
     "data": {
      "text/plain": [
       "requests.models.Response"
      ]
     },
     "execution_count": 69,
     "metadata": {},
     "output_type": "execute_result"
    }
   ],
   "source": [
    "type(r)"
   ]
  },
  {
   "cell_type": "code",
   "execution_count": null,
   "metadata": {},
   "outputs": [],
   "source": [
    "tracks = r.json()['tracks']"
   ]
  },
  {
   "cell_type": "code",
   "execution_count": null,
   "metadata": {},
   "outputs": [],
   "source": [
    "df2 = pd.DataFrame(tracks)"
   ]
  },
  {
   "cell_type": "code",
   "execution_count": null,
   "metadata": {},
   "outputs": [
    {
     "data": {
      "text/plain": [
       "'My God Is the Sun'"
      ]
     },
     "execution_count": 92,
     "metadata": {},
     "output_type": "execute_result"
    }
   ],
   "source": [
    "tracks['tracks'][0]['name']"
   ]
  },
  {
   "cell_type": "code",
   "execution_count": null,
   "metadata": {},
   "outputs": [
    {
     "data": {
      "text/plain": [
       "dict_keys(['album', 'artists', 'available_markets', 'disc_number', 'duration_ms', 'explicit', 'external_ids', 'external_urls', 'href', 'id', 'is_local', 'name', 'popularity', 'preview_url', 'track_number', 'type', 'uri'])"
      ]
     },
     "execution_count": 94,
     "metadata": {},
     "output_type": "execute_result"
    }
   ],
   "source": [
    "tracks['tracks'][0].keys()"
   ]
  },
  {
   "cell_type": "code",
   "execution_count": null,
   "metadata": {},
   "outputs": [
    {
     "data": {
      "text/plain": [
       "'Queens of the Stone Age'"
      ]
     },
     "execution_count": 99,
     "metadata": {},
     "output_type": "execute_result"
    }
   ],
   "source": [
    "tracks['tracks'][0]['artists'][0]['name']"
   ]
  },
  {
   "cell_type": "code",
   "execution_count": null,
   "metadata": {},
   "outputs": [
    {
     "data": {
      "text/plain": [
       "'...Like Clockwork'"
      ]
     },
     "execution_count": 103,
     "metadata": {},
     "output_type": "execute_result"
    }
   ],
   "source": [
    "tracks['tracks'][0]['album']['name']"
   ]
  },
  {
   "cell_type": "code",
   "execution_count": null,
   "metadata": {},
   "outputs": [
    {
     "data": {
      "text/plain": [
       "'https://i.scdn.co/image/ab67616d0000b273eee7c041844e45dd76469fa0'"
      ]
     },
     "execution_count": 107,
     "metadata": {},
     "output_type": "execute_result"
    }
   ],
   "source": [
    "tracks['tracks'][0]['album']['images'][0][\"url\"]"
   ]
  },
  {
   "cell_type": "code",
   "execution_count": null,
   "metadata": {},
   "outputs": [],
   "source": []
  }
 ],
 "metadata": {
  "kernelspec": {
   "display_name": "venv",
   "language": "python",
   "name": "python3"
  },
  "language_info": {
   "codemirror_mode": {
    "name": "ipython",
    "version": 3
   },
   "file_extension": ".py",
   "mimetype": "text/x-python",
   "name": "python",
   "nbconvert_exporter": "python",
   "pygments_lexer": "ipython3",
   "version": "3.10.7"
  },
  "orig_nbformat": 4
 },
 "nbformat": 4,
 "nbformat_minor": 2
}
